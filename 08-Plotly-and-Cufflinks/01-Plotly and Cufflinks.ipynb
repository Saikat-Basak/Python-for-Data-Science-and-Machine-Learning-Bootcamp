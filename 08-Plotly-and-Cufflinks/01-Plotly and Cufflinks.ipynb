{
 "cells": [
  {
   "cell_type": "markdown",
   "metadata": {},
   "source": [
    "___\n",
    "\n",
    "<a href='http://www.pieriandata.com'> <img src='../Pierian_Data_Logo.png' /></a>\n",
    "___\n",
    "# Plotly and Cufflinks"
   ]
  },
  {
   "cell_type": "markdown",
   "metadata": {},
   "source": [
    "Plotly is a library that allows you to create interactive plots that you can use in dashboards or websites (you can save them as html files or static images).\n",
    "\n",
    "## Installation\n",
    "\n",
    "In order for this all to work, you'll need to install plotly and cufflinks to call plots directly off of a pandas dataframe. These libraries are not currently available through **conda** but are available through **pip**. Install the libraries at your command line/terminal using:\n",
    "\n",
    "    pip install plotly\n",
    "    pip install cufflinks\n",
    "\n",
    "** NOTE: Make sure you only have one installation of Python on your computer when you do this, otherwise the installation may not work. **\n",
    "\n",
    "## Imports and Set-up"
   ]
  },
  {
   "cell_type": "code",
   "execution_count": 6,
   "metadata": {},
   "outputs": [],
   "source": [
    "import pandas as pd\n",
    "import numpy as np\n",
    "import chart_studio.plotly as py\n",
    "%matplotlib inline"
   ]
  },
  {
   "cell_type": "code",
   "execution_count": 7,
   "metadata": {},
   "outputs": [
    {
     "name": "stdout",
     "output_type": "stream",
     "text": [
      "5.5.0\n"
     ]
    }
   ],
   "source": [
    "from plotly import __version__\n",
    "from plotly.offline import download_plotlyjs, init_notebook_mode, plot, iplot\n",
    "\n",
    "print(__version__) # requires version >= 1.9.0"
   ]
  },
  {
   "cell_type": "code",
   "execution_count": 15,
   "metadata": {},
   "outputs": [],
   "source": [
    "import cufflinks as cf"
   ]
  },
  {
   "cell_type": "code",
   "execution_count": 16,
   "metadata": {},
   "outputs": [
    {
     "data": {
      "text/html": [
       "        <script type=\"text/javascript\">\n",
       "        window.PlotlyConfig = {MathJaxConfig: 'local'};\n",
       "        if (window.MathJax) {MathJax.Hub.Config({SVG: {font: \"STIX-Web\"}});}\n",
       "        if (typeof require !== 'undefined') {\n",
       "        require.undef(\"plotly\");\n",
       "        requirejs.config({\n",
       "            paths: {\n",
       "                'plotly': ['https://cdn.plot.ly/plotly-2.8.3.min']\n",
       "            }\n",
       "        });\n",
       "        require(['plotly'], function(Plotly) {\n",
       "            window._Plotly = Plotly;\n",
       "        });\n",
       "        }\n",
       "        </script>\n",
       "        "
      ]
     },
     "metadata": {},
     "output_type": "display_data"
    }
   ],
   "source": [
    "# For Notebooks\n",
    "init_notebook_mode(connected=True)"
   ]
  },
  {
   "cell_type": "code",
   "execution_count": 17,
   "metadata": {},
   "outputs": [
    {
     "data": {
      "text/html": [
       "        <script type=\"text/javascript\">\n",
       "        window.PlotlyConfig = {MathJaxConfig: 'local'};\n",
       "        if (window.MathJax) {MathJax.Hub.Config({SVG: {font: \"STIX-Web\"}});}\n",
       "        if (typeof require !== 'undefined') {\n",
       "        require.undef(\"plotly\");\n",
       "        requirejs.config({\n",
       "            paths: {\n",
       "                'plotly': ['https://cdn.plot.ly/plotly-2.8.3.min']\n",
       "            }\n",
       "        });\n",
       "        require(['plotly'], function(Plotly) {\n",
       "            window._Plotly = Plotly;\n",
       "        });\n",
       "        }\n",
       "        </script>\n",
       "        "
      ]
     },
     "metadata": {},
     "output_type": "display_data"
    }
   ],
   "source": [
    "# For offline use\n",
    "cf.go_offline()"
   ]
  },
  {
   "cell_type": "markdown",
   "metadata": {},
   "source": [
    "### Fake Data"
   ]
  },
  {
   "cell_type": "code",
   "execution_count": 10,
   "metadata": {},
   "outputs": [],
   "source": [
    "df = pd.DataFrame(np.random.randn(100,4),columns='A B C D'.split())"
   ]
  },
  {
   "cell_type": "code",
   "execution_count": 22,
   "metadata": {},
   "outputs": [
    {
     "data": {
      "text/html": [
       "<div>\n",
       "<table border=\"1\" class=\"dataframe\">\n",
       "  <thead>\n",
       "    <tr style=\"text-align: right;\">\n",
       "      <th></th>\n",
       "      <th>A</th>\n",
       "      <th>B</th>\n",
       "      <th>C</th>\n",
       "      <th>D</th>\n",
       "    </tr>\n",
       "  </thead>\n",
       "  <tbody>\n",
       "    <tr>\n",
       "      <th>0</th>\n",
       "      <td>1.878725</td>\n",
       "      <td>0.688719</td>\n",
       "      <td>1.066733</td>\n",
       "      <td>0.543956</td>\n",
       "    </tr>\n",
       "    <tr>\n",
       "      <th>1</th>\n",
       "      <td>0.028734</td>\n",
       "      <td>0.104054</td>\n",
       "      <td>0.048176</td>\n",
       "      <td>1.842188</td>\n",
       "    </tr>\n",
       "    <tr>\n",
       "      <th>2</th>\n",
       "      <td>-0.158793</td>\n",
       "      <td>0.387926</td>\n",
       "      <td>-0.635371</td>\n",
       "      <td>-0.637558</td>\n",
       "    </tr>\n",
       "    <tr>\n",
       "      <th>3</th>\n",
       "      <td>-1.221972</td>\n",
       "      <td>1.393423</td>\n",
       "      <td>-0.299794</td>\n",
       "      <td>-1.113622</td>\n",
       "    </tr>\n",
       "    <tr>\n",
       "      <th>4</th>\n",
       "      <td>1.253152</td>\n",
       "      <td>-0.537598</td>\n",
       "      <td>0.302917</td>\n",
       "      <td>-2.546083</td>\n",
       "    </tr>\n",
       "  </tbody>\n",
       "</table>\n",
       "</div>"
      ],
      "text/plain": [
       "          A         B         C         D\n",
       "0  1.878725  0.688719  1.066733  0.543956\n",
       "1  0.028734  0.104054  0.048176  1.842188\n",
       "2 -0.158793  0.387926 -0.635371 -0.637558\n",
       "3 -1.221972  1.393423 -0.299794 -1.113622\n",
       "4  1.253152 -0.537598  0.302917 -2.546083"
      ]
     },
     "execution_count": 22,
     "metadata": {},
     "output_type": "execute_result"
    }
   ],
   "source": [
    "df.head()"
   ]
  },
  {
   "cell_type": "code",
   "execution_count": 11,
   "metadata": {},
   "outputs": [],
   "source": [
    "df2 = pd.DataFrame({'Category':['A','B','C'],'Values':[32,43,50]})"
   ]
  },
  {
   "cell_type": "code",
   "execution_count": 40,
   "metadata": {},
   "outputs": [
    {
     "data": {
      "text/html": [
       "<div>\n",
       "<table border=\"1\" class=\"dataframe\">\n",
       "  <thead>\n",
       "    <tr style=\"text-align: right;\">\n",
       "      <th></th>\n",
       "      <th>Category</th>\n",
       "      <th>Values</th>\n",
       "    </tr>\n",
       "  </thead>\n",
       "  <tbody>\n",
       "    <tr>\n",
       "      <th>0</th>\n",
       "      <td>A</td>\n",
       "      <td>32</td>\n",
       "    </tr>\n",
       "    <tr>\n",
       "      <th>1</th>\n",
       "      <td>B</td>\n",
       "      <td>43</td>\n",
       "    </tr>\n",
       "    <tr>\n",
       "      <th>2</th>\n",
       "      <td>C</td>\n",
       "      <td>50</td>\n",
       "    </tr>\n",
       "  </tbody>\n",
       "</table>\n",
       "</div>"
      ],
      "text/plain": [
       "  Category  Values\n",
       "0        A      32\n",
       "1        B      43\n",
       "2        C      50"
      ]
     },
     "execution_count": 40,
     "metadata": {},
     "output_type": "execute_result"
    }
   ],
   "source": [
    "df2.head()"
   ]
  },
  {
   "cell_type": "markdown",
   "metadata": {},
   "source": [
    "## Using Cufflinks and iplot()\n",
    "\n",
    "* scatter\n",
    "* bar\n",
    "* box\n",
    "* spread\n",
    "* ratio\n",
    "* heatmap\n",
    "* surface\n",
    "* histogram\n",
    "* bubble"
   ]
  },
  {
   "cell_type": "markdown",
   "metadata": {},
   "source": [
    "## Scatter"
   ]
  },
  {
   "cell_type": "code",
   "execution_count": 18,
   "metadata": {},
   "outputs": [
    {
     "data": {
      "application/vnd.plotly.v1+json": {
       "config": {
        "linkText": "Export to plot.ly",
        "plotlyServerURL": "https://plot.ly",
        "showLink": true
       },
       "data": [
        {
         "line": {
          "color": "rgba(255, 153, 51, 1.0)",
          "dash": "solid",
          "shape": "linear",
          "width": 1.3
         },
         "marker": {
          "size": 10,
          "symbol": "circle"
         },
         "mode": "markers",
         "name": "B",
         "text": "",
         "type": "scatter",
         "x": [
          0.7295363441218393,
          -0.30709735423890133,
          0.492710813594875,
          0.08392566125616459,
          -0.6889455689979118,
          0.5470456033814226,
          -0.59537959593479,
          0.590991782392905,
          0.9972471665249101,
          1.4378882065324756,
          0.11926922188426163,
          -1.6571759958291157,
          0.4487064707697026,
          -2.51301997833897,
          0.6001221119436471,
          -2.731948786259892,
          1.3607099053275447,
          -0.731152267488863,
          -1.3966859085953525,
          0.17378944539031352,
          0.6817597346735718,
          1.1402012726597144,
          0.14349266373328687,
          -0.9377451346394511,
          0.017522155117618125,
          0.3235679464012107,
          0.836983146893619,
          -0.8792559105632725,
          -1.1801754241794296,
          -0.3795826015311692,
          -1.140787877799205,
          -0.7723948304435839,
          -0.5145019292009516,
          0.35609369850632194,
          -1.511771529880759,
          1.3774677496649568,
          -0.16454591236628077,
          -0.20152889220951667,
          -0.8123283332056657,
          0.595491766397253,
          -0.7970370986126426,
          -0.7349886528627032,
          0.6385817620476262,
          -0.1332010168119281,
          -0.6122662727680039,
          -2.4533287444652374,
          -1.2247225198339713,
          -0.25819872800993604,
          -0.37154228878299783,
          1.1548376757268877,
          0.6091866542203763,
          0.4905265364947855,
          1.7151703495190282,
          0.5379372760497011,
          -0.9060239939628344,
          -0.4757653879199119,
          0.7393937868154522,
          -2.2189647639590326,
          0.37041005207702155,
          1.0224887183461624,
          -0.5119055368256046,
          -0.9017925229090039,
          0.1447604829762621,
          -2.422737424208872,
          -0.7930350683984899,
          -1.1868366962480066,
          -2.0569449530090984,
          1.1920114509529198,
          -0.46156730828628,
          -0.719859833789653,
          0.5066864394881544,
          1.473741498165212,
          -1.5954387366714262,
          -0.4782502836781616,
          -0.16444298863396906,
          1.1408405792421255,
          -0.7097825274860883,
          0.7513186713580287,
          0.1339137866817911,
          -1.3011927732441302,
          1.2811633564799318,
          -0.3242821085915659,
          0.6457367692201954,
          0.0031357660336803783,
          0.7701540363029559,
          1.1149898631778379,
          0.25928287776938813,
          1.6665070758153746,
          -1.8969684050518085,
          0.681158307412814,
          -0.45063469387663485,
          1.5622406665206328,
          -0.12734672873637162,
          -0.5040136701566764,
          1.1767269743927373,
          0.618194840212031,
          -0.6238683392746781,
          0.040684028835876136,
          0.49591506198487856,
          0.5402290487669394
         ],
         "y": [
          0.5932107040360172,
          0.04753954704139975,
          -0.444048574584182,
          -0.09335676213517706,
          -1.7432026927789257,
          1.0909115353161996,
          0.5971969506321606,
          1.8949064155444952,
          -1.1931694954805152,
          -0.05676690937649937,
          -2.2217498558969324,
          -1.297293680429583,
          -0.021679536036858914,
          0.8916762942133755,
          -0.02348621814267172,
          -1.5786609005306635,
          0.24357246516668982,
          0.010917665382364302,
          0.5571223092510637,
          -1.2475758485667943,
          1.5868744203536709,
          -0.8057521945444989,
          0.7362339481277361,
          0.9477863231294862,
          -0.5995459180209022,
          0.32554867390014314,
          -0.24356449203624217,
          1.1979573743086407,
          0.7822599197053102,
          -1.0954063618013492,
          -1.4808650659886475,
          -0.03216781584335983,
          -1.8683123603357328,
          0.07009016085630791,
          1.0824506963115468,
          0.674844983492287,
          -0.4896990474459487,
          -0.25826941502304024,
          1.665037379640575,
          0.010847284024948613,
          -0.6880159072252328,
          -1.5714676059379604,
          0.9714241406998673,
          -0.24294500318685008,
          -0.06292344712525674,
          -1.3987054229303149,
          -0.4734533238685408,
          -2.321963835811431,
          1.3884196000510303,
          -0.31025234222947135,
          -1.481113764744444,
          -0.7699363254437,
          -1.1778899107140954,
          -0.8987703761011371,
          0.19883119197798022,
          -0.8858314065876076,
          -1.5178717776599873,
          0.5893703347859245,
          -0.6994135868450015,
          -0.48358717433491655,
          -1.0267079997349633,
          0.5298163054115055,
          0.14310713216157514,
          -0.35419547943352053,
          0.10136482998347482,
          0.7934625832758466,
          -0.5560458519842975,
          -0.07531028933549962,
          0.04992795085509383,
          1.1711134364945317,
          1.3911558612592592,
          0.3384467388925263,
          -1.0964942691720898,
          2.279215075793931,
          2.0177131899560052,
          -0.8702672956301913,
          -1.790636564450756,
          -1.1939131889231476,
          -1.0308948061031502,
          0.8574156496421109,
          0.20214773489736038,
          0.05214163230900531,
          -0.5361664714973083,
          -0.2671110698261588,
          1.67295750683312,
          0.47336831168584104,
          1.3273464336078364,
          -0.1455793598936071,
          1.0127945851899962,
          1.1546317432106692,
          -0.05084218514467188,
          -0.9450278958175217,
          0.5740271589665797,
          0.28224149312428837,
          2.659282372516733,
          -0.5020185634569961,
          0.8538731764432778,
          0.28591735410309577,
          -1.4126982855654242,
          -1.8891270064966479
         ]
        }
       ],
       "layout": {
        "legend": {
         "bgcolor": "#F5F6F9",
         "font": {
          "color": "#4D5663"
         }
        },
        "paper_bgcolor": "#F5F6F9",
        "plot_bgcolor": "#F5F6F9",
        "template": {
         "data": {
          "bar": [
           {
            "error_x": {
             "color": "#2a3f5f"
            },
            "error_y": {
             "color": "#2a3f5f"
            },
            "marker": {
             "line": {
              "color": "#E5ECF6",
              "width": 0.5
             },
             "pattern": {
              "fillmode": "overlay",
              "size": 10,
              "solidity": 0.2
             }
            },
            "type": "bar"
           }
          ],
          "barpolar": [
           {
            "marker": {
             "line": {
              "color": "#E5ECF6",
              "width": 0.5
             },
             "pattern": {
              "fillmode": "overlay",
              "size": 10,
              "solidity": 0.2
             }
            },
            "type": "barpolar"
           }
          ],
          "carpet": [
           {
            "aaxis": {
             "endlinecolor": "#2a3f5f",
             "gridcolor": "white",
             "linecolor": "white",
             "minorgridcolor": "white",
             "startlinecolor": "#2a3f5f"
            },
            "baxis": {
             "endlinecolor": "#2a3f5f",
             "gridcolor": "white",
             "linecolor": "white",
             "minorgridcolor": "white",
             "startlinecolor": "#2a3f5f"
            },
            "type": "carpet"
           }
          ],
          "choropleth": [
           {
            "colorbar": {
             "outlinewidth": 0,
             "ticks": ""
            },
            "type": "choropleth"
           }
          ],
          "contour": [
           {
            "colorbar": {
             "outlinewidth": 0,
             "ticks": ""
            },
            "colorscale": [
             [
              0,
              "#0d0887"
             ],
             [
              0.1111111111111111,
              "#46039f"
             ],
             [
              0.2222222222222222,
              "#7201a8"
             ],
             [
              0.3333333333333333,
              "#9c179e"
             ],
             [
              0.4444444444444444,
              "#bd3786"
             ],
             [
              0.5555555555555556,
              "#d8576b"
             ],
             [
              0.6666666666666666,
              "#ed7953"
             ],
             [
              0.7777777777777778,
              "#fb9f3a"
             ],
             [
              0.8888888888888888,
              "#fdca26"
             ],
             [
              1,
              "#f0f921"
             ]
            ],
            "type": "contour"
           }
          ],
          "contourcarpet": [
           {
            "colorbar": {
             "outlinewidth": 0,
             "ticks": ""
            },
            "type": "contourcarpet"
           }
          ],
          "heatmap": [
           {
            "colorbar": {
             "outlinewidth": 0,
             "ticks": ""
            },
            "colorscale": [
             [
              0,
              "#0d0887"
             ],
             [
              0.1111111111111111,
              "#46039f"
             ],
             [
              0.2222222222222222,
              "#7201a8"
             ],
             [
              0.3333333333333333,
              "#9c179e"
             ],
             [
              0.4444444444444444,
              "#bd3786"
             ],
             [
              0.5555555555555556,
              "#d8576b"
             ],
             [
              0.6666666666666666,
              "#ed7953"
             ],
             [
              0.7777777777777778,
              "#fb9f3a"
             ],
             [
              0.8888888888888888,
              "#fdca26"
             ],
             [
              1,
              "#f0f921"
             ]
            ],
            "type": "heatmap"
           }
          ],
          "heatmapgl": [
           {
            "colorbar": {
             "outlinewidth": 0,
             "ticks": ""
            },
            "colorscale": [
             [
              0,
              "#0d0887"
             ],
             [
              0.1111111111111111,
              "#46039f"
             ],
             [
              0.2222222222222222,
              "#7201a8"
             ],
             [
              0.3333333333333333,
              "#9c179e"
             ],
             [
              0.4444444444444444,
              "#bd3786"
             ],
             [
              0.5555555555555556,
              "#d8576b"
             ],
             [
              0.6666666666666666,
              "#ed7953"
             ],
             [
              0.7777777777777778,
              "#fb9f3a"
             ],
             [
              0.8888888888888888,
              "#fdca26"
             ],
             [
              1,
              "#f0f921"
             ]
            ],
            "type": "heatmapgl"
           }
          ],
          "histogram": [
           {
            "marker": {
             "pattern": {
              "fillmode": "overlay",
              "size": 10,
              "solidity": 0.2
             }
            },
            "type": "histogram"
           }
          ],
          "histogram2d": [
           {
            "colorbar": {
             "outlinewidth": 0,
             "ticks": ""
            },
            "colorscale": [
             [
              0,
              "#0d0887"
             ],
             [
              0.1111111111111111,
              "#46039f"
             ],
             [
              0.2222222222222222,
              "#7201a8"
             ],
             [
              0.3333333333333333,
              "#9c179e"
             ],
             [
              0.4444444444444444,
              "#bd3786"
             ],
             [
              0.5555555555555556,
              "#d8576b"
             ],
             [
              0.6666666666666666,
              "#ed7953"
             ],
             [
              0.7777777777777778,
              "#fb9f3a"
             ],
             [
              0.8888888888888888,
              "#fdca26"
             ],
             [
              1,
              "#f0f921"
             ]
            ],
            "type": "histogram2d"
           }
          ],
          "histogram2dcontour": [
           {
            "colorbar": {
             "outlinewidth": 0,
             "ticks": ""
            },
            "colorscale": [
             [
              0,
              "#0d0887"
             ],
             [
              0.1111111111111111,
              "#46039f"
             ],
             [
              0.2222222222222222,
              "#7201a8"
             ],
             [
              0.3333333333333333,
              "#9c179e"
             ],
             [
              0.4444444444444444,
              "#bd3786"
             ],
             [
              0.5555555555555556,
              "#d8576b"
             ],
             [
              0.6666666666666666,
              "#ed7953"
             ],
             [
              0.7777777777777778,
              "#fb9f3a"
             ],
             [
              0.8888888888888888,
              "#fdca26"
             ],
             [
              1,
              "#f0f921"
             ]
            ],
            "type": "histogram2dcontour"
           }
          ],
          "mesh3d": [
           {
            "colorbar": {
             "outlinewidth": 0,
             "ticks": ""
            },
            "type": "mesh3d"
           }
          ],
          "parcoords": [
           {
            "line": {
             "colorbar": {
              "outlinewidth": 0,
              "ticks": ""
             }
            },
            "type": "parcoords"
           }
          ],
          "pie": [
           {
            "automargin": true,
            "type": "pie"
           }
          ],
          "scatter": [
           {
            "marker": {
             "colorbar": {
              "outlinewidth": 0,
              "ticks": ""
             }
            },
            "type": "scatter"
           }
          ],
          "scatter3d": [
           {
            "line": {
             "colorbar": {
              "outlinewidth": 0,
              "ticks": ""
             }
            },
            "marker": {
             "colorbar": {
              "outlinewidth": 0,
              "ticks": ""
             }
            },
            "type": "scatter3d"
           }
          ],
          "scattercarpet": [
           {
            "marker": {
             "colorbar": {
              "outlinewidth": 0,
              "ticks": ""
             }
            },
            "type": "scattercarpet"
           }
          ],
          "scattergeo": [
           {
            "marker": {
             "colorbar": {
              "outlinewidth": 0,
              "ticks": ""
             }
            },
            "type": "scattergeo"
           }
          ],
          "scattergl": [
           {
            "marker": {
             "colorbar": {
              "outlinewidth": 0,
              "ticks": ""
             }
            },
            "type": "scattergl"
           }
          ],
          "scattermapbox": [
           {
            "marker": {
             "colorbar": {
              "outlinewidth": 0,
              "ticks": ""
             }
            },
            "type": "scattermapbox"
           }
          ],
          "scatterpolar": [
           {
            "marker": {
             "colorbar": {
              "outlinewidth": 0,
              "ticks": ""
             }
            },
            "type": "scatterpolar"
           }
          ],
          "scatterpolargl": [
           {
            "marker": {
             "colorbar": {
              "outlinewidth": 0,
              "ticks": ""
             }
            },
            "type": "scatterpolargl"
           }
          ],
          "scatterternary": [
           {
            "marker": {
             "colorbar": {
              "outlinewidth": 0,
              "ticks": ""
             }
            },
            "type": "scatterternary"
           }
          ],
          "surface": [
           {
            "colorbar": {
             "outlinewidth": 0,
             "ticks": ""
            },
            "colorscale": [
             [
              0,
              "#0d0887"
             ],
             [
              0.1111111111111111,
              "#46039f"
             ],
             [
              0.2222222222222222,
              "#7201a8"
             ],
             [
              0.3333333333333333,
              "#9c179e"
             ],
             [
              0.4444444444444444,
              "#bd3786"
             ],
             [
              0.5555555555555556,
              "#d8576b"
             ],
             [
              0.6666666666666666,
              "#ed7953"
             ],
             [
              0.7777777777777778,
              "#fb9f3a"
             ],
             [
              0.8888888888888888,
              "#fdca26"
             ],
             [
              1,
              "#f0f921"
             ]
            ],
            "type": "surface"
           }
          ],
          "table": [
           {
            "cells": {
             "fill": {
              "color": "#EBF0F8"
             },
             "line": {
              "color": "white"
             }
            },
            "header": {
             "fill": {
              "color": "#C8D4E3"
             },
             "line": {
              "color": "white"
             }
            },
            "type": "table"
           }
          ]
         },
         "layout": {
          "annotationdefaults": {
           "arrowcolor": "#2a3f5f",
           "arrowhead": 0,
           "arrowwidth": 1
          },
          "autotypenumbers": "strict",
          "coloraxis": {
           "colorbar": {
            "outlinewidth": 0,
            "ticks": ""
           }
          },
          "colorscale": {
           "diverging": [
            [
             0,
             "#8e0152"
            ],
            [
             0.1,
             "#c51b7d"
            ],
            [
             0.2,
             "#de77ae"
            ],
            [
             0.3,
             "#f1b6da"
            ],
            [
             0.4,
             "#fde0ef"
            ],
            [
             0.5,
             "#f7f7f7"
            ],
            [
             0.6,
             "#e6f5d0"
            ],
            [
             0.7,
             "#b8e186"
            ],
            [
             0.8,
             "#7fbc41"
            ],
            [
             0.9,
             "#4d9221"
            ],
            [
             1,
             "#276419"
            ]
           ],
           "sequential": [
            [
             0,
             "#0d0887"
            ],
            [
             0.1111111111111111,
             "#46039f"
            ],
            [
             0.2222222222222222,
             "#7201a8"
            ],
            [
             0.3333333333333333,
             "#9c179e"
            ],
            [
             0.4444444444444444,
             "#bd3786"
            ],
            [
             0.5555555555555556,
             "#d8576b"
            ],
            [
             0.6666666666666666,
             "#ed7953"
            ],
            [
             0.7777777777777778,
             "#fb9f3a"
            ],
            [
             0.8888888888888888,
             "#fdca26"
            ],
            [
             1,
             "#f0f921"
            ]
           ],
           "sequentialminus": [
            [
             0,
             "#0d0887"
            ],
            [
             0.1111111111111111,
             "#46039f"
            ],
            [
             0.2222222222222222,
             "#7201a8"
            ],
            [
             0.3333333333333333,
             "#9c179e"
            ],
            [
             0.4444444444444444,
             "#bd3786"
            ],
            [
             0.5555555555555556,
             "#d8576b"
            ],
            [
             0.6666666666666666,
             "#ed7953"
            ],
            [
             0.7777777777777778,
             "#fb9f3a"
            ],
            [
             0.8888888888888888,
             "#fdca26"
            ],
            [
             1,
             "#f0f921"
            ]
           ]
          },
          "colorway": [
           "#636efa",
           "#EF553B",
           "#00cc96",
           "#ab63fa",
           "#FFA15A",
           "#19d3f3",
           "#FF6692",
           "#B6E880",
           "#FF97FF",
           "#FECB52"
          ],
          "font": {
           "color": "#2a3f5f"
          },
          "geo": {
           "bgcolor": "white",
           "lakecolor": "white",
           "landcolor": "#E5ECF6",
           "showlakes": true,
           "showland": true,
           "subunitcolor": "white"
          },
          "hoverlabel": {
           "align": "left"
          },
          "hovermode": "closest",
          "mapbox": {
           "style": "light"
          },
          "paper_bgcolor": "white",
          "plot_bgcolor": "#E5ECF6",
          "polar": {
           "angularaxis": {
            "gridcolor": "white",
            "linecolor": "white",
            "ticks": ""
           },
           "bgcolor": "#E5ECF6",
           "radialaxis": {
            "gridcolor": "white",
            "linecolor": "white",
            "ticks": ""
           }
          },
          "scene": {
           "xaxis": {
            "backgroundcolor": "#E5ECF6",
            "gridcolor": "white",
            "gridwidth": 2,
            "linecolor": "white",
            "showbackground": true,
            "ticks": "",
            "zerolinecolor": "white"
           },
           "yaxis": {
            "backgroundcolor": "#E5ECF6",
            "gridcolor": "white",
            "gridwidth": 2,
            "linecolor": "white",
            "showbackground": true,
            "ticks": "",
            "zerolinecolor": "white"
           },
           "zaxis": {
            "backgroundcolor": "#E5ECF6",
            "gridcolor": "white",
            "gridwidth": 2,
            "linecolor": "white",
            "showbackground": true,
            "ticks": "",
            "zerolinecolor": "white"
           }
          },
          "shapedefaults": {
           "line": {
            "color": "#2a3f5f"
           }
          },
          "ternary": {
           "aaxis": {
            "gridcolor": "white",
            "linecolor": "white",
            "ticks": ""
           },
           "baxis": {
            "gridcolor": "white",
            "linecolor": "white",
            "ticks": ""
           },
           "bgcolor": "#E5ECF6",
           "caxis": {
            "gridcolor": "white",
            "linecolor": "white",
            "ticks": ""
           }
          },
          "title": {
           "x": 0.05
          },
          "xaxis": {
           "automargin": true,
           "gridcolor": "white",
           "linecolor": "white",
           "ticks": "",
           "title": {
            "standoff": 15
           },
           "zerolinecolor": "white",
           "zerolinewidth": 2
          },
          "yaxis": {
           "automargin": true,
           "gridcolor": "white",
           "linecolor": "white",
           "ticks": "",
           "title": {
            "standoff": 15
           },
           "zerolinecolor": "white",
           "zerolinewidth": 2
          }
         }
        },
        "title": {
         "font": {
          "color": "#4D5663"
         }
        },
        "xaxis": {
         "gridcolor": "#E1E5ED",
         "showgrid": true,
         "tickfont": {
          "color": "#4D5663"
         },
         "title": {
          "font": {
           "color": "#4D5663"
          },
          "text": ""
         },
         "zerolinecolor": "#E1E5ED"
        },
        "yaxis": {
         "gridcolor": "#E1E5ED",
         "showgrid": true,
         "tickfont": {
          "color": "#4D5663"
         },
         "title": {
          "font": {
           "color": "#4D5663"
          },
          "text": ""
         },
         "zerolinecolor": "#E1E5ED"
        }
       }
      },
      "text/html": [
       "<div>                            <div id=\"de77b936-9d43-452a-9410-f95f5840f9b1\" class=\"plotly-graph-div\" style=\"height:525px; width:100%;\"></div>            <script type=\"text/javascript\">                require([\"plotly\"], function(Plotly) {                    window.PLOTLYENV=window.PLOTLYENV || {};\n",
       "                    window.PLOTLYENV.BASE_URL='https://plot.ly';                                    if (document.getElementById(\"de77b936-9d43-452a-9410-f95f5840f9b1\")) {                    Plotly.newPlot(                        \"de77b936-9d43-452a-9410-f95f5840f9b1\",                        [{\"line\":{\"color\":\"rgba(255, 153, 51, 1.0)\",\"dash\":\"solid\",\"shape\":\"linear\",\"width\":1.3},\"marker\":{\"size\":10,\"symbol\":\"circle\"},\"mode\":\"markers\",\"name\":\"B\",\"text\":\"\",\"x\":[0.7295363441218393,-0.30709735423890133,0.492710813594875,0.08392566125616459,-0.6889455689979118,0.5470456033814226,-0.59537959593479,0.590991782392905,0.9972471665249101,1.4378882065324756,0.11926922188426163,-1.6571759958291157,0.4487064707697026,-2.51301997833897,0.6001221119436471,-2.731948786259892,1.3607099053275447,-0.731152267488863,-1.3966859085953525,0.17378944539031352,0.6817597346735718,1.1402012726597144,0.14349266373328687,-0.9377451346394511,0.017522155117618125,0.3235679464012107,0.836983146893619,-0.8792559105632725,-1.1801754241794296,-0.3795826015311692,-1.140787877799205,-0.7723948304435839,-0.5145019292009516,0.35609369850632194,-1.511771529880759,1.3774677496649568,-0.16454591236628077,-0.20152889220951667,-0.8123283332056657,0.595491766397253,-0.7970370986126426,-0.7349886528627032,0.6385817620476262,-0.1332010168119281,-0.6122662727680039,-2.4533287444652374,-1.2247225198339713,-0.25819872800993604,-0.37154228878299783,1.1548376757268877,0.6091866542203763,0.4905265364947855,1.7151703495190282,0.5379372760497011,-0.9060239939628344,-0.4757653879199119,0.7393937868154522,-2.2189647639590326,0.37041005207702155,1.0224887183461624,-0.5119055368256046,-0.9017925229090039,0.1447604829762621,-2.422737424208872,-0.7930350683984899,-1.1868366962480066,-2.0569449530090984,1.1920114509529198,-0.46156730828628,-0.719859833789653,0.5066864394881544,1.473741498165212,-1.5954387366714262,-0.4782502836781616,-0.16444298863396906,1.1408405792421255,-0.7097825274860883,0.7513186713580287,0.1339137866817911,-1.3011927732441302,1.2811633564799318,-0.3242821085915659,0.6457367692201954,0.0031357660336803783,0.7701540363029559,1.1149898631778379,0.25928287776938813,1.6665070758153746,-1.8969684050518085,0.681158307412814,-0.45063469387663485,1.5622406665206328,-0.12734672873637162,-0.5040136701566764,1.1767269743927373,0.618194840212031,-0.6238683392746781,0.040684028835876136,0.49591506198487856,0.5402290487669394],\"y\":[0.5932107040360172,0.04753954704139975,-0.444048574584182,-0.09335676213517706,-1.7432026927789257,1.0909115353161996,0.5971969506321606,1.8949064155444952,-1.1931694954805152,-0.05676690937649937,-2.2217498558969324,-1.297293680429583,-0.021679536036858914,0.8916762942133755,-0.02348621814267172,-1.5786609005306635,0.24357246516668982,0.010917665382364302,0.5571223092510637,-1.2475758485667943,1.5868744203536709,-0.8057521945444989,0.7362339481277361,0.9477863231294862,-0.5995459180209022,0.32554867390014314,-0.24356449203624217,1.1979573743086407,0.7822599197053102,-1.0954063618013492,-1.4808650659886475,-0.03216781584335983,-1.8683123603357328,0.07009016085630791,1.0824506963115468,0.674844983492287,-0.4896990474459487,-0.25826941502304024,1.665037379640575,0.010847284024948613,-0.6880159072252328,-1.5714676059379604,0.9714241406998673,-0.24294500318685008,-0.06292344712525674,-1.3987054229303149,-0.4734533238685408,-2.321963835811431,1.3884196000510303,-0.31025234222947135,-1.481113764744444,-0.7699363254437,-1.1778899107140954,-0.8987703761011371,0.19883119197798022,-0.8858314065876076,-1.5178717776599873,0.5893703347859245,-0.6994135868450015,-0.48358717433491655,-1.0267079997349633,0.5298163054115055,0.14310713216157514,-0.35419547943352053,0.10136482998347482,0.7934625832758466,-0.5560458519842975,-0.07531028933549962,0.04992795085509383,1.1711134364945317,1.3911558612592592,0.3384467388925263,-1.0964942691720898,2.279215075793931,2.0177131899560052,-0.8702672956301913,-1.790636564450756,-1.1939131889231476,-1.0308948061031502,0.8574156496421109,0.20214773489736038,0.05214163230900531,-0.5361664714973083,-0.2671110698261588,1.67295750683312,0.47336831168584104,1.3273464336078364,-0.1455793598936071,1.0127945851899962,1.1546317432106692,-0.05084218514467188,-0.9450278958175217,0.5740271589665797,0.28224149312428837,2.659282372516733,-0.5020185634569961,0.8538731764432778,0.28591735410309577,-1.4126982855654242,-1.8891270064966479],\"type\":\"scatter\"}],                        {\"legend\":{\"bgcolor\":\"#F5F6F9\",\"font\":{\"color\":\"#4D5663\"}},\"paper_bgcolor\":\"#F5F6F9\",\"plot_bgcolor\":\"#F5F6F9\",\"template\":{\"data\":{\"barpolar\":[{\"marker\":{\"line\":{\"color\":\"#E5ECF6\",\"width\":0.5},\"pattern\":{\"fillmode\":\"overlay\",\"size\":10,\"solidity\":0.2}},\"type\":\"barpolar\"}],\"bar\":[{\"error_x\":{\"color\":\"#2a3f5f\"},\"error_y\":{\"color\":\"#2a3f5f\"},\"marker\":{\"line\":{\"color\":\"#E5ECF6\",\"width\":0.5},\"pattern\":{\"fillmode\":\"overlay\",\"size\":10,\"solidity\":0.2}},\"type\":\"bar\"}],\"carpet\":[{\"aaxis\":{\"endlinecolor\":\"#2a3f5f\",\"gridcolor\":\"white\",\"linecolor\":\"white\",\"minorgridcolor\":\"white\",\"startlinecolor\":\"#2a3f5f\"},\"baxis\":{\"endlinecolor\":\"#2a3f5f\",\"gridcolor\":\"white\",\"linecolor\":\"white\",\"minorgridcolor\":\"white\",\"startlinecolor\":\"#2a3f5f\"},\"type\":\"carpet\"}],\"choropleth\":[{\"colorbar\":{\"outlinewidth\":0,\"ticks\":\"\"},\"type\":\"choropleth\"}],\"contourcarpet\":[{\"colorbar\":{\"outlinewidth\":0,\"ticks\":\"\"},\"type\":\"contourcarpet\"}],\"contour\":[{\"colorbar\":{\"outlinewidth\":0,\"ticks\":\"\"},\"colorscale\":[[0.0,\"#0d0887\"],[0.1111111111111111,\"#46039f\"],[0.2222222222222222,\"#7201a8\"],[0.3333333333333333,\"#9c179e\"],[0.4444444444444444,\"#bd3786\"],[0.5555555555555556,\"#d8576b\"],[0.6666666666666666,\"#ed7953\"],[0.7777777777777778,\"#fb9f3a\"],[0.8888888888888888,\"#fdca26\"],[1.0,\"#f0f921\"]],\"type\":\"contour\"}],\"heatmapgl\":[{\"colorbar\":{\"outlinewidth\":0,\"ticks\":\"\"},\"colorscale\":[[0.0,\"#0d0887\"],[0.1111111111111111,\"#46039f\"],[0.2222222222222222,\"#7201a8\"],[0.3333333333333333,\"#9c179e\"],[0.4444444444444444,\"#bd3786\"],[0.5555555555555556,\"#d8576b\"],[0.6666666666666666,\"#ed7953\"],[0.7777777777777778,\"#fb9f3a\"],[0.8888888888888888,\"#fdca26\"],[1.0,\"#f0f921\"]],\"type\":\"heatmapgl\"}],\"heatmap\":[{\"colorbar\":{\"outlinewidth\":0,\"ticks\":\"\"},\"colorscale\":[[0.0,\"#0d0887\"],[0.1111111111111111,\"#46039f\"],[0.2222222222222222,\"#7201a8\"],[0.3333333333333333,\"#9c179e\"],[0.4444444444444444,\"#bd3786\"],[0.5555555555555556,\"#d8576b\"],[0.6666666666666666,\"#ed7953\"],[0.7777777777777778,\"#fb9f3a\"],[0.8888888888888888,\"#fdca26\"],[1.0,\"#f0f921\"]],\"type\":\"heatmap\"}],\"histogram2dcontour\":[{\"colorbar\":{\"outlinewidth\":0,\"ticks\":\"\"},\"colorscale\":[[0.0,\"#0d0887\"],[0.1111111111111111,\"#46039f\"],[0.2222222222222222,\"#7201a8\"],[0.3333333333333333,\"#9c179e\"],[0.4444444444444444,\"#bd3786\"],[0.5555555555555556,\"#d8576b\"],[0.6666666666666666,\"#ed7953\"],[0.7777777777777778,\"#fb9f3a\"],[0.8888888888888888,\"#fdca26\"],[1.0,\"#f0f921\"]],\"type\":\"histogram2dcontour\"}],\"histogram2d\":[{\"colorbar\":{\"outlinewidth\":0,\"ticks\":\"\"},\"colorscale\":[[0.0,\"#0d0887\"],[0.1111111111111111,\"#46039f\"],[0.2222222222222222,\"#7201a8\"],[0.3333333333333333,\"#9c179e\"],[0.4444444444444444,\"#bd3786\"],[0.5555555555555556,\"#d8576b\"],[0.6666666666666666,\"#ed7953\"],[0.7777777777777778,\"#fb9f3a\"],[0.8888888888888888,\"#fdca26\"],[1.0,\"#f0f921\"]],\"type\":\"histogram2d\"}],\"histogram\":[{\"marker\":{\"pattern\":{\"fillmode\":\"overlay\",\"size\":10,\"solidity\":0.2}},\"type\":\"histogram\"}],\"mesh3d\":[{\"colorbar\":{\"outlinewidth\":0,\"ticks\":\"\"},\"type\":\"mesh3d\"}],\"parcoords\":[{\"line\":{\"colorbar\":{\"outlinewidth\":0,\"ticks\":\"\"}},\"type\":\"parcoords\"}],\"pie\":[{\"automargin\":true,\"type\":\"pie\"}],\"scatter3d\":[{\"line\":{\"colorbar\":{\"outlinewidth\":0,\"ticks\":\"\"}},\"marker\":{\"colorbar\":{\"outlinewidth\":0,\"ticks\":\"\"}},\"type\":\"scatter3d\"}],\"scattercarpet\":[{\"marker\":{\"colorbar\":{\"outlinewidth\":0,\"ticks\":\"\"}},\"type\":\"scattercarpet\"}],\"scattergeo\":[{\"marker\":{\"colorbar\":{\"outlinewidth\":0,\"ticks\":\"\"}},\"type\":\"scattergeo\"}],\"scattergl\":[{\"marker\":{\"colorbar\":{\"outlinewidth\":0,\"ticks\":\"\"}},\"type\":\"scattergl\"}],\"scattermapbox\":[{\"marker\":{\"colorbar\":{\"outlinewidth\":0,\"ticks\":\"\"}},\"type\":\"scattermapbox\"}],\"scatterpolargl\":[{\"marker\":{\"colorbar\":{\"outlinewidth\":0,\"ticks\":\"\"}},\"type\":\"scatterpolargl\"}],\"scatterpolar\":[{\"marker\":{\"colorbar\":{\"outlinewidth\":0,\"ticks\":\"\"}},\"type\":\"scatterpolar\"}],\"scatter\":[{\"marker\":{\"colorbar\":{\"outlinewidth\":0,\"ticks\":\"\"}},\"type\":\"scatter\"}],\"scatterternary\":[{\"marker\":{\"colorbar\":{\"outlinewidth\":0,\"ticks\":\"\"}},\"type\":\"scatterternary\"}],\"surface\":[{\"colorbar\":{\"outlinewidth\":0,\"ticks\":\"\"},\"colorscale\":[[0.0,\"#0d0887\"],[0.1111111111111111,\"#46039f\"],[0.2222222222222222,\"#7201a8\"],[0.3333333333333333,\"#9c179e\"],[0.4444444444444444,\"#bd3786\"],[0.5555555555555556,\"#d8576b\"],[0.6666666666666666,\"#ed7953\"],[0.7777777777777778,\"#fb9f3a\"],[0.8888888888888888,\"#fdca26\"],[1.0,\"#f0f921\"]],\"type\":\"surface\"}],\"table\":[{\"cells\":{\"fill\":{\"color\":\"#EBF0F8\"},\"line\":{\"color\":\"white\"}},\"header\":{\"fill\":{\"color\":\"#C8D4E3\"},\"line\":{\"color\":\"white\"}},\"type\":\"table\"}]},\"layout\":{\"annotationdefaults\":{\"arrowcolor\":\"#2a3f5f\",\"arrowhead\":0,\"arrowwidth\":1},\"autotypenumbers\":\"strict\",\"coloraxis\":{\"colorbar\":{\"outlinewidth\":0,\"ticks\":\"\"}},\"colorscale\":{\"diverging\":[[0,\"#8e0152\"],[0.1,\"#c51b7d\"],[0.2,\"#de77ae\"],[0.3,\"#f1b6da\"],[0.4,\"#fde0ef\"],[0.5,\"#f7f7f7\"],[0.6,\"#e6f5d0\"],[0.7,\"#b8e186\"],[0.8,\"#7fbc41\"],[0.9,\"#4d9221\"],[1,\"#276419\"]],\"sequential\":[[0.0,\"#0d0887\"],[0.1111111111111111,\"#46039f\"],[0.2222222222222222,\"#7201a8\"],[0.3333333333333333,\"#9c179e\"],[0.4444444444444444,\"#bd3786\"],[0.5555555555555556,\"#d8576b\"],[0.6666666666666666,\"#ed7953\"],[0.7777777777777778,\"#fb9f3a\"],[0.8888888888888888,\"#fdca26\"],[1.0,\"#f0f921\"]],\"sequentialminus\":[[0.0,\"#0d0887\"],[0.1111111111111111,\"#46039f\"],[0.2222222222222222,\"#7201a8\"],[0.3333333333333333,\"#9c179e\"],[0.4444444444444444,\"#bd3786\"],[0.5555555555555556,\"#d8576b\"],[0.6666666666666666,\"#ed7953\"],[0.7777777777777778,\"#fb9f3a\"],[0.8888888888888888,\"#fdca26\"],[1.0,\"#f0f921\"]]},\"colorway\":[\"#636efa\",\"#EF553B\",\"#00cc96\",\"#ab63fa\",\"#FFA15A\",\"#19d3f3\",\"#FF6692\",\"#B6E880\",\"#FF97FF\",\"#FECB52\"],\"font\":{\"color\":\"#2a3f5f\"},\"geo\":{\"bgcolor\":\"white\",\"lakecolor\":\"white\",\"landcolor\":\"#E5ECF6\",\"showlakes\":true,\"showland\":true,\"subunitcolor\":\"white\"},\"hoverlabel\":{\"align\":\"left\"},\"hovermode\":\"closest\",\"mapbox\":{\"style\":\"light\"},\"paper_bgcolor\":\"white\",\"plot_bgcolor\":\"#E5ECF6\",\"polar\":{\"angularaxis\":{\"gridcolor\":\"white\",\"linecolor\":\"white\",\"ticks\":\"\"},\"bgcolor\":\"#E5ECF6\",\"radialaxis\":{\"gridcolor\":\"white\",\"linecolor\":\"white\",\"ticks\":\"\"}},\"scene\":{\"xaxis\":{\"backgroundcolor\":\"#E5ECF6\",\"gridcolor\":\"white\",\"gridwidth\":2,\"linecolor\":\"white\",\"showbackground\":true,\"ticks\":\"\",\"zerolinecolor\":\"white\"},\"yaxis\":{\"backgroundcolor\":\"#E5ECF6\",\"gridcolor\":\"white\",\"gridwidth\":2,\"linecolor\":\"white\",\"showbackground\":true,\"ticks\":\"\",\"zerolinecolor\":\"white\"},\"zaxis\":{\"backgroundcolor\":\"#E5ECF6\",\"gridcolor\":\"white\",\"gridwidth\":2,\"linecolor\":\"white\",\"showbackground\":true,\"ticks\":\"\",\"zerolinecolor\":\"white\"}},\"shapedefaults\":{\"line\":{\"color\":\"#2a3f5f\"}},\"ternary\":{\"aaxis\":{\"gridcolor\":\"white\",\"linecolor\":\"white\",\"ticks\":\"\"},\"baxis\":{\"gridcolor\":\"white\",\"linecolor\":\"white\",\"ticks\":\"\"},\"bgcolor\":\"#E5ECF6\",\"caxis\":{\"gridcolor\":\"white\",\"linecolor\":\"white\",\"ticks\":\"\"}},\"title\":{\"x\":0.05},\"xaxis\":{\"automargin\":true,\"gridcolor\":\"white\",\"linecolor\":\"white\",\"ticks\":\"\",\"title\":{\"standoff\":15},\"zerolinecolor\":\"white\",\"zerolinewidth\":2},\"yaxis\":{\"automargin\":true,\"gridcolor\":\"white\",\"linecolor\":\"white\",\"ticks\":\"\",\"title\":{\"standoff\":15},\"zerolinecolor\":\"white\",\"zerolinewidth\":2}}},\"title\":{\"font\":{\"color\":\"#4D5663\"}},\"xaxis\":{\"gridcolor\":\"#E1E5ED\",\"showgrid\":true,\"tickfont\":{\"color\":\"#4D5663\"},\"title\":{\"font\":{\"color\":\"#4D5663\"},\"text\":\"\"},\"zerolinecolor\":\"#E1E5ED\"},\"yaxis\":{\"gridcolor\":\"#E1E5ED\",\"showgrid\":true,\"tickfont\":{\"color\":\"#4D5663\"},\"title\":{\"font\":{\"color\":\"#4D5663\"},\"text\":\"\"},\"zerolinecolor\":\"#E1E5ED\"}},                        {\"showLink\": true, \"linkText\": \"Export to plot.ly\", \"plotlyServerURL\": \"https://plot.ly\", \"responsive\": true}                    ).then(function(){\n",
       "                            \n",
       "var gd = document.getElementById('de77b936-9d43-452a-9410-f95f5840f9b1');\n",
       "var x = new MutationObserver(function (mutations, observer) {{\n",
       "        var display = window.getComputedStyle(gd).display;\n",
       "        if (!display || display === 'none') {{\n",
       "            console.log([gd, 'removed!']);\n",
       "            Plotly.purge(gd);\n",
       "            observer.disconnect();\n",
       "        }}\n",
       "}});\n",
       "\n",
       "// Listen for the removal of the full notebook cells\n",
       "var notebookContainer = gd.closest('#notebook-container');\n",
       "if (notebookContainer) {{\n",
       "    x.observe(notebookContainer, {childList: true});\n",
       "}}\n",
       "\n",
       "// Listen for the clearing of the current output cell\n",
       "var outputEl = gd.closest('.output');\n",
       "if (outputEl) {{\n",
       "    x.observe(outputEl, {childList: true});\n",
       "}}\n",
       "\n",
       "                        })                };                });            </script>        </div>"
      ]
     },
     "metadata": {},
     "output_type": "display_data"
    }
   ],
   "source": [
    "df.iplot(kind='scatter',x='A',y='B',mode='markers',size=10)"
   ]
  },
  {
   "cell_type": "markdown",
   "metadata": {},
   "source": [
    "## Bar Plots"
   ]
  },
  {
   "cell_type": "code",
   "execution_count": 19,
   "metadata": {},
   "outputs": [
    {
     "data": {
      "application/vnd.plotly.v1+json": {
       "config": {
        "linkText": "Export to plot.ly",
        "plotlyServerURL": "https://plot.ly",
        "showLink": true
       },
       "data": [
        {
         "marker": {
          "color": "rgba(255, 153, 51, 0.6)",
          "line": {
           "color": "rgba(255, 153, 51, 1.0)",
           "width": 1
          }
         },
         "name": "Values",
         "orientation": "v",
         "text": "",
         "type": "bar",
         "x": [
          "A",
          "B",
          "C"
         ],
         "y": [
          32,
          43,
          50
         ]
        }
       ],
       "layout": {
        "legend": {
         "bgcolor": "#F5F6F9",
         "font": {
          "color": "#4D5663"
         }
        },
        "paper_bgcolor": "#F5F6F9",
        "plot_bgcolor": "#F5F6F9",
        "template": {
         "data": {
          "bar": [
           {
            "error_x": {
             "color": "#2a3f5f"
            },
            "error_y": {
             "color": "#2a3f5f"
            },
            "marker": {
             "line": {
              "color": "#E5ECF6",
              "width": 0.5
             },
             "pattern": {
              "fillmode": "overlay",
              "size": 10,
              "solidity": 0.2
             }
            },
            "type": "bar"
           }
          ],
          "barpolar": [
           {
            "marker": {
             "line": {
              "color": "#E5ECF6",
              "width": 0.5
             },
             "pattern": {
              "fillmode": "overlay",
              "size": 10,
              "solidity": 0.2
             }
            },
            "type": "barpolar"
           }
          ],
          "carpet": [
           {
            "aaxis": {
             "endlinecolor": "#2a3f5f",
             "gridcolor": "white",
             "linecolor": "white",
             "minorgridcolor": "white",
             "startlinecolor": "#2a3f5f"
            },
            "baxis": {
             "endlinecolor": "#2a3f5f",
             "gridcolor": "white",
             "linecolor": "white",
             "minorgridcolor": "white",
             "startlinecolor": "#2a3f5f"
            },
            "type": "carpet"
           }
          ],
          "choropleth": [
           {
            "colorbar": {
             "outlinewidth": 0,
             "ticks": ""
            },
            "type": "choropleth"
           }
          ],
          "contour": [
           {
            "colorbar": {
             "outlinewidth": 0,
             "ticks": ""
            },
            "colorscale": [
             [
              0,
              "#0d0887"
             ],
             [
              0.1111111111111111,
              "#46039f"
             ],
             [
              0.2222222222222222,
              "#7201a8"
             ],
             [
              0.3333333333333333,
              "#9c179e"
             ],
             [
              0.4444444444444444,
              "#bd3786"
             ],
             [
              0.5555555555555556,
              "#d8576b"
             ],
             [
              0.6666666666666666,
              "#ed7953"
             ],
             [
              0.7777777777777778,
              "#fb9f3a"
             ],
             [
              0.8888888888888888,
              "#fdca26"
             ],
             [
              1,
              "#f0f921"
             ]
            ],
            "type": "contour"
           }
          ],
          "contourcarpet": [
           {
            "colorbar": {
             "outlinewidth": 0,
             "ticks": ""
            },
            "type": "contourcarpet"
           }
          ],
          "heatmap": [
           {
            "colorbar": {
             "outlinewidth": 0,
             "ticks": ""
            },
            "colorscale": [
             [
              0,
              "#0d0887"
             ],
             [
              0.1111111111111111,
              "#46039f"
             ],
             [
              0.2222222222222222,
              "#7201a8"
             ],
             [
              0.3333333333333333,
              "#9c179e"
             ],
             [
              0.4444444444444444,
              "#bd3786"
             ],
             [
              0.5555555555555556,
              "#d8576b"
             ],
             [
              0.6666666666666666,
              "#ed7953"
             ],
             [
              0.7777777777777778,
              "#fb9f3a"
             ],
             [
              0.8888888888888888,
              "#fdca26"
             ],
             [
              1,
              "#f0f921"
             ]
            ],
            "type": "heatmap"
           }
          ],
          "heatmapgl": [
           {
            "colorbar": {
             "outlinewidth": 0,
             "ticks": ""
            },
            "colorscale": [
             [
              0,
              "#0d0887"
             ],
             [
              0.1111111111111111,
              "#46039f"
             ],
             [
              0.2222222222222222,
              "#7201a8"
             ],
             [
              0.3333333333333333,
              "#9c179e"
             ],
             [
              0.4444444444444444,
              "#bd3786"
             ],
             [
              0.5555555555555556,
              "#d8576b"
             ],
             [
              0.6666666666666666,
              "#ed7953"
             ],
             [
              0.7777777777777778,
              "#fb9f3a"
             ],
             [
              0.8888888888888888,
              "#fdca26"
             ],
             [
              1,
              "#f0f921"
             ]
            ],
            "type": "heatmapgl"
           }
          ],
          "histogram": [
           {
            "marker": {
             "pattern": {
              "fillmode": "overlay",
              "size": 10,
              "solidity": 0.2
             }
            },
            "type": "histogram"
           }
          ],
          "histogram2d": [
           {
            "colorbar": {
             "outlinewidth": 0,
             "ticks": ""
            },
            "colorscale": [
             [
              0,
              "#0d0887"
             ],
             [
              0.1111111111111111,
              "#46039f"
             ],
             [
              0.2222222222222222,
              "#7201a8"
             ],
             [
              0.3333333333333333,
              "#9c179e"
             ],
             [
              0.4444444444444444,
              "#bd3786"
             ],
             [
              0.5555555555555556,
              "#d8576b"
             ],
             [
              0.6666666666666666,
              "#ed7953"
             ],
             [
              0.7777777777777778,
              "#fb9f3a"
             ],
             [
              0.8888888888888888,
              "#fdca26"
             ],
             [
              1,
              "#f0f921"
             ]
            ],
            "type": "histogram2d"
           }
          ],
          "histogram2dcontour": [
           {
            "colorbar": {
             "outlinewidth": 0,
             "ticks": ""
            },
            "colorscale": [
             [
              0,
              "#0d0887"
             ],
             [
              0.1111111111111111,
              "#46039f"
             ],
             [
              0.2222222222222222,
              "#7201a8"
             ],
             [
              0.3333333333333333,
              "#9c179e"
             ],
             [
              0.4444444444444444,
              "#bd3786"
             ],
             [
              0.5555555555555556,
              "#d8576b"
             ],
             [
              0.6666666666666666,
              "#ed7953"
             ],
             [
              0.7777777777777778,
              "#fb9f3a"
             ],
             [
              0.8888888888888888,
              "#fdca26"
             ],
             [
              1,
              "#f0f921"
             ]
            ],
            "type": "histogram2dcontour"
           }
          ],
          "mesh3d": [
           {
            "colorbar": {
             "outlinewidth": 0,
             "ticks": ""
            },
            "type": "mesh3d"
           }
          ],
          "parcoords": [
           {
            "line": {
             "colorbar": {
              "outlinewidth": 0,
              "ticks": ""
             }
            },
            "type": "parcoords"
           }
          ],
          "pie": [
           {
            "automargin": true,
            "type": "pie"
           }
          ],
          "scatter": [
           {
            "marker": {
             "colorbar": {
              "outlinewidth": 0,
              "ticks": ""
             }
            },
            "type": "scatter"
           }
          ],
          "scatter3d": [
           {
            "line": {
             "colorbar": {
              "outlinewidth": 0,
              "ticks": ""
             }
            },
            "marker": {
             "colorbar": {
              "outlinewidth": 0,
              "ticks": ""
             }
            },
            "type": "scatter3d"
           }
          ],
          "scattercarpet": [
           {
            "marker": {
             "colorbar": {
              "outlinewidth": 0,
              "ticks": ""
             }
            },
            "type": "scattercarpet"
           }
          ],
          "scattergeo": [
           {
            "marker": {
             "colorbar": {
              "outlinewidth": 0,
              "ticks": ""
             }
            },
            "type": "scattergeo"
           }
          ],
          "scattergl": [
           {
            "marker": {
             "colorbar": {
              "outlinewidth": 0,
              "ticks": ""
             }
            },
            "type": "scattergl"
           }
          ],
          "scattermapbox": [
           {
            "marker": {
             "colorbar": {
              "outlinewidth": 0,
              "ticks": ""
             }
            },
            "type": "scattermapbox"
           }
          ],
          "scatterpolar": [
           {
            "marker": {
             "colorbar": {
              "outlinewidth": 0,
              "ticks": ""
             }
            },
            "type": "scatterpolar"
           }
          ],
          "scatterpolargl": [
           {
            "marker": {
             "colorbar": {
              "outlinewidth": 0,
              "ticks": ""
             }
            },
            "type": "scatterpolargl"
           }
          ],
          "scatterternary": [
           {
            "marker": {
             "colorbar": {
              "outlinewidth": 0,
              "ticks": ""
             }
            },
            "type": "scatterternary"
           }
          ],
          "surface": [
           {
            "colorbar": {
             "outlinewidth": 0,
             "ticks": ""
            },
            "colorscale": [
             [
              0,
              "#0d0887"
             ],
             [
              0.1111111111111111,
              "#46039f"
             ],
             [
              0.2222222222222222,
              "#7201a8"
             ],
             [
              0.3333333333333333,
              "#9c179e"
             ],
             [
              0.4444444444444444,
              "#bd3786"
             ],
             [
              0.5555555555555556,
              "#d8576b"
             ],
             [
              0.6666666666666666,
              "#ed7953"
             ],
             [
              0.7777777777777778,
              "#fb9f3a"
             ],
             [
              0.8888888888888888,
              "#fdca26"
             ],
             [
              1,
              "#f0f921"
             ]
            ],
            "type": "surface"
           }
          ],
          "table": [
           {
            "cells": {
             "fill": {
              "color": "#EBF0F8"
             },
             "line": {
              "color": "white"
             }
            },
            "header": {
             "fill": {
              "color": "#C8D4E3"
             },
             "line": {
              "color": "white"
             }
            },
            "type": "table"
           }
          ]
         },
         "layout": {
          "annotationdefaults": {
           "arrowcolor": "#2a3f5f",
           "arrowhead": 0,
           "arrowwidth": 1
          },
          "autotypenumbers": "strict",
          "coloraxis": {
           "colorbar": {
            "outlinewidth": 0,
            "ticks": ""
           }
          },
          "colorscale": {
           "diverging": [
            [
             0,
             "#8e0152"
            ],
            [
             0.1,
             "#c51b7d"
            ],
            [
             0.2,
             "#de77ae"
            ],
            [
             0.3,
             "#f1b6da"
            ],
            [
             0.4,
             "#fde0ef"
            ],
            [
             0.5,
             "#f7f7f7"
            ],
            [
             0.6,
             "#e6f5d0"
            ],
            [
             0.7,
             "#b8e186"
            ],
            [
             0.8,
             "#7fbc41"
            ],
            [
             0.9,
             "#4d9221"
            ],
            [
             1,
             "#276419"
            ]
           ],
           "sequential": [
            [
             0,
             "#0d0887"
            ],
            [
             0.1111111111111111,
             "#46039f"
            ],
            [
             0.2222222222222222,
             "#7201a8"
            ],
            [
             0.3333333333333333,
             "#9c179e"
            ],
            [
             0.4444444444444444,
             "#bd3786"
            ],
            [
             0.5555555555555556,
             "#d8576b"
            ],
            [
             0.6666666666666666,
             "#ed7953"
            ],
            [
             0.7777777777777778,
             "#fb9f3a"
            ],
            [
             0.8888888888888888,
             "#fdca26"
            ],
            [
             1,
             "#f0f921"
            ]
           ],
           "sequentialminus": [
            [
             0,
             "#0d0887"
            ],
            [
             0.1111111111111111,
             "#46039f"
            ],
            [
             0.2222222222222222,
             "#7201a8"
            ],
            [
             0.3333333333333333,
             "#9c179e"
            ],
            [
             0.4444444444444444,
             "#bd3786"
            ],
            [
             0.5555555555555556,
             "#d8576b"
            ],
            [
             0.6666666666666666,
             "#ed7953"
            ],
            [
             0.7777777777777778,
             "#fb9f3a"
            ],
            [
             0.8888888888888888,
             "#fdca26"
            ],
            [
             1,
             "#f0f921"
            ]
           ]
          },
          "colorway": [
           "#636efa",
           "#EF553B",
           "#00cc96",
           "#ab63fa",
           "#FFA15A",
           "#19d3f3",
           "#FF6692",
           "#B6E880",
           "#FF97FF",
           "#FECB52"
          ],
          "font": {
           "color": "#2a3f5f"
          },
          "geo": {
           "bgcolor": "white",
           "lakecolor": "white",
           "landcolor": "#E5ECF6",
           "showlakes": true,
           "showland": true,
           "subunitcolor": "white"
          },
          "hoverlabel": {
           "align": "left"
          },
          "hovermode": "closest",
          "mapbox": {
           "style": "light"
          },
          "paper_bgcolor": "white",
          "plot_bgcolor": "#E5ECF6",
          "polar": {
           "angularaxis": {
            "gridcolor": "white",
            "linecolor": "white",
            "ticks": ""
           },
           "bgcolor": "#E5ECF6",
           "radialaxis": {
            "gridcolor": "white",
            "linecolor": "white",
            "ticks": ""
           }
          },
          "scene": {
           "xaxis": {
            "backgroundcolor": "#E5ECF6",
            "gridcolor": "white",
            "gridwidth": 2,
            "linecolor": "white",
            "showbackground": true,
            "ticks": "",
            "zerolinecolor": "white"
           },
           "yaxis": {
            "backgroundcolor": "#E5ECF6",
            "gridcolor": "white",
            "gridwidth": 2,
            "linecolor": "white",
            "showbackground": true,
            "ticks": "",
            "zerolinecolor": "white"
           },
           "zaxis": {
            "backgroundcolor": "#E5ECF6",
            "gridcolor": "white",
            "gridwidth": 2,
            "linecolor": "white",
            "showbackground": true,
            "ticks": "",
            "zerolinecolor": "white"
           }
          },
          "shapedefaults": {
           "line": {
            "color": "#2a3f5f"
           }
          },
          "ternary": {
           "aaxis": {
            "gridcolor": "white",
            "linecolor": "white",
            "ticks": ""
           },
           "baxis": {
            "gridcolor": "white",
            "linecolor": "white",
            "ticks": ""
           },
           "bgcolor": "#E5ECF6",
           "caxis": {
            "gridcolor": "white",
            "linecolor": "white",
            "ticks": ""
           }
          },
          "title": {
           "x": 0.05
          },
          "xaxis": {
           "automargin": true,
           "gridcolor": "white",
           "linecolor": "white",
           "ticks": "",
           "title": {
            "standoff": 15
           },
           "zerolinecolor": "white",
           "zerolinewidth": 2
          },
          "yaxis": {
           "automargin": true,
           "gridcolor": "white",
           "linecolor": "white",
           "ticks": "",
           "title": {
            "standoff": 15
           },
           "zerolinecolor": "white",
           "zerolinewidth": 2
          }
         }
        },
        "title": {
         "font": {
          "color": "#4D5663"
         }
        },
        "xaxis": {
         "gridcolor": "#E1E5ED",
         "showgrid": true,
         "tickfont": {
          "color": "#4D5663"
         },
         "title": {
          "font": {
           "color": "#4D5663"
          },
          "text": ""
         },
         "zerolinecolor": "#E1E5ED"
        },
        "yaxis": {
         "gridcolor": "#E1E5ED",
         "showgrid": true,
         "tickfont": {
          "color": "#4D5663"
         },
         "title": {
          "font": {
           "color": "#4D5663"
          },
          "text": ""
         },
         "zerolinecolor": "#E1E5ED"
        }
       }
      },
      "text/html": [
       "<div>                            <div id=\"2fe1d907-d9fb-4e30-b517-cb2b3f781b73\" class=\"plotly-graph-div\" style=\"height:525px; width:100%;\"></div>            <script type=\"text/javascript\">                require([\"plotly\"], function(Plotly) {                    window.PLOTLYENV=window.PLOTLYENV || {};\n",
       "                    window.PLOTLYENV.BASE_URL='https://plot.ly';                                    if (document.getElementById(\"2fe1d907-d9fb-4e30-b517-cb2b3f781b73\")) {                    Plotly.newPlot(                        \"2fe1d907-d9fb-4e30-b517-cb2b3f781b73\",                        [{\"marker\":{\"color\":\"rgba(255, 153, 51, 0.6)\",\"line\":{\"color\":\"rgba(255, 153, 51, 1.0)\",\"width\":1}},\"name\":\"Values\",\"orientation\":\"v\",\"text\":\"\",\"x\":[\"A\",\"B\",\"C\"],\"y\":[32,43,50],\"type\":\"bar\"}],                        {\"legend\":{\"bgcolor\":\"#F5F6F9\",\"font\":{\"color\":\"#4D5663\"}},\"paper_bgcolor\":\"#F5F6F9\",\"plot_bgcolor\":\"#F5F6F9\",\"template\":{\"data\":{\"barpolar\":[{\"marker\":{\"line\":{\"color\":\"#E5ECF6\",\"width\":0.5},\"pattern\":{\"fillmode\":\"overlay\",\"size\":10,\"solidity\":0.2}},\"type\":\"barpolar\"}],\"bar\":[{\"error_x\":{\"color\":\"#2a3f5f\"},\"error_y\":{\"color\":\"#2a3f5f\"},\"marker\":{\"line\":{\"color\":\"#E5ECF6\",\"width\":0.5},\"pattern\":{\"fillmode\":\"overlay\",\"size\":10,\"solidity\":0.2}},\"type\":\"bar\"}],\"carpet\":[{\"aaxis\":{\"endlinecolor\":\"#2a3f5f\",\"gridcolor\":\"white\",\"linecolor\":\"white\",\"minorgridcolor\":\"white\",\"startlinecolor\":\"#2a3f5f\"},\"baxis\":{\"endlinecolor\":\"#2a3f5f\",\"gridcolor\":\"white\",\"linecolor\":\"white\",\"minorgridcolor\":\"white\",\"startlinecolor\":\"#2a3f5f\"},\"type\":\"carpet\"}],\"choropleth\":[{\"colorbar\":{\"outlinewidth\":0,\"ticks\":\"\"},\"type\":\"choropleth\"}],\"contourcarpet\":[{\"colorbar\":{\"outlinewidth\":0,\"ticks\":\"\"},\"type\":\"contourcarpet\"}],\"contour\":[{\"colorbar\":{\"outlinewidth\":0,\"ticks\":\"\"},\"colorscale\":[[0.0,\"#0d0887\"],[0.1111111111111111,\"#46039f\"],[0.2222222222222222,\"#7201a8\"],[0.3333333333333333,\"#9c179e\"],[0.4444444444444444,\"#bd3786\"],[0.5555555555555556,\"#d8576b\"],[0.6666666666666666,\"#ed7953\"],[0.7777777777777778,\"#fb9f3a\"],[0.8888888888888888,\"#fdca26\"],[1.0,\"#f0f921\"]],\"type\":\"contour\"}],\"heatmapgl\":[{\"colorbar\":{\"outlinewidth\":0,\"ticks\":\"\"},\"colorscale\":[[0.0,\"#0d0887\"],[0.1111111111111111,\"#46039f\"],[0.2222222222222222,\"#7201a8\"],[0.3333333333333333,\"#9c179e\"],[0.4444444444444444,\"#bd3786\"],[0.5555555555555556,\"#d8576b\"],[0.6666666666666666,\"#ed7953\"],[0.7777777777777778,\"#fb9f3a\"],[0.8888888888888888,\"#fdca26\"],[1.0,\"#f0f921\"]],\"type\":\"heatmapgl\"}],\"heatmap\":[{\"colorbar\":{\"outlinewidth\":0,\"ticks\":\"\"},\"colorscale\":[[0.0,\"#0d0887\"],[0.1111111111111111,\"#46039f\"],[0.2222222222222222,\"#7201a8\"],[0.3333333333333333,\"#9c179e\"],[0.4444444444444444,\"#bd3786\"],[0.5555555555555556,\"#d8576b\"],[0.6666666666666666,\"#ed7953\"],[0.7777777777777778,\"#fb9f3a\"],[0.8888888888888888,\"#fdca26\"],[1.0,\"#f0f921\"]],\"type\":\"heatmap\"}],\"histogram2dcontour\":[{\"colorbar\":{\"outlinewidth\":0,\"ticks\":\"\"},\"colorscale\":[[0.0,\"#0d0887\"],[0.1111111111111111,\"#46039f\"],[0.2222222222222222,\"#7201a8\"],[0.3333333333333333,\"#9c179e\"],[0.4444444444444444,\"#bd3786\"],[0.5555555555555556,\"#d8576b\"],[0.6666666666666666,\"#ed7953\"],[0.7777777777777778,\"#fb9f3a\"],[0.8888888888888888,\"#fdca26\"],[1.0,\"#f0f921\"]],\"type\":\"histogram2dcontour\"}],\"histogram2d\":[{\"colorbar\":{\"outlinewidth\":0,\"ticks\":\"\"},\"colorscale\":[[0.0,\"#0d0887\"],[0.1111111111111111,\"#46039f\"],[0.2222222222222222,\"#7201a8\"],[0.3333333333333333,\"#9c179e\"],[0.4444444444444444,\"#bd3786\"],[0.5555555555555556,\"#d8576b\"],[0.6666666666666666,\"#ed7953\"],[0.7777777777777778,\"#fb9f3a\"],[0.8888888888888888,\"#fdca26\"],[1.0,\"#f0f921\"]],\"type\":\"histogram2d\"}],\"histogram\":[{\"marker\":{\"pattern\":{\"fillmode\":\"overlay\",\"size\":10,\"solidity\":0.2}},\"type\":\"histogram\"}],\"mesh3d\":[{\"colorbar\":{\"outlinewidth\":0,\"ticks\":\"\"},\"type\":\"mesh3d\"}],\"parcoords\":[{\"line\":{\"colorbar\":{\"outlinewidth\":0,\"ticks\":\"\"}},\"type\":\"parcoords\"}],\"pie\":[{\"automargin\":true,\"type\":\"pie\"}],\"scatter3d\":[{\"line\":{\"colorbar\":{\"outlinewidth\":0,\"ticks\":\"\"}},\"marker\":{\"colorbar\":{\"outlinewidth\":0,\"ticks\":\"\"}},\"type\":\"scatter3d\"}],\"scattercarpet\":[{\"marker\":{\"colorbar\":{\"outlinewidth\":0,\"ticks\":\"\"}},\"type\":\"scattercarpet\"}],\"scattergeo\":[{\"marker\":{\"colorbar\":{\"outlinewidth\":0,\"ticks\":\"\"}},\"type\":\"scattergeo\"}],\"scattergl\":[{\"marker\":{\"colorbar\":{\"outlinewidth\":0,\"ticks\":\"\"}},\"type\":\"scattergl\"}],\"scattermapbox\":[{\"marker\":{\"colorbar\":{\"outlinewidth\":0,\"ticks\":\"\"}},\"type\":\"scattermapbox\"}],\"scatterpolargl\":[{\"marker\":{\"colorbar\":{\"outlinewidth\":0,\"ticks\":\"\"}},\"type\":\"scatterpolargl\"}],\"scatterpolar\":[{\"marker\":{\"colorbar\":{\"outlinewidth\":0,\"ticks\":\"\"}},\"type\":\"scatterpolar\"}],\"scatter\":[{\"marker\":{\"colorbar\":{\"outlinewidth\":0,\"ticks\":\"\"}},\"type\":\"scatter\"}],\"scatterternary\":[{\"marker\":{\"colorbar\":{\"outlinewidth\":0,\"ticks\":\"\"}},\"type\":\"scatterternary\"}],\"surface\":[{\"colorbar\":{\"outlinewidth\":0,\"ticks\":\"\"},\"colorscale\":[[0.0,\"#0d0887\"],[0.1111111111111111,\"#46039f\"],[0.2222222222222222,\"#7201a8\"],[0.3333333333333333,\"#9c179e\"],[0.4444444444444444,\"#bd3786\"],[0.5555555555555556,\"#d8576b\"],[0.6666666666666666,\"#ed7953\"],[0.7777777777777778,\"#fb9f3a\"],[0.8888888888888888,\"#fdca26\"],[1.0,\"#f0f921\"]],\"type\":\"surface\"}],\"table\":[{\"cells\":{\"fill\":{\"color\":\"#EBF0F8\"},\"line\":{\"color\":\"white\"}},\"header\":{\"fill\":{\"color\":\"#C8D4E3\"},\"line\":{\"color\":\"white\"}},\"type\":\"table\"}]},\"layout\":{\"annotationdefaults\":{\"arrowcolor\":\"#2a3f5f\",\"arrowhead\":0,\"arrowwidth\":1},\"autotypenumbers\":\"strict\",\"coloraxis\":{\"colorbar\":{\"outlinewidth\":0,\"ticks\":\"\"}},\"colorscale\":{\"diverging\":[[0,\"#8e0152\"],[0.1,\"#c51b7d\"],[0.2,\"#de77ae\"],[0.3,\"#f1b6da\"],[0.4,\"#fde0ef\"],[0.5,\"#f7f7f7\"],[0.6,\"#e6f5d0\"],[0.7,\"#b8e186\"],[0.8,\"#7fbc41\"],[0.9,\"#4d9221\"],[1,\"#276419\"]],\"sequential\":[[0.0,\"#0d0887\"],[0.1111111111111111,\"#46039f\"],[0.2222222222222222,\"#7201a8\"],[0.3333333333333333,\"#9c179e\"],[0.4444444444444444,\"#bd3786\"],[0.5555555555555556,\"#d8576b\"],[0.6666666666666666,\"#ed7953\"],[0.7777777777777778,\"#fb9f3a\"],[0.8888888888888888,\"#fdca26\"],[1.0,\"#f0f921\"]],\"sequentialminus\":[[0.0,\"#0d0887\"],[0.1111111111111111,\"#46039f\"],[0.2222222222222222,\"#7201a8\"],[0.3333333333333333,\"#9c179e\"],[0.4444444444444444,\"#bd3786\"],[0.5555555555555556,\"#d8576b\"],[0.6666666666666666,\"#ed7953\"],[0.7777777777777778,\"#fb9f3a\"],[0.8888888888888888,\"#fdca26\"],[1.0,\"#f0f921\"]]},\"colorway\":[\"#636efa\",\"#EF553B\",\"#00cc96\",\"#ab63fa\",\"#FFA15A\",\"#19d3f3\",\"#FF6692\",\"#B6E880\",\"#FF97FF\",\"#FECB52\"],\"font\":{\"color\":\"#2a3f5f\"},\"geo\":{\"bgcolor\":\"white\",\"lakecolor\":\"white\",\"landcolor\":\"#E5ECF6\",\"showlakes\":true,\"showland\":true,\"subunitcolor\":\"white\"},\"hoverlabel\":{\"align\":\"left\"},\"hovermode\":\"closest\",\"mapbox\":{\"style\":\"light\"},\"paper_bgcolor\":\"white\",\"plot_bgcolor\":\"#E5ECF6\",\"polar\":{\"angularaxis\":{\"gridcolor\":\"white\",\"linecolor\":\"white\",\"ticks\":\"\"},\"bgcolor\":\"#E5ECF6\",\"radialaxis\":{\"gridcolor\":\"white\",\"linecolor\":\"white\",\"ticks\":\"\"}},\"scene\":{\"xaxis\":{\"backgroundcolor\":\"#E5ECF6\",\"gridcolor\":\"white\",\"gridwidth\":2,\"linecolor\":\"white\",\"showbackground\":true,\"ticks\":\"\",\"zerolinecolor\":\"white\"},\"yaxis\":{\"backgroundcolor\":\"#E5ECF6\",\"gridcolor\":\"white\",\"gridwidth\":2,\"linecolor\":\"white\",\"showbackground\":true,\"ticks\":\"\",\"zerolinecolor\":\"white\"},\"zaxis\":{\"backgroundcolor\":\"#E5ECF6\",\"gridcolor\":\"white\",\"gridwidth\":2,\"linecolor\":\"white\",\"showbackground\":true,\"ticks\":\"\",\"zerolinecolor\":\"white\"}},\"shapedefaults\":{\"line\":{\"color\":\"#2a3f5f\"}},\"ternary\":{\"aaxis\":{\"gridcolor\":\"white\",\"linecolor\":\"white\",\"ticks\":\"\"},\"baxis\":{\"gridcolor\":\"white\",\"linecolor\":\"white\",\"ticks\":\"\"},\"bgcolor\":\"#E5ECF6\",\"caxis\":{\"gridcolor\":\"white\",\"linecolor\":\"white\",\"ticks\":\"\"}},\"title\":{\"x\":0.05},\"xaxis\":{\"automargin\":true,\"gridcolor\":\"white\",\"linecolor\":\"white\",\"ticks\":\"\",\"title\":{\"standoff\":15},\"zerolinecolor\":\"white\",\"zerolinewidth\":2},\"yaxis\":{\"automargin\":true,\"gridcolor\":\"white\",\"linecolor\":\"white\",\"ticks\":\"\",\"title\":{\"standoff\":15},\"zerolinecolor\":\"white\",\"zerolinewidth\":2}}},\"title\":{\"font\":{\"color\":\"#4D5663\"}},\"xaxis\":{\"gridcolor\":\"#E1E5ED\",\"showgrid\":true,\"tickfont\":{\"color\":\"#4D5663\"},\"title\":{\"font\":{\"color\":\"#4D5663\"},\"text\":\"\"},\"zerolinecolor\":\"#E1E5ED\"},\"yaxis\":{\"gridcolor\":\"#E1E5ED\",\"showgrid\":true,\"tickfont\":{\"color\":\"#4D5663\"},\"title\":{\"font\":{\"color\":\"#4D5663\"},\"text\":\"\"},\"zerolinecolor\":\"#E1E5ED\"}},                        {\"showLink\": true, \"linkText\": \"Export to plot.ly\", \"plotlyServerURL\": \"https://plot.ly\", \"responsive\": true}                    ).then(function(){\n",
       "                            \n",
       "var gd = document.getElementById('2fe1d907-d9fb-4e30-b517-cb2b3f781b73');\n",
       "var x = new MutationObserver(function (mutations, observer) {{\n",
       "        var display = window.getComputedStyle(gd).display;\n",
       "        if (!display || display === 'none') {{\n",
       "            console.log([gd, 'removed!']);\n",
       "            Plotly.purge(gd);\n",
       "            observer.disconnect();\n",
       "        }}\n",
       "}});\n",
       "\n",
       "// Listen for the removal of the full notebook cells\n",
       "var notebookContainer = gd.closest('#notebook-container');\n",
       "if (notebookContainer) {{\n",
       "    x.observe(notebookContainer, {childList: true});\n",
       "}}\n",
       "\n",
       "// Listen for the clearing of the current output cell\n",
       "var outputEl = gd.closest('.output');\n",
       "if (outputEl) {{\n",
       "    x.observe(outputEl, {childList: true});\n",
       "}}\n",
       "\n",
       "                        })                };                });            </script>        </div>"
      ]
     },
     "metadata": {},
     "output_type": "display_data"
    }
   ],
   "source": [
    "df2.iplot(kind='bar',x='Category',y='Values')"
   ]
  },
  {
   "cell_type": "code",
   "execution_count": 20,
   "metadata": {},
   "outputs": [
    {
     "data": {
      "application/vnd.plotly.v1+json": {
       "config": {
        "linkText": "Export to plot.ly",
        "plotlyServerURL": "https://plot.ly",
        "showLink": true
       },
       "data": [
        {
         "marker": {
          "color": "rgba(255, 153, 51, 0.6)",
          "line": {
           "color": "rgba(255, 153, 51, 1.0)",
           "width": 1
          }
         },
         "name": "None",
         "orientation": "v",
         "text": "",
         "type": "bar",
         "x": [
          "A",
          "B",
          "C",
          "D"
         ],
         "y": [
          100,
          100,
          100,
          100
         ]
        }
       ],
       "layout": {
        "legend": {
         "bgcolor": "#F5F6F9",
         "font": {
          "color": "#4D5663"
         }
        },
        "paper_bgcolor": "#F5F6F9",
        "plot_bgcolor": "#F5F6F9",
        "template": {
         "data": {
          "bar": [
           {
            "error_x": {
             "color": "#2a3f5f"
            },
            "error_y": {
             "color": "#2a3f5f"
            },
            "marker": {
             "line": {
              "color": "#E5ECF6",
              "width": 0.5
             },
             "pattern": {
              "fillmode": "overlay",
              "size": 10,
              "solidity": 0.2
             }
            },
            "type": "bar"
           }
          ],
          "barpolar": [
           {
            "marker": {
             "line": {
              "color": "#E5ECF6",
              "width": 0.5
             },
             "pattern": {
              "fillmode": "overlay",
              "size": 10,
              "solidity": 0.2
             }
            },
            "type": "barpolar"
           }
          ],
          "carpet": [
           {
            "aaxis": {
             "endlinecolor": "#2a3f5f",
             "gridcolor": "white",
             "linecolor": "white",
             "minorgridcolor": "white",
             "startlinecolor": "#2a3f5f"
            },
            "baxis": {
             "endlinecolor": "#2a3f5f",
             "gridcolor": "white",
             "linecolor": "white",
             "minorgridcolor": "white",
             "startlinecolor": "#2a3f5f"
            },
            "type": "carpet"
           }
          ],
          "choropleth": [
           {
            "colorbar": {
             "outlinewidth": 0,
             "ticks": ""
            },
            "type": "choropleth"
           }
          ],
          "contour": [
           {
            "colorbar": {
             "outlinewidth": 0,
             "ticks": ""
            },
            "colorscale": [
             [
              0,
              "#0d0887"
             ],
             [
              0.1111111111111111,
              "#46039f"
             ],
             [
              0.2222222222222222,
              "#7201a8"
             ],
             [
              0.3333333333333333,
              "#9c179e"
             ],
             [
              0.4444444444444444,
              "#bd3786"
             ],
             [
              0.5555555555555556,
              "#d8576b"
             ],
             [
              0.6666666666666666,
              "#ed7953"
             ],
             [
              0.7777777777777778,
              "#fb9f3a"
             ],
             [
              0.8888888888888888,
              "#fdca26"
             ],
             [
              1,
              "#f0f921"
             ]
            ],
            "type": "contour"
           }
          ],
          "contourcarpet": [
           {
            "colorbar": {
             "outlinewidth": 0,
             "ticks": ""
            },
            "type": "contourcarpet"
           }
          ],
          "heatmap": [
           {
            "colorbar": {
             "outlinewidth": 0,
             "ticks": ""
            },
            "colorscale": [
             [
              0,
              "#0d0887"
             ],
             [
              0.1111111111111111,
              "#46039f"
             ],
             [
              0.2222222222222222,
              "#7201a8"
             ],
             [
              0.3333333333333333,
              "#9c179e"
             ],
             [
              0.4444444444444444,
              "#bd3786"
             ],
             [
              0.5555555555555556,
              "#d8576b"
             ],
             [
              0.6666666666666666,
              "#ed7953"
             ],
             [
              0.7777777777777778,
              "#fb9f3a"
             ],
             [
              0.8888888888888888,
              "#fdca26"
             ],
             [
              1,
              "#f0f921"
             ]
            ],
            "type": "heatmap"
           }
          ],
          "heatmapgl": [
           {
            "colorbar": {
             "outlinewidth": 0,
             "ticks": ""
            },
            "colorscale": [
             [
              0,
              "#0d0887"
             ],
             [
              0.1111111111111111,
              "#46039f"
             ],
             [
              0.2222222222222222,
              "#7201a8"
             ],
             [
              0.3333333333333333,
              "#9c179e"
             ],
             [
              0.4444444444444444,
              "#bd3786"
             ],
             [
              0.5555555555555556,
              "#d8576b"
             ],
             [
              0.6666666666666666,
              "#ed7953"
             ],
             [
              0.7777777777777778,
              "#fb9f3a"
             ],
             [
              0.8888888888888888,
              "#fdca26"
             ],
             [
              1,
              "#f0f921"
             ]
            ],
            "type": "heatmapgl"
           }
          ],
          "histogram": [
           {
            "marker": {
             "pattern": {
              "fillmode": "overlay",
              "size": 10,
              "solidity": 0.2
             }
            },
            "type": "histogram"
           }
          ],
          "histogram2d": [
           {
            "colorbar": {
             "outlinewidth": 0,
             "ticks": ""
            },
            "colorscale": [
             [
              0,
              "#0d0887"
             ],
             [
              0.1111111111111111,
              "#46039f"
             ],
             [
              0.2222222222222222,
              "#7201a8"
             ],
             [
              0.3333333333333333,
              "#9c179e"
             ],
             [
              0.4444444444444444,
              "#bd3786"
             ],
             [
              0.5555555555555556,
              "#d8576b"
             ],
             [
              0.6666666666666666,
              "#ed7953"
             ],
             [
              0.7777777777777778,
              "#fb9f3a"
             ],
             [
              0.8888888888888888,
              "#fdca26"
             ],
             [
              1,
              "#f0f921"
             ]
            ],
            "type": "histogram2d"
           }
          ],
          "histogram2dcontour": [
           {
            "colorbar": {
             "outlinewidth": 0,
             "ticks": ""
            },
            "colorscale": [
             [
              0,
              "#0d0887"
             ],
             [
              0.1111111111111111,
              "#46039f"
             ],
             [
              0.2222222222222222,
              "#7201a8"
             ],
             [
              0.3333333333333333,
              "#9c179e"
             ],
             [
              0.4444444444444444,
              "#bd3786"
             ],
             [
              0.5555555555555556,
              "#d8576b"
             ],
             [
              0.6666666666666666,
              "#ed7953"
             ],
             [
              0.7777777777777778,
              "#fb9f3a"
             ],
             [
              0.8888888888888888,
              "#fdca26"
             ],
             [
              1,
              "#f0f921"
             ]
            ],
            "type": "histogram2dcontour"
           }
          ],
          "mesh3d": [
           {
            "colorbar": {
             "outlinewidth": 0,
             "ticks": ""
            },
            "type": "mesh3d"
           }
          ],
          "parcoords": [
           {
            "line": {
             "colorbar": {
              "outlinewidth": 0,
              "ticks": ""
             }
            },
            "type": "parcoords"
           }
          ],
          "pie": [
           {
            "automargin": true,
            "type": "pie"
           }
          ],
          "scatter": [
           {
            "marker": {
             "colorbar": {
              "outlinewidth": 0,
              "ticks": ""
             }
            },
            "type": "scatter"
           }
          ],
          "scatter3d": [
           {
            "line": {
             "colorbar": {
              "outlinewidth": 0,
              "ticks": ""
             }
            },
            "marker": {
             "colorbar": {
              "outlinewidth": 0,
              "ticks": ""
             }
            },
            "type": "scatter3d"
           }
          ],
          "scattercarpet": [
           {
            "marker": {
             "colorbar": {
              "outlinewidth": 0,
              "ticks": ""
             }
            },
            "type": "scattercarpet"
           }
          ],
          "scattergeo": [
           {
            "marker": {
             "colorbar": {
              "outlinewidth": 0,
              "ticks": ""
             }
            },
            "type": "scattergeo"
           }
          ],
          "scattergl": [
           {
            "marker": {
             "colorbar": {
              "outlinewidth": 0,
              "ticks": ""
             }
            },
            "type": "scattergl"
           }
          ],
          "scattermapbox": [
           {
            "marker": {
             "colorbar": {
              "outlinewidth": 0,
              "ticks": ""
             }
            },
            "type": "scattermapbox"
           }
          ],
          "scatterpolar": [
           {
            "marker": {
             "colorbar": {
              "outlinewidth": 0,
              "ticks": ""
             }
            },
            "type": "scatterpolar"
           }
          ],
          "scatterpolargl": [
           {
            "marker": {
             "colorbar": {
              "outlinewidth": 0,
              "ticks": ""
             }
            },
            "type": "scatterpolargl"
           }
          ],
          "scatterternary": [
           {
            "marker": {
             "colorbar": {
              "outlinewidth": 0,
              "ticks": ""
             }
            },
            "type": "scatterternary"
           }
          ],
          "surface": [
           {
            "colorbar": {
             "outlinewidth": 0,
             "ticks": ""
            },
            "colorscale": [
             [
              0,
              "#0d0887"
             ],
             [
              0.1111111111111111,
              "#46039f"
             ],
             [
              0.2222222222222222,
              "#7201a8"
             ],
             [
              0.3333333333333333,
              "#9c179e"
             ],
             [
              0.4444444444444444,
              "#bd3786"
             ],
             [
              0.5555555555555556,
              "#d8576b"
             ],
             [
              0.6666666666666666,
              "#ed7953"
             ],
             [
              0.7777777777777778,
              "#fb9f3a"
             ],
             [
              0.8888888888888888,
              "#fdca26"
             ],
             [
              1,
              "#f0f921"
             ]
            ],
            "type": "surface"
           }
          ],
          "table": [
           {
            "cells": {
             "fill": {
              "color": "#EBF0F8"
             },
             "line": {
              "color": "white"
             }
            },
            "header": {
             "fill": {
              "color": "#C8D4E3"
             },
             "line": {
              "color": "white"
             }
            },
            "type": "table"
           }
          ]
         },
         "layout": {
          "annotationdefaults": {
           "arrowcolor": "#2a3f5f",
           "arrowhead": 0,
           "arrowwidth": 1
          },
          "autotypenumbers": "strict",
          "coloraxis": {
           "colorbar": {
            "outlinewidth": 0,
            "ticks": ""
           }
          },
          "colorscale": {
           "diverging": [
            [
             0,
             "#8e0152"
            ],
            [
             0.1,
             "#c51b7d"
            ],
            [
             0.2,
             "#de77ae"
            ],
            [
             0.3,
             "#f1b6da"
            ],
            [
             0.4,
             "#fde0ef"
            ],
            [
             0.5,
             "#f7f7f7"
            ],
            [
             0.6,
             "#e6f5d0"
            ],
            [
             0.7,
             "#b8e186"
            ],
            [
             0.8,
             "#7fbc41"
            ],
            [
             0.9,
             "#4d9221"
            ],
            [
             1,
             "#276419"
            ]
           ],
           "sequential": [
            [
             0,
             "#0d0887"
            ],
            [
             0.1111111111111111,
             "#46039f"
            ],
            [
             0.2222222222222222,
             "#7201a8"
            ],
            [
             0.3333333333333333,
             "#9c179e"
            ],
            [
             0.4444444444444444,
             "#bd3786"
            ],
            [
             0.5555555555555556,
             "#d8576b"
            ],
            [
             0.6666666666666666,
             "#ed7953"
            ],
            [
             0.7777777777777778,
             "#fb9f3a"
            ],
            [
             0.8888888888888888,
             "#fdca26"
            ],
            [
             1,
             "#f0f921"
            ]
           ],
           "sequentialminus": [
            [
             0,
             "#0d0887"
            ],
            [
             0.1111111111111111,
             "#46039f"
            ],
            [
             0.2222222222222222,
             "#7201a8"
            ],
            [
             0.3333333333333333,
             "#9c179e"
            ],
            [
             0.4444444444444444,
             "#bd3786"
            ],
            [
             0.5555555555555556,
             "#d8576b"
            ],
            [
             0.6666666666666666,
             "#ed7953"
            ],
            [
             0.7777777777777778,
             "#fb9f3a"
            ],
            [
             0.8888888888888888,
             "#fdca26"
            ],
            [
             1,
             "#f0f921"
            ]
           ]
          },
          "colorway": [
           "#636efa",
           "#EF553B",
           "#00cc96",
           "#ab63fa",
           "#FFA15A",
           "#19d3f3",
           "#FF6692",
           "#B6E880",
           "#FF97FF",
           "#FECB52"
          ],
          "font": {
           "color": "#2a3f5f"
          },
          "geo": {
           "bgcolor": "white",
           "lakecolor": "white",
           "landcolor": "#E5ECF6",
           "showlakes": true,
           "showland": true,
           "subunitcolor": "white"
          },
          "hoverlabel": {
           "align": "left"
          },
          "hovermode": "closest",
          "mapbox": {
           "style": "light"
          },
          "paper_bgcolor": "white",
          "plot_bgcolor": "#E5ECF6",
          "polar": {
           "angularaxis": {
            "gridcolor": "white",
            "linecolor": "white",
            "ticks": ""
           },
           "bgcolor": "#E5ECF6",
           "radialaxis": {
            "gridcolor": "white",
            "linecolor": "white",
            "ticks": ""
           }
          },
          "scene": {
           "xaxis": {
            "backgroundcolor": "#E5ECF6",
            "gridcolor": "white",
            "gridwidth": 2,
            "linecolor": "white",
            "showbackground": true,
            "ticks": "",
            "zerolinecolor": "white"
           },
           "yaxis": {
            "backgroundcolor": "#E5ECF6",
            "gridcolor": "white",
            "gridwidth": 2,
            "linecolor": "white",
            "showbackground": true,
            "ticks": "",
            "zerolinecolor": "white"
           },
           "zaxis": {
            "backgroundcolor": "#E5ECF6",
            "gridcolor": "white",
            "gridwidth": 2,
            "linecolor": "white",
            "showbackground": true,
            "ticks": "",
            "zerolinecolor": "white"
           }
          },
          "shapedefaults": {
           "line": {
            "color": "#2a3f5f"
           }
          },
          "ternary": {
           "aaxis": {
            "gridcolor": "white",
            "linecolor": "white",
            "ticks": ""
           },
           "baxis": {
            "gridcolor": "white",
            "linecolor": "white",
            "ticks": ""
           },
           "bgcolor": "#E5ECF6",
           "caxis": {
            "gridcolor": "white",
            "linecolor": "white",
            "ticks": ""
           }
          },
          "title": {
           "x": 0.05
          },
          "xaxis": {
           "automargin": true,
           "gridcolor": "white",
           "linecolor": "white",
           "ticks": "",
           "title": {
            "standoff": 15
           },
           "zerolinecolor": "white",
           "zerolinewidth": 2
          },
          "yaxis": {
           "automargin": true,
           "gridcolor": "white",
           "linecolor": "white",
           "ticks": "",
           "title": {
            "standoff": 15
           },
           "zerolinecolor": "white",
           "zerolinewidth": 2
          }
         }
        },
        "title": {
         "font": {
          "color": "#4D5663"
         }
        },
        "xaxis": {
         "gridcolor": "#E1E5ED",
         "showgrid": true,
         "tickfont": {
          "color": "#4D5663"
         },
         "title": {
          "font": {
           "color": "#4D5663"
          },
          "text": ""
         },
         "zerolinecolor": "#E1E5ED"
        },
        "yaxis": {
         "gridcolor": "#E1E5ED",
         "showgrid": true,
         "tickfont": {
          "color": "#4D5663"
         },
         "title": {
          "font": {
           "color": "#4D5663"
          },
          "text": ""
         },
         "zerolinecolor": "#E1E5ED"
        }
       }
      },
      "text/html": [
       "<div>                            <div id=\"b038b3d4-8557-47fd-a24e-92092bf053fb\" class=\"plotly-graph-div\" style=\"height:525px; width:100%;\"></div>            <script type=\"text/javascript\">                require([\"plotly\"], function(Plotly) {                    window.PLOTLYENV=window.PLOTLYENV || {};\n",
       "                    window.PLOTLYENV.BASE_URL='https://plot.ly';                                    if (document.getElementById(\"b038b3d4-8557-47fd-a24e-92092bf053fb\")) {                    Plotly.newPlot(                        \"b038b3d4-8557-47fd-a24e-92092bf053fb\",                        [{\"marker\":{\"color\":\"rgba(255, 153, 51, 0.6)\",\"line\":{\"color\":\"rgba(255, 153, 51, 1.0)\",\"width\":1}},\"name\":\"None\",\"orientation\":\"v\",\"text\":\"\",\"x\":[\"A\",\"B\",\"C\",\"D\"],\"y\":[100,100,100,100],\"type\":\"bar\"}],                        {\"legend\":{\"bgcolor\":\"#F5F6F9\",\"font\":{\"color\":\"#4D5663\"}},\"paper_bgcolor\":\"#F5F6F9\",\"plot_bgcolor\":\"#F5F6F9\",\"template\":{\"data\":{\"barpolar\":[{\"marker\":{\"line\":{\"color\":\"#E5ECF6\",\"width\":0.5},\"pattern\":{\"fillmode\":\"overlay\",\"size\":10,\"solidity\":0.2}},\"type\":\"barpolar\"}],\"bar\":[{\"error_x\":{\"color\":\"#2a3f5f\"},\"error_y\":{\"color\":\"#2a3f5f\"},\"marker\":{\"line\":{\"color\":\"#E5ECF6\",\"width\":0.5},\"pattern\":{\"fillmode\":\"overlay\",\"size\":10,\"solidity\":0.2}},\"type\":\"bar\"}],\"carpet\":[{\"aaxis\":{\"endlinecolor\":\"#2a3f5f\",\"gridcolor\":\"white\",\"linecolor\":\"white\",\"minorgridcolor\":\"white\",\"startlinecolor\":\"#2a3f5f\"},\"baxis\":{\"endlinecolor\":\"#2a3f5f\",\"gridcolor\":\"white\",\"linecolor\":\"white\",\"minorgridcolor\":\"white\",\"startlinecolor\":\"#2a3f5f\"},\"type\":\"carpet\"}],\"choropleth\":[{\"colorbar\":{\"outlinewidth\":0,\"ticks\":\"\"},\"type\":\"choropleth\"}],\"contourcarpet\":[{\"colorbar\":{\"outlinewidth\":0,\"ticks\":\"\"},\"type\":\"contourcarpet\"}],\"contour\":[{\"colorbar\":{\"outlinewidth\":0,\"ticks\":\"\"},\"colorscale\":[[0.0,\"#0d0887\"],[0.1111111111111111,\"#46039f\"],[0.2222222222222222,\"#7201a8\"],[0.3333333333333333,\"#9c179e\"],[0.4444444444444444,\"#bd3786\"],[0.5555555555555556,\"#d8576b\"],[0.6666666666666666,\"#ed7953\"],[0.7777777777777778,\"#fb9f3a\"],[0.8888888888888888,\"#fdca26\"],[1.0,\"#f0f921\"]],\"type\":\"contour\"}],\"heatmapgl\":[{\"colorbar\":{\"outlinewidth\":0,\"ticks\":\"\"},\"colorscale\":[[0.0,\"#0d0887\"],[0.1111111111111111,\"#46039f\"],[0.2222222222222222,\"#7201a8\"],[0.3333333333333333,\"#9c179e\"],[0.4444444444444444,\"#bd3786\"],[0.5555555555555556,\"#d8576b\"],[0.6666666666666666,\"#ed7953\"],[0.7777777777777778,\"#fb9f3a\"],[0.8888888888888888,\"#fdca26\"],[1.0,\"#f0f921\"]],\"type\":\"heatmapgl\"}],\"heatmap\":[{\"colorbar\":{\"outlinewidth\":0,\"ticks\":\"\"},\"colorscale\":[[0.0,\"#0d0887\"],[0.1111111111111111,\"#46039f\"],[0.2222222222222222,\"#7201a8\"],[0.3333333333333333,\"#9c179e\"],[0.4444444444444444,\"#bd3786\"],[0.5555555555555556,\"#d8576b\"],[0.6666666666666666,\"#ed7953\"],[0.7777777777777778,\"#fb9f3a\"],[0.8888888888888888,\"#fdca26\"],[1.0,\"#f0f921\"]],\"type\":\"heatmap\"}],\"histogram2dcontour\":[{\"colorbar\":{\"outlinewidth\":0,\"ticks\":\"\"},\"colorscale\":[[0.0,\"#0d0887\"],[0.1111111111111111,\"#46039f\"],[0.2222222222222222,\"#7201a8\"],[0.3333333333333333,\"#9c179e\"],[0.4444444444444444,\"#bd3786\"],[0.5555555555555556,\"#d8576b\"],[0.6666666666666666,\"#ed7953\"],[0.7777777777777778,\"#fb9f3a\"],[0.8888888888888888,\"#fdca26\"],[1.0,\"#f0f921\"]],\"type\":\"histogram2dcontour\"}],\"histogram2d\":[{\"colorbar\":{\"outlinewidth\":0,\"ticks\":\"\"},\"colorscale\":[[0.0,\"#0d0887\"],[0.1111111111111111,\"#46039f\"],[0.2222222222222222,\"#7201a8\"],[0.3333333333333333,\"#9c179e\"],[0.4444444444444444,\"#bd3786\"],[0.5555555555555556,\"#d8576b\"],[0.6666666666666666,\"#ed7953\"],[0.7777777777777778,\"#fb9f3a\"],[0.8888888888888888,\"#fdca26\"],[1.0,\"#f0f921\"]],\"type\":\"histogram2d\"}],\"histogram\":[{\"marker\":{\"pattern\":{\"fillmode\":\"overlay\",\"size\":10,\"solidity\":0.2}},\"type\":\"histogram\"}],\"mesh3d\":[{\"colorbar\":{\"outlinewidth\":0,\"ticks\":\"\"},\"type\":\"mesh3d\"}],\"parcoords\":[{\"line\":{\"colorbar\":{\"outlinewidth\":0,\"ticks\":\"\"}},\"type\":\"parcoords\"}],\"pie\":[{\"automargin\":true,\"type\":\"pie\"}],\"scatter3d\":[{\"line\":{\"colorbar\":{\"outlinewidth\":0,\"ticks\":\"\"}},\"marker\":{\"colorbar\":{\"outlinewidth\":0,\"ticks\":\"\"}},\"type\":\"scatter3d\"}],\"scattercarpet\":[{\"marker\":{\"colorbar\":{\"outlinewidth\":0,\"ticks\":\"\"}},\"type\":\"scattercarpet\"}],\"scattergeo\":[{\"marker\":{\"colorbar\":{\"outlinewidth\":0,\"ticks\":\"\"}},\"type\":\"scattergeo\"}],\"scattergl\":[{\"marker\":{\"colorbar\":{\"outlinewidth\":0,\"ticks\":\"\"}},\"type\":\"scattergl\"}],\"scattermapbox\":[{\"marker\":{\"colorbar\":{\"outlinewidth\":0,\"ticks\":\"\"}},\"type\":\"scattermapbox\"}],\"scatterpolargl\":[{\"marker\":{\"colorbar\":{\"outlinewidth\":0,\"ticks\":\"\"}},\"type\":\"scatterpolargl\"}],\"scatterpolar\":[{\"marker\":{\"colorbar\":{\"outlinewidth\":0,\"ticks\":\"\"}},\"type\":\"scatterpolar\"}],\"scatter\":[{\"marker\":{\"colorbar\":{\"outlinewidth\":0,\"ticks\":\"\"}},\"type\":\"scatter\"}],\"scatterternary\":[{\"marker\":{\"colorbar\":{\"outlinewidth\":0,\"ticks\":\"\"}},\"type\":\"scatterternary\"}],\"surface\":[{\"colorbar\":{\"outlinewidth\":0,\"ticks\":\"\"},\"colorscale\":[[0.0,\"#0d0887\"],[0.1111111111111111,\"#46039f\"],[0.2222222222222222,\"#7201a8\"],[0.3333333333333333,\"#9c179e\"],[0.4444444444444444,\"#bd3786\"],[0.5555555555555556,\"#d8576b\"],[0.6666666666666666,\"#ed7953\"],[0.7777777777777778,\"#fb9f3a\"],[0.8888888888888888,\"#fdca26\"],[1.0,\"#f0f921\"]],\"type\":\"surface\"}],\"table\":[{\"cells\":{\"fill\":{\"color\":\"#EBF0F8\"},\"line\":{\"color\":\"white\"}},\"header\":{\"fill\":{\"color\":\"#C8D4E3\"},\"line\":{\"color\":\"white\"}},\"type\":\"table\"}]},\"layout\":{\"annotationdefaults\":{\"arrowcolor\":\"#2a3f5f\",\"arrowhead\":0,\"arrowwidth\":1},\"autotypenumbers\":\"strict\",\"coloraxis\":{\"colorbar\":{\"outlinewidth\":0,\"ticks\":\"\"}},\"colorscale\":{\"diverging\":[[0,\"#8e0152\"],[0.1,\"#c51b7d\"],[0.2,\"#de77ae\"],[0.3,\"#f1b6da\"],[0.4,\"#fde0ef\"],[0.5,\"#f7f7f7\"],[0.6,\"#e6f5d0\"],[0.7,\"#b8e186\"],[0.8,\"#7fbc41\"],[0.9,\"#4d9221\"],[1,\"#276419\"]],\"sequential\":[[0.0,\"#0d0887\"],[0.1111111111111111,\"#46039f\"],[0.2222222222222222,\"#7201a8\"],[0.3333333333333333,\"#9c179e\"],[0.4444444444444444,\"#bd3786\"],[0.5555555555555556,\"#d8576b\"],[0.6666666666666666,\"#ed7953\"],[0.7777777777777778,\"#fb9f3a\"],[0.8888888888888888,\"#fdca26\"],[1.0,\"#f0f921\"]],\"sequentialminus\":[[0.0,\"#0d0887\"],[0.1111111111111111,\"#46039f\"],[0.2222222222222222,\"#7201a8\"],[0.3333333333333333,\"#9c179e\"],[0.4444444444444444,\"#bd3786\"],[0.5555555555555556,\"#d8576b\"],[0.6666666666666666,\"#ed7953\"],[0.7777777777777778,\"#fb9f3a\"],[0.8888888888888888,\"#fdca26\"],[1.0,\"#f0f921\"]]},\"colorway\":[\"#636efa\",\"#EF553B\",\"#00cc96\",\"#ab63fa\",\"#FFA15A\",\"#19d3f3\",\"#FF6692\",\"#B6E880\",\"#FF97FF\",\"#FECB52\"],\"font\":{\"color\":\"#2a3f5f\"},\"geo\":{\"bgcolor\":\"white\",\"lakecolor\":\"white\",\"landcolor\":\"#E5ECF6\",\"showlakes\":true,\"showland\":true,\"subunitcolor\":\"white\"},\"hoverlabel\":{\"align\":\"left\"},\"hovermode\":\"closest\",\"mapbox\":{\"style\":\"light\"},\"paper_bgcolor\":\"white\",\"plot_bgcolor\":\"#E5ECF6\",\"polar\":{\"angularaxis\":{\"gridcolor\":\"white\",\"linecolor\":\"white\",\"ticks\":\"\"},\"bgcolor\":\"#E5ECF6\",\"radialaxis\":{\"gridcolor\":\"white\",\"linecolor\":\"white\",\"ticks\":\"\"}},\"scene\":{\"xaxis\":{\"backgroundcolor\":\"#E5ECF6\",\"gridcolor\":\"white\",\"gridwidth\":2,\"linecolor\":\"white\",\"showbackground\":true,\"ticks\":\"\",\"zerolinecolor\":\"white\"},\"yaxis\":{\"backgroundcolor\":\"#E5ECF6\",\"gridcolor\":\"white\",\"gridwidth\":2,\"linecolor\":\"white\",\"showbackground\":true,\"ticks\":\"\",\"zerolinecolor\":\"white\"},\"zaxis\":{\"backgroundcolor\":\"#E5ECF6\",\"gridcolor\":\"white\",\"gridwidth\":2,\"linecolor\":\"white\",\"showbackground\":true,\"ticks\":\"\",\"zerolinecolor\":\"white\"}},\"shapedefaults\":{\"line\":{\"color\":\"#2a3f5f\"}},\"ternary\":{\"aaxis\":{\"gridcolor\":\"white\",\"linecolor\":\"white\",\"ticks\":\"\"},\"baxis\":{\"gridcolor\":\"white\",\"linecolor\":\"white\",\"ticks\":\"\"},\"bgcolor\":\"#E5ECF6\",\"caxis\":{\"gridcolor\":\"white\",\"linecolor\":\"white\",\"ticks\":\"\"}},\"title\":{\"x\":0.05},\"xaxis\":{\"automargin\":true,\"gridcolor\":\"white\",\"linecolor\":\"white\",\"ticks\":\"\",\"title\":{\"standoff\":15},\"zerolinecolor\":\"white\",\"zerolinewidth\":2},\"yaxis\":{\"automargin\":true,\"gridcolor\":\"white\",\"linecolor\":\"white\",\"ticks\":\"\",\"title\":{\"standoff\":15},\"zerolinecolor\":\"white\",\"zerolinewidth\":2}}},\"title\":{\"font\":{\"color\":\"#4D5663\"}},\"xaxis\":{\"gridcolor\":\"#E1E5ED\",\"showgrid\":true,\"tickfont\":{\"color\":\"#4D5663\"},\"title\":{\"font\":{\"color\":\"#4D5663\"},\"text\":\"\"},\"zerolinecolor\":\"#E1E5ED\"},\"yaxis\":{\"gridcolor\":\"#E1E5ED\",\"showgrid\":true,\"tickfont\":{\"color\":\"#4D5663\"},\"title\":{\"font\":{\"color\":\"#4D5663\"},\"text\":\"\"},\"zerolinecolor\":\"#E1E5ED\"}},                        {\"showLink\": true, \"linkText\": \"Export to plot.ly\", \"plotlyServerURL\": \"https://plot.ly\", \"responsive\": true}                    ).then(function(){\n",
       "                            \n",
       "var gd = document.getElementById('b038b3d4-8557-47fd-a24e-92092bf053fb');\n",
       "var x = new MutationObserver(function (mutations, observer) {{\n",
       "        var display = window.getComputedStyle(gd).display;\n",
       "        if (!display || display === 'none') {{\n",
       "            console.log([gd, 'removed!']);\n",
       "            Plotly.purge(gd);\n",
       "            observer.disconnect();\n",
       "        }}\n",
       "}});\n",
       "\n",
       "// Listen for the removal of the full notebook cells\n",
       "var notebookContainer = gd.closest('#notebook-container');\n",
       "if (notebookContainer) {{\n",
       "    x.observe(notebookContainer, {childList: true});\n",
       "}}\n",
       "\n",
       "// Listen for the clearing of the current output cell\n",
       "var outputEl = gd.closest('.output');\n",
       "if (outputEl) {{\n",
       "    x.observe(outputEl, {childList: true});\n",
       "}}\n",
       "\n",
       "                        })                };                });            </script>        </div>"
      ]
     },
     "metadata": {},
     "output_type": "display_data"
    }
   ],
   "source": [
    "df.count().iplot(kind='bar')"
   ]
  },
  {
   "cell_type": "markdown",
   "metadata": {},
   "source": [
    "## Boxplots"
   ]
  },
  {
   "cell_type": "code",
   "execution_count": 21,
   "metadata": {},
   "outputs": [
    {
     "data": {
      "application/vnd.plotly.v1+json": {
       "config": {
        "linkText": "Export to plot.ly",
        "plotlyServerURL": "https://plot.ly",
        "showLink": true
       },
       "data": [
        {
         "boxpoints": false,
         "line": {
          "width": 1.3
         },
         "marker": {
          "color": "rgba(255, 153, 51, 1.0)"
         },
         "name": "A",
         "orientation": "v",
         "type": "box",
         "y": [
          0.7295363441218393,
          -0.30709735423890133,
          0.492710813594875,
          0.08392566125616459,
          -0.6889455689979118,
          0.5470456033814226,
          -0.59537959593479,
          0.590991782392905,
          0.9972471665249101,
          1.4378882065324756,
          0.11926922188426163,
          -1.6571759958291157,
          0.4487064707697026,
          -2.51301997833897,
          0.6001221119436471,
          -2.731948786259892,
          1.3607099053275447,
          -0.731152267488863,
          -1.3966859085953525,
          0.17378944539031352,
          0.6817597346735718,
          1.1402012726597144,
          0.14349266373328687,
          -0.9377451346394511,
          0.017522155117618125,
          0.3235679464012107,
          0.836983146893619,
          -0.8792559105632725,
          -1.1801754241794296,
          -0.3795826015311692,
          -1.140787877799205,
          -0.7723948304435839,
          -0.5145019292009516,
          0.35609369850632194,
          -1.511771529880759,
          1.3774677496649568,
          -0.16454591236628077,
          -0.20152889220951667,
          -0.8123283332056657,
          0.595491766397253,
          -0.7970370986126426,
          -0.7349886528627032,
          0.6385817620476262,
          -0.1332010168119281,
          -0.6122662727680039,
          -2.4533287444652374,
          -1.2247225198339713,
          -0.25819872800993604,
          -0.37154228878299783,
          1.1548376757268877,
          0.6091866542203763,
          0.4905265364947855,
          1.7151703495190282,
          0.5379372760497011,
          -0.9060239939628344,
          -0.4757653879199119,
          0.7393937868154522,
          -2.2189647639590326,
          0.37041005207702155,
          1.0224887183461624,
          -0.5119055368256046,
          -0.9017925229090039,
          0.1447604829762621,
          -2.422737424208872,
          -0.7930350683984899,
          -1.1868366962480066,
          -2.0569449530090984,
          1.1920114509529198,
          -0.46156730828628,
          -0.719859833789653,
          0.5066864394881544,
          1.473741498165212,
          -1.5954387366714262,
          -0.4782502836781616,
          -0.16444298863396906,
          1.1408405792421255,
          -0.7097825274860883,
          0.7513186713580287,
          0.1339137866817911,
          -1.3011927732441302,
          1.2811633564799318,
          -0.3242821085915659,
          0.6457367692201954,
          0.0031357660336803783,
          0.7701540363029559,
          1.1149898631778379,
          0.25928287776938813,
          1.6665070758153746,
          -1.8969684050518085,
          0.681158307412814,
          -0.45063469387663485,
          1.5622406665206328,
          -0.12734672873637162,
          -0.5040136701566764,
          1.1767269743927373,
          0.618194840212031,
          -0.6238683392746781,
          0.040684028835876136,
          0.49591506198487856,
          0.5402290487669394
         ]
        },
        {
         "boxpoints": false,
         "line": {
          "width": 1.3
         },
         "marker": {
          "color": "rgba(55, 128, 191, 1.0)"
         },
         "name": "B",
         "orientation": "v",
         "type": "box",
         "y": [
          0.5932107040360172,
          0.04753954704139975,
          -0.444048574584182,
          -0.09335676213517706,
          -1.7432026927789257,
          1.0909115353161996,
          0.5971969506321606,
          1.8949064155444952,
          -1.1931694954805152,
          -0.05676690937649937,
          -2.2217498558969324,
          -1.297293680429583,
          -0.021679536036858914,
          0.8916762942133755,
          -0.02348621814267172,
          -1.5786609005306635,
          0.24357246516668982,
          0.010917665382364302,
          0.5571223092510637,
          -1.2475758485667943,
          1.5868744203536709,
          -0.8057521945444989,
          0.7362339481277361,
          0.9477863231294862,
          -0.5995459180209022,
          0.32554867390014314,
          -0.24356449203624217,
          1.1979573743086407,
          0.7822599197053102,
          -1.0954063618013492,
          -1.4808650659886475,
          -0.03216781584335983,
          -1.8683123603357328,
          0.07009016085630791,
          1.0824506963115468,
          0.674844983492287,
          -0.4896990474459487,
          -0.25826941502304024,
          1.665037379640575,
          0.010847284024948613,
          -0.6880159072252328,
          -1.5714676059379604,
          0.9714241406998673,
          -0.24294500318685008,
          -0.06292344712525674,
          -1.3987054229303149,
          -0.4734533238685408,
          -2.321963835811431,
          1.3884196000510303,
          -0.31025234222947135,
          -1.481113764744444,
          -0.7699363254437,
          -1.1778899107140954,
          -0.8987703761011371,
          0.19883119197798022,
          -0.8858314065876076,
          -1.5178717776599873,
          0.5893703347859245,
          -0.6994135868450015,
          -0.48358717433491655,
          -1.0267079997349633,
          0.5298163054115055,
          0.14310713216157514,
          -0.35419547943352053,
          0.10136482998347482,
          0.7934625832758466,
          -0.5560458519842975,
          -0.07531028933549962,
          0.04992795085509383,
          1.1711134364945317,
          1.3911558612592592,
          0.3384467388925263,
          -1.0964942691720898,
          2.279215075793931,
          2.0177131899560052,
          -0.8702672956301913,
          -1.790636564450756,
          -1.1939131889231476,
          -1.0308948061031502,
          0.8574156496421109,
          0.20214773489736038,
          0.05214163230900531,
          -0.5361664714973083,
          -0.2671110698261588,
          1.67295750683312,
          0.47336831168584104,
          1.3273464336078364,
          -0.1455793598936071,
          1.0127945851899962,
          1.1546317432106692,
          -0.05084218514467188,
          -0.9450278958175217,
          0.5740271589665797,
          0.28224149312428837,
          2.659282372516733,
          -0.5020185634569961,
          0.8538731764432778,
          0.28591735410309577,
          -1.4126982855654242,
          -1.8891270064966479
         ]
        },
        {
         "boxpoints": false,
         "line": {
          "width": 1.3
         },
         "marker": {
          "color": "rgba(50, 171, 96, 1.0)"
         },
         "name": "C",
         "orientation": "v",
         "type": "box",
         "y": [
          -0.08189170402269211,
          -0.13514980536158466,
          -0.6829000235753896,
          -2.1660492799482096,
          -0.8653623890686104,
          -0.7663960822194461,
          2.4465296437039847,
          -1.3838772208511525,
          -0.004037645735757862,
          0.20089315155547913,
          -0.23552802584260324,
          0.14568176283145545,
          -0.593480272097902,
          0.8987698543400691,
          0.977031524940709,
          -0.44072645348983663,
          1.8502759348157822,
          -0.15338260645131885,
          -0.16410038826145074,
          -0.05231582239414678,
          -0.4219511031272537,
          1.5404246600751583,
          0.4243757675846343,
          -0.04953077572811402,
          -0.3044162716065661,
          -0.778204723692454,
          -1.6865722656114437,
          -0.40745716620335704,
          0.03367509661054521,
          0.9547773475131285,
          0.22850452657337106,
          -2.0642361817882375,
          -0.6346129617527918,
          -0.23930344946865964,
          0.07527300680263144,
          -0.6853094644999711,
          0.044886324684502994,
          -0.8265372740099522,
          -0.4265344020298642,
          -0.8426744456702261,
          -0.8327334993244275,
          -0.9460713492384144,
          0.7941924238056933,
          -0.38501847935811406,
          -0.38067390231606096,
          0.07909975510965736,
          1.673281041484665,
          0.4755541700831618,
          -0.1969379747924677,
          0.6673498090452241,
          -0.1640159350139676,
          0.6752267821285269,
          -0.7917598494768683,
          -1.1506554345042526,
          0.04368974015311478,
          -1.7161841549026968,
          -0.3741882983849335,
          0.5993728303413354,
          0.2630159796664342,
          1.378673232286049,
          0.5486202909650398,
          -0.5442170043234468,
          0.11303460318517229,
          1.3354209329669042,
          -0.8859864965021472,
          0.7182151443982471,
          -0.01868264586250221,
          -0.311830239284594,
          0.32711877090528935,
          1.226354368968612,
          -0.3468950765587265,
          0.7492902658028024,
          -0.5694158194872334,
          -0.33199750309183734,
          -0.6797826348201856,
          -0.8464720437553708,
          0.6522136674012591,
          -0.33418115649697344,
          0.6549004337834226,
          -1.0374164770244731,
          0.06162194529230224,
          0.812116199119469,
          -0.39327954153113714,
          -0.4051496811605491,
          1.919198907495474,
          0.3713922630182631,
          0.2740703450515758,
          0.08521352716946458,
          1.719642473831569,
          -0.32484968872443726,
          -0.6539722405765761,
          0.4096321837057813,
          -0.4662960339340785,
          -0.45367379757154047,
          -1.2707156492496936,
          1.1236201909664816,
          -0.5850173785490747,
          -0.5273945384080858,
          -0.09933067073509559,
          -0.18625596036767667
         ]
        },
        {
         "boxpoints": false,
         "line": {
          "width": 1.3
         },
         "marker": {
          "color": "rgba(128, 0, 128, 1.0)"
         },
         "name": "D",
         "orientation": "v",
         "type": "box",
         "y": [
          0.48067285941719545,
          1.4858850034783189,
          -0.5329019355156149,
          -1.4337243887047155,
          -0.1230053387660544,
          -0.13370818245895555,
          0.04266792941505512,
          -1.1644677156793313,
          1.92208382634084,
          -0.3770200305322968,
          -0.20159510671969166,
          0.9450704280298273,
          0.374227265574753,
          -0.27093093384700623,
          -0.4179762013432669,
          0.2397330542315832,
          -1.2554058847956295,
          -1.0752856205007264,
          0.6295221884285818,
          0.12328969063205228,
          -1.4857765097563915,
          -0.28851910129719155,
          1.4650513962300873,
          -1.27181816910522,
          -0.2745855075309058,
          0.4887681833437419,
          0.6773129344196536,
          1.1247912489834433,
          -0.2839323938631823,
          -0.5239629925017716,
          0.8733803707313805,
          -0.15803792873209196,
          0.5617438714387215,
          0.7984493049471078,
          -0.39416870041365354,
          0.3643798773670629,
          -0.8594271202094695,
          1.6038715681108744,
          1.0657653663115085,
          0.13323356965674674,
          -1.6953565224403615,
          -0.5893170700034942,
          -1.8925587657354077,
          1.20230398051413,
          -0.2009668716489237,
          0.9538175248703185,
          -0.1340668644922787,
          1.0049075939495156,
          2.2006617147346015,
          0.6760268123827109,
          -0.9334553839406639,
          -0.1657385488960467,
          0.08264885320150527,
          1.144706427114871,
          -0.5500932193320486,
          -0.586114776415507,
          0.35872755990902455,
          -2.197056017152882,
          0.016985751214185954,
          0.01525101503333304,
          -1.2107299727377165,
          -0.2616707219991574,
          -0.4429893890051499,
          0.23850701647042258,
          -1.0142637655754279,
          0.27180521482845343,
          -0.06375871886326547,
          -1.5696986632060739,
          -0.3336687615490785,
          -0.1393267941862971,
          0.9125856313165784,
          0.0746248874782978,
          -1.8516085859000802,
          -1.0992675535367074,
          1.0861576590318607,
          1.4777219724420372,
          -1.82538139325232,
          1.675520963955247,
          -0.13369772436363767,
          -1.0248405377185879,
          0.17395491466077476,
          -1.2521805128926344,
          1.7211274364463975,
          -0.7093401985248905,
          -2.0692093617345453,
          -0.21905048684893788,
          1.1218656967577205,
          0.8419845339214078,
          -1.2979026927555817,
          -0.03627453213683022,
          -0.18679213925807509,
          0.7395864934658763,
          0.915017611632112,
          -0.8608612730071287,
          -1.283157688911953,
          0.3092883190756984,
          1.045763471390835,
          -1.4140309271736275,
          0.05459977765250099,
          -1.5375435049981996
         ]
        }
       ],
       "layout": {
        "legend": {
         "bgcolor": "#F5F6F9",
         "font": {
          "color": "#4D5663"
         }
        },
        "paper_bgcolor": "#F5F6F9",
        "plot_bgcolor": "#F5F6F9",
        "template": {
         "data": {
          "bar": [
           {
            "error_x": {
             "color": "#2a3f5f"
            },
            "error_y": {
             "color": "#2a3f5f"
            },
            "marker": {
             "line": {
              "color": "#E5ECF6",
              "width": 0.5
             },
             "pattern": {
              "fillmode": "overlay",
              "size": 10,
              "solidity": 0.2
             }
            },
            "type": "bar"
           }
          ],
          "barpolar": [
           {
            "marker": {
             "line": {
              "color": "#E5ECF6",
              "width": 0.5
             },
             "pattern": {
              "fillmode": "overlay",
              "size": 10,
              "solidity": 0.2
             }
            },
            "type": "barpolar"
           }
          ],
          "carpet": [
           {
            "aaxis": {
             "endlinecolor": "#2a3f5f",
             "gridcolor": "white",
             "linecolor": "white",
             "minorgridcolor": "white",
             "startlinecolor": "#2a3f5f"
            },
            "baxis": {
             "endlinecolor": "#2a3f5f",
             "gridcolor": "white",
             "linecolor": "white",
             "minorgridcolor": "white",
             "startlinecolor": "#2a3f5f"
            },
            "type": "carpet"
           }
          ],
          "choropleth": [
           {
            "colorbar": {
             "outlinewidth": 0,
             "ticks": ""
            },
            "type": "choropleth"
           }
          ],
          "contour": [
           {
            "colorbar": {
             "outlinewidth": 0,
             "ticks": ""
            },
            "colorscale": [
             [
              0,
              "#0d0887"
             ],
             [
              0.1111111111111111,
              "#46039f"
             ],
             [
              0.2222222222222222,
              "#7201a8"
             ],
             [
              0.3333333333333333,
              "#9c179e"
             ],
             [
              0.4444444444444444,
              "#bd3786"
             ],
             [
              0.5555555555555556,
              "#d8576b"
             ],
             [
              0.6666666666666666,
              "#ed7953"
             ],
             [
              0.7777777777777778,
              "#fb9f3a"
             ],
             [
              0.8888888888888888,
              "#fdca26"
             ],
             [
              1,
              "#f0f921"
             ]
            ],
            "type": "contour"
           }
          ],
          "contourcarpet": [
           {
            "colorbar": {
             "outlinewidth": 0,
             "ticks": ""
            },
            "type": "contourcarpet"
           }
          ],
          "heatmap": [
           {
            "colorbar": {
             "outlinewidth": 0,
             "ticks": ""
            },
            "colorscale": [
             [
              0,
              "#0d0887"
             ],
             [
              0.1111111111111111,
              "#46039f"
             ],
             [
              0.2222222222222222,
              "#7201a8"
             ],
             [
              0.3333333333333333,
              "#9c179e"
             ],
             [
              0.4444444444444444,
              "#bd3786"
             ],
             [
              0.5555555555555556,
              "#d8576b"
             ],
             [
              0.6666666666666666,
              "#ed7953"
             ],
             [
              0.7777777777777778,
              "#fb9f3a"
             ],
             [
              0.8888888888888888,
              "#fdca26"
             ],
             [
              1,
              "#f0f921"
             ]
            ],
            "type": "heatmap"
           }
          ],
          "heatmapgl": [
           {
            "colorbar": {
             "outlinewidth": 0,
             "ticks": ""
            },
            "colorscale": [
             [
              0,
              "#0d0887"
             ],
             [
              0.1111111111111111,
              "#46039f"
             ],
             [
              0.2222222222222222,
              "#7201a8"
             ],
             [
              0.3333333333333333,
              "#9c179e"
             ],
             [
              0.4444444444444444,
              "#bd3786"
             ],
             [
              0.5555555555555556,
              "#d8576b"
             ],
             [
              0.6666666666666666,
              "#ed7953"
             ],
             [
              0.7777777777777778,
              "#fb9f3a"
             ],
             [
              0.8888888888888888,
              "#fdca26"
             ],
             [
              1,
              "#f0f921"
             ]
            ],
            "type": "heatmapgl"
           }
          ],
          "histogram": [
           {
            "marker": {
             "pattern": {
              "fillmode": "overlay",
              "size": 10,
              "solidity": 0.2
             }
            },
            "type": "histogram"
           }
          ],
          "histogram2d": [
           {
            "colorbar": {
             "outlinewidth": 0,
             "ticks": ""
            },
            "colorscale": [
             [
              0,
              "#0d0887"
             ],
             [
              0.1111111111111111,
              "#46039f"
             ],
             [
              0.2222222222222222,
              "#7201a8"
             ],
             [
              0.3333333333333333,
              "#9c179e"
             ],
             [
              0.4444444444444444,
              "#bd3786"
             ],
             [
              0.5555555555555556,
              "#d8576b"
             ],
             [
              0.6666666666666666,
              "#ed7953"
             ],
             [
              0.7777777777777778,
              "#fb9f3a"
             ],
             [
              0.8888888888888888,
              "#fdca26"
             ],
             [
              1,
              "#f0f921"
             ]
            ],
            "type": "histogram2d"
           }
          ],
          "histogram2dcontour": [
           {
            "colorbar": {
             "outlinewidth": 0,
             "ticks": ""
            },
            "colorscale": [
             [
              0,
              "#0d0887"
             ],
             [
              0.1111111111111111,
              "#46039f"
             ],
             [
              0.2222222222222222,
              "#7201a8"
             ],
             [
              0.3333333333333333,
              "#9c179e"
             ],
             [
              0.4444444444444444,
              "#bd3786"
             ],
             [
              0.5555555555555556,
              "#d8576b"
             ],
             [
              0.6666666666666666,
              "#ed7953"
             ],
             [
              0.7777777777777778,
              "#fb9f3a"
             ],
             [
              0.8888888888888888,
              "#fdca26"
             ],
             [
              1,
              "#f0f921"
             ]
            ],
            "type": "histogram2dcontour"
           }
          ],
          "mesh3d": [
           {
            "colorbar": {
             "outlinewidth": 0,
             "ticks": ""
            },
            "type": "mesh3d"
           }
          ],
          "parcoords": [
           {
            "line": {
             "colorbar": {
              "outlinewidth": 0,
              "ticks": ""
             }
            },
            "type": "parcoords"
           }
          ],
          "pie": [
           {
            "automargin": true,
            "type": "pie"
           }
          ],
          "scatter": [
           {
            "marker": {
             "colorbar": {
              "outlinewidth": 0,
              "ticks": ""
             }
            },
            "type": "scatter"
           }
          ],
          "scatter3d": [
           {
            "line": {
             "colorbar": {
              "outlinewidth": 0,
              "ticks": ""
             }
            },
            "marker": {
             "colorbar": {
              "outlinewidth": 0,
              "ticks": ""
             }
            },
            "type": "scatter3d"
           }
          ],
          "scattercarpet": [
           {
            "marker": {
             "colorbar": {
              "outlinewidth": 0,
              "ticks": ""
             }
            },
            "type": "scattercarpet"
           }
          ],
          "scattergeo": [
           {
            "marker": {
             "colorbar": {
              "outlinewidth": 0,
              "ticks": ""
             }
            },
            "type": "scattergeo"
           }
          ],
          "scattergl": [
           {
            "marker": {
             "colorbar": {
              "outlinewidth": 0,
              "ticks": ""
             }
            },
            "type": "scattergl"
           }
          ],
          "scattermapbox": [
           {
            "marker": {
             "colorbar": {
              "outlinewidth": 0,
              "ticks": ""
             }
            },
            "type": "scattermapbox"
           }
          ],
          "scatterpolar": [
           {
            "marker": {
             "colorbar": {
              "outlinewidth": 0,
              "ticks": ""
             }
            },
            "type": "scatterpolar"
           }
          ],
          "scatterpolargl": [
           {
            "marker": {
             "colorbar": {
              "outlinewidth": 0,
              "ticks": ""
             }
            },
            "type": "scatterpolargl"
           }
          ],
          "scatterternary": [
           {
            "marker": {
             "colorbar": {
              "outlinewidth": 0,
              "ticks": ""
             }
            },
            "type": "scatterternary"
           }
          ],
          "surface": [
           {
            "colorbar": {
             "outlinewidth": 0,
             "ticks": ""
            },
            "colorscale": [
             [
              0,
              "#0d0887"
             ],
             [
              0.1111111111111111,
              "#46039f"
             ],
             [
              0.2222222222222222,
              "#7201a8"
             ],
             [
              0.3333333333333333,
              "#9c179e"
             ],
             [
              0.4444444444444444,
              "#bd3786"
             ],
             [
              0.5555555555555556,
              "#d8576b"
             ],
             [
              0.6666666666666666,
              "#ed7953"
             ],
             [
              0.7777777777777778,
              "#fb9f3a"
             ],
             [
              0.8888888888888888,
              "#fdca26"
             ],
             [
              1,
              "#f0f921"
             ]
            ],
            "type": "surface"
           }
          ],
          "table": [
           {
            "cells": {
             "fill": {
              "color": "#EBF0F8"
             },
             "line": {
              "color": "white"
             }
            },
            "header": {
             "fill": {
              "color": "#C8D4E3"
             },
             "line": {
              "color": "white"
             }
            },
            "type": "table"
           }
          ]
         },
         "layout": {
          "annotationdefaults": {
           "arrowcolor": "#2a3f5f",
           "arrowhead": 0,
           "arrowwidth": 1
          },
          "autotypenumbers": "strict",
          "coloraxis": {
           "colorbar": {
            "outlinewidth": 0,
            "ticks": ""
           }
          },
          "colorscale": {
           "diverging": [
            [
             0,
             "#8e0152"
            ],
            [
             0.1,
             "#c51b7d"
            ],
            [
             0.2,
             "#de77ae"
            ],
            [
             0.3,
             "#f1b6da"
            ],
            [
             0.4,
             "#fde0ef"
            ],
            [
             0.5,
             "#f7f7f7"
            ],
            [
             0.6,
             "#e6f5d0"
            ],
            [
             0.7,
             "#b8e186"
            ],
            [
             0.8,
             "#7fbc41"
            ],
            [
             0.9,
             "#4d9221"
            ],
            [
             1,
             "#276419"
            ]
           ],
           "sequential": [
            [
             0,
             "#0d0887"
            ],
            [
             0.1111111111111111,
             "#46039f"
            ],
            [
             0.2222222222222222,
             "#7201a8"
            ],
            [
             0.3333333333333333,
             "#9c179e"
            ],
            [
             0.4444444444444444,
             "#bd3786"
            ],
            [
             0.5555555555555556,
             "#d8576b"
            ],
            [
             0.6666666666666666,
             "#ed7953"
            ],
            [
             0.7777777777777778,
             "#fb9f3a"
            ],
            [
             0.8888888888888888,
             "#fdca26"
            ],
            [
             1,
             "#f0f921"
            ]
           ],
           "sequentialminus": [
            [
             0,
             "#0d0887"
            ],
            [
             0.1111111111111111,
             "#46039f"
            ],
            [
             0.2222222222222222,
             "#7201a8"
            ],
            [
             0.3333333333333333,
             "#9c179e"
            ],
            [
             0.4444444444444444,
             "#bd3786"
            ],
            [
             0.5555555555555556,
             "#d8576b"
            ],
            [
             0.6666666666666666,
             "#ed7953"
            ],
            [
             0.7777777777777778,
             "#fb9f3a"
            ],
            [
             0.8888888888888888,
             "#fdca26"
            ],
            [
             1,
             "#f0f921"
            ]
           ]
          },
          "colorway": [
           "#636efa",
           "#EF553B",
           "#00cc96",
           "#ab63fa",
           "#FFA15A",
           "#19d3f3",
           "#FF6692",
           "#B6E880",
           "#FF97FF",
           "#FECB52"
          ],
          "font": {
           "color": "#2a3f5f"
          },
          "geo": {
           "bgcolor": "white",
           "lakecolor": "white",
           "landcolor": "#E5ECF6",
           "showlakes": true,
           "showland": true,
           "subunitcolor": "white"
          },
          "hoverlabel": {
           "align": "left"
          },
          "hovermode": "closest",
          "mapbox": {
           "style": "light"
          },
          "paper_bgcolor": "white",
          "plot_bgcolor": "#E5ECF6",
          "polar": {
           "angularaxis": {
            "gridcolor": "white",
            "linecolor": "white",
            "ticks": ""
           },
           "bgcolor": "#E5ECF6",
           "radialaxis": {
            "gridcolor": "white",
            "linecolor": "white",
            "ticks": ""
           }
          },
          "scene": {
           "xaxis": {
            "backgroundcolor": "#E5ECF6",
            "gridcolor": "white",
            "gridwidth": 2,
            "linecolor": "white",
            "showbackground": true,
            "ticks": "",
            "zerolinecolor": "white"
           },
           "yaxis": {
            "backgroundcolor": "#E5ECF6",
            "gridcolor": "white",
            "gridwidth": 2,
            "linecolor": "white",
            "showbackground": true,
            "ticks": "",
            "zerolinecolor": "white"
           },
           "zaxis": {
            "backgroundcolor": "#E5ECF6",
            "gridcolor": "white",
            "gridwidth": 2,
            "linecolor": "white",
            "showbackground": true,
            "ticks": "",
            "zerolinecolor": "white"
           }
          },
          "shapedefaults": {
           "line": {
            "color": "#2a3f5f"
           }
          },
          "ternary": {
           "aaxis": {
            "gridcolor": "white",
            "linecolor": "white",
            "ticks": ""
           },
           "baxis": {
            "gridcolor": "white",
            "linecolor": "white",
            "ticks": ""
           },
           "bgcolor": "#E5ECF6",
           "caxis": {
            "gridcolor": "white",
            "linecolor": "white",
            "ticks": ""
           }
          },
          "title": {
           "x": 0.05
          },
          "xaxis": {
           "automargin": true,
           "gridcolor": "white",
           "linecolor": "white",
           "ticks": "",
           "title": {
            "standoff": 15
           },
           "zerolinecolor": "white",
           "zerolinewidth": 2
          },
          "yaxis": {
           "automargin": true,
           "gridcolor": "white",
           "linecolor": "white",
           "ticks": "",
           "title": {
            "standoff": 15
           },
           "zerolinecolor": "white",
           "zerolinewidth": 2
          }
         }
        },
        "title": {
         "font": {
          "color": "#4D5663"
         }
        },
        "xaxis": {
         "gridcolor": "#E1E5ED",
         "showgrid": true,
         "tickfont": {
          "color": "#4D5663"
         },
         "title": {
          "font": {
           "color": "#4D5663"
          },
          "text": ""
         },
         "zerolinecolor": "#E1E5ED"
        },
        "yaxis": {
         "gridcolor": "#E1E5ED",
         "showgrid": true,
         "tickfont": {
          "color": "#4D5663"
         },
         "title": {
          "font": {
           "color": "#4D5663"
          },
          "text": ""
         },
         "zerolinecolor": "#E1E5ED"
        }
       }
      },
      "text/html": [
       "<div>                            <div id=\"75f5cf27-c89b-4b62-9fec-058de9223403\" class=\"plotly-graph-div\" style=\"height:525px; width:100%;\"></div>            <script type=\"text/javascript\">                require([\"plotly\"], function(Plotly) {                    window.PLOTLYENV=window.PLOTLYENV || {};\n",
       "                    window.PLOTLYENV.BASE_URL='https://plot.ly';                                    if (document.getElementById(\"75f5cf27-c89b-4b62-9fec-058de9223403\")) {                    Plotly.newPlot(                        \"75f5cf27-c89b-4b62-9fec-058de9223403\",                        [{\"boxpoints\":false,\"line\":{\"width\":1.3},\"marker\":{\"color\":\"rgba(255, 153, 51, 1.0)\"},\"name\":\"A\",\"orientation\":\"v\",\"y\":[0.7295363441218393,-0.30709735423890133,0.492710813594875,0.08392566125616459,-0.6889455689979118,0.5470456033814226,-0.59537959593479,0.590991782392905,0.9972471665249101,1.4378882065324756,0.11926922188426163,-1.6571759958291157,0.4487064707697026,-2.51301997833897,0.6001221119436471,-2.731948786259892,1.3607099053275447,-0.731152267488863,-1.3966859085953525,0.17378944539031352,0.6817597346735718,1.1402012726597144,0.14349266373328687,-0.9377451346394511,0.017522155117618125,0.3235679464012107,0.836983146893619,-0.8792559105632725,-1.1801754241794296,-0.3795826015311692,-1.140787877799205,-0.7723948304435839,-0.5145019292009516,0.35609369850632194,-1.511771529880759,1.3774677496649568,-0.16454591236628077,-0.20152889220951667,-0.8123283332056657,0.595491766397253,-0.7970370986126426,-0.7349886528627032,0.6385817620476262,-0.1332010168119281,-0.6122662727680039,-2.4533287444652374,-1.2247225198339713,-0.25819872800993604,-0.37154228878299783,1.1548376757268877,0.6091866542203763,0.4905265364947855,1.7151703495190282,0.5379372760497011,-0.9060239939628344,-0.4757653879199119,0.7393937868154522,-2.2189647639590326,0.37041005207702155,1.0224887183461624,-0.5119055368256046,-0.9017925229090039,0.1447604829762621,-2.422737424208872,-0.7930350683984899,-1.1868366962480066,-2.0569449530090984,1.1920114509529198,-0.46156730828628,-0.719859833789653,0.5066864394881544,1.473741498165212,-1.5954387366714262,-0.4782502836781616,-0.16444298863396906,1.1408405792421255,-0.7097825274860883,0.7513186713580287,0.1339137866817911,-1.3011927732441302,1.2811633564799318,-0.3242821085915659,0.6457367692201954,0.0031357660336803783,0.7701540363029559,1.1149898631778379,0.25928287776938813,1.6665070758153746,-1.8969684050518085,0.681158307412814,-0.45063469387663485,1.5622406665206328,-0.12734672873637162,-0.5040136701566764,1.1767269743927373,0.618194840212031,-0.6238683392746781,0.040684028835876136,0.49591506198487856,0.5402290487669394],\"type\":\"box\"},{\"boxpoints\":false,\"line\":{\"width\":1.3},\"marker\":{\"color\":\"rgba(55, 128, 191, 1.0)\"},\"name\":\"B\",\"orientation\":\"v\",\"y\":[0.5932107040360172,0.04753954704139975,-0.444048574584182,-0.09335676213517706,-1.7432026927789257,1.0909115353161996,0.5971969506321606,1.8949064155444952,-1.1931694954805152,-0.05676690937649937,-2.2217498558969324,-1.297293680429583,-0.021679536036858914,0.8916762942133755,-0.02348621814267172,-1.5786609005306635,0.24357246516668982,0.010917665382364302,0.5571223092510637,-1.2475758485667943,1.5868744203536709,-0.8057521945444989,0.7362339481277361,0.9477863231294862,-0.5995459180209022,0.32554867390014314,-0.24356449203624217,1.1979573743086407,0.7822599197053102,-1.0954063618013492,-1.4808650659886475,-0.03216781584335983,-1.8683123603357328,0.07009016085630791,1.0824506963115468,0.674844983492287,-0.4896990474459487,-0.25826941502304024,1.665037379640575,0.010847284024948613,-0.6880159072252328,-1.5714676059379604,0.9714241406998673,-0.24294500318685008,-0.06292344712525674,-1.3987054229303149,-0.4734533238685408,-2.321963835811431,1.3884196000510303,-0.31025234222947135,-1.481113764744444,-0.7699363254437,-1.1778899107140954,-0.8987703761011371,0.19883119197798022,-0.8858314065876076,-1.5178717776599873,0.5893703347859245,-0.6994135868450015,-0.48358717433491655,-1.0267079997349633,0.5298163054115055,0.14310713216157514,-0.35419547943352053,0.10136482998347482,0.7934625832758466,-0.5560458519842975,-0.07531028933549962,0.04992795085509383,1.1711134364945317,1.3911558612592592,0.3384467388925263,-1.0964942691720898,2.279215075793931,2.0177131899560052,-0.8702672956301913,-1.790636564450756,-1.1939131889231476,-1.0308948061031502,0.8574156496421109,0.20214773489736038,0.05214163230900531,-0.5361664714973083,-0.2671110698261588,1.67295750683312,0.47336831168584104,1.3273464336078364,-0.1455793598936071,1.0127945851899962,1.1546317432106692,-0.05084218514467188,-0.9450278958175217,0.5740271589665797,0.28224149312428837,2.659282372516733,-0.5020185634569961,0.8538731764432778,0.28591735410309577,-1.4126982855654242,-1.8891270064966479],\"type\":\"box\"},{\"boxpoints\":false,\"line\":{\"width\":1.3},\"marker\":{\"color\":\"rgba(50, 171, 96, 1.0)\"},\"name\":\"C\",\"orientation\":\"v\",\"y\":[-0.08189170402269211,-0.13514980536158466,-0.6829000235753896,-2.1660492799482096,-0.8653623890686104,-0.7663960822194461,2.4465296437039847,-1.3838772208511525,-0.004037645735757862,0.20089315155547913,-0.23552802584260324,0.14568176283145545,-0.593480272097902,0.8987698543400691,0.977031524940709,-0.44072645348983663,1.8502759348157822,-0.15338260645131885,-0.16410038826145074,-0.05231582239414678,-0.4219511031272537,1.5404246600751583,0.4243757675846343,-0.04953077572811402,-0.3044162716065661,-0.778204723692454,-1.6865722656114437,-0.40745716620335704,0.03367509661054521,0.9547773475131285,0.22850452657337106,-2.0642361817882375,-0.6346129617527918,-0.23930344946865964,0.07527300680263144,-0.6853094644999711,0.044886324684502994,-0.8265372740099522,-0.4265344020298642,-0.8426744456702261,-0.8327334993244275,-0.9460713492384144,0.7941924238056933,-0.38501847935811406,-0.38067390231606096,0.07909975510965736,1.673281041484665,0.4755541700831618,-0.1969379747924677,0.6673498090452241,-0.1640159350139676,0.6752267821285269,-0.7917598494768683,-1.1506554345042526,0.04368974015311478,-1.7161841549026968,-0.3741882983849335,0.5993728303413354,0.2630159796664342,1.378673232286049,0.5486202909650398,-0.5442170043234468,0.11303460318517229,1.3354209329669042,-0.8859864965021472,0.7182151443982471,-0.01868264586250221,-0.311830239284594,0.32711877090528935,1.226354368968612,-0.3468950765587265,0.7492902658028024,-0.5694158194872334,-0.33199750309183734,-0.6797826348201856,-0.8464720437553708,0.6522136674012591,-0.33418115649697344,0.6549004337834226,-1.0374164770244731,0.06162194529230224,0.812116199119469,-0.39327954153113714,-0.4051496811605491,1.919198907495474,0.3713922630182631,0.2740703450515758,0.08521352716946458,1.719642473831569,-0.32484968872443726,-0.6539722405765761,0.4096321837057813,-0.4662960339340785,-0.45367379757154047,-1.2707156492496936,1.1236201909664816,-0.5850173785490747,-0.5273945384080858,-0.09933067073509559,-0.18625596036767667],\"type\":\"box\"},{\"boxpoints\":false,\"line\":{\"width\":1.3},\"marker\":{\"color\":\"rgba(128, 0, 128, 1.0)\"},\"name\":\"D\",\"orientation\":\"v\",\"y\":[0.48067285941719545,1.4858850034783189,-0.5329019355156149,-1.4337243887047155,-0.1230053387660544,-0.13370818245895555,0.04266792941505512,-1.1644677156793313,1.92208382634084,-0.3770200305322968,-0.20159510671969166,0.9450704280298273,0.374227265574753,-0.27093093384700623,-0.4179762013432669,0.2397330542315832,-1.2554058847956295,-1.0752856205007264,0.6295221884285818,0.12328969063205228,-1.4857765097563915,-0.28851910129719155,1.4650513962300873,-1.27181816910522,-0.2745855075309058,0.4887681833437419,0.6773129344196536,1.1247912489834433,-0.2839323938631823,-0.5239629925017716,0.8733803707313805,-0.15803792873209196,0.5617438714387215,0.7984493049471078,-0.39416870041365354,0.3643798773670629,-0.8594271202094695,1.6038715681108744,1.0657653663115085,0.13323356965674674,-1.6953565224403615,-0.5893170700034942,-1.8925587657354077,1.20230398051413,-0.2009668716489237,0.9538175248703185,-0.1340668644922787,1.0049075939495156,2.2006617147346015,0.6760268123827109,-0.9334553839406639,-0.1657385488960467,0.08264885320150527,1.144706427114871,-0.5500932193320486,-0.586114776415507,0.35872755990902455,-2.197056017152882,0.016985751214185954,0.01525101503333304,-1.2107299727377165,-0.2616707219991574,-0.4429893890051499,0.23850701647042258,-1.0142637655754279,0.27180521482845343,-0.06375871886326547,-1.5696986632060739,-0.3336687615490785,-0.1393267941862971,0.9125856313165784,0.0746248874782978,-1.8516085859000802,-1.0992675535367074,1.0861576590318607,1.4777219724420372,-1.82538139325232,1.675520963955247,-0.13369772436363767,-1.0248405377185879,0.17395491466077476,-1.2521805128926344,1.7211274364463975,-0.7093401985248905,-2.0692093617345453,-0.21905048684893788,1.1218656967577205,0.8419845339214078,-1.2979026927555817,-0.03627453213683022,-0.18679213925807509,0.7395864934658763,0.915017611632112,-0.8608612730071287,-1.283157688911953,0.3092883190756984,1.045763471390835,-1.4140309271736275,0.05459977765250099,-1.5375435049981996],\"type\":\"box\"}],                        {\"legend\":{\"bgcolor\":\"#F5F6F9\",\"font\":{\"color\":\"#4D5663\"}},\"paper_bgcolor\":\"#F5F6F9\",\"plot_bgcolor\":\"#F5F6F9\",\"template\":{\"data\":{\"barpolar\":[{\"marker\":{\"line\":{\"color\":\"#E5ECF6\",\"width\":0.5},\"pattern\":{\"fillmode\":\"overlay\",\"size\":10,\"solidity\":0.2}},\"type\":\"barpolar\"}],\"bar\":[{\"error_x\":{\"color\":\"#2a3f5f\"},\"error_y\":{\"color\":\"#2a3f5f\"},\"marker\":{\"line\":{\"color\":\"#E5ECF6\",\"width\":0.5},\"pattern\":{\"fillmode\":\"overlay\",\"size\":10,\"solidity\":0.2}},\"type\":\"bar\"}],\"carpet\":[{\"aaxis\":{\"endlinecolor\":\"#2a3f5f\",\"gridcolor\":\"white\",\"linecolor\":\"white\",\"minorgridcolor\":\"white\",\"startlinecolor\":\"#2a3f5f\"},\"baxis\":{\"endlinecolor\":\"#2a3f5f\",\"gridcolor\":\"white\",\"linecolor\":\"white\",\"minorgridcolor\":\"white\",\"startlinecolor\":\"#2a3f5f\"},\"type\":\"carpet\"}],\"choropleth\":[{\"colorbar\":{\"outlinewidth\":0,\"ticks\":\"\"},\"type\":\"choropleth\"}],\"contourcarpet\":[{\"colorbar\":{\"outlinewidth\":0,\"ticks\":\"\"},\"type\":\"contourcarpet\"}],\"contour\":[{\"colorbar\":{\"outlinewidth\":0,\"ticks\":\"\"},\"colorscale\":[[0.0,\"#0d0887\"],[0.1111111111111111,\"#46039f\"],[0.2222222222222222,\"#7201a8\"],[0.3333333333333333,\"#9c179e\"],[0.4444444444444444,\"#bd3786\"],[0.5555555555555556,\"#d8576b\"],[0.6666666666666666,\"#ed7953\"],[0.7777777777777778,\"#fb9f3a\"],[0.8888888888888888,\"#fdca26\"],[1.0,\"#f0f921\"]],\"type\":\"contour\"}],\"heatmapgl\":[{\"colorbar\":{\"outlinewidth\":0,\"ticks\":\"\"},\"colorscale\":[[0.0,\"#0d0887\"],[0.1111111111111111,\"#46039f\"],[0.2222222222222222,\"#7201a8\"],[0.3333333333333333,\"#9c179e\"],[0.4444444444444444,\"#bd3786\"],[0.5555555555555556,\"#d8576b\"],[0.6666666666666666,\"#ed7953\"],[0.7777777777777778,\"#fb9f3a\"],[0.8888888888888888,\"#fdca26\"],[1.0,\"#f0f921\"]],\"type\":\"heatmapgl\"}],\"heatmap\":[{\"colorbar\":{\"outlinewidth\":0,\"ticks\":\"\"},\"colorscale\":[[0.0,\"#0d0887\"],[0.1111111111111111,\"#46039f\"],[0.2222222222222222,\"#7201a8\"],[0.3333333333333333,\"#9c179e\"],[0.4444444444444444,\"#bd3786\"],[0.5555555555555556,\"#d8576b\"],[0.6666666666666666,\"#ed7953\"],[0.7777777777777778,\"#fb9f3a\"],[0.8888888888888888,\"#fdca26\"],[1.0,\"#f0f921\"]],\"type\":\"heatmap\"}],\"histogram2dcontour\":[{\"colorbar\":{\"outlinewidth\":0,\"ticks\":\"\"},\"colorscale\":[[0.0,\"#0d0887\"],[0.1111111111111111,\"#46039f\"],[0.2222222222222222,\"#7201a8\"],[0.3333333333333333,\"#9c179e\"],[0.4444444444444444,\"#bd3786\"],[0.5555555555555556,\"#d8576b\"],[0.6666666666666666,\"#ed7953\"],[0.7777777777777778,\"#fb9f3a\"],[0.8888888888888888,\"#fdca26\"],[1.0,\"#f0f921\"]],\"type\":\"histogram2dcontour\"}],\"histogram2d\":[{\"colorbar\":{\"outlinewidth\":0,\"ticks\":\"\"},\"colorscale\":[[0.0,\"#0d0887\"],[0.1111111111111111,\"#46039f\"],[0.2222222222222222,\"#7201a8\"],[0.3333333333333333,\"#9c179e\"],[0.4444444444444444,\"#bd3786\"],[0.5555555555555556,\"#d8576b\"],[0.6666666666666666,\"#ed7953\"],[0.7777777777777778,\"#fb9f3a\"],[0.8888888888888888,\"#fdca26\"],[1.0,\"#f0f921\"]],\"type\":\"histogram2d\"}],\"histogram\":[{\"marker\":{\"pattern\":{\"fillmode\":\"overlay\",\"size\":10,\"solidity\":0.2}},\"type\":\"histogram\"}],\"mesh3d\":[{\"colorbar\":{\"outlinewidth\":0,\"ticks\":\"\"},\"type\":\"mesh3d\"}],\"parcoords\":[{\"line\":{\"colorbar\":{\"outlinewidth\":0,\"ticks\":\"\"}},\"type\":\"parcoords\"}],\"pie\":[{\"automargin\":true,\"type\":\"pie\"}],\"scatter3d\":[{\"line\":{\"colorbar\":{\"outlinewidth\":0,\"ticks\":\"\"}},\"marker\":{\"colorbar\":{\"outlinewidth\":0,\"ticks\":\"\"}},\"type\":\"scatter3d\"}],\"scattercarpet\":[{\"marker\":{\"colorbar\":{\"outlinewidth\":0,\"ticks\":\"\"}},\"type\":\"scattercarpet\"}],\"scattergeo\":[{\"marker\":{\"colorbar\":{\"outlinewidth\":0,\"ticks\":\"\"}},\"type\":\"scattergeo\"}],\"scattergl\":[{\"marker\":{\"colorbar\":{\"outlinewidth\":0,\"ticks\":\"\"}},\"type\":\"scattergl\"}],\"scattermapbox\":[{\"marker\":{\"colorbar\":{\"outlinewidth\":0,\"ticks\":\"\"}},\"type\":\"scattermapbox\"}],\"scatterpolargl\":[{\"marker\":{\"colorbar\":{\"outlinewidth\":0,\"ticks\":\"\"}},\"type\":\"scatterpolargl\"}],\"scatterpolar\":[{\"marker\":{\"colorbar\":{\"outlinewidth\":0,\"ticks\":\"\"}},\"type\":\"scatterpolar\"}],\"scatter\":[{\"marker\":{\"colorbar\":{\"outlinewidth\":0,\"ticks\":\"\"}},\"type\":\"scatter\"}],\"scatterternary\":[{\"marker\":{\"colorbar\":{\"outlinewidth\":0,\"ticks\":\"\"}},\"type\":\"scatterternary\"}],\"surface\":[{\"colorbar\":{\"outlinewidth\":0,\"ticks\":\"\"},\"colorscale\":[[0.0,\"#0d0887\"],[0.1111111111111111,\"#46039f\"],[0.2222222222222222,\"#7201a8\"],[0.3333333333333333,\"#9c179e\"],[0.4444444444444444,\"#bd3786\"],[0.5555555555555556,\"#d8576b\"],[0.6666666666666666,\"#ed7953\"],[0.7777777777777778,\"#fb9f3a\"],[0.8888888888888888,\"#fdca26\"],[1.0,\"#f0f921\"]],\"type\":\"surface\"}],\"table\":[{\"cells\":{\"fill\":{\"color\":\"#EBF0F8\"},\"line\":{\"color\":\"white\"}},\"header\":{\"fill\":{\"color\":\"#C8D4E3\"},\"line\":{\"color\":\"white\"}},\"type\":\"table\"}]},\"layout\":{\"annotationdefaults\":{\"arrowcolor\":\"#2a3f5f\",\"arrowhead\":0,\"arrowwidth\":1},\"autotypenumbers\":\"strict\",\"coloraxis\":{\"colorbar\":{\"outlinewidth\":0,\"ticks\":\"\"}},\"colorscale\":{\"diverging\":[[0,\"#8e0152\"],[0.1,\"#c51b7d\"],[0.2,\"#de77ae\"],[0.3,\"#f1b6da\"],[0.4,\"#fde0ef\"],[0.5,\"#f7f7f7\"],[0.6,\"#e6f5d0\"],[0.7,\"#b8e186\"],[0.8,\"#7fbc41\"],[0.9,\"#4d9221\"],[1,\"#276419\"]],\"sequential\":[[0.0,\"#0d0887\"],[0.1111111111111111,\"#46039f\"],[0.2222222222222222,\"#7201a8\"],[0.3333333333333333,\"#9c179e\"],[0.4444444444444444,\"#bd3786\"],[0.5555555555555556,\"#d8576b\"],[0.6666666666666666,\"#ed7953\"],[0.7777777777777778,\"#fb9f3a\"],[0.8888888888888888,\"#fdca26\"],[1.0,\"#f0f921\"]],\"sequentialminus\":[[0.0,\"#0d0887\"],[0.1111111111111111,\"#46039f\"],[0.2222222222222222,\"#7201a8\"],[0.3333333333333333,\"#9c179e\"],[0.4444444444444444,\"#bd3786\"],[0.5555555555555556,\"#d8576b\"],[0.6666666666666666,\"#ed7953\"],[0.7777777777777778,\"#fb9f3a\"],[0.8888888888888888,\"#fdca26\"],[1.0,\"#f0f921\"]]},\"colorway\":[\"#636efa\",\"#EF553B\",\"#00cc96\",\"#ab63fa\",\"#FFA15A\",\"#19d3f3\",\"#FF6692\",\"#B6E880\",\"#FF97FF\",\"#FECB52\"],\"font\":{\"color\":\"#2a3f5f\"},\"geo\":{\"bgcolor\":\"white\",\"lakecolor\":\"white\",\"landcolor\":\"#E5ECF6\",\"showlakes\":true,\"showland\":true,\"subunitcolor\":\"white\"},\"hoverlabel\":{\"align\":\"left\"},\"hovermode\":\"closest\",\"mapbox\":{\"style\":\"light\"},\"paper_bgcolor\":\"white\",\"plot_bgcolor\":\"#E5ECF6\",\"polar\":{\"angularaxis\":{\"gridcolor\":\"white\",\"linecolor\":\"white\",\"ticks\":\"\"},\"bgcolor\":\"#E5ECF6\",\"radialaxis\":{\"gridcolor\":\"white\",\"linecolor\":\"white\",\"ticks\":\"\"}},\"scene\":{\"xaxis\":{\"backgroundcolor\":\"#E5ECF6\",\"gridcolor\":\"white\",\"gridwidth\":2,\"linecolor\":\"white\",\"showbackground\":true,\"ticks\":\"\",\"zerolinecolor\":\"white\"},\"yaxis\":{\"backgroundcolor\":\"#E5ECF6\",\"gridcolor\":\"white\",\"gridwidth\":2,\"linecolor\":\"white\",\"showbackground\":true,\"ticks\":\"\",\"zerolinecolor\":\"white\"},\"zaxis\":{\"backgroundcolor\":\"#E5ECF6\",\"gridcolor\":\"white\",\"gridwidth\":2,\"linecolor\":\"white\",\"showbackground\":true,\"ticks\":\"\",\"zerolinecolor\":\"white\"}},\"shapedefaults\":{\"line\":{\"color\":\"#2a3f5f\"}},\"ternary\":{\"aaxis\":{\"gridcolor\":\"white\",\"linecolor\":\"white\",\"ticks\":\"\"},\"baxis\":{\"gridcolor\":\"white\",\"linecolor\":\"white\",\"ticks\":\"\"},\"bgcolor\":\"#E5ECF6\",\"caxis\":{\"gridcolor\":\"white\",\"linecolor\":\"white\",\"ticks\":\"\"}},\"title\":{\"x\":0.05},\"xaxis\":{\"automargin\":true,\"gridcolor\":\"white\",\"linecolor\":\"white\",\"ticks\":\"\",\"title\":{\"standoff\":15},\"zerolinecolor\":\"white\",\"zerolinewidth\":2},\"yaxis\":{\"automargin\":true,\"gridcolor\":\"white\",\"linecolor\":\"white\",\"ticks\":\"\",\"title\":{\"standoff\":15},\"zerolinecolor\":\"white\",\"zerolinewidth\":2}}},\"title\":{\"font\":{\"color\":\"#4D5663\"}},\"xaxis\":{\"gridcolor\":\"#E1E5ED\",\"showgrid\":true,\"tickfont\":{\"color\":\"#4D5663\"},\"title\":{\"font\":{\"color\":\"#4D5663\"},\"text\":\"\"},\"zerolinecolor\":\"#E1E5ED\"},\"yaxis\":{\"gridcolor\":\"#E1E5ED\",\"showgrid\":true,\"tickfont\":{\"color\":\"#4D5663\"},\"title\":{\"font\":{\"color\":\"#4D5663\"},\"text\":\"\"},\"zerolinecolor\":\"#E1E5ED\"}},                        {\"showLink\": true, \"linkText\": \"Export to plot.ly\", \"plotlyServerURL\": \"https://plot.ly\", \"responsive\": true}                    ).then(function(){\n",
       "                            \n",
       "var gd = document.getElementById('75f5cf27-c89b-4b62-9fec-058de9223403');\n",
       "var x = new MutationObserver(function (mutations, observer) {{\n",
       "        var display = window.getComputedStyle(gd).display;\n",
       "        if (!display || display === 'none') {{\n",
       "            console.log([gd, 'removed!']);\n",
       "            Plotly.purge(gd);\n",
       "            observer.disconnect();\n",
       "        }}\n",
       "}});\n",
       "\n",
       "// Listen for the removal of the full notebook cells\n",
       "var notebookContainer = gd.closest('#notebook-container');\n",
       "if (notebookContainer) {{\n",
       "    x.observe(notebookContainer, {childList: true});\n",
       "}}\n",
       "\n",
       "// Listen for the clearing of the current output cell\n",
       "var outputEl = gd.closest('.output');\n",
       "if (outputEl) {{\n",
       "    x.observe(outputEl, {childList: true});\n",
       "}}\n",
       "\n",
       "                        })                };                });            </script>        </div>"
      ]
     },
     "metadata": {},
     "output_type": "display_data"
    }
   ],
   "source": [
    "df.iplot(kind='box')"
   ]
  },
  {
   "cell_type": "markdown",
   "metadata": {},
   "source": [
    "## 3d Surface"
   ]
  },
  {
   "cell_type": "code",
   "execution_count": 22,
   "metadata": {},
   "outputs": [
    {
     "data": {
      "application/vnd.plotly.v1+json": {
       "config": {
        "linkText": "Export to plot.ly",
        "plotlyServerURL": "https://plot.ly",
        "showLink": true
       },
       "data": [
        {
         "colorscale": [
          [
           0,
           "rgb(165,0,38)"
          ],
          [
           0.1,
           "rgb(215,48,39)"
          ],
          [
           0.2,
           "rgb(244,109,67)"
          ],
          [
           0.3,
           "rgb(253,174,97)"
          ],
          [
           0.4,
           "rgb(254,224,144)"
          ],
          [
           0.5,
           "rgb(255,255,191)"
          ],
          [
           0.6,
           "rgb(224,243,248)"
          ],
          [
           0.7,
           "rgb(171,217,233)"
          ],
          [
           0.8,
           "rgb(116,173,209)"
          ],
          [
           0.9,
           "rgb(69,117,180)"
          ],
          [
           1,
           "rgb(49,54,149)"
          ]
         ],
         "type": "surface",
         "x": [
          0,
          1,
          2,
          3,
          4
         ],
         "y": [
          "x",
          "y",
          "z"
         ],
         "z": [
          [
           1,
           2,
           3,
           4,
           5
          ],
          [
           10,
           20,
           30,
           20,
           10
          ],
          [
           5,
           4,
           3,
           2,
           1
          ]
         ]
        }
       ],
       "layout": {
        "legend": {
         "bgcolor": "#F5F6F9",
         "font": {
          "color": "#4D5663"
         }
        },
        "paper_bgcolor": "#F5F6F9",
        "plot_bgcolor": "#F5F6F9",
        "template": {
         "data": {
          "bar": [
           {
            "error_x": {
             "color": "#2a3f5f"
            },
            "error_y": {
             "color": "#2a3f5f"
            },
            "marker": {
             "line": {
              "color": "#E5ECF6",
              "width": 0.5
             },
             "pattern": {
              "fillmode": "overlay",
              "size": 10,
              "solidity": 0.2
             }
            },
            "type": "bar"
           }
          ],
          "barpolar": [
           {
            "marker": {
             "line": {
              "color": "#E5ECF6",
              "width": 0.5
             },
             "pattern": {
              "fillmode": "overlay",
              "size": 10,
              "solidity": 0.2
             }
            },
            "type": "barpolar"
           }
          ],
          "carpet": [
           {
            "aaxis": {
             "endlinecolor": "#2a3f5f",
             "gridcolor": "white",
             "linecolor": "white",
             "minorgridcolor": "white",
             "startlinecolor": "#2a3f5f"
            },
            "baxis": {
             "endlinecolor": "#2a3f5f",
             "gridcolor": "white",
             "linecolor": "white",
             "minorgridcolor": "white",
             "startlinecolor": "#2a3f5f"
            },
            "type": "carpet"
           }
          ],
          "choropleth": [
           {
            "colorbar": {
             "outlinewidth": 0,
             "ticks": ""
            },
            "type": "choropleth"
           }
          ],
          "contour": [
           {
            "colorbar": {
             "outlinewidth": 0,
             "ticks": ""
            },
            "colorscale": [
             [
              0,
              "#0d0887"
             ],
             [
              0.1111111111111111,
              "#46039f"
             ],
             [
              0.2222222222222222,
              "#7201a8"
             ],
             [
              0.3333333333333333,
              "#9c179e"
             ],
             [
              0.4444444444444444,
              "#bd3786"
             ],
             [
              0.5555555555555556,
              "#d8576b"
             ],
             [
              0.6666666666666666,
              "#ed7953"
             ],
             [
              0.7777777777777778,
              "#fb9f3a"
             ],
             [
              0.8888888888888888,
              "#fdca26"
             ],
             [
              1,
              "#f0f921"
             ]
            ],
            "type": "contour"
           }
          ],
          "contourcarpet": [
           {
            "colorbar": {
             "outlinewidth": 0,
             "ticks": ""
            },
            "type": "contourcarpet"
           }
          ],
          "heatmap": [
           {
            "colorbar": {
             "outlinewidth": 0,
             "ticks": ""
            },
            "colorscale": [
             [
              0,
              "#0d0887"
             ],
             [
              0.1111111111111111,
              "#46039f"
             ],
             [
              0.2222222222222222,
              "#7201a8"
             ],
             [
              0.3333333333333333,
              "#9c179e"
             ],
             [
              0.4444444444444444,
              "#bd3786"
             ],
             [
              0.5555555555555556,
              "#d8576b"
             ],
             [
              0.6666666666666666,
              "#ed7953"
             ],
             [
              0.7777777777777778,
              "#fb9f3a"
             ],
             [
              0.8888888888888888,
              "#fdca26"
             ],
             [
              1,
              "#f0f921"
             ]
            ],
            "type": "heatmap"
           }
          ],
          "heatmapgl": [
           {
            "colorbar": {
             "outlinewidth": 0,
             "ticks": ""
            },
            "colorscale": [
             [
              0,
              "#0d0887"
             ],
             [
              0.1111111111111111,
              "#46039f"
             ],
             [
              0.2222222222222222,
              "#7201a8"
             ],
             [
              0.3333333333333333,
              "#9c179e"
             ],
             [
              0.4444444444444444,
              "#bd3786"
             ],
             [
              0.5555555555555556,
              "#d8576b"
             ],
             [
              0.6666666666666666,
              "#ed7953"
             ],
             [
              0.7777777777777778,
              "#fb9f3a"
             ],
             [
              0.8888888888888888,
              "#fdca26"
             ],
             [
              1,
              "#f0f921"
             ]
            ],
            "type": "heatmapgl"
           }
          ],
          "histogram": [
           {
            "marker": {
             "pattern": {
              "fillmode": "overlay",
              "size": 10,
              "solidity": 0.2
             }
            },
            "type": "histogram"
           }
          ],
          "histogram2d": [
           {
            "colorbar": {
             "outlinewidth": 0,
             "ticks": ""
            },
            "colorscale": [
             [
              0,
              "#0d0887"
             ],
             [
              0.1111111111111111,
              "#46039f"
             ],
             [
              0.2222222222222222,
              "#7201a8"
             ],
             [
              0.3333333333333333,
              "#9c179e"
             ],
             [
              0.4444444444444444,
              "#bd3786"
             ],
             [
              0.5555555555555556,
              "#d8576b"
             ],
             [
              0.6666666666666666,
              "#ed7953"
             ],
             [
              0.7777777777777778,
              "#fb9f3a"
             ],
             [
              0.8888888888888888,
              "#fdca26"
             ],
             [
              1,
              "#f0f921"
             ]
            ],
            "type": "histogram2d"
           }
          ],
          "histogram2dcontour": [
           {
            "colorbar": {
             "outlinewidth": 0,
             "ticks": ""
            },
            "colorscale": [
             [
              0,
              "#0d0887"
             ],
             [
              0.1111111111111111,
              "#46039f"
             ],
             [
              0.2222222222222222,
              "#7201a8"
             ],
             [
              0.3333333333333333,
              "#9c179e"
             ],
             [
              0.4444444444444444,
              "#bd3786"
             ],
             [
              0.5555555555555556,
              "#d8576b"
             ],
             [
              0.6666666666666666,
              "#ed7953"
             ],
             [
              0.7777777777777778,
              "#fb9f3a"
             ],
             [
              0.8888888888888888,
              "#fdca26"
             ],
             [
              1,
              "#f0f921"
             ]
            ],
            "type": "histogram2dcontour"
           }
          ],
          "mesh3d": [
           {
            "colorbar": {
             "outlinewidth": 0,
             "ticks": ""
            },
            "type": "mesh3d"
           }
          ],
          "parcoords": [
           {
            "line": {
             "colorbar": {
              "outlinewidth": 0,
              "ticks": ""
             }
            },
            "type": "parcoords"
           }
          ],
          "pie": [
           {
            "automargin": true,
            "type": "pie"
           }
          ],
          "scatter": [
           {
            "marker": {
             "colorbar": {
              "outlinewidth": 0,
              "ticks": ""
             }
            },
            "type": "scatter"
           }
          ],
          "scatter3d": [
           {
            "line": {
             "colorbar": {
              "outlinewidth": 0,
              "ticks": ""
             }
            },
            "marker": {
             "colorbar": {
              "outlinewidth": 0,
              "ticks": ""
             }
            },
            "type": "scatter3d"
           }
          ],
          "scattercarpet": [
           {
            "marker": {
             "colorbar": {
              "outlinewidth": 0,
              "ticks": ""
             }
            },
            "type": "scattercarpet"
           }
          ],
          "scattergeo": [
           {
            "marker": {
             "colorbar": {
              "outlinewidth": 0,
              "ticks": ""
             }
            },
            "type": "scattergeo"
           }
          ],
          "scattergl": [
           {
            "marker": {
             "colorbar": {
              "outlinewidth": 0,
              "ticks": ""
             }
            },
            "type": "scattergl"
           }
          ],
          "scattermapbox": [
           {
            "marker": {
             "colorbar": {
              "outlinewidth": 0,
              "ticks": ""
             }
            },
            "type": "scattermapbox"
           }
          ],
          "scatterpolar": [
           {
            "marker": {
             "colorbar": {
              "outlinewidth": 0,
              "ticks": ""
             }
            },
            "type": "scatterpolar"
           }
          ],
          "scatterpolargl": [
           {
            "marker": {
             "colorbar": {
              "outlinewidth": 0,
              "ticks": ""
             }
            },
            "type": "scatterpolargl"
           }
          ],
          "scatterternary": [
           {
            "marker": {
             "colorbar": {
              "outlinewidth": 0,
              "ticks": ""
             }
            },
            "type": "scatterternary"
           }
          ],
          "surface": [
           {
            "colorbar": {
             "outlinewidth": 0,
             "ticks": ""
            },
            "colorscale": [
             [
              0,
              "#0d0887"
             ],
             [
              0.1111111111111111,
              "#46039f"
             ],
             [
              0.2222222222222222,
              "#7201a8"
             ],
             [
              0.3333333333333333,
              "#9c179e"
             ],
             [
              0.4444444444444444,
              "#bd3786"
             ],
             [
              0.5555555555555556,
              "#d8576b"
             ],
             [
              0.6666666666666666,
              "#ed7953"
             ],
             [
              0.7777777777777778,
              "#fb9f3a"
             ],
             [
              0.8888888888888888,
              "#fdca26"
             ],
             [
              1,
              "#f0f921"
             ]
            ],
            "type": "surface"
           }
          ],
          "table": [
           {
            "cells": {
             "fill": {
              "color": "#EBF0F8"
             },
             "line": {
              "color": "white"
             }
            },
            "header": {
             "fill": {
              "color": "#C8D4E3"
             },
             "line": {
              "color": "white"
             }
            },
            "type": "table"
           }
          ]
         },
         "layout": {
          "annotationdefaults": {
           "arrowcolor": "#2a3f5f",
           "arrowhead": 0,
           "arrowwidth": 1
          },
          "autotypenumbers": "strict",
          "coloraxis": {
           "colorbar": {
            "outlinewidth": 0,
            "ticks": ""
           }
          },
          "colorscale": {
           "diverging": [
            [
             0,
             "#8e0152"
            ],
            [
             0.1,
             "#c51b7d"
            ],
            [
             0.2,
             "#de77ae"
            ],
            [
             0.3,
             "#f1b6da"
            ],
            [
             0.4,
             "#fde0ef"
            ],
            [
             0.5,
             "#f7f7f7"
            ],
            [
             0.6,
             "#e6f5d0"
            ],
            [
             0.7,
             "#b8e186"
            ],
            [
             0.8,
             "#7fbc41"
            ],
            [
             0.9,
             "#4d9221"
            ],
            [
             1,
             "#276419"
            ]
           ],
           "sequential": [
            [
             0,
             "#0d0887"
            ],
            [
             0.1111111111111111,
             "#46039f"
            ],
            [
             0.2222222222222222,
             "#7201a8"
            ],
            [
             0.3333333333333333,
             "#9c179e"
            ],
            [
             0.4444444444444444,
             "#bd3786"
            ],
            [
             0.5555555555555556,
             "#d8576b"
            ],
            [
             0.6666666666666666,
             "#ed7953"
            ],
            [
             0.7777777777777778,
             "#fb9f3a"
            ],
            [
             0.8888888888888888,
             "#fdca26"
            ],
            [
             1,
             "#f0f921"
            ]
           ],
           "sequentialminus": [
            [
             0,
             "#0d0887"
            ],
            [
             0.1111111111111111,
             "#46039f"
            ],
            [
             0.2222222222222222,
             "#7201a8"
            ],
            [
             0.3333333333333333,
             "#9c179e"
            ],
            [
             0.4444444444444444,
             "#bd3786"
            ],
            [
             0.5555555555555556,
             "#d8576b"
            ],
            [
             0.6666666666666666,
             "#ed7953"
            ],
            [
             0.7777777777777778,
             "#fb9f3a"
            ],
            [
             0.8888888888888888,
             "#fdca26"
            ],
            [
             1,
             "#f0f921"
            ]
           ]
          },
          "colorway": [
           "#636efa",
           "#EF553B",
           "#00cc96",
           "#ab63fa",
           "#FFA15A",
           "#19d3f3",
           "#FF6692",
           "#B6E880",
           "#FF97FF",
           "#FECB52"
          ],
          "font": {
           "color": "#2a3f5f"
          },
          "geo": {
           "bgcolor": "white",
           "lakecolor": "white",
           "landcolor": "#E5ECF6",
           "showlakes": true,
           "showland": true,
           "subunitcolor": "white"
          },
          "hoverlabel": {
           "align": "left"
          },
          "hovermode": "closest",
          "mapbox": {
           "style": "light"
          },
          "paper_bgcolor": "white",
          "plot_bgcolor": "#E5ECF6",
          "polar": {
           "angularaxis": {
            "gridcolor": "white",
            "linecolor": "white",
            "ticks": ""
           },
           "bgcolor": "#E5ECF6",
           "radialaxis": {
            "gridcolor": "white",
            "linecolor": "white",
            "ticks": ""
           }
          },
          "scene": {
           "xaxis": {
            "backgroundcolor": "#E5ECF6",
            "gridcolor": "white",
            "gridwidth": 2,
            "linecolor": "white",
            "showbackground": true,
            "ticks": "",
            "zerolinecolor": "white"
           },
           "yaxis": {
            "backgroundcolor": "#E5ECF6",
            "gridcolor": "white",
            "gridwidth": 2,
            "linecolor": "white",
            "showbackground": true,
            "ticks": "",
            "zerolinecolor": "white"
           },
           "zaxis": {
            "backgroundcolor": "#E5ECF6",
            "gridcolor": "white",
            "gridwidth": 2,
            "linecolor": "white",
            "showbackground": true,
            "ticks": "",
            "zerolinecolor": "white"
           }
          },
          "shapedefaults": {
           "line": {
            "color": "#2a3f5f"
           }
          },
          "ternary": {
           "aaxis": {
            "gridcolor": "white",
            "linecolor": "white",
            "ticks": ""
           },
           "baxis": {
            "gridcolor": "white",
            "linecolor": "white",
            "ticks": ""
           },
           "bgcolor": "#E5ECF6",
           "caxis": {
            "gridcolor": "white",
            "linecolor": "white",
            "ticks": ""
           }
          },
          "title": {
           "x": 0.05
          },
          "xaxis": {
           "automargin": true,
           "gridcolor": "white",
           "linecolor": "white",
           "ticks": "",
           "title": {
            "standoff": 15
           },
           "zerolinecolor": "white",
           "zerolinewidth": 2
          },
          "yaxis": {
           "automargin": true,
           "gridcolor": "white",
           "linecolor": "white",
           "ticks": "",
           "title": {
            "standoff": 15
           },
           "zerolinecolor": "white",
           "zerolinewidth": 2
          }
         }
        },
        "title": {
         "font": {
          "color": "#4D5663"
         }
        },
        "xaxis": {
         "gridcolor": "#E1E5ED",
         "showgrid": true,
         "tickfont": {
          "color": "#4D5663"
         },
         "title": {
          "font": {
           "color": "#4D5663"
          },
          "text": ""
         },
         "zerolinecolor": "#E1E5ED"
        },
        "yaxis": {
         "gridcolor": "#E1E5ED",
         "showgrid": true,
         "tickfont": {
          "color": "#4D5663"
         },
         "title": {
          "font": {
           "color": "#4D5663"
          },
          "text": ""
         },
         "zerolinecolor": "#E1E5ED"
        }
       }
      },
      "text/html": [
       "<div>                            <div id=\"b934f292-53f7-4381-9b01-8398d1bd4e50\" class=\"plotly-graph-div\" style=\"height:525px; width:100%;\"></div>            <script type=\"text/javascript\">                require([\"plotly\"], function(Plotly) {                    window.PLOTLYENV=window.PLOTLYENV || {};\n",
       "                    window.PLOTLYENV.BASE_URL='https://plot.ly';                                    if (document.getElementById(\"b934f292-53f7-4381-9b01-8398d1bd4e50\")) {                    Plotly.newPlot(                        \"b934f292-53f7-4381-9b01-8398d1bd4e50\",                        [{\"colorscale\":[[0.0,\"rgb(165,0,38)\"],[0.1,\"rgb(215,48,39)\"],[0.2,\"rgb(244,109,67)\"],[0.3,\"rgb(253,174,97)\"],[0.4,\"rgb(254,224,144)\"],[0.5,\"rgb(255,255,191)\"],[0.6,\"rgb(224,243,248)\"],[0.7,\"rgb(171,217,233)\"],[0.8,\"rgb(116,173,209)\"],[0.9,\"rgb(69,117,180)\"],[1.0,\"rgb(49,54,149)\"]],\"x\":[0,1,2,3,4],\"y\":[\"x\",\"y\",\"z\"],\"z\":[[1,2,3,4,5],[10,20,30,20,10],[5,4,3,2,1]],\"type\":\"surface\"}],                        {\"legend\":{\"bgcolor\":\"#F5F6F9\",\"font\":{\"color\":\"#4D5663\"}},\"paper_bgcolor\":\"#F5F6F9\",\"plot_bgcolor\":\"#F5F6F9\",\"template\":{\"data\":{\"barpolar\":[{\"marker\":{\"line\":{\"color\":\"#E5ECF6\",\"width\":0.5},\"pattern\":{\"fillmode\":\"overlay\",\"size\":10,\"solidity\":0.2}},\"type\":\"barpolar\"}],\"bar\":[{\"error_x\":{\"color\":\"#2a3f5f\"},\"error_y\":{\"color\":\"#2a3f5f\"},\"marker\":{\"line\":{\"color\":\"#E5ECF6\",\"width\":0.5},\"pattern\":{\"fillmode\":\"overlay\",\"size\":10,\"solidity\":0.2}},\"type\":\"bar\"}],\"carpet\":[{\"aaxis\":{\"endlinecolor\":\"#2a3f5f\",\"gridcolor\":\"white\",\"linecolor\":\"white\",\"minorgridcolor\":\"white\",\"startlinecolor\":\"#2a3f5f\"},\"baxis\":{\"endlinecolor\":\"#2a3f5f\",\"gridcolor\":\"white\",\"linecolor\":\"white\",\"minorgridcolor\":\"white\",\"startlinecolor\":\"#2a3f5f\"},\"type\":\"carpet\"}],\"choropleth\":[{\"colorbar\":{\"outlinewidth\":0,\"ticks\":\"\"},\"type\":\"choropleth\"}],\"contourcarpet\":[{\"colorbar\":{\"outlinewidth\":0,\"ticks\":\"\"},\"type\":\"contourcarpet\"}],\"contour\":[{\"colorbar\":{\"outlinewidth\":0,\"ticks\":\"\"},\"colorscale\":[[0.0,\"#0d0887\"],[0.1111111111111111,\"#46039f\"],[0.2222222222222222,\"#7201a8\"],[0.3333333333333333,\"#9c179e\"],[0.4444444444444444,\"#bd3786\"],[0.5555555555555556,\"#d8576b\"],[0.6666666666666666,\"#ed7953\"],[0.7777777777777778,\"#fb9f3a\"],[0.8888888888888888,\"#fdca26\"],[1.0,\"#f0f921\"]],\"type\":\"contour\"}],\"heatmapgl\":[{\"colorbar\":{\"outlinewidth\":0,\"ticks\":\"\"},\"colorscale\":[[0.0,\"#0d0887\"],[0.1111111111111111,\"#46039f\"],[0.2222222222222222,\"#7201a8\"],[0.3333333333333333,\"#9c179e\"],[0.4444444444444444,\"#bd3786\"],[0.5555555555555556,\"#d8576b\"],[0.6666666666666666,\"#ed7953\"],[0.7777777777777778,\"#fb9f3a\"],[0.8888888888888888,\"#fdca26\"],[1.0,\"#f0f921\"]],\"type\":\"heatmapgl\"}],\"heatmap\":[{\"colorbar\":{\"outlinewidth\":0,\"ticks\":\"\"},\"colorscale\":[[0.0,\"#0d0887\"],[0.1111111111111111,\"#46039f\"],[0.2222222222222222,\"#7201a8\"],[0.3333333333333333,\"#9c179e\"],[0.4444444444444444,\"#bd3786\"],[0.5555555555555556,\"#d8576b\"],[0.6666666666666666,\"#ed7953\"],[0.7777777777777778,\"#fb9f3a\"],[0.8888888888888888,\"#fdca26\"],[1.0,\"#f0f921\"]],\"type\":\"heatmap\"}],\"histogram2dcontour\":[{\"colorbar\":{\"outlinewidth\":0,\"ticks\":\"\"},\"colorscale\":[[0.0,\"#0d0887\"],[0.1111111111111111,\"#46039f\"],[0.2222222222222222,\"#7201a8\"],[0.3333333333333333,\"#9c179e\"],[0.4444444444444444,\"#bd3786\"],[0.5555555555555556,\"#d8576b\"],[0.6666666666666666,\"#ed7953\"],[0.7777777777777778,\"#fb9f3a\"],[0.8888888888888888,\"#fdca26\"],[1.0,\"#f0f921\"]],\"type\":\"histogram2dcontour\"}],\"histogram2d\":[{\"colorbar\":{\"outlinewidth\":0,\"ticks\":\"\"},\"colorscale\":[[0.0,\"#0d0887\"],[0.1111111111111111,\"#46039f\"],[0.2222222222222222,\"#7201a8\"],[0.3333333333333333,\"#9c179e\"],[0.4444444444444444,\"#bd3786\"],[0.5555555555555556,\"#d8576b\"],[0.6666666666666666,\"#ed7953\"],[0.7777777777777778,\"#fb9f3a\"],[0.8888888888888888,\"#fdca26\"],[1.0,\"#f0f921\"]],\"type\":\"histogram2d\"}],\"histogram\":[{\"marker\":{\"pattern\":{\"fillmode\":\"overlay\",\"size\":10,\"solidity\":0.2}},\"type\":\"histogram\"}],\"mesh3d\":[{\"colorbar\":{\"outlinewidth\":0,\"ticks\":\"\"},\"type\":\"mesh3d\"}],\"parcoords\":[{\"line\":{\"colorbar\":{\"outlinewidth\":0,\"ticks\":\"\"}},\"type\":\"parcoords\"}],\"pie\":[{\"automargin\":true,\"type\":\"pie\"}],\"scatter3d\":[{\"line\":{\"colorbar\":{\"outlinewidth\":0,\"ticks\":\"\"}},\"marker\":{\"colorbar\":{\"outlinewidth\":0,\"ticks\":\"\"}},\"type\":\"scatter3d\"}],\"scattercarpet\":[{\"marker\":{\"colorbar\":{\"outlinewidth\":0,\"ticks\":\"\"}},\"type\":\"scattercarpet\"}],\"scattergeo\":[{\"marker\":{\"colorbar\":{\"outlinewidth\":0,\"ticks\":\"\"}},\"type\":\"scattergeo\"}],\"scattergl\":[{\"marker\":{\"colorbar\":{\"outlinewidth\":0,\"ticks\":\"\"}},\"type\":\"scattergl\"}],\"scattermapbox\":[{\"marker\":{\"colorbar\":{\"outlinewidth\":0,\"ticks\":\"\"}},\"type\":\"scattermapbox\"}],\"scatterpolargl\":[{\"marker\":{\"colorbar\":{\"outlinewidth\":0,\"ticks\":\"\"}},\"type\":\"scatterpolargl\"}],\"scatterpolar\":[{\"marker\":{\"colorbar\":{\"outlinewidth\":0,\"ticks\":\"\"}},\"type\":\"scatterpolar\"}],\"scatter\":[{\"marker\":{\"colorbar\":{\"outlinewidth\":0,\"ticks\":\"\"}},\"type\":\"scatter\"}],\"scatterternary\":[{\"marker\":{\"colorbar\":{\"outlinewidth\":0,\"ticks\":\"\"}},\"type\":\"scatterternary\"}],\"surface\":[{\"colorbar\":{\"outlinewidth\":0,\"ticks\":\"\"},\"colorscale\":[[0.0,\"#0d0887\"],[0.1111111111111111,\"#46039f\"],[0.2222222222222222,\"#7201a8\"],[0.3333333333333333,\"#9c179e\"],[0.4444444444444444,\"#bd3786\"],[0.5555555555555556,\"#d8576b\"],[0.6666666666666666,\"#ed7953\"],[0.7777777777777778,\"#fb9f3a\"],[0.8888888888888888,\"#fdca26\"],[1.0,\"#f0f921\"]],\"type\":\"surface\"}],\"table\":[{\"cells\":{\"fill\":{\"color\":\"#EBF0F8\"},\"line\":{\"color\":\"white\"}},\"header\":{\"fill\":{\"color\":\"#C8D4E3\"},\"line\":{\"color\":\"white\"}},\"type\":\"table\"}]},\"layout\":{\"annotationdefaults\":{\"arrowcolor\":\"#2a3f5f\",\"arrowhead\":0,\"arrowwidth\":1},\"autotypenumbers\":\"strict\",\"coloraxis\":{\"colorbar\":{\"outlinewidth\":0,\"ticks\":\"\"}},\"colorscale\":{\"diverging\":[[0,\"#8e0152\"],[0.1,\"#c51b7d\"],[0.2,\"#de77ae\"],[0.3,\"#f1b6da\"],[0.4,\"#fde0ef\"],[0.5,\"#f7f7f7\"],[0.6,\"#e6f5d0\"],[0.7,\"#b8e186\"],[0.8,\"#7fbc41\"],[0.9,\"#4d9221\"],[1,\"#276419\"]],\"sequential\":[[0.0,\"#0d0887\"],[0.1111111111111111,\"#46039f\"],[0.2222222222222222,\"#7201a8\"],[0.3333333333333333,\"#9c179e\"],[0.4444444444444444,\"#bd3786\"],[0.5555555555555556,\"#d8576b\"],[0.6666666666666666,\"#ed7953\"],[0.7777777777777778,\"#fb9f3a\"],[0.8888888888888888,\"#fdca26\"],[1.0,\"#f0f921\"]],\"sequentialminus\":[[0.0,\"#0d0887\"],[0.1111111111111111,\"#46039f\"],[0.2222222222222222,\"#7201a8\"],[0.3333333333333333,\"#9c179e\"],[0.4444444444444444,\"#bd3786\"],[0.5555555555555556,\"#d8576b\"],[0.6666666666666666,\"#ed7953\"],[0.7777777777777778,\"#fb9f3a\"],[0.8888888888888888,\"#fdca26\"],[1.0,\"#f0f921\"]]},\"colorway\":[\"#636efa\",\"#EF553B\",\"#00cc96\",\"#ab63fa\",\"#FFA15A\",\"#19d3f3\",\"#FF6692\",\"#B6E880\",\"#FF97FF\",\"#FECB52\"],\"font\":{\"color\":\"#2a3f5f\"},\"geo\":{\"bgcolor\":\"white\",\"lakecolor\":\"white\",\"landcolor\":\"#E5ECF6\",\"showlakes\":true,\"showland\":true,\"subunitcolor\":\"white\"},\"hoverlabel\":{\"align\":\"left\"},\"hovermode\":\"closest\",\"mapbox\":{\"style\":\"light\"},\"paper_bgcolor\":\"white\",\"plot_bgcolor\":\"#E5ECF6\",\"polar\":{\"angularaxis\":{\"gridcolor\":\"white\",\"linecolor\":\"white\",\"ticks\":\"\"},\"bgcolor\":\"#E5ECF6\",\"radialaxis\":{\"gridcolor\":\"white\",\"linecolor\":\"white\",\"ticks\":\"\"}},\"scene\":{\"xaxis\":{\"backgroundcolor\":\"#E5ECF6\",\"gridcolor\":\"white\",\"gridwidth\":2,\"linecolor\":\"white\",\"showbackground\":true,\"ticks\":\"\",\"zerolinecolor\":\"white\"},\"yaxis\":{\"backgroundcolor\":\"#E5ECF6\",\"gridcolor\":\"white\",\"gridwidth\":2,\"linecolor\":\"white\",\"showbackground\":true,\"ticks\":\"\",\"zerolinecolor\":\"white\"},\"zaxis\":{\"backgroundcolor\":\"#E5ECF6\",\"gridcolor\":\"white\",\"gridwidth\":2,\"linecolor\":\"white\",\"showbackground\":true,\"ticks\":\"\",\"zerolinecolor\":\"white\"}},\"shapedefaults\":{\"line\":{\"color\":\"#2a3f5f\"}},\"ternary\":{\"aaxis\":{\"gridcolor\":\"white\",\"linecolor\":\"white\",\"ticks\":\"\"},\"baxis\":{\"gridcolor\":\"white\",\"linecolor\":\"white\",\"ticks\":\"\"},\"bgcolor\":\"#E5ECF6\",\"caxis\":{\"gridcolor\":\"white\",\"linecolor\":\"white\",\"ticks\":\"\"}},\"title\":{\"x\":0.05},\"xaxis\":{\"automargin\":true,\"gridcolor\":\"white\",\"linecolor\":\"white\",\"ticks\":\"\",\"title\":{\"standoff\":15},\"zerolinecolor\":\"white\",\"zerolinewidth\":2},\"yaxis\":{\"automargin\":true,\"gridcolor\":\"white\",\"linecolor\":\"white\",\"ticks\":\"\",\"title\":{\"standoff\":15},\"zerolinecolor\":\"white\",\"zerolinewidth\":2}}},\"title\":{\"font\":{\"color\":\"#4D5663\"}},\"xaxis\":{\"gridcolor\":\"#E1E5ED\",\"showgrid\":true,\"tickfont\":{\"color\":\"#4D5663\"},\"title\":{\"font\":{\"color\":\"#4D5663\"},\"text\":\"\"},\"zerolinecolor\":\"#E1E5ED\"},\"yaxis\":{\"gridcolor\":\"#E1E5ED\",\"showgrid\":true,\"tickfont\":{\"color\":\"#4D5663\"},\"title\":{\"font\":{\"color\":\"#4D5663\"},\"text\":\"\"},\"zerolinecolor\":\"#E1E5ED\"}},                        {\"showLink\": true, \"linkText\": \"Export to plot.ly\", \"plotlyServerURL\": \"https://plot.ly\", \"responsive\": true}                    ).then(function(){\n",
       "                            \n",
       "var gd = document.getElementById('b934f292-53f7-4381-9b01-8398d1bd4e50');\n",
       "var x = new MutationObserver(function (mutations, observer) {{\n",
       "        var display = window.getComputedStyle(gd).display;\n",
       "        if (!display || display === 'none') {{\n",
       "            console.log([gd, 'removed!']);\n",
       "            Plotly.purge(gd);\n",
       "            observer.disconnect();\n",
       "        }}\n",
       "}});\n",
       "\n",
       "// Listen for the removal of the full notebook cells\n",
       "var notebookContainer = gd.closest('#notebook-container');\n",
       "if (notebookContainer) {{\n",
       "    x.observe(notebookContainer, {childList: true});\n",
       "}}\n",
       "\n",
       "// Listen for the clearing of the current output cell\n",
       "var outputEl = gd.closest('.output');\n",
       "if (outputEl) {{\n",
       "    x.observe(outputEl, {childList: true});\n",
       "}}\n",
       "\n",
       "                        })                };                });            </script>        </div>"
      ]
     },
     "metadata": {},
     "output_type": "display_data"
    }
   ],
   "source": [
    "df3 = pd.DataFrame({'x':[1,2,3,4,5],'y':[10,20,30,20,10],'z':[5,4,3,2,1]})\n",
    "df3.iplot(kind='surface',colorscale='rdylbu')"
   ]
  },
  {
   "cell_type": "markdown",
   "metadata": {},
   "source": [
    "## Spread"
   ]
  },
  {
   "cell_type": "code",
   "execution_count": 23,
   "metadata": {},
   "outputs": [
    {
     "name": "stderr",
     "output_type": "stream",
     "text": [
      "C:\\anaconda3\\lib\\site-packages\\cufflinks\\plotlytools.py:849: FutureWarning:\n",
      "\n",
      "The pandas.np module is deprecated and will be removed from pandas in a future version. Import numpy directly instead\n",
      "\n",
      "C:\\anaconda3\\lib\\site-packages\\cufflinks\\plotlytools.py:850: FutureWarning:\n",
      "\n",
      "The pandas.np module is deprecated and will be removed from pandas in a future version. Import numpy directly instead\n",
      "\n"
     ]
    },
    {
     "data": {
      "application/vnd.plotly.v1+json": {
       "config": {
        "linkText": "Export to plot.ly",
        "plotlyServerURL": "https://plot.ly",
        "showLink": true
       },
       "data": [
        {
         "line": {
          "color": "rgba(255, 153, 51, 1.0)",
          "dash": "solid",
          "shape": "linear",
          "width": 1.3
         },
         "mode": "lines",
         "name": "A",
         "text": "",
         "type": "scatter",
         "x": [
          0,
          1,
          2,
          3,
          4,
          5,
          6,
          7,
          8,
          9,
          10,
          11,
          12,
          13,
          14,
          15,
          16,
          17,
          18,
          19,
          20,
          21,
          22,
          23,
          24,
          25,
          26,
          27,
          28,
          29,
          30,
          31,
          32,
          33,
          34,
          35,
          36,
          37,
          38,
          39,
          40,
          41,
          42,
          43,
          44,
          45,
          46,
          47,
          48,
          49,
          50,
          51,
          52,
          53,
          54,
          55,
          56,
          57,
          58,
          59,
          60,
          61,
          62,
          63,
          64,
          65,
          66,
          67,
          68,
          69,
          70,
          71,
          72,
          73,
          74,
          75,
          76,
          77,
          78,
          79,
          80,
          81,
          82,
          83,
          84,
          85,
          86,
          87,
          88,
          89,
          90,
          91,
          92,
          93,
          94,
          95,
          96,
          97,
          98,
          99
         ],
         "y": [
          0.7295363441218393,
          -0.30709735423890133,
          0.492710813594875,
          0.08392566125616459,
          -0.6889455689979118,
          0.5470456033814226,
          -0.59537959593479,
          0.590991782392905,
          0.9972471665249101,
          1.4378882065324756,
          0.11926922188426163,
          -1.6571759958291157,
          0.4487064707697026,
          -2.51301997833897,
          0.6001221119436471,
          -2.731948786259892,
          1.3607099053275447,
          -0.731152267488863,
          -1.3966859085953525,
          0.17378944539031352,
          0.6817597346735718,
          1.1402012726597144,
          0.14349266373328687,
          -0.9377451346394511,
          0.017522155117618125,
          0.3235679464012107,
          0.836983146893619,
          -0.8792559105632725,
          -1.1801754241794296,
          -0.3795826015311692,
          -1.140787877799205,
          -0.7723948304435839,
          -0.5145019292009516,
          0.35609369850632194,
          -1.511771529880759,
          1.3774677496649568,
          -0.16454591236628077,
          -0.20152889220951667,
          -0.8123283332056657,
          0.595491766397253,
          -0.7970370986126426,
          -0.7349886528627032,
          0.6385817620476262,
          -0.1332010168119281,
          -0.6122662727680039,
          -2.4533287444652374,
          -1.2247225198339713,
          -0.25819872800993604,
          -0.37154228878299783,
          1.1548376757268877,
          0.6091866542203763,
          0.4905265364947855,
          1.7151703495190282,
          0.5379372760497011,
          -0.9060239939628344,
          -0.4757653879199119,
          0.7393937868154522,
          -2.2189647639590326,
          0.37041005207702155,
          1.0224887183461624,
          -0.5119055368256046,
          -0.9017925229090039,
          0.1447604829762621,
          -2.422737424208872,
          -0.7930350683984899,
          -1.1868366962480066,
          -2.0569449530090984,
          1.1920114509529198,
          -0.46156730828628,
          -0.719859833789653,
          0.5066864394881544,
          1.473741498165212,
          -1.5954387366714262,
          -0.4782502836781616,
          -0.16444298863396906,
          1.1408405792421255,
          -0.7097825274860883,
          0.7513186713580287,
          0.1339137866817911,
          -1.3011927732441302,
          1.2811633564799318,
          -0.3242821085915659,
          0.6457367692201954,
          0.0031357660336803783,
          0.7701540363029559,
          1.1149898631778379,
          0.25928287776938813,
          1.6665070758153746,
          -1.8969684050518085,
          0.681158307412814,
          -0.45063469387663485,
          1.5622406665206328,
          -0.12734672873637162,
          -0.5040136701566764,
          1.1767269743927373,
          0.618194840212031,
          -0.6238683392746781,
          0.040684028835876136,
          0.49591506198487856,
          0.5402290487669394
         ]
        },
        {
         "line": {
          "color": "rgba(55, 128, 191, 1.0)",
          "dash": "solid",
          "shape": "linear",
          "width": 1.3
         },
         "mode": "lines",
         "name": "B",
         "text": "",
         "type": "scatter",
         "x": [
          0,
          1,
          2,
          3,
          4,
          5,
          6,
          7,
          8,
          9,
          10,
          11,
          12,
          13,
          14,
          15,
          16,
          17,
          18,
          19,
          20,
          21,
          22,
          23,
          24,
          25,
          26,
          27,
          28,
          29,
          30,
          31,
          32,
          33,
          34,
          35,
          36,
          37,
          38,
          39,
          40,
          41,
          42,
          43,
          44,
          45,
          46,
          47,
          48,
          49,
          50,
          51,
          52,
          53,
          54,
          55,
          56,
          57,
          58,
          59,
          60,
          61,
          62,
          63,
          64,
          65,
          66,
          67,
          68,
          69,
          70,
          71,
          72,
          73,
          74,
          75,
          76,
          77,
          78,
          79,
          80,
          81,
          82,
          83,
          84,
          85,
          86,
          87,
          88,
          89,
          90,
          91,
          92,
          93,
          94,
          95,
          96,
          97,
          98,
          99
         ],
         "y": [
          0.5932107040360172,
          0.04753954704139975,
          -0.444048574584182,
          -0.09335676213517706,
          -1.7432026927789257,
          1.0909115353161996,
          0.5971969506321606,
          1.8949064155444952,
          -1.1931694954805152,
          -0.05676690937649937,
          -2.2217498558969324,
          -1.297293680429583,
          -0.021679536036858914,
          0.8916762942133755,
          -0.02348621814267172,
          -1.5786609005306635,
          0.24357246516668982,
          0.010917665382364302,
          0.5571223092510637,
          -1.2475758485667943,
          1.5868744203536709,
          -0.8057521945444989,
          0.7362339481277361,
          0.9477863231294862,
          -0.5995459180209022,
          0.32554867390014314,
          -0.24356449203624217,
          1.1979573743086407,
          0.7822599197053102,
          -1.0954063618013492,
          -1.4808650659886475,
          -0.03216781584335983,
          -1.8683123603357328,
          0.07009016085630791,
          1.0824506963115468,
          0.674844983492287,
          -0.4896990474459487,
          -0.25826941502304024,
          1.665037379640575,
          0.010847284024948613,
          -0.6880159072252328,
          -1.5714676059379604,
          0.9714241406998673,
          -0.24294500318685008,
          -0.06292344712525674,
          -1.3987054229303149,
          -0.4734533238685408,
          -2.321963835811431,
          1.3884196000510303,
          -0.31025234222947135,
          -1.481113764744444,
          -0.7699363254437,
          -1.1778899107140954,
          -0.8987703761011371,
          0.19883119197798022,
          -0.8858314065876076,
          -1.5178717776599873,
          0.5893703347859245,
          -0.6994135868450015,
          -0.48358717433491655,
          -1.0267079997349633,
          0.5298163054115055,
          0.14310713216157514,
          -0.35419547943352053,
          0.10136482998347482,
          0.7934625832758466,
          -0.5560458519842975,
          -0.07531028933549962,
          0.04992795085509383,
          1.1711134364945317,
          1.3911558612592592,
          0.3384467388925263,
          -1.0964942691720898,
          2.279215075793931,
          2.0177131899560052,
          -0.8702672956301913,
          -1.790636564450756,
          -1.1939131889231476,
          -1.0308948061031502,
          0.8574156496421109,
          0.20214773489736038,
          0.05214163230900531,
          -0.5361664714973083,
          -0.2671110698261588,
          1.67295750683312,
          0.47336831168584104,
          1.3273464336078364,
          -0.1455793598936071,
          1.0127945851899962,
          1.1546317432106692,
          -0.05084218514467188,
          -0.9450278958175217,
          0.5740271589665797,
          0.28224149312428837,
          2.659282372516733,
          -0.5020185634569961,
          0.8538731764432778,
          0.28591735410309577,
          -1.4126982855654242,
          -1.8891270064966479
         ]
        },
        {
         "connectgaps": false,
         "fill": "tozeroy",
         "line": {
          "color": "green",
          "dash": "solid",
          "shape": "linear",
          "width": 0.5
         },
         "mode": "lines",
         "name": "Spread",
         "showlegend": false,
         "type": "scatter",
         "x": [
          0,
          1,
          2,
          3,
          4,
          5,
          6,
          7,
          8,
          9,
          10,
          11,
          12,
          13,
          14,
          15,
          16,
          17,
          18,
          19,
          20,
          21,
          22,
          23,
          24,
          25,
          26,
          27,
          28,
          29,
          30,
          31,
          32,
          33,
          34,
          35,
          36,
          37,
          38,
          39,
          40,
          41,
          42,
          43,
          44,
          45,
          46,
          47,
          48,
          49,
          50,
          51,
          52,
          53,
          54,
          55,
          56,
          57,
          58,
          59,
          60,
          61,
          62,
          63,
          64,
          65,
          66,
          67,
          68,
          69,
          70,
          71,
          72,
          73,
          74,
          75,
          76,
          77,
          78,
          79,
          80,
          81,
          82,
          83,
          84,
          85,
          86,
          87,
          88,
          89,
          90,
          91,
          92,
          93,
          94,
          95,
          96,
          97,
          98,
          99
         ],
         "xaxis": "x2",
         "y": [
          0.13632564008582215,
          "",
          0.936759388179057,
          0.17728242339134165,
          1.0542571237810139,
          "",
          "",
          "",
          2.1904166620054255,
          1.494655115908975,
          2.341019077781194,
          "",
          0.4703860068065615,
          "",
          0.6236083300863188,
          "",
          1.117137440160855,
          "",
          "",
          1.4213652939571078,
          "",
          1.9459534672042134,
          "",
          "",
          0.6170680731385203,
          "",
          1.0805476389298612,
          "",
          "",
          0.71582376027018,
          0.34007718818944244,
          "",
          1.3538104311347812,
          0.286003537650014,
          "",
          0.7026227661726697,
          0.3251531350796679,
          0.05674052281352357,
          "",
          0.5846444823723044,
          "",
          0.8364789530752572,
          "",
          0.10974398637492197,
          "",
          "",
          "",
          2.063765107801495,
          "",
          1.465090017956359,
          2.09030041896482,
          1.2604628619384854,
          2.8930602602331237,
          1.4367076521508382,
          "",
          0.4100660186676957,
          2.2572655644754396,
          "",
          1.069823638922023,
          1.5060758926810789,
          0.5148024629093587,
          "",
          0.0016533508146869547,
          "",
          "",
          "",
          "",
          1.2673217402884194,
          "",
          "",
          "",
          1.1352947592726856,
          "",
          "",
          "",
          2.011107874872317,
          1.0808540369646678,
          1.9452318602811762,
          1.1648085927849414,
          "",
          1.0790156215825715,
          "",
          1.1819032407175039,
          0.27024683585983916,
          "",
          0.6416215514919968,
          "",
          1.8120864357089816,
          "",
          "",
          "",
          2.5072685623381545,
          "",
          "",
          "",
          1.1202134036690272,
          "",
          "",
          1.9086133475503027,
          2.4293560552635873
         ],
         "yaxis": "y2"
        },
        {
         "connectgaps": false,
         "fill": "tozeroy",
         "line": {
          "color": "red",
          "dash": "solid",
          "shape": "linear",
          "width": 0.5
         },
         "mode": "lines",
         "name": "Spread",
         "showlegend": false,
         "type": "scatter",
         "x": [
          0,
          1,
          2,
          3,
          4,
          5,
          6,
          7,
          8,
          9,
          10,
          11,
          12,
          13,
          14,
          15,
          16,
          17,
          18,
          19,
          20,
          21,
          22,
          23,
          24,
          25,
          26,
          27,
          28,
          29,
          30,
          31,
          32,
          33,
          34,
          35,
          36,
          37,
          38,
          39,
          40,
          41,
          42,
          43,
          44,
          45,
          46,
          47,
          48,
          49,
          50,
          51,
          52,
          53,
          54,
          55,
          56,
          57,
          58,
          59,
          60,
          61,
          62,
          63,
          64,
          65,
          66,
          67,
          68,
          69,
          70,
          71,
          72,
          73,
          74,
          75,
          76,
          77,
          78,
          79,
          80,
          81,
          82,
          83,
          84,
          85,
          86,
          87,
          88,
          89,
          90,
          91,
          92,
          93,
          94,
          95,
          96,
          97,
          98,
          99
         ],
         "xaxis": "x2",
         "y": [
          "",
          -0.35463690128030106,
          "",
          "",
          "",
          -0.543865931934777,
          -1.1925765465669507,
          -1.3039146331515903,
          "",
          "",
          "",
          -0.35988231539953275,
          "",
          -3.4046962725523455,
          "",
          -1.1532878857292284,
          "",
          -0.7420699328712272,
          -1.953808217846416,
          "",
          -0.9051146856800991,
          "",
          -0.5927412843944493,
          -1.8855314577689373,
          "",
          -0.001980727498932411,
          "",
          -2.077213284871913,
          -1.9624353438847397,
          "",
          "",
          -0.7402270146002241,
          "",
          "",
          -2.594222226192306,
          "",
          "",
          "",
          -2.4773657128462405,
          "",
          -0.10902119138740984,
          "",
          -0.3328423786522411,
          "",
          -0.5493428256427472,
          -1.0546233215349226,
          -0.7512691959654305,
          "",
          -1.759961888834028,
          "",
          "",
          "",
          "",
          "",
          -1.1048551859408147,
          "",
          "",
          -2.808335098744957,
          "",
          "",
          "",
          -1.4316088283205093,
          "",
          -2.0685419447753515,
          -0.8943998983819648,
          -1.9802992795238532,
          -1.500899101024801,
          "",
          -0.5114952591413738,
          -1.8909732702841846,
          -0.8844694217711048,
          "",
          -0.4989444674993364,
          -2.7574653594720924,
          -2.1821561785899743,
          "",
          "",
          "",
          "",
          -2.158608422886241,
          "",
          -0.37642374090057124,
          "",
          "",
          -0.9028034705301641,
          "",
          -1.0680635558384484,
          "",
          -2.9097629902418047,
          -0.47347343579785517,
          -0.399792508731963,
          "",
          -0.7013738877029514,
          -0.7862551632809648,
          -1.4825553981239958,
          "",
          -1.4777415157179559,
          -0.24523332526721964,
          "",
          ""
         ],
         "yaxis": "y2"
        }
       ],
       "layout": {
        "hovermode": "x",
        "legend": {
         "bgcolor": "#F5F6F9",
         "font": {
          "color": "#4D5663"
         }
        },
        "paper_bgcolor": "#F5F6F9",
        "plot_bgcolor": "#F5F6F9",
        "template": {
         "data": {
          "bar": [
           {
            "error_x": {
             "color": "#2a3f5f"
            },
            "error_y": {
             "color": "#2a3f5f"
            },
            "marker": {
             "line": {
              "color": "#E5ECF6",
              "width": 0.5
             },
             "pattern": {
              "fillmode": "overlay",
              "size": 10,
              "solidity": 0.2
             }
            },
            "type": "bar"
           }
          ],
          "barpolar": [
           {
            "marker": {
             "line": {
              "color": "#E5ECF6",
              "width": 0.5
             },
             "pattern": {
              "fillmode": "overlay",
              "size": 10,
              "solidity": 0.2
             }
            },
            "type": "barpolar"
           }
          ],
          "carpet": [
           {
            "aaxis": {
             "endlinecolor": "#2a3f5f",
             "gridcolor": "white",
             "linecolor": "white",
             "minorgridcolor": "white",
             "startlinecolor": "#2a3f5f"
            },
            "baxis": {
             "endlinecolor": "#2a3f5f",
             "gridcolor": "white",
             "linecolor": "white",
             "minorgridcolor": "white",
             "startlinecolor": "#2a3f5f"
            },
            "type": "carpet"
           }
          ],
          "choropleth": [
           {
            "colorbar": {
             "outlinewidth": 0,
             "ticks": ""
            },
            "type": "choropleth"
           }
          ],
          "contour": [
           {
            "colorbar": {
             "outlinewidth": 0,
             "ticks": ""
            },
            "colorscale": [
             [
              0,
              "#0d0887"
             ],
             [
              0.1111111111111111,
              "#46039f"
             ],
             [
              0.2222222222222222,
              "#7201a8"
             ],
             [
              0.3333333333333333,
              "#9c179e"
             ],
             [
              0.4444444444444444,
              "#bd3786"
             ],
             [
              0.5555555555555556,
              "#d8576b"
             ],
             [
              0.6666666666666666,
              "#ed7953"
             ],
             [
              0.7777777777777778,
              "#fb9f3a"
             ],
             [
              0.8888888888888888,
              "#fdca26"
             ],
             [
              1,
              "#f0f921"
             ]
            ],
            "type": "contour"
           }
          ],
          "contourcarpet": [
           {
            "colorbar": {
             "outlinewidth": 0,
             "ticks": ""
            },
            "type": "contourcarpet"
           }
          ],
          "heatmap": [
           {
            "colorbar": {
             "outlinewidth": 0,
             "ticks": ""
            },
            "colorscale": [
             [
              0,
              "#0d0887"
             ],
             [
              0.1111111111111111,
              "#46039f"
             ],
             [
              0.2222222222222222,
              "#7201a8"
             ],
             [
              0.3333333333333333,
              "#9c179e"
             ],
             [
              0.4444444444444444,
              "#bd3786"
             ],
             [
              0.5555555555555556,
              "#d8576b"
             ],
             [
              0.6666666666666666,
              "#ed7953"
             ],
             [
              0.7777777777777778,
              "#fb9f3a"
             ],
             [
              0.8888888888888888,
              "#fdca26"
             ],
             [
              1,
              "#f0f921"
             ]
            ],
            "type": "heatmap"
           }
          ],
          "heatmapgl": [
           {
            "colorbar": {
             "outlinewidth": 0,
             "ticks": ""
            },
            "colorscale": [
             [
              0,
              "#0d0887"
             ],
             [
              0.1111111111111111,
              "#46039f"
             ],
             [
              0.2222222222222222,
              "#7201a8"
             ],
             [
              0.3333333333333333,
              "#9c179e"
             ],
             [
              0.4444444444444444,
              "#bd3786"
             ],
             [
              0.5555555555555556,
              "#d8576b"
             ],
             [
              0.6666666666666666,
              "#ed7953"
             ],
             [
              0.7777777777777778,
              "#fb9f3a"
             ],
             [
              0.8888888888888888,
              "#fdca26"
             ],
             [
              1,
              "#f0f921"
             ]
            ],
            "type": "heatmapgl"
           }
          ],
          "histogram": [
           {
            "marker": {
             "pattern": {
              "fillmode": "overlay",
              "size": 10,
              "solidity": 0.2
             }
            },
            "type": "histogram"
           }
          ],
          "histogram2d": [
           {
            "colorbar": {
             "outlinewidth": 0,
             "ticks": ""
            },
            "colorscale": [
             [
              0,
              "#0d0887"
             ],
             [
              0.1111111111111111,
              "#46039f"
             ],
             [
              0.2222222222222222,
              "#7201a8"
             ],
             [
              0.3333333333333333,
              "#9c179e"
             ],
             [
              0.4444444444444444,
              "#bd3786"
             ],
             [
              0.5555555555555556,
              "#d8576b"
             ],
             [
              0.6666666666666666,
              "#ed7953"
             ],
             [
              0.7777777777777778,
              "#fb9f3a"
             ],
             [
              0.8888888888888888,
              "#fdca26"
             ],
             [
              1,
              "#f0f921"
             ]
            ],
            "type": "histogram2d"
           }
          ],
          "histogram2dcontour": [
           {
            "colorbar": {
             "outlinewidth": 0,
             "ticks": ""
            },
            "colorscale": [
             [
              0,
              "#0d0887"
             ],
             [
              0.1111111111111111,
              "#46039f"
             ],
             [
              0.2222222222222222,
              "#7201a8"
             ],
             [
              0.3333333333333333,
              "#9c179e"
             ],
             [
              0.4444444444444444,
              "#bd3786"
             ],
             [
              0.5555555555555556,
              "#d8576b"
             ],
             [
              0.6666666666666666,
              "#ed7953"
             ],
             [
              0.7777777777777778,
              "#fb9f3a"
             ],
             [
              0.8888888888888888,
              "#fdca26"
             ],
             [
              1,
              "#f0f921"
             ]
            ],
            "type": "histogram2dcontour"
           }
          ],
          "mesh3d": [
           {
            "colorbar": {
             "outlinewidth": 0,
             "ticks": ""
            },
            "type": "mesh3d"
           }
          ],
          "parcoords": [
           {
            "line": {
             "colorbar": {
              "outlinewidth": 0,
              "ticks": ""
             }
            },
            "type": "parcoords"
           }
          ],
          "pie": [
           {
            "automargin": true,
            "type": "pie"
           }
          ],
          "scatter": [
           {
            "marker": {
             "colorbar": {
              "outlinewidth": 0,
              "ticks": ""
             }
            },
            "type": "scatter"
           }
          ],
          "scatter3d": [
           {
            "line": {
             "colorbar": {
              "outlinewidth": 0,
              "ticks": ""
             }
            },
            "marker": {
             "colorbar": {
              "outlinewidth": 0,
              "ticks": ""
             }
            },
            "type": "scatter3d"
           }
          ],
          "scattercarpet": [
           {
            "marker": {
             "colorbar": {
              "outlinewidth": 0,
              "ticks": ""
             }
            },
            "type": "scattercarpet"
           }
          ],
          "scattergeo": [
           {
            "marker": {
             "colorbar": {
              "outlinewidth": 0,
              "ticks": ""
             }
            },
            "type": "scattergeo"
           }
          ],
          "scattergl": [
           {
            "marker": {
             "colorbar": {
              "outlinewidth": 0,
              "ticks": ""
             }
            },
            "type": "scattergl"
           }
          ],
          "scattermapbox": [
           {
            "marker": {
             "colorbar": {
              "outlinewidth": 0,
              "ticks": ""
             }
            },
            "type": "scattermapbox"
           }
          ],
          "scatterpolar": [
           {
            "marker": {
             "colorbar": {
              "outlinewidth": 0,
              "ticks": ""
             }
            },
            "type": "scatterpolar"
           }
          ],
          "scatterpolargl": [
           {
            "marker": {
             "colorbar": {
              "outlinewidth": 0,
              "ticks": ""
             }
            },
            "type": "scatterpolargl"
           }
          ],
          "scatterternary": [
           {
            "marker": {
             "colorbar": {
              "outlinewidth": 0,
              "ticks": ""
             }
            },
            "type": "scatterternary"
           }
          ],
          "surface": [
           {
            "colorbar": {
             "outlinewidth": 0,
             "ticks": ""
            },
            "colorscale": [
             [
              0,
              "#0d0887"
             ],
             [
              0.1111111111111111,
              "#46039f"
             ],
             [
              0.2222222222222222,
              "#7201a8"
             ],
             [
              0.3333333333333333,
              "#9c179e"
             ],
             [
              0.4444444444444444,
              "#bd3786"
             ],
             [
              0.5555555555555556,
              "#d8576b"
             ],
             [
              0.6666666666666666,
              "#ed7953"
             ],
             [
              0.7777777777777778,
              "#fb9f3a"
             ],
             [
              0.8888888888888888,
              "#fdca26"
             ],
             [
              1,
              "#f0f921"
             ]
            ],
            "type": "surface"
           }
          ],
          "table": [
           {
            "cells": {
             "fill": {
              "color": "#EBF0F8"
             },
             "line": {
              "color": "white"
             }
            },
            "header": {
             "fill": {
              "color": "#C8D4E3"
             },
             "line": {
              "color": "white"
             }
            },
            "type": "table"
           }
          ]
         },
         "layout": {
          "annotationdefaults": {
           "arrowcolor": "#2a3f5f",
           "arrowhead": 0,
           "arrowwidth": 1
          },
          "autotypenumbers": "strict",
          "coloraxis": {
           "colorbar": {
            "outlinewidth": 0,
            "ticks": ""
           }
          },
          "colorscale": {
           "diverging": [
            [
             0,
             "#8e0152"
            ],
            [
             0.1,
             "#c51b7d"
            ],
            [
             0.2,
             "#de77ae"
            ],
            [
             0.3,
             "#f1b6da"
            ],
            [
             0.4,
             "#fde0ef"
            ],
            [
             0.5,
             "#f7f7f7"
            ],
            [
             0.6,
             "#e6f5d0"
            ],
            [
             0.7,
             "#b8e186"
            ],
            [
             0.8,
             "#7fbc41"
            ],
            [
             0.9,
             "#4d9221"
            ],
            [
             1,
             "#276419"
            ]
           ],
           "sequential": [
            [
             0,
             "#0d0887"
            ],
            [
             0.1111111111111111,
             "#46039f"
            ],
            [
             0.2222222222222222,
             "#7201a8"
            ],
            [
             0.3333333333333333,
             "#9c179e"
            ],
            [
             0.4444444444444444,
             "#bd3786"
            ],
            [
             0.5555555555555556,
             "#d8576b"
            ],
            [
             0.6666666666666666,
             "#ed7953"
            ],
            [
             0.7777777777777778,
             "#fb9f3a"
            ],
            [
             0.8888888888888888,
             "#fdca26"
            ],
            [
             1,
             "#f0f921"
            ]
           ],
           "sequentialminus": [
            [
             0,
             "#0d0887"
            ],
            [
             0.1111111111111111,
             "#46039f"
            ],
            [
             0.2222222222222222,
             "#7201a8"
            ],
            [
             0.3333333333333333,
             "#9c179e"
            ],
            [
             0.4444444444444444,
             "#bd3786"
            ],
            [
             0.5555555555555556,
             "#d8576b"
            ],
            [
             0.6666666666666666,
             "#ed7953"
            ],
            [
             0.7777777777777778,
             "#fb9f3a"
            ],
            [
             0.8888888888888888,
             "#fdca26"
            ],
            [
             1,
             "#f0f921"
            ]
           ]
          },
          "colorway": [
           "#636efa",
           "#EF553B",
           "#00cc96",
           "#ab63fa",
           "#FFA15A",
           "#19d3f3",
           "#FF6692",
           "#B6E880",
           "#FF97FF",
           "#FECB52"
          ],
          "font": {
           "color": "#2a3f5f"
          },
          "geo": {
           "bgcolor": "white",
           "lakecolor": "white",
           "landcolor": "#E5ECF6",
           "showlakes": true,
           "showland": true,
           "subunitcolor": "white"
          },
          "hoverlabel": {
           "align": "left"
          },
          "hovermode": "closest",
          "mapbox": {
           "style": "light"
          },
          "paper_bgcolor": "white",
          "plot_bgcolor": "#E5ECF6",
          "polar": {
           "angularaxis": {
            "gridcolor": "white",
            "linecolor": "white",
            "ticks": ""
           },
           "bgcolor": "#E5ECF6",
           "radialaxis": {
            "gridcolor": "white",
            "linecolor": "white",
            "ticks": ""
           }
          },
          "scene": {
           "xaxis": {
            "backgroundcolor": "#E5ECF6",
            "gridcolor": "white",
            "gridwidth": 2,
            "linecolor": "white",
            "showbackground": true,
            "ticks": "",
            "zerolinecolor": "white"
           },
           "yaxis": {
            "backgroundcolor": "#E5ECF6",
            "gridcolor": "white",
            "gridwidth": 2,
            "linecolor": "white",
            "showbackground": true,
            "ticks": "",
            "zerolinecolor": "white"
           },
           "zaxis": {
            "backgroundcolor": "#E5ECF6",
            "gridcolor": "white",
            "gridwidth": 2,
            "linecolor": "white",
            "showbackground": true,
            "ticks": "",
            "zerolinecolor": "white"
           }
          },
          "shapedefaults": {
           "line": {
            "color": "#2a3f5f"
           }
          },
          "ternary": {
           "aaxis": {
            "gridcolor": "white",
            "linecolor": "white",
            "ticks": ""
           },
           "baxis": {
            "gridcolor": "white",
            "linecolor": "white",
            "ticks": ""
           },
           "bgcolor": "#E5ECF6",
           "caxis": {
            "gridcolor": "white",
            "linecolor": "white",
            "ticks": ""
           }
          },
          "title": {
           "x": 0.05
          },
          "xaxis": {
           "automargin": true,
           "gridcolor": "white",
           "linecolor": "white",
           "ticks": "",
           "title": {
            "standoff": 15
           },
           "zerolinecolor": "white",
           "zerolinewidth": 2
          },
          "yaxis": {
           "automargin": true,
           "gridcolor": "white",
           "linecolor": "white",
           "ticks": "",
           "title": {
            "standoff": 15
           },
           "zerolinecolor": "white",
           "zerolinewidth": 2
          }
         }
        },
        "title": {
         "font": {
          "color": "#4D5663"
         }
        },
        "xaxis": {
         "gridcolor": "#E1E5ED",
         "showgrid": true,
         "tickfont": {
          "color": "#4D5663"
         },
         "title": {
          "font": {
           "color": "#4D5663"
          },
          "text": ""
         },
         "zerolinecolor": "#E1E5ED"
        },
        "xaxis2": {
         "anchor": "y2",
         "gridcolor": "#E1E5ED",
         "showgrid": true,
         "showticklabels": false,
         "tickfont": {
          "color": "#4D5663"
         },
         "title": {
          "font": {
           "color": "#4D5663"
          },
          "text": ""
         },
         "zerolinecolor": "#E1E5ED"
        },
        "yaxis": {
         "domain": [
          0.3,
          1
         ],
         "gridcolor": "#E1E5ED",
         "showgrid": true,
         "tickfont": {
          "color": "#4D5663"
         },
         "title": {
          "font": {
           "color": "#4D5663"
          },
          "text": ""
         },
         "zerolinecolor": "#E1E5ED"
        },
        "yaxis2": {
         "domain": [
          0,
          0.25
         ],
         "gridcolor": "#E1E5ED",
         "showgrid": true,
         "tickfont": {
          "color": "#4D5663"
         },
         "title": {
          "font": {
           "color": "#4D5663"
          },
          "text": "Spread"
         },
         "zerolinecolor": "#E1E5ED"
        }
       }
      },
      "text/html": [
       "<div>                            <div id=\"2dbe0f35-0ec1-48e3-848d-5ea87443c4e8\" class=\"plotly-graph-div\" style=\"height:525px; width:100%;\"></div>            <script type=\"text/javascript\">                require([\"plotly\"], function(Plotly) {                    window.PLOTLYENV=window.PLOTLYENV || {};\n",
       "                    window.PLOTLYENV.BASE_URL='https://plot.ly';                                    if (document.getElementById(\"2dbe0f35-0ec1-48e3-848d-5ea87443c4e8\")) {                    Plotly.newPlot(                        \"2dbe0f35-0ec1-48e3-848d-5ea87443c4e8\",                        [{\"line\":{\"color\":\"rgba(255, 153, 51, 1.0)\",\"dash\":\"solid\",\"shape\":\"linear\",\"width\":1.3},\"mode\":\"lines\",\"name\":\"A\",\"text\":\"\",\"x\":[0,1,2,3,4,5,6,7,8,9,10,11,12,13,14,15,16,17,18,19,20,21,22,23,24,25,26,27,28,29,30,31,32,33,34,35,36,37,38,39,40,41,42,43,44,45,46,47,48,49,50,51,52,53,54,55,56,57,58,59,60,61,62,63,64,65,66,67,68,69,70,71,72,73,74,75,76,77,78,79,80,81,82,83,84,85,86,87,88,89,90,91,92,93,94,95,96,97,98,99],\"y\":[0.7295363441218393,-0.30709735423890133,0.492710813594875,0.08392566125616459,-0.6889455689979118,0.5470456033814226,-0.59537959593479,0.590991782392905,0.9972471665249101,1.4378882065324756,0.11926922188426163,-1.6571759958291157,0.4487064707697026,-2.51301997833897,0.6001221119436471,-2.731948786259892,1.3607099053275447,-0.731152267488863,-1.3966859085953525,0.17378944539031352,0.6817597346735718,1.1402012726597144,0.14349266373328687,-0.9377451346394511,0.017522155117618125,0.3235679464012107,0.836983146893619,-0.8792559105632725,-1.1801754241794296,-0.3795826015311692,-1.140787877799205,-0.7723948304435839,-0.5145019292009516,0.35609369850632194,-1.511771529880759,1.3774677496649568,-0.16454591236628077,-0.20152889220951667,-0.8123283332056657,0.595491766397253,-0.7970370986126426,-0.7349886528627032,0.6385817620476262,-0.1332010168119281,-0.6122662727680039,-2.4533287444652374,-1.2247225198339713,-0.25819872800993604,-0.37154228878299783,1.1548376757268877,0.6091866542203763,0.4905265364947855,1.7151703495190282,0.5379372760497011,-0.9060239939628344,-0.4757653879199119,0.7393937868154522,-2.2189647639590326,0.37041005207702155,1.0224887183461624,-0.5119055368256046,-0.9017925229090039,0.1447604829762621,-2.422737424208872,-0.7930350683984899,-1.1868366962480066,-2.0569449530090984,1.1920114509529198,-0.46156730828628,-0.719859833789653,0.5066864394881544,1.473741498165212,-1.5954387366714262,-0.4782502836781616,-0.16444298863396906,1.1408405792421255,-0.7097825274860883,0.7513186713580287,0.1339137866817911,-1.3011927732441302,1.2811633564799318,-0.3242821085915659,0.6457367692201954,0.0031357660336803783,0.7701540363029559,1.1149898631778379,0.25928287776938813,1.6665070758153746,-1.8969684050518085,0.681158307412814,-0.45063469387663485,1.5622406665206328,-0.12734672873637162,-0.5040136701566764,1.1767269743927373,0.618194840212031,-0.6238683392746781,0.040684028835876136,0.49591506198487856,0.5402290487669394],\"type\":\"scatter\"},{\"line\":{\"color\":\"rgba(55, 128, 191, 1.0)\",\"dash\":\"solid\",\"shape\":\"linear\",\"width\":1.3},\"mode\":\"lines\",\"name\":\"B\",\"text\":\"\",\"x\":[0,1,2,3,4,5,6,7,8,9,10,11,12,13,14,15,16,17,18,19,20,21,22,23,24,25,26,27,28,29,30,31,32,33,34,35,36,37,38,39,40,41,42,43,44,45,46,47,48,49,50,51,52,53,54,55,56,57,58,59,60,61,62,63,64,65,66,67,68,69,70,71,72,73,74,75,76,77,78,79,80,81,82,83,84,85,86,87,88,89,90,91,92,93,94,95,96,97,98,99],\"y\":[0.5932107040360172,0.04753954704139975,-0.444048574584182,-0.09335676213517706,-1.7432026927789257,1.0909115353161996,0.5971969506321606,1.8949064155444952,-1.1931694954805152,-0.05676690937649937,-2.2217498558969324,-1.297293680429583,-0.021679536036858914,0.8916762942133755,-0.02348621814267172,-1.5786609005306635,0.24357246516668982,0.010917665382364302,0.5571223092510637,-1.2475758485667943,1.5868744203536709,-0.8057521945444989,0.7362339481277361,0.9477863231294862,-0.5995459180209022,0.32554867390014314,-0.24356449203624217,1.1979573743086407,0.7822599197053102,-1.0954063618013492,-1.4808650659886475,-0.03216781584335983,-1.8683123603357328,0.07009016085630791,1.0824506963115468,0.674844983492287,-0.4896990474459487,-0.25826941502304024,1.665037379640575,0.010847284024948613,-0.6880159072252328,-1.5714676059379604,0.9714241406998673,-0.24294500318685008,-0.06292344712525674,-1.3987054229303149,-0.4734533238685408,-2.321963835811431,1.3884196000510303,-0.31025234222947135,-1.481113764744444,-0.7699363254437,-1.1778899107140954,-0.8987703761011371,0.19883119197798022,-0.8858314065876076,-1.5178717776599873,0.5893703347859245,-0.6994135868450015,-0.48358717433491655,-1.0267079997349633,0.5298163054115055,0.14310713216157514,-0.35419547943352053,0.10136482998347482,0.7934625832758466,-0.5560458519842975,-0.07531028933549962,0.04992795085509383,1.1711134364945317,1.3911558612592592,0.3384467388925263,-1.0964942691720898,2.279215075793931,2.0177131899560052,-0.8702672956301913,-1.790636564450756,-1.1939131889231476,-1.0308948061031502,0.8574156496421109,0.20214773489736038,0.05214163230900531,-0.5361664714973083,-0.2671110698261588,1.67295750683312,0.47336831168584104,1.3273464336078364,-0.1455793598936071,1.0127945851899962,1.1546317432106692,-0.05084218514467188,-0.9450278958175217,0.5740271589665797,0.28224149312428837,2.659282372516733,-0.5020185634569961,0.8538731764432778,0.28591735410309577,-1.4126982855654242,-1.8891270064966479],\"type\":\"scatter\"},{\"connectgaps\":false,\"fill\":\"tozeroy\",\"line\":{\"color\":\"green\",\"dash\":\"solid\",\"shape\":\"linear\",\"width\":0.5},\"mode\":\"lines\",\"name\":\"Spread\",\"showlegend\":false,\"x\":[0,1,2,3,4,5,6,7,8,9,10,11,12,13,14,15,16,17,18,19,20,21,22,23,24,25,26,27,28,29,30,31,32,33,34,35,36,37,38,39,40,41,42,43,44,45,46,47,48,49,50,51,52,53,54,55,56,57,58,59,60,61,62,63,64,65,66,67,68,69,70,71,72,73,74,75,76,77,78,79,80,81,82,83,84,85,86,87,88,89,90,91,92,93,94,95,96,97,98,99],\"xaxis\":\"x2\",\"y\":[0.13632564008582215,\"\",0.936759388179057,0.17728242339134165,1.0542571237810139,\"\",\"\",\"\",2.1904166620054255,1.494655115908975,2.341019077781194,\"\",0.4703860068065615,\"\",0.6236083300863188,\"\",1.117137440160855,\"\",\"\",1.4213652939571078,\"\",1.9459534672042134,\"\",\"\",0.6170680731385203,\"\",1.0805476389298612,\"\",\"\",0.71582376027018,0.34007718818944244,\"\",1.3538104311347812,0.286003537650014,\"\",0.7026227661726697,0.3251531350796679,0.05674052281352357,\"\",0.5846444823723044,\"\",0.8364789530752572,\"\",0.10974398637492197,\"\",\"\",\"\",2.063765107801495,\"\",1.465090017956359,2.09030041896482,1.2604628619384854,2.8930602602331237,1.4367076521508382,\"\",0.4100660186676957,2.2572655644754396,\"\",1.069823638922023,1.5060758926810789,0.5148024629093587,\"\",0.0016533508146869547,\"\",\"\",\"\",\"\",1.2673217402884194,\"\",\"\",\"\",1.1352947592726856,\"\",\"\",\"\",2.011107874872317,1.0808540369646678,1.9452318602811762,1.1648085927849414,\"\",1.0790156215825715,\"\",1.1819032407175039,0.27024683585983916,\"\",0.6416215514919968,\"\",1.8120864357089816,\"\",\"\",\"\",2.5072685623381545,\"\",\"\",\"\",1.1202134036690272,\"\",\"\",1.9086133475503027,2.4293560552635873],\"yaxis\":\"y2\",\"type\":\"scatter\"},{\"connectgaps\":false,\"fill\":\"tozeroy\",\"line\":{\"color\":\"red\",\"dash\":\"solid\",\"shape\":\"linear\",\"width\":0.5},\"mode\":\"lines\",\"name\":\"Spread\",\"showlegend\":false,\"x\":[0,1,2,3,4,5,6,7,8,9,10,11,12,13,14,15,16,17,18,19,20,21,22,23,24,25,26,27,28,29,30,31,32,33,34,35,36,37,38,39,40,41,42,43,44,45,46,47,48,49,50,51,52,53,54,55,56,57,58,59,60,61,62,63,64,65,66,67,68,69,70,71,72,73,74,75,76,77,78,79,80,81,82,83,84,85,86,87,88,89,90,91,92,93,94,95,96,97,98,99],\"xaxis\":\"x2\",\"y\":[\"\",-0.35463690128030106,\"\",\"\",\"\",-0.543865931934777,-1.1925765465669507,-1.3039146331515903,\"\",\"\",\"\",-0.35988231539953275,\"\",-3.4046962725523455,\"\",-1.1532878857292284,\"\",-0.7420699328712272,-1.953808217846416,\"\",-0.9051146856800991,\"\",-0.5927412843944493,-1.8855314577689373,\"\",-0.001980727498932411,\"\",-2.077213284871913,-1.9624353438847397,\"\",\"\",-0.7402270146002241,\"\",\"\",-2.594222226192306,\"\",\"\",\"\",-2.4773657128462405,\"\",-0.10902119138740984,\"\",-0.3328423786522411,\"\",-0.5493428256427472,-1.0546233215349226,-0.7512691959654305,\"\",-1.759961888834028,\"\",\"\",\"\",\"\",\"\",-1.1048551859408147,\"\",\"\",-2.808335098744957,\"\",\"\",\"\",-1.4316088283205093,\"\",-2.0685419447753515,-0.8943998983819648,-1.9802992795238532,-1.500899101024801,\"\",-0.5114952591413738,-1.8909732702841846,-0.8844694217711048,\"\",-0.4989444674993364,-2.7574653594720924,-2.1821561785899743,\"\",\"\",\"\",\"\",-2.158608422886241,\"\",-0.37642374090057124,\"\",\"\",-0.9028034705301641,\"\",-1.0680635558384484,\"\",-2.9097629902418047,-0.47347343579785517,-0.399792508731963,\"\",-0.7013738877029514,-0.7862551632809648,-1.4825553981239958,\"\",-1.4777415157179559,-0.24523332526721964,\"\",\"\"],\"yaxis\":\"y2\",\"type\":\"scatter\"}],                        {\"hovermode\":\"x\",\"legend\":{\"bgcolor\":\"#F5F6F9\",\"font\":{\"color\":\"#4D5663\"}},\"paper_bgcolor\":\"#F5F6F9\",\"plot_bgcolor\":\"#F5F6F9\",\"template\":{\"data\":{\"barpolar\":[{\"marker\":{\"line\":{\"color\":\"#E5ECF6\",\"width\":0.5},\"pattern\":{\"fillmode\":\"overlay\",\"size\":10,\"solidity\":0.2}},\"type\":\"barpolar\"}],\"bar\":[{\"error_x\":{\"color\":\"#2a3f5f\"},\"error_y\":{\"color\":\"#2a3f5f\"},\"marker\":{\"line\":{\"color\":\"#E5ECF6\",\"width\":0.5},\"pattern\":{\"fillmode\":\"overlay\",\"size\":10,\"solidity\":0.2}},\"type\":\"bar\"}],\"carpet\":[{\"aaxis\":{\"endlinecolor\":\"#2a3f5f\",\"gridcolor\":\"white\",\"linecolor\":\"white\",\"minorgridcolor\":\"white\",\"startlinecolor\":\"#2a3f5f\"},\"baxis\":{\"endlinecolor\":\"#2a3f5f\",\"gridcolor\":\"white\",\"linecolor\":\"white\",\"minorgridcolor\":\"white\",\"startlinecolor\":\"#2a3f5f\"},\"type\":\"carpet\"}],\"choropleth\":[{\"colorbar\":{\"outlinewidth\":0,\"ticks\":\"\"},\"type\":\"choropleth\"}],\"contourcarpet\":[{\"colorbar\":{\"outlinewidth\":0,\"ticks\":\"\"},\"type\":\"contourcarpet\"}],\"contour\":[{\"colorbar\":{\"outlinewidth\":0,\"ticks\":\"\"},\"colorscale\":[[0.0,\"#0d0887\"],[0.1111111111111111,\"#46039f\"],[0.2222222222222222,\"#7201a8\"],[0.3333333333333333,\"#9c179e\"],[0.4444444444444444,\"#bd3786\"],[0.5555555555555556,\"#d8576b\"],[0.6666666666666666,\"#ed7953\"],[0.7777777777777778,\"#fb9f3a\"],[0.8888888888888888,\"#fdca26\"],[1.0,\"#f0f921\"]],\"type\":\"contour\"}],\"heatmapgl\":[{\"colorbar\":{\"outlinewidth\":0,\"ticks\":\"\"},\"colorscale\":[[0.0,\"#0d0887\"],[0.1111111111111111,\"#46039f\"],[0.2222222222222222,\"#7201a8\"],[0.3333333333333333,\"#9c179e\"],[0.4444444444444444,\"#bd3786\"],[0.5555555555555556,\"#d8576b\"],[0.6666666666666666,\"#ed7953\"],[0.7777777777777778,\"#fb9f3a\"],[0.8888888888888888,\"#fdca26\"],[1.0,\"#f0f921\"]],\"type\":\"heatmapgl\"}],\"heatmap\":[{\"colorbar\":{\"outlinewidth\":0,\"ticks\":\"\"},\"colorscale\":[[0.0,\"#0d0887\"],[0.1111111111111111,\"#46039f\"],[0.2222222222222222,\"#7201a8\"],[0.3333333333333333,\"#9c179e\"],[0.4444444444444444,\"#bd3786\"],[0.5555555555555556,\"#d8576b\"],[0.6666666666666666,\"#ed7953\"],[0.7777777777777778,\"#fb9f3a\"],[0.8888888888888888,\"#fdca26\"],[1.0,\"#f0f921\"]],\"type\":\"heatmap\"}],\"histogram2dcontour\":[{\"colorbar\":{\"outlinewidth\":0,\"ticks\":\"\"},\"colorscale\":[[0.0,\"#0d0887\"],[0.1111111111111111,\"#46039f\"],[0.2222222222222222,\"#7201a8\"],[0.3333333333333333,\"#9c179e\"],[0.4444444444444444,\"#bd3786\"],[0.5555555555555556,\"#d8576b\"],[0.6666666666666666,\"#ed7953\"],[0.7777777777777778,\"#fb9f3a\"],[0.8888888888888888,\"#fdca26\"],[1.0,\"#f0f921\"]],\"type\":\"histogram2dcontour\"}],\"histogram2d\":[{\"colorbar\":{\"outlinewidth\":0,\"ticks\":\"\"},\"colorscale\":[[0.0,\"#0d0887\"],[0.1111111111111111,\"#46039f\"],[0.2222222222222222,\"#7201a8\"],[0.3333333333333333,\"#9c179e\"],[0.4444444444444444,\"#bd3786\"],[0.5555555555555556,\"#d8576b\"],[0.6666666666666666,\"#ed7953\"],[0.7777777777777778,\"#fb9f3a\"],[0.8888888888888888,\"#fdca26\"],[1.0,\"#f0f921\"]],\"type\":\"histogram2d\"}],\"histogram\":[{\"marker\":{\"pattern\":{\"fillmode\":\"overlay\",\"size\":10,\"solidity\":0.2}},\"type\":\"histogram\"}],\"mesh3d\":[{\"colorbar\":{\"outlinewidth\":0,\"ticks\":\"\"},\"type\":\"mesh3d\"}],\"parcoords\":[{\"line\":{\"colorbar\":{\"outlinewidth\":0,\"ticks\":\"\"}},\"type\":\"parcoords\"}],\"pie\":[{\"automargin\":true,\"type\":\"pie\"}],\"scatter3d\":[{\"line\":{\"colorbar\":{\"outlinewidth\":0,\"ticks\":\"\"}},\"marker\":{\"colorbar\":{\"outlinewidth\":0,\"ticks\":\"\"}},\"type\":\"scatter3d\"}],\"scattercarpet\":[{\"marker\":{\"colorbar\":{\"outlinewidth\":0,\"ticks\":\"\"}},\"type\":\"scattercarpet\"}],\"scattergeo\":[{\"marker\":{\"colorbar\":{\"outlinewidth\":0,\"ticks\":\"\"}},\"type\":\"scattergeo\"}],\"scattergl\":[{\"marker\":{\"colorbar\":{\"outlinewidth\":0,\"ticks\":\"\"}},\"type\":\"scattergl\"}],\"scattermapbox\":[{\"marker\":{\"colorbar\":{\"outlinewidth\":0,\"ticks\":\"\"}},\"type\":\"scattermapbox\"}],\"scatterpolargl\":[{\"marker\":{\"colorbar\":{\"outlinewidth\":0,\"ticks\":\"\"}},\"type\":\"scatterpolargl\"}],\"scatterpolar\":[{\"marker\":{\"colorbar\":{\"outlinewidth\":0,\"ticks\":\"\"}},\"type\":\"scatterpolar\"}],\"scatter\":[{\"marker\":{\"colorbar\":{\"outlinewidth\":0,\"ticks\":\"\"}},\"type\":\"scatter\"}],\"scatterternary\":[{\"marker\":{\"colorbar\":{\"outlinewidth\":0,\"ticks\":\"\"}},\"type\":\"scatterternary\"}],\"surface\":[{\"colorbar\":{\"outlinewidth\":0,\"ticks\":\"\"},\"colorscale\":[[0.0,\"#0d0887\"],[0.1111111111111111,\"#46039f\"],[0.2222222222222222,\"#7201a8\"],[0.3333333333333333,\"#9c179e\"],[0.4444444444444444,\"#bd3786\"],[0.5555555555555556,\"#d8576b\"],[0.6666666666666666,\"#ed7953\"],[0.7777777777777778,\"#fb9f3a\"],[0.8888888888888888,\"#fdca26\"],[1.0,\"#f0f921\"]],\"type\":\"surface\"}],\"table\":[{\"cells\":{\"fill\":{\"color\":\"#EBF0F8\"},\"line\":{\"color\":\"white\"}},\"header\":{\"fill\":{\"color\":\"#C8D4E3\"},\"line\":{\"color\":\"white\"}},\"type\":\"table\"}]},\"layout\":{\"annotationdefaults\":{\"arrowcolor\":\"#2a3f5f\",\"arrowhead\":0,\"arrowwidth\":1},\"autotypenumbers\":\"strict\",\"coloraxis\":{\"colorbar\":{\"outlinewidth\":0,\"ticks\":\"\"}},\"colorscale\":{\"diverging\":[[0,\"#8e0152\"],[0.1,\"#c51b7d\"],[0.2,\"#de77ae\"],[0.3,\"#f1b6da\"],[0.4,\"#fde0ef\"],[0.5,\"#f7f7f7\"],[0.6,\"#e6f5d0\"],[0.7,\"#b8e186\"],[0.8,\"#7fbc41\"],[0.9,\"#4d9221\"],[1,\"#276419\"]],\"sequential\":[[0.0,\"#0d0887\"],[0.1111111111111111,\"#46039f\"],[0.2222222222222222,\"#7201a8\"],[0.3333333333333333,\"#9c179e\"],[0.4444444444444444,\"#bd3786\"],[0.5555555555555556,\"#d8576b\"],[0.6666666666666666,\"#ed7953\"],[0.7777777777777778,\"#fb9f3a\"],[0.8888888888888888,\"#fdca26\"],[1.0,\"#f0f921\"]],\"sequentialminus\":[[0.0,\"#0d0887\"],[0.1111111111111111,\"#46039f\"],[0.2222222222222222,\"#7201a8\"],[0.3333333333333333,\"#9c179e\"],[0.4444444444444444,\"#bd3786\"],[0.5555555555555556,\"#d8576b\"],[0.6666666666666666,\"#ed7953\"],[0.7777777777777778,\"#fb9f3a\"],[0.8888888888888888,\"#fdca26\"],[1.0,\"#f0f921\"]]},\"colorway\":[\"#636efa\",\"#EF553B\",\"#00cc96\",\"#ab63fa\",\"#FFA15A\",\"#19d3f3\",\"#FF6692\",\"#B6E880\",\"#FF97FF\",\"#FECB52\"],\"font\":{\"color\":\"#2a3f5f\"},\"geo\":{\"bgcolor\":\"white\",\"lakecolor\":\"white\",\"landcolor\":\"#E5ECF6\",\"showlakes\":true,\"showland\":true,\"subunitcolor\":\"white\"},\"hoverlabel\":{\"align\":\"left\"},\"hovermode\":\"closest\",\"mapbox\":{\"style\":\"light\"},\"paper_bgcolor\":\"white\",\"plot_bgcolor\":\"#E5ECF6\",\"polar\":{\"angularaxis\":{\"gridcolor\":\"white\",\"linecolor\":\"white\",\"ticks\":\"\"},\"bgcolor\":\"#E5ECF6\",\"radialaxis\":{\"gridcolor\":\"white\",\"linecolor\":\"white\",\"ticks\":\"\"}},\"scene\":{\"xaxis\":{\"backgroundcolor\":\"#E5ECF6\",\"gridcolor\":\"white\",\"gridwidth\":2,\"linecolor\":\"white\",\"showbackground\":true,\"ticks\":\"\",\"zerolinecolor\":\"white\"},\"yaxis\":{\"backgroundcolor\":\"#E5ECF6\",\"gridcolor\":\"white\",\"gridwidth\":2,\"linecolor\":\"white\",\"showbackground\":true,\"ticks\":\"\",\"zerolinecolor\":\"white\"},\"zaxis\":{\"backgroundcolor\":\"#E5ECF6\",\"gridcolor\":\"white\",\"gridwidth\":2,\"linecolor\":\"white\",\"showbackground\":true,\"ticks\":\"\",\"zerolinecolor\":\"white\"}},\"shapedefaults\":{\"line\":{\"color\":\"#2a3f5f\"}},\"ternary\":{\"aaxis\":{\"gridcolor\":\"white\",\"linecolor\":\"white\",\"ticks\":\"\"},\"baxis\":{\"gridcolor\":\"white\",\"linecolor\":\"white\",\"ticks\":\"\"},\"bgcolor\":\"#E5ECF6\",\"caxis\":{\"gridcolor\":\"white\",\"linecolor\":\"white\",\"ticks\":\"\"}},\"title\":{\"x\":0.05},\"xaxis\":{\"automargin\":true,\"gridcolor\":\"white\",\"linecolor\":\"white\",\"ticks\":\"\",\"title\":{\"standoff\":15},\"zerolinecolor\":\"white\",\"zerolinewidth\":2},\"yaxis\":{\"automargin\":true,\"gridcolor\":\"white\",\"linecolor\":\"white\",\"ticks\":\"\",\"title\":{\"standoff\":15},\"zerolinecolor\":\"white\",\"zerolinewidth\":2}}},\"title\":{\"font\":{\"color\":\"#4D5663\"}},\"xaxis\":{\"gridcolor\":\"#E1E5ED\",\"showgrid\":true,\"tickfont\":{\"color\":\"#4D5663\"},\"title\":{\"font\":{\"color\":\"#4D5663\"},\"text\":\"\"},\"zerolinecolor\":\"#E1E5ED\"},\"yaxis\":{\"domain\":[0.3,1],\"gridcolor\":\"#E1E5ED\",\"showgrid\":true,\"tickfont\":{\"color\":\"#4D5663\"},\"title\":{\"font\":{\"color\":\"#4D5663\"},\"text\":\"\"},\"zerolinecolor\":\"#E1E5ED\"},\"yaxis2\":{\"domain\":[0,0.25],\"gridcolor\":\"#E1E5ED\",\"showgrid\":true,\"tickfont\":{\"color\":\"#4D5663\"},\"title\":{\"font\":{\"color\":\"#4D5663\"},\"text\":\"Spread\"},\"zerolinecolor\":\"#E1E5ED\"},\"xaxis2\":{\"anchor\":\"y2\",\"gridcolor\":\"#E1E5ED\",\"showgrid\":true,\"showticklabels\":false,\"tickfont\":{\"color\":\"#4D5663\"},\"title\":{\"font\":{\"color\":\"#4D5663\"},\"text\":\"\"},\"zerolinecolor\":\"#E1E5ED\"}},                        {\"showLink\": true, \"linkText\": \"Export to plot.ly\", \"plotlyServerURL\": \"https://plot.ly\", \"responsive\": true}                    ).then(function(){\n",
       "                            \n",
       "var gd = document.getElementById('2dbe0f35-0ec1-48e3-848d-5ea87443c4e8');\n",
       "var x = new MutationObserver(function (mutations, observer) {{\n",
       "        var display = window.getComputedStyle(gd).display;\n",
       "        if (!display || display === 'none') {{\n",
       "            console.log([gd, 'removed!']);\n",
       "            Plotly.purge(gd);\n",
       "            observer.disconnect();\n",
       "        }}\n",
       "}});\n",
       "\n",
       "// Listen for the removal of the full notebook cells\n",
       "var notebookContainer = gd.closest('#notebook-container');\n",
       "if (notebookContainer) {{\n",
       "    x.observe(notebookContainer, {childList: true});\n",
       "}}\n",
       "\n",
       "// Listen for the clearing of the current output cell\n",
       "var outputEl = gd.closest('.output');\n",
       "if (outputEl) {{\n",
       "    x.observe(outputEl, {childList: true});\n",
       "}}\n",
       "\n",
       "                        })                };                });            </script>        </div>"
      ]
     },
     "metadata": {},
     "output_type": "display_data"
    }
   ],
   "source": [
    "df[['A','B']].iplot(kind='spread')"
   ]
  },
  {
   "cell_type": "markdown",
   "metadata": {},
   "source": [
    "## histogram"
   ]
  },
  {
   "cell_type": "code",
   "execution_count": 24,
   "metadata": {},
   "outputs": [
    {
     "data": {
      "application/vnd.plotly.v1+json": {
       "config": {
        "linkText": "Export to plot.ly",
        "plotlyServerURL": "https://plot.ly",
        "showLink": true
       },
       "data": [
        {
         "histfunc": "count",
         "histnorm": "",
         "marker": {
          "color": "rgba(255, 153, 51, 1.0)",
          "line": {
           "color": "#4D5663",
           "width": 1.3
          }
         },
         "name": "A",
         "nbinsx": 25,
         "opacity": 0.8,
         "orientation": "v",
         "type": "histogram",
         "x": [
          0.7295363441218393,
          -0.30709735423890133,
          0.492710813594875,
          0.08392566125616459,
          -0.6889455689979118,
          0.5470456033814226,
          -0.59537959593479,
          0.590991782392905,
          0.9972471665249101,
          1.4378882065324756,
          0.11926922188426163,
          -1.6571759958291157,
          0.4487064707697026,
          -2.51301997833897,
          0.6001221119436471,
          -2.731948786259892,
          1.3607099053275447,
          -0.731152267488863,
          -1.3966859085953525,
          0.17378944539031352,
          0.6817597346735718,
          1.1402012726597144,
          0.14349266373328687,
          -0.9377451346394511,
          0.017522155117618125,
          0.3235679464012107,
          0.836983146893619,
          -0.8792559105632725,
          -1.1801754241794296,
          -0.3795826015311692,
          -1.140787877799205,
          -0.7723948304435839,
          -0.5145019292009516,
          0.35609369850632194,
          -1.511771529880759,
          1.3774677496649568,
          -0.16454591236628077,
          -0.20152889220951667,
          -0.8123283332056657,
          0.595491766397253,
          -0.7970370986126426,
          -0.7349886528627032,
          0.6385817620476262,
          -0.1332010168119281,
          -0.6122662727680039,
          -2.4533287444652374,
          -1.2247225198339713,
          -0.25819872800993604,
          -0.37154228878299783,
          1.1548376757268877,
          0.6091866542203763,
          0.4905265364947855,
          1.7151703495190282,
          0.5379372760497011,
          -0.9060239939628344,
          -0.4757653879199119,
          0.7393937868154522,
          -2.2189647639590326,
          0.37041005207702155,
          1.0224887183461624,
          -0.5119055368256046,
          -0.9017925229090039,
          0.1447604829762621,
          -2.422737424208872,
          -0.7930350683984899,
          -1.1868366962480066,
          -2.0569449530090984,
          1.1920114509529198,
          -0.46156730828628,
          -0.719859833789653,
          0.5066864394881544,
          1.473741498165212,
          -1.5954387366714262,
          -0.4782502836781616,
          -0.16444298863396906,
          1.1408405792421255,
          -0.7097825274860883,
          0.7513186713580287,
          0.1339137866817911,
          -1.3011927732441302,
          1.2811633564799318,
          -0.3242821085915659,
          0.6457367692201954,
          0.0031357660336803783,
          0.7701540363029559,
          1.1149898631778379,
          0.25928287776938813,
          1.6665070758153746,
          -1.8969684050518085,
          0.681158307412814,
          -0.45063469387663485,
          1.5622406665206328,
          -0.12734672873637162,
          -0.5040136701566764,
          1.1767269743927373,
          0.618194840212031,
          -0.6238683392746781,
          0.040684028835876136,
          0.49591506198487856,
          0.5402290487669394
         ]
        }
       ],
       "layout": {
        "barmode": "overlay",
        "legend": {
         "bgcolor": "#F5F6F9",
         "font": {
          "color": "#4D5663"
         }
        },
        "paper_bgcolor": "#F5F6F9",
        "plot_bgcolor": "#F5F6F9",
        "template": {
         "data": {
          "bar": [
           {
            "error_x": {
             "color": "#2a3f5f"
            },
            "error_y": {
             "color": "#2a3f5f"
            },
            "marker": {
             "line": {
              "color": "#E5ECF6",
              "width": 0.5
             },
             "pattern": {
              "fillmode": "overlay",
              "size": 10,
              "solidity": 0.2
             }
            },
            "type": "bar"
           }
          ],
          "barpolar": [
           {
            "marker": {
             "line": {
              "color": "#E5ECF6",
              "width": 0.5
             },
             "pattern": {
              "fillmode": "overlay",
              "size": 10,
              "solidity": 0.2
             }
            },
            "type": "barpolar"
           }
          ],
          "carpet": [
           {
            "aaxis": {
             "endlinecolor": "#2a3f5f",
             "gridcolor": "white",
             "linecolor": "white",
             "minorgridcolor": "white",
             "startlinecolor": "#2a3f5f"
            },
            "baxis": {
             "endlinecolor": "#2a3f5f",
             "gridcolor": "white",
             "linecolor": "white",
             "minorgridcolor": "white",
             "startlinecolor": "#2a3f5f"
            },
            "type": "carpet"
           }
          ],
          "choropleth": [
           {
            "colorbar": {
             "outlinewidth": 0,
             "ticks": ""
            },
            "type": "choropleth"
           }
          ],
          "contour": [
           {
            "colorbar": {
             "outlinewidth": 0,
             "ticks": ""
            },
            "colorscale": [
             [
              0,
              "#0d0887"
             ],
             [
              0.1111111111111111,
              "#46039f"
             ],
             [
              0.2222222222222222,
              "#7201a8"
             ],
             [
              0.3333333333333333,
              "#9c179e"
             ],
             [
              0.4444444444444444,
              "#bd3786"
             ],
             [
              0.5555555555555556,
              "#d8576b"
             ],
             [
              0.6666666666666666,
              "#ed7953"
             ],
             [
              0.7777777777777778,
              "#fb9f3a"
             ],
             [
              0.8888888888888888,
              "#fdca26"
             ],
             [
              1,
              "#f0f921"
             ]
            ],
            "type": "contour"
           }
          ],
          "contourcarpet": [
           {
            "colorbar": {
             "outlinewidth": 0,
             "ticks": ""
            },
            "type": "contourcarpet"
           }
          ],
          "heatmap": [
           {
            "colorbar": {
             "outlinewidth": 0,
             "ticks": ""
            },
            "colorscale": [
             [
              0,
              "#0d0887"
             ],
             [
              0.1111111111111111,
              "#46039f"
             ],
             [
              0.2222222222222222,
              "#7201a8"
             ],
             [
              0.3333333333333333,
              "#9c179e"
             ],
             [
              0.4444444444444444,
              "#bd3786"
             ],
             [
              0.5555555555555556,
              "#d8576b"
             ],
             [
              0.6666666666666666,
              "#ed7953"
             ],
             [
              0.7777777777777778,
              "#fb9f3a"
             ],
             [
              0.8888888888888888,
              "#fdca26"
             ],
             [
              1,
              "#f0f921"
             ]
            ],
            "type": "heatmap"
           }
          ],
          "heatmapgl": [
           {
            "colorbar": {
             "outlinewidth": 0,
             "ticks": ""
            },
            "colorscale": [
             [
              0,
              "#0d0887"
             ],
             [
              0.1111111111111111,
              "#46039f"
             ],
             [
              0.2222222222222222,
              "#7201a8"
             ],
             [
              0.3333333333333333,
              "#9c179e"
             ],
             [
              0.4444444444444444,
              "#bd3786"
             ],
             [
              0.5555555555555556,
              "#d8576b"
             ],
             [
              0.6666666666666666,
              "#ed7953"
             ],
             [
              0.7777777777777778,
              "#fb9f3a"
             ],
             [
              0.8888888888888888,
              "#fdca26"
             ],
             [
              1,
              "#f0f921"
             ]
            ],
            "type": "heatmapgl"
           }
          ],
          "histogram": [
           {
            "marker": {
             "pattern": {
              "fillmode": "overlay",
              "size": 10,
              "solidity": 0.2
             }
            },
            "type": "histogram"
           }
          ],
          "histogram2d": [
           {
            "colorbar": {
             "outlinewidth": 0,
             "ticks": ""
            },
            "colorscale": [
             [
              0,
              "#0d0887"
             ],
             [
              0.1111111111111111,
              "#46039f"
             ],
             [
              0.2222222222222222,
              "#7201a8"
             ],
             [
              0.3333333333333333,
              "#9c179e"
             ],
             [
              0.4444444444444444,
              "#bd3786"
             ],
             [
              0.5555555555555556,
              "#d8576b"
             ],
             [
              0.6666666666666666,
              "#ed7953"
             ],
             [
              0.7777777777777778,
              "#fb9f3a"
             ],
             [
              0.8888888888888888,
              "#fdca26"
             ],
             [
              1,
              "#f0f921"
             ]
            ],
            "type": "histogram2d"
           }
          ],
          "histogram2dcontour": [
           {
            "colorbar": {
             "outlinewidth": 0,
             "ticks": ""
            },
            "colorscale": [
             [
              0,
              "#0d0887"
             ],
             [
              0.1111111111111111,
              "#46039f"
             ],
             [
              0.2222222222222222,
              "#7201a8"
             ],
             [
              0.3333333333333333,
              "#9c179e"
             ],
             [
              0.4444444444444444,
              "#bd3786"
             ],
             [
              0.5555555555555556,
              "#d8576b"
             ],
             [
              0.6666666666666666,
              "#ed7953"
             ],
             [
              0.7777777777777778,
              "#fb9f3a"
             ],
             [
              0.8888888888888888,
              "#fdca26"
             ],
             [
              1,
              "#f0f921"
             ]
            ],
            "type": "histogram2dcontour"
           }
          ],
          "mesh3d": [
           {
            "colorbar": {
             "outlinewidth": 0,
             "ticks": ""
            },
            "type": "mesh3d"
           }
          ],
          "parcoords": [
           {
            "line": {
             "colorbar": {
              "outlinewidth": 0,
              "ticks": ""
             }
            },
            "type": "parcoords"
           }
          ],
          "pie": [
           {
            "automargin": true,
            "type": "pie"
           }
          ],
          "scatter": [
           {
            "marker": {
             "colorbar": {
              "outlinewidth": 0,
              "ticks": ""
             }
            },
            "type": "scatter"
           }
          ],
          "scatter3d": [
           {
            "line": {
             "colorbar": {
              "outlinewidth": 0,
              "ticks": ""
             }
            },
            "marker": {
             "colorbar": {
              "outlinewidth": 0,
              "ticks": ""
             }
            },
            "type": "scatter3d"
           }
          ],
          "scattercarpet": [
           {
            "marker": {
             "colorbar": {
              "outlinewidth": 0,
              "ticks": ""
             }
            },
            "type": "scattercarpet"
           }
          ],
          "scattergeo": [
           {
            "marker": {
             "colorbar": {
              "outlinewidth": 0,
              "ticks": ""
             }
            },
            "type": "scattergeo"
           }
          ],
          "scattergl": [
           {
            "marker": {
             "colorbar": {
              "outlinewidth": 0,
              "ticks": ""
             }
            },
            "type": "scattergl"
           }
          ],
          "scattermapbox": [
           {
            "marker": {
             "colorbar": {
              "outlinewidth": 0,
              "ticks": ""
             }
            },
            "type": "scattermapbox"
           }
          ],
          "scatterpolar": [
           {
            "marker": {
             "colorbar": {
              "outlinewidth": 0,
              "ticks": ""
             }
            },
            "type": "scatterpolar"
           }
          ],
          "scatterpolargl": [
           {
            "marker": {
             "colorbar": {
              "outlinewidth": 0,
              "ticks": ""
             }
            },
            "type": "scatterpolargl"
           }
          ],
          "scatterternary": [
           {
            "marker": {
             "colorbar": {
              "outlinewidth": 0,
              "ticks": ""
             }
            },
            "type": "scatterternary"
           }
          ],
          "surface": [
           {
            "colorbar": {
             "outlinewidth": 0,
             "ticks": ""
            },
            "colorscale": [
             [
              0,
              "#0d0887"
             ],
             [
              0.1111111111111111,
              "#46039f"
             ],
             [
              0.2222222222222222,
              "#7201a8"
             ],
             [
              0.3333333333333333,
              "#9c179e"
             ],
             [
              0.4444444444444444,
              "#bd3786"
             ],
             [
              0.5555555555555556,
              "#d8576b"
             ],
             [
              0.6666666666666666,
              "#ed7953"
             ],
             [
              0.7777777777777778,
              "#fb9f3a"
             ],
             [
              0.8888888888888888,
              "#fdca26"
             ],
             [
              1,
              "#f0f921"
             ]
            ],
            "type": "surface"
           }
          ],
          "table": [
           {
            "cells": {
             "fill": {
              "color": "#EBF0F8"
             },
             "line": {
              "color": "white"
             }
            },
            "header": {
             "fill": {
              "color": "#C8D4E3"
             },
             "line": {
              "color": "white"
             }
            },
            "type": "table"
           }
          ]
         },
         "layout": {
          "annotationdefaults": {
           "arrowcolor": "#2a3f5f",
           "arrowhead": 0,
           "arrowwidth": 1
          },
          "autotypenumbers": "strict",
          "coloraxis": {
           "colorbar": {
            "outlinewidth": 0,
            "ticks": ""
           }
          },
          "colorscale": {
           "diverging": [
            [
             0,
             "#8e0152"
            ],
            [
             0.1,
             "#c51b7d"
            ],
            [
             0.2,
             "#de77ae"
            ],
            [
             0.3,
             "#f1b6da"
            ],
            [
             0.4,
             "#fde0ef"
            ],
            [
             0.5,
             "#f7f7f7"
            ],
            [
             0.6,
             "#e6f5d0"
            ],
            [
             0.7,
             "#b8e186"
            ],
            [
             0.8,
             "#7fbc41"
            ],
            [
             0.9,
             "#4d9221"
            ],
            [
             1,
             "#276419"
            ]
           ],
           "sequential": [
            [
             0,
             "#0d0887"
            ],
            [
             0.1111111111111111,
             "#46039f"
            ],
            [
             0.2222222222222222,
             "#7201a8"
            ],
            [
             0.3333333333333333,
             "#9c179e"
            ],
            [
             0.4444444444444444,
             "#bd3786"
            ],
            [
             0.5555555555555556,
             "#d8576b"
            ],
            [
             0.6666666666666666,
             "#ed7953"
            ],
            [
             0.7777777777777778,
             "#fb9f3a"
            ],
            [
             0.8888888888888888,
             "#fdca26"
            ],
            [
             1,
             "#f0f921"
            ]
           ],
           "sequentialminus": [
            [
             0,
             "#0d0887"
            ],
            [
             0.1111111111111111,
             "#46039f"
            ],
            [
             0.2222222222222222,
             "#7201a8"
            ],
            [
             0.3333333333333333,
             "#9c179e"
            ],
            [
             0.4444444444444444,
             "#bd3786"
            ],
            [
             0.5555555555555556,
             "#d8576b"
            ],
            [
             0.6666666666666666,
             "#ed7953"
            ],
            [
             0.7777777777777778,
             "#fb9f3a"
            ],
            [
             0.8888888888888888,
             "#fdca26"
            ],
            [
             1,
             "#f0f921"
            ]
           ]
          },
          "colorway": [
           "#636efa",
           "#EF553B",
           "#00cc96",
           "#ab63fa",
           "#FFA15A",
           "#19d3f3",
           "#FF6692",
           "#B6E880",
           "#FF97FF",
           "#FECB52"
          ],
          "font": {
           "color": "#2a3f5f"
          },
          "geo": {
           "bgcolor": "white",
           "lakecolor": "white",
           "landcolor": "#E5ECF6",
           "showlakes": true,
           "showland": true,
           "subunitcolor": "white"
          },
          "hoverlabel": {
           "align": "left"
          },
          "hovermode": "closest",
          "mapbox": {
           "style": "light"
          },
          "paper_bgcolor": "white",
          "plot_bgcolor": "#E5ECF6",
          "polar": {
           "angularaxis": {
            "gridcolor": "white",
            "linecolor": "white",
            "ticks": ""
           },
           "bgcolor": "#E5ECF6",
           "radialaxis": {
            "gridcolor": "white",
            "linecolor": "white",
            "ticks": ""
           }
          },
          "scene": {
           "xaxis": {
            "backgroundcolor": "#E5ECF6",
            "gridcolor": "white",
            "gridwidth": 2,
            "linecolor": "white",
            "showbackground": true,
            "ticks": "",
            "zerolinecolor": "white"
           },
           "yaxis": {
            "backgroundcolor": "#E5ECF6",
            "gridcolor": "white",
            "gridwidth": 2,
            "linecolor": "white",
            "showbackground": true,
            "ticks": "",
            "zerolinecolor": "white"
           },
           "zaxis": {
            "backgroundcolor": "#E5ECF6",
            "gridcolor": "white",
            "gridwidth": 2,
            "linecolor": "white",
            "showbackground": true,
            "ticks": "",
            "zerolinecolor": "white"
           }
          },
          "shapedefaults": {
           "line": {
            "color": "#2a3f5f"
           }
          },
          "ternary": {
           "aaxis": {
            "gridcolor": "white",
            "linecolor": "white",
            "ticks": ""
           },
           "baxis": {
            "gridcolor": "white",
            "linecolor": "white",
            "ticks": ""
           },
           "bgcolor": "#E5ECF6",
           "caxis": {
            "gridcolor": "white",
            "linecolor": "white",
            "ticks": ""
           }
          },
          "title": {
           "x": 0.05
          },
          "xaxis": {
           "automargin": true,
           "gridcolor": "white",
           "linecolor": "white",
           "ticks": "",
           "title": {
            "standoff": 15
           },
           "zerolinecolor": "white",
           "zerolinewidth": 2
          },
          "yaxis": {
           "automargin": true,
           "gridcolor": "white",
           "linecolor": "white",
           "ticks": "",
           "title": {
            "standoff": 15
           },
           "zerolinecolor": "white",
           "zerolinewidth": 2
          }
         }
        },
        "title": {
         "font": {
          "color": "#4D5663"
         }
        },
        "xaxis": {
         "gridcolor": "#E1E5ED",
         "showgrid": true,
         "tickfont": {
          "color": "#4D5663"
         },
         "title": {
          "font": {
           "color": "#4D5663"
          },
          "text": ""
         },
         "zerolinecolor": "#E1E5ED"
        },
        "yaxis": {
         "gridcolor": "#E1E5ED",
         "showgrid": true,
         "tickfont": {
          "color": "#4D5663"
         },
         "title": {
          "font": {
           "color": "#4D5663"
          },
          "text": ""
         },
         "zerolinecolor": "#E1E5ED"
        }
       }
      },
      "text/html": [
       "<div>                            <div id=\"74fce9a6-c381-4bac-9a3b-33a53d319ebf\" class=\"plotly-graph-div\" style=\"height:525px; width:100%;\"></div>            <script type=\"text/javascript\">                require([\"plotly\"], function(Plotly) {                    window.PLOTLYENV=window.PLOTLYENV || {};\n",
       "                    window.PLOTLYENV.BASE_URL='https://plot.ly';                                    if (document.getElementById(\"74fce9a6-c381-4bac-9a3b-33a53d319ebf\")) {                    Plotly.newPlot(                        \"74fce9a6-c381-4bac-9a3b-33a53d319ebf\",                        [{\"histfunc\":\"count\",\"histnorm\":\"\",\"marker\":{\"color\":\"rgba(255, 153, 51, 1.0)\",\"line\":{\"color\":\"#4D5663\",\"width\":1.3}},\"name\":\"A\",\"nbinsx\":25,\"opacity\":0.8,\"orientation\":\"v\",\"x\":[0.7295363441218393,-0.30709735423890133,0.492710813594875,0.08392566125616459,-0.6889455689979118,0.5470456033814226,-0.59537959593479,0.590991782392905,0.9972471665249101,1.4378882065324756,0.11926922188426163,-1.6571759958291157,0.4487064707697026,-2.51301997833897,0.6001221119436471,-2.731948786259892,1.3607099053275447,-0.731152267488863,-1.3966859085953525,0.17378944539031352,0.6817597346735718,1.1402012726597144,0.14349266373328687,-0.9377451346394511,0.017522155117618125,0.3235679464012107,0.836983146893619,-0.8792559105632725,-1.1801754241794296,-0.3795826015311692,-1.140787877799205,-0.7723948304435839,-0.5145019292009516,0.35609369850632194,-1.511771529880759,1.3774677496649568,-0.16454591236628077,-0.20152889220951667,-0.8123283332056657,0.595491766397253,-0.7970370986126426,-0.7349886528627032,0.6385817620476262,-0.1332010168119281,-0.6122662727680039,-2.4533287444652374,-1.2247225198339713,-0.25819872800993604,-0.37154228878299783,1.1548376757268877,0.6091866542203763,0.4905265364947855,1.7151703495190282,0.5379372760497011,-0.9060239939628344,-0.4757653879199119,0.7393937868154522,-2.2189647639590326,0.37041005207702155,1.0224887183461624,-0.5119055368256046,-0.9017925229090039,0.1447604829762621,-2.422737424208872,-0.7930350683984899,-1.1868366962480066,-2.0569449530090984,1.1920114509529198,-0.46156730828628,-0.719859833789653,0.5066864394881544,1.473741498165212,-1.5954387366714262,-0.4782502836781616,-0.16444298863396906,1.1408405792421255,-0.7097825274860883,0.7513186713580287,0.1339137866817911,-1.3011927732441302,1.2811633564799318,-0.3242821085915659,0.6457367692201954,0.0031357660336803783,0.7701540363029559,1.1149898631778379,0.25928287776938813,1.6665070758153746,-1.8969684050518085,0.681158307412814,-0.45063469387663485,1.5622406665206328,-0.12734672873637162,-0.5040136701566764,1.1767269743927373,0.618194840212031,-0.6238683392746781,0.040684028835876136,0.49591506198487856,0.5402290487669394],\"type\":\"histogram\"}],                        {\"barmode\":\"overlay\",\"legend\":{\"bgcolor\":\"#F5F6F9\",\"font\":{\"color\":\"#4D5663\"}},\"paper_bgcolor\":\"#F5F6F9\",\"plot_bgcolor\":\"#F5F6F9\",\"template\":{\"data\":{\"barpolar\":[{\"marker\":{\"line\":{\"color\":\"#E5ECF6\",\"width\":0.5},\"pattern\":{\"fillmode\":\"overlay\",\"size\":10,\"solidity\":0.2}},\"type\":\"barpolar\"}],\"bar\":[{\"error_x\":{\"color\":\"#2a3f5f\"},\"error_y\":{\"color\":\"#2a3f5f\"},\"marker\":{\"line\":{\"color\":\"#E5ECF6\",\"width\":0.5},\"pattern\":{\"fillmode\":\"overlay\",\"size\":10,\"solidity\":0.2}},\"type\":\"bar\"}],\"carpet\":[{\"aaxis\":{\"endlinecolor\":\"#2a3f5f\",\"gridcolor\":\"white\",\"linecolor\":\"white\",\"minorgridcolor\":\"white\",\"startlinecolor\":\"#2a3f5f\"},\"baxis\":{\"endlinecolor\":\"#2a3f5f\",\"gridcolor\":\"white\",\"linecolor\":\"white\",\"minorgridcolor\":\"white\",\"startlinecolor\":\"#2a3f5f\"},\"type\":\"carpet\"}],\"choropleth\":[{\"colorbar\":{\"outlinewidth\":0,\"ticks\":\"\"},\"type\":\"choropleth\"}],\"contourcarpet\":[{\"colorbar\":{\"outlinewidth\":0,\"ticks\":\"\"},\"type\":\"contourcarpet\"}],\"contour\":[{\"colorbar\":{\"outlinewidth\":0,\"ticks\":\"\"},\"colorscale\":[[0.0,\"#0d0887\"],[0.1111111111111111,\"#46039f\"],[0.2222222222222222,\"#7201a8\"],[0.3333333333333333,\"#9c179e\"],[0.4444444444444444,\"#bd3786\"],[0.5555555555555556,\"#d8576b\"],[0.6666666666666666,\"#ed7953\"],[0.7777777777777778,\"#fb9f3a\"],[0.8888888888888888,\"#fdca26\"],[1.0,\"#f0f921\"]],\"type\":\"contour\"}],\"heatmapgl\":[{\"colorbar\":{\"outlinewidth\":0,\"ticks\":\"\"},\"colorscale\":[[0.0,\"#0d0887\"],[0.1111111111111111,\"#46039f\"],[0.2222222222222222,\"#7201a8\"],[0.3333333333333333,\"#9c179e\"],[0.4444444444444444,\"#bd3786\"],[0.5555555555555556,\"#d8576b\"],[0.6666666666666666,\"#ed7953\"],[0.7777777777777778,\"#fb9f3a\"],[0.8888888888888888,\"#fdca26\"],[1.0,\"#f0f921\"]],\"type\":\"heatmapgl\"}],\"heatmap\":[{\"colorbar\":{\"outlinewidth\":0,\"ticks\":\"\"},\"colorscale\":[[0.0,\"#0d0887\"],[0.1111111111111111,\"#46039f\"],[0.2222222222222222,\"#7201a8\"],[0.3333333333333333,\"#9c179e\"],[0.4444444444444444,\"#bd3786\"],[0.5555555555555556,\"#d8576b\"],[0.6666666666666666,\"#ed7953\"],[0.7777777777777778,\"#fb9f3a\"],[0.8888888888888888,\"#fdca26\"],[1.0,\"#f0f921\"]],\"type\":\"heatmap\"}],\"histogram2dcontour\":[{\"colorbar\":{\"outlinewidth\":0,\"ticks\":\"\"},\"colorscale\":[[0.0,\"#0d0887\"],[0.1111111111111111,\"#46039f\"],[0.2222222222222222,\"#7201a8\"],[0.3333333333333333,\"#9c179e\"],[0.4444444444444444,\"#bd3786\"],[0.5555555555555556,\"#d8576b\"],[0.6666666666666666,\"#ed7953\"],[0.7777777777777778,\"#fb9f3a\"],[0.8888888888888888,\"#fdca26\"],[1.0,\"#f0f921\"]],\"type\":\"histogram2dcontour\"}],\"histogram2d\":[{\"colorbar\":{\"outlinewidth\":0,\"ticks\":\"\"},\"colorscale\":[[0.0,\"#0d0887\"],[0.1111111111111111,\"#46039f\"],[0.2222222222222222,\"#7201a8\"],[0.3333333333333333,\"#9c179e\"],[0.4444444444444444,\"#bd3786\"],[0.5555555555555556,\"#d8576b\"],[0.6666666666666666,\"#ed7953\"],[0.7777777777777778,\"#fb9f3a\"],[0.8888888888888888,\"#fdca26\"],[1.0,\"#f0f921\"]],\"type\":\"histogram2d\"}],\"histogram\":[{\"marker\":{\"pattern\":{\"fillmode\":\"overlay\",\"size\":10,\"solidity\":0.2}},\"type\":\"histogram\"}],\"mesh3d\":[{\"colorbar\":{\"outlinewidth\":0,\"ticks\":\"\"},\"type\":\"mesh3d\"}],\"parcoords\":[{\"line\":{\"colorbar\":{\"outlinewidth\":0,\"ticks\":\"\"}},\"type\":\"parcoords\"}],\"pie\":[{\"automargin\":true,\"type\":\"pie\"}],\"scatter3d\":[{\"line\":{\"colorbar\":{\"outlinewidth\":0,\"ticks\":\"\"}},\"marker\":{\"colorbar\":{\"outlinewidth\":0,\"ticks\":\"\"}},\"type\":\"scatter3d\"}],\"scattercarpet\":[{\"marker\":{\"colorbar\":{\"outlinewidth\":0,\"ticks\":\"\"}},\"type\":\"scattercarpet\"}],\"scattergeo\":[{\"marker\":{\"colorbar\":{\"outlinewidth\":0,\"ticks\":\"\"}},\"type\":\"scattergeo\"}],\"scattergl\":[{\"marker\":{\"colorbar\":{\"outlinewidth\":0,\"ticks\":\"\"}},\"type\":\"scattergl\"}],\"scattermapbox\":[{\"marker\":{\"colorbar\":{\"outlinewidth\":0,\"ticks\":\"\"}},\"type\":\"scattermapbox\"}],\"scatterpolargl\":[{\"marker\":{\"colorbar\":{\"outlinewidth\":0,\"ticks\":\"\"}},\"type\":\"scatterpolargl\"}],\"scatterpolar\":[{\"marker\":{\"colorbar\":{\"outlinewidth\":0,\"ticks\":\"\"}},\"type\":\"scatterpolar\"}],\"scatter\":[{\"marker\":{\"colorbar\":{\"outlinewidth\":0,\"ticks\":\"\"}},\"type\":\"scatter\"}],\"scatterternary\":[{\"marker\":{\"colorbar\":{\"outlinewidth\":0,\"ticks\":\"\"}},\"type\":\"scatterternary\"}],\"surface\":[{\"colorbar\":{\"outlinewidth\":0,\"ticks\":\"\"},\"colorscale\":[[0.0,\"#0d0887\"],[0.1111111111111111,\"#46039f\"],[0.2222222222222222,\"#7201a8\"],[0.3333333333333333,\"#9c179e\"],[0.4444444444444444,\"#bd3786\"],[0.5555555555555556,\"#d8576b\"],[0.6666666666666666,\"#ed7953\"],[0.7777777777777778,\"#fb9f3a\"],[0.8888888888888888,\"#fdca26\"],[1.0,\"#f0f921\"]],\"type\":\"surface\"}],\"table\":[{\"cells\":{\"fill\":{\"color\":\"#EBF0F8\"},\"line\":{\"color\":\"white\"}},\"header\":{\"fill\":{\"color\":\"#C8D4E3\"},\"line\":{\"color\":\"white\"}},\"type\":\"table\"}]},\"layout\":{\"annotationdefaults\":{\"arrowcolor\":\"#2a3f5f\",\"arrowhead\":0,\"arrowwidth\":1},\"autotypenumbers\":\"strict\",\"coloraxis\":{\"colorbar\":{\"outlinewidth\":0,\"ticks\":\"\"}},\"colorscale\":{\"diverging\":[[0,\"#8e0152\"],[0.1,\"#c51b7d\"],[0.2,\"#de77ae\"],[0.3,\"#f1b6da\"],[0.4,\"#fde0ef\"],[0.5,\"#f7f7f7\"],[0.6,\"#e6f5d0\"],[0.7,\"#b8e186\"],[0.8,\"#7fbc41\"],[0.9,\"#4d9221\"],[1,\"#276419\"]],\"sequential\":[[0.0,\"#0d0887\"],[0.1111111111111111,\"#46039f\"],[0.2222222222222222,\"#7201a8\"],[0.3333333333333333,\"#9c179e\"],[0.4444444444444444,\"#bd3786\"],[0.5555555555555556,\"#d8576b\"],[0.6666666666666666,\"#ed7953\"],[0.7777777777777778,\"#fb9f3a\"],[0.8888888888888888,\"#fdca26\"],[1.0,\"#f0f921\"]],\"sequentialminus\":[[0.0,\"#0d0887\"],[0.1111111111111111,\"#46039f\"],[0.2222222222222222,\"#7201a8\"],[0.3333333333333333,\"#9c179e\"],[0.4444444444444444,\"#bd3786\"],[0.5555555555555556,\"#d8576b\"],[0.6666666666666666,\"#ed7953\"],[0.7777777777777778,\"#fb9f3a\"],[0.8888888888888888,\"#fdca26\"],[1.0,\"#f0f921\"]]},\"colorway\":[\"#636efa\",\"#EF553B\",\"#00cc96\",\"#ab63fa\",\"#FFA15A\",\"#19d3f3\",\"#FF6692\",\"#B6E880\",\"#FF97FF\",\"#FECB52\"],\"font\":{\"color\":\"#2a3f5f\"},\"geo\":{\"bgcolor\":\"white\",\"lakecolor\":\"white\",\"landcolor\":\"#E5ECF6\",\"showlakes\":true,\"showland\":true,\"subunitcolor\":\"white\"},\"hoverlabel\":{\"align\":\"left\"},\"hovermode\":\"closest\",\"mapbox\":{\"style\":\"light\"},\"paper_bgcolor\":\"white\",\"plot_bgcolor\":\"#E5ECF6\",\"polar\":{\"angularaxis\":{\"gridcolor\":\"white\",\"linecolor\":\"white\",\"ticks\":\"\"},\"bgcolor\":\"#E5ECF6\",\"radialaxis\":{\"gridcolor\":\"white\",\"linecolor\":\"white\",\"ticks\":\"\"}},\"scene\":{\"xaxis\":{\"backgroundcolor\":\"#E5ECF6\",\"gridcolor\":\"white\",\"gridwidth\":2,\"linecolor\":\"white\",\"showbackground\":true,\"ticks\":\"\",\"zerolinecolor\":\"white\"},\"yaxis\":{\"backgroundcolor\":\"#E5ECF6\",\"gridcolor\":\"white\",\"gridwidth\":2,\"linecolor\":\"white\",\"showbackground\":true,\"ticks\":\"\",\"zerolinecolor\":\"white\"},\"zaxis\":{\"backgroundcolor\":\"#E5ECF6\",\"gridcolor\":\"white\",\"gridwidth\":2,\"linecolor\":\"white\",\"showbackground\":true,\"ticks\":\"\",\"zerolinecolor\":\"white\"}},\"shapedefaults\":{\"line\":{\"color\":\"#2a3f5f\"}},\"ternary\":{\"aaxis\":{\"gridcolor\":\"white\",\"linecolor\":\"white\",\"ticks\":\"\"},\"baxis\":{\"gridcolor\":\"white\",\"linecolor\":\"white\",\"ticks\":\"\"},\"bgcolor\":\"#E5ECF6\",\"caxis\":{\"gridcolor\":\"white\",\"linecolor\":\"white\",\"ticks\":\"\"}},\"title\":{\"x\":0.05},\"xaxis\":{\"automargin\":true,\"gridcolor\":\"white\",\"linecolor\":\"white\",\"ticks\":\"\",\"title\":{\"standoff\":15},\"zerolinecolor\":\"white\",\"zerolinewidth\":2},\"yaxis\":{\"automargin\":true,\"gridcolor\":\"white\",\"linecolor\":\"white\",\"ticks\":\"\",\"title\":{\"standoff\":15},\"zerolinecolor\":\"white\",\"zerolinewidth\":2}}},\"title\":{\"font\":{\"color\":\"#4D5663\"}},\"xaxis\":{\"gridcolor\":\"#E1E5ED\",\"showgrid\":true,\"tickfont\":{\"color\":\"#4D5663\"},\"title\":{\"font\":{\"color\":\"#4D5663\"},\"text\":\"\"},\"zerolinecolor\":\"#E1E5ED\"},\"yaxis\":{\"gridcolor\":\"#E1E5ED\",\"showgrid\":true,\"tickfont\":{\"color\":\"#4D5663\"},\"title\":{\"font\":{\"color\":\"#4D5663\"},\"text\":\"\"},\"zerolinecolor\":\"#E1E5ED\"}},                        {\"showLink\": true, \"linkText\": \"Export to plot.ly\", \"plotlyServerURL\": \"https://plot.ly\", \"responsive\": true}                    ).then(function(){\n",
       "                            \n",
       "var gd = document.getElementById('74fce9a6-c381-4bac-9a3b-33a53d319ebf');\n",
       "var x = new MutationObserver(function (mutations, observer) {{\n",
       "        var display = window.getComputedStyle(gd).display;\n",
       "        if (!display || display === 'none') {{\n",
       "            console.log([gd, 'removed!']);\n",
       "            Plotly.purge(gd);\n",
       "            observer.disconnect();\n",
       "        }}\n",
       "}});\n",
       "\n",
       "// Listen for the removal of the full notebook cells\n",
       "var notebookContainer = gd.closest('#notebook-container');\n",
       "if (notebookContainer) {{\n",
       "    x.observe(notebookContainer, {childList: true});\n",
       "}}\n",
       "\n",
       "// Listen for the clearing of the current output cell\n",
       "var outputEl = gd.closest('.output');\n",
       "if (outputEl) {{\n",
       "    x.observe(outputEl, {childList: true});\n",
       "}}\n",
       "\n",
       "                        })                };                });            </script>        </div>"
      ]
     },
     "metadata": {},
     "output_type": "display_data"
    }
   ],
   "source": [
    "df['A'].iplot(kind='hist',bins=25)"
   ]
  },
  {
   "cell_type": "code",
   "execution_count": 25,
   "metadata": {},
   "outputs": [
    {
     "data": {
      "application/vnd.plotly.v1+json": {
       "config": {
        "linkText": "Export to plot.ly",
        "plotlyServerURL": "https://plot.ly",
        "showLink": true
       },
       "data": [
        {
         "marker": {
          "color": [
           "rgb(255, 153, 51)",
           "rgb(55, 128, 191)",
           "rgb(50, 171, 96)",
           "rgb(128, 0, 128)",
           "rgb(219, 64, 82)",
           "rgb(0, 128, 128)",
           "rgb(255, 255, 51)",
           "rgb(128, 128, 0)",
           "rgb(251, 128, 114)",
           "rgb(128, 177, 211)"
          ],
          "line": {
           "width": 1.3
          },
          "size": [
           57,
           56,
           44,
           12,
           40,
           42,
           112,
           28,
           58,
           63,
           53,
           62,
           46,
           78,
           80,
           49,
           99,
           55,
           55,
           57,
           49,
           92,
           68,
           57,
           52,
           42,
           22,
           50,
           59,
           79,
           63,
           14,
           45,
           53,
           60,
           44,
           59,
           41,
           49,
           40,
           40,
           38,
           76,
           50,
           50,
           60,
           95,
           69,
           54,
           73,
           55,
           73,
           41,
           34,
           59,
           21,
           50,
           71,
           64,
           88,
           70,
           47,
           61,
           87,
           39,
           74,
           58,
           52,
           66,
           85,
           51,
           75,
           46,
           51,
           44,
           40,
           73,
           51,
           73,
           36,
           60,
           76,
           50,
           50,
           100,
           67,
           64,
           60,
           96,
           51,
           44,
           67,
           48,
           49,
           31,
           83,
           46,
           47,
           56,
           54
          ],
          "symbol": "circle"
         },
         "mode": "markers",
         "text": "",
         "type": "scatter",
         "x": [
          0.7295363441218393,
          -0.30709735423890133,
          0.492710813594875,
          0.08392566125616459,
          -0.6889455689979118,
          0.5470456033814226,
          -0.59537959593479,
          0.590991782392905,
          0.9972471665249101,
          1.4378882065324756,
          0.11926922188426163,
          -1.6571759958291157,
          0.4487064707697026,
          -2.51301997833897,
          0.6001221119436471,
          -2.731948786259892,
          1.3607099053275447,
          -0.731152267488863,
          -1.3966859085953525,
          0.17378944539031352,
          0.6817597346735718,
          1.1402012726597144,
          0.14349266373328687,
          -0.9377451346394511,
          0.017522155117618125,
          0.3235679464012107,
          0.836983146893619,
          -0.8792559105632725,
          -1.1801754241794296,
          -0.3795826015311692,
          -1.140787877799205,
          -0.7723948304435839,
          -0.5145019292009516,
          0.35609369850632194,
          -1.511771529880759,
          1.3774677496649568,
          -0.16454591236628077,
          -0.20152889220951667,
          -0.8123283332056657,
          0.595491766397253,
          -0.7970370986126426,
          -0.7349886528627032,
          0.6385817620476262,
          -0.1332010168119281,
          -0.6122662727680039,
          -2.4533287444652374,
          -1.2247225198339713,
          -0.25819872800993604,
          -0.37154228878299783,
          1.1548376757268877,
          0.6091866542203763,
          0.4905265364947855,
          1.7151703495190282,
          0.5379372760497011,
          -0.9060239939628344,
          -0.4757653879199119,
          0.7393937868154522,
          -2.2189647639590326,
          0.37041005207702155,
          1.0224887183461624,
          -0.5119055368256046,
          -0.9017925229090039,
          0.1447604829762621,
          -2.422737424208872,
          -0.7930350683984899,
          -1.1868366962480066,
          -2.0569449530090984,
          1.1920114509529198,
          -0.46156730828628,
          -0.719859833789653,
          0.5066864394881544,
          1.473741498165212,
          -1.5954387366714262,
          -0.4782502836781616,
          -0.16444298863396906,
          1.1408405792421255,
          -0.7097825274860883,
          0.7513186713580287,
          0.1339137866817911,
          -1.3011927732441302,
          1.2811633564799318,
          -0.3242821085915659,
          0.6457367692201954,
          0.0031357660336803783,
          0.7701540363029559,
          1.1149898631778379,
          0.25928287776938813,
          1.6665070758153746,
          -1.8969684050518085,
          0.681158307412814,
          -0.45063469387663485,
          1.5622406665206328,
          -0.12734672873637162,
          -0.5040136701566764,
          1.1767269743927373,
          0.618194840212031,
          -0.6238683392746781,
          0.040684028835876136,
          0.49591506198487856,
          0.5402290487669394
         ],
         "y": [
          0.5932107040360172,
          0.04753954704139975,
          -0.444048574584182,
          -0.09335676213517706,
          -1.7432026927789257,
          1.0909115353161996,
          0.5971969506321606,
          1.8949064155444952,
          -1.1931694954805152,
          -0.05676690937649937,
          -2.2217498558969324,
          -1.297293680429583,
          -0.021679536036858914,
          0.8916762942133755,
          -0.02348621814267172,
          -1.5786609005306635,
          0.24357246516668982,
          0.010917665382364302,
          0.5571223092510637,
          -1.2475758485667943,
          1.5868744203536709,
          -0.8057521945444989,
          0.7362339481277361,
          0.9477863231294862,
          -0.5995459180209022,
          0.32554867390014314,
          -0.24356449203624217,
          1.1979573743086407,
          0.7822599197053102,
          -1.0954063618013492,
          -1.4808650659886475,
          -0.03216781584335983,
          -1.8683123603357328,
          0.07009016085630791,
          1.0824506963115468,
          0.674844983492287,
          -0.4896990474459487,
          -0.25826941502304024,
          1.665037379640575,
          0.010847284024948613,
          -0.6880159072252328,
          -1.5714676059379604,
          0.9714241406998673,
          -0.24294500318685008,
          -0.06292344712525674,
          -1.3987054229303149,
          -0.4734533238685408,
          -2.321963835811431,
          1.3884196000510303,
          -0.31025234222947135,
          -1.481113764744444,
          -0.7699363254437,
          -1.1778899107140954,
          -0.8987703761011371,
          0.19883119197798022,
          -0.8858314065876076,
          -1.5178717776599873,
          0.5893703347859245,
          -0.6994135868450015,
          -0.48358717433491655,
          -1.0267079997349633,
          0.5298163054115055,
          0.14310713216157514,
          -0.35419547943352053,
          0.10136482998347482,
          0.7934625832758466,
          -0.5560458519842975,
          -0.07531028933549962,
          0.04992795085509383,
          1.1711134364945317,
          1.3911558612592592,
          0.3384467388925263,
          -1.0964942691720898,
          2.279215075793931,
          2.0177131899560052,
          -0.8702672956301913,
          -1.790636564450756,
          -1.1939131889231476,
          -1.0308948061031502,
          0.8574156496421109,
          0.20214773489736038,
          0.05214163230900531,
          -0.5361664714973083,
          -0.2671110698261588,
          1.67295750683312,
          0.47336831168584104,
          1.3273464336078364,
          -0.1455793598936071,
          1.0127945851899962,
          1.1546317432106692,
          -0.05084218514467188,
          -0.9450278958175217,
          0.5740271589665797,
          0.28224149312428837,
          2.659282372516733,
          -0.5020185634569961,
          0.8538731764432778,
          0.28591735410309577,
          -1.4126982855654242,
          -1.8891270064966479
         ]
        }
       ],
       "layout": {
        "legend": {
         "bgcolor": "#F5F6F9",
         "font": {
          "color": "#4D5663"
         }
        },
        "paper_bgcolor": "#F5F6F9",
        "plot_bgcolor": "#F5F6F9",
        "template": {
         "data": {
          "bar": [
           {
            "error_x": {
             "color": "#2a3f5f"
            },
            "error_y": {
             "color": "#2a3f5f"
            },
            "marker": {
             "line": {
              "color": "#E5ECF6",
              "width": 0.5
             },
             "pattern": {
              "fillmode": "overlay",
              "size": 10,
              "solidity": 0.2
             }
            },
            "type": "bar"
           }
          ],
          "barpolar": [
           {
            "marker": {
             "line": {
              "color": "#E5ECF6",
              "width": 0.5
             },
             "pattern": {
              "fillmode": "overlay",
              "size": 10,
              "solidity": 0.2
             }
            },
            "type": "barpolar"
           }
          ],
          "carpet": [
           {
            "aaxis": {
             "endlinecolor": "#2a3f5f",
             "gridcolor": "white",
             "linecolor": "white",
             "minorgridcolor": "white",
             "startlinecolor": "#2a3f5f"
            },
            "baxis": {
             "endlinecolor": "#2a3f5f",
             "gridcolor": "white",
             "linecolor": "white",
             "minorgridcolor": "white",
             "startlinecolor": "#2a3f5f"
            },
            "type": "carpet"
           }
          ],
          "choropleth": [
           {
            "colorbar": {
             "outlinewidth": 0,
             "ticks": ""
            },
            "type": "choropleth"
           }
          ],
          "contour": [
           {
            "colorbar": {
             "outlinewidth": 0,
             "ticks": ""
            },
            "colorscale": [
             [
              0,
              "#0d0887"
             ],
             [
              0.1111111111111111,
              "#46039f"
             ],
             [
              0.2222222222222222,
              "#7201a8"
             ],
             [
              0.3333333333333333,
              "#9c179e"
             ],
             [
              0.4444444444444444,
              "#bd3786"
             ],
             [
              0.5555555555555556,
              "#d8576b"
             ],
             [
              0.6666666666666666,
              "#ed7953"
             ],
             [
              0.7777777777777778,
              "#fb9f3a"
             ],
             [
              0.8888888888888888,
              "#fdca26"
             ],
             [
              1,
              "#f0f921"
             ]
            ],
            "type": "contour"
           }
          ],
          "contourcarpet": [
           {
            "colorbar": {
             "outlinewidth": 0,
             "ticks": ""
            },
            "type": "contourcarpet"
           }
          ],
          "heatmap": [
           {
            "colorbar": {
             "outlinewidth": 0,
             "ticks": ""
            },
            "colorscale": [
             [
              0,
              "#0d0887"
             ],
             [
              0.1111111111111111,
              "#46039f"
             ],
             [
              0.2222222222222222,
              "#7201a8"
             ],
             [
              0.3333333333333333,
              "#9c179e"
             ],
             [
              0.4444444444444444,
              "#bd3786"
             ],
             [
              0.5555555555555556,
              "#d8576b"
             ],
             [
              0.6666666666666666,
              "#ed7953"
             ],
             [
              0.7777777777777778,
              "#fb9f3a"
             ],
             [
              0.8888888888888888,
              "#fdca26"
             ],
             [
              1,
              "#f0f921"
             ]
            ],
            "type": "heatmap"
           }
          ],
          "heatmapgl": [
           {
            "colorbar": {
             "outlinewidth": 0,
             "ticks": ""
            },
            "colorscale": [
             [
              0,
              "#0d0887"
             ],
             [
              0.1111111111111111,
              "#46039f"
             ],
             [
              0.2222222222222222,
              "#7201a8"
             ],
             [
              0.3333333333333333,
              "#9c179e"
             ],
             [
              0.4444444444444444,
              "#bd3786"
             ],
             [
              0.5555555555555556,
              "#d8576b"
             ],
             [
              0.6666666666666666,
              "#ed7953"
             ],
             [
              0.7777777777777778,
              "#fb9f3a"
             ],
             [
              0.8888888888888888,
              "#fdca26"
             ],
             [
              1,
              "#f0f921"
             ]
            ],
            "type": "heatmapgl"
           }
          ],
          "histogram": [
           {
            "marker": {
             "pattern": {
              "fillmode": "overlay",
              "size": 10,
              "solidity": 0.2
             }
            },
            "type": "histogram"
           }
          ],
          "histogram2d": [
           {
            "colorbar": {
             "outlinewidth": 0,
             "ticks": ""
            },
            "colorscale": [
             [
              0,
              "#0d0887"
             ],
             [
              0.1111111111111111,
              "#46039f"
             ],
             [
              0.2222222222222222,
              "#7201a8"
             ],
             [
              0.3333333333333333,
              "#9c179e"
             ],
             [
              0.4444444444444444,
              "#bd3786"
             ],
             [
              0.5555555555555556,
              "#d8576b"
             ],
             [
              0.6666666666666666,
              "#ed7953"
             ],
             [
              0.7777777777777778,
              "#fb9f3a"
             ],
             [
              0.8888888888888888,
              "#fdca26"
             ],
             [
              1,
              "#f0f921"
             ]
            ],
            "type": "histogram2d"
           }
          ],
          "histogram2dcontour": [
           {
            "colorbar": {
             "outlinewidth": 0,
             "ticks": ""
            },
            "colorscale": [
             [
              0,
              "#0d0887"
             ],
             [
              0.1111111111111111,
              "#46039f"
             ],
             [
              0.2222222222222222,
              "#7201a8"
             ],
             [
              0.3333333333333333,
              "#9c179e"
             ],
             [
              0.4444444444444444,
              "#bd3786"
             ],
             [
              0.5555555555555556,
              "#d8576b"
             ],
             [
              0.6666666666666666,
              "#ed7953"
             ],
             [
              0.7777777777777778,
              "#fb9f3a"
             ],
             [
              0.8888888888888888,
              "#fdca26"
             ],
             [
              1,
              "#f0f921"
             ]
            ],
            "type": "histogram2dcontour"
           }
          ],
          "mesh3d": [
           {
            "colorbar": {
             "outlinewidth": 0,
             "ticks": ""
            },
            "type": "mesh3d"
           }
          ],
          "parcoords": [
           {
            "line": {
             "colorbar": {
              "outlinewidth": 0,
              "ticks": ""
             }
            },
            "type": "parcoords"
           }
          ],
          "pie": [
           {
            "automargin": true,
            "type": "pie"
           }
          ],
          "scatter": [
           {
            "marker": {
             "colorbar": {
              "outlinewidth": 0,
              "ticks": ""
             }
            },
            "type": "scatter"
           }
          ],
          "scatter3d": [
           {
            "line": {
             "colorbar": {
              "outlinewidth": 0,
              "ticks": ""
             }
            },
            "marker": {
             "colorbar": {
              "outlinewidth": 0,
              "ticks": ""
             }
            },
            "type": "scatter3d"
           }
          ],
          "scattercarpet": [
           {
            "marker": {
             "colorbar": {
              "outlinewidth": 0,
              "ticks": ""
             }
            },
            "type": "scattercarpet"
           }
          ],
          "scattergeo": [
           {
            "marker": {
             "colorbar": {
              "outlinewidth": 0,
              "ticks": ""
             }
            },
            "type": "scattergeo"
           }
          ],
          "scattergl": [
           {
            "marker": {
             "colorbar": {
              "outlinewidth": 0,
              "ticks": ""
             }
            },
            "type": "scattergl"
           }
          ],
          "scattermapbox": [
           {
            "marker": {
             "colorbar": {
              "outlinewidth": 0,
              "ticks": ""
             }
            },
            "type": "scattermapbox"
           }
          ],
          "scatterpolar": [
           {
            "marker": {
             "colorbar": {
              "outlinewidth": 0,
              "ticks": ""
             }
            },
            "type": "scatterpolar"
           }
          ],
          "scatterpolargl": [
           {
            "marker": {
             "colorbar": {
              "outlinewidth": 0,
              "ticks": ""
             }
            },
            "type": "scatterpolargl"
           }
          ],
          "scatterternary": [
           {
            "marker": {
             "colorbar": {
              "outlinewidth": 0,
              "ticks": ""
             }
            },
            "type": "scatterternary"
           }
          ],
          "surface": [
           {
            "colorbar": {
             "outlinewidth": 0,
             "ticks": ""
            },
            "colorscale": [
             [
              0,
              "#0d0887"
             ],
             [
              0.1111111111111111,
              "#46039f"
             ],
             [
              0.2222222222222222,
              "#7201a8"
             ],
             [
              0.3333333333333333,
              "#9c179e"
             ],
             [
              0.4444444444444444,
              "#bd3786"
             ],
             [
              0.5555555555555556,
              "#d8576b"
             ],
             [
              0.6666666666666666,
              "#ed7953"
             ],
             [
              0.7777777777777778,
              "#fb9f3a"
             ],
             [
              0.8888888888888888,
              "#fdca26"
             ],
             [
              1,
              "#f0f921"
             ]
            ],
            "type": "surface"
           }
          ],
          "table": [
           {
            "cells": {
             "fill": {
              "color": "#EBF0F8"
             },
             "line": {
              "color": "white"
             }
            },
            "header": {
             "fill": {
              "color": "#C8D4E3"
             },
             "line": {
              "color": "white"
             }
            },
            "type": "table"
           }
          ]
         },
         "layout": {
          "annotationdefaults": {
           "arrowcolor": "#2a3f5f",
           "arrowhead": 0,
           "arrowwidth": 1
          },
          "autotypenumbers": "strict",
          "coloraxis": {
           "colorbar": {
            "outlinewidth": 0,
            "ticks": ""
           }
          },
          "colorscale": {
           "diverging": [
            [
             0,
             "#8e0152"
            ],
            [
             0.1,
             "#c51b7d"
            ],
            [
             0.2,
             "#de77ae"
            ],
            [
             0.3,
             "#f1b6da"
            ],
            [
             0.4,
             "#fde0ef"
            ],
            [
             0.5,
             "#f7f7f7"
            ],
            [
             0.6,
             "#e6f5d0"
            ],
            [
             0.7,
             "#b8e186"
            ],
            [
             0.8,
             "#7fbc41"
            ],
            [
             0.9,
             "#4d9221"
            ],
            [
             1,
             "#276419"
            ]
           ],
           "sequential": [
            [
             0,
             "#0d0887"
            ],
            [
             0.1111111111111111,
             "#46039f"
            ],
            [
             0.2222222222222222,
             "#7201a8"
            ],
            [
             0.3333333333333333,
             "#9c179e"
            ],
            [
             0.4444444444444444,
             "#bd3786"
            ],
            [
             0.5555555555555556,
             "#d8576b"
            ],
            [
             0.6666666666666666,
             "#ed7953"
            ],
            [
             0.7777777777777778,
             "#fb9f3a"
            ],
            [
             0.8888888888888888,
             "#fdca26"
            ],
            [
             1,
             "#f0f921"
            ]
           ],
           "sequentialminus": [
            [
             0,
             "#0d0887"
            ],
            [
             0.1111111111111111,
             "#46039f"
            ],
            [
             0.2222222222222222,
             "#7201a8"
            ],
            [
             0.3333333333333333,
             "#9c179e"
            ],
            [
             0.4444444444444444,
             "#bd3786"
            ],
            [
             0.5555555555555556,
             "#d8576b"
            ],
            [
             0.6666666666666666,
             "#ed7953"
            ],
            [
             0.7777777777777778,
             "#fb9f3a"
            ],
            [
             0.8888888888888888,
             "#fdca26"
            ],
            [
             1,
             "#f0f921"
            ]
           ]
          },
          "colorway": [
           "#636efa",
           "#EF553B",
           "#00cc96",
           "#ab63fa",
           "#FFA15A",
           "#19d3f3",
           "#FF6692",
           "#B6E880",
           "#FF97FF",
           "#FECB52"
          ],
          "font": {
           "color": "#2a3f5f"
          },
          "geo": {
           "bgcolor": "white",
           "lakecolor": "white",
           "landcolor": "#E5ECF6",
           "showlakes": true,
           "showland": true,
           "subunitcolor": "white"
          },
          "hoverlabel": {
           "align": "left"
          },
          "hovermode": "closest",
          "mapbox": {
           "style": "light"
          },
          "paper_bgcolor": "white",
          "plot_bgcolor": "#E5ECF6",
          "polar": {
           "angularaxis": {
            "gridcolor": "white",
            "linecolor": "white",
            "ticks": ""
           },
           "bgcolor": "#E5ECF6",
           "radialaxis": {
            "gridcolor": "white",
            "linecolor": "white",
            "ticks": ""
           }
          },
          "scene": {
           "xaxis": {
            "backgroundcolor": "#E5ECF6",
            "gridcolor": "white",
            "gridwidth": 2,
            "linecolor": "white",
            "showbackground": true,
            "ticks": "",
            "zerolinecolor": "white"
           },
           "yaxis": {
            "backgroundcolor": "#E5ECF6",
            "gridcolor": "white",
            "gridwidth": 2,
            "linecolor": "white",
            "showbackground": true,
            "ticks": "",
            "zerolinecolor": "white"
           },
           "zaxis": {
            "backgroundcolor": "#E5ECF6",
            "gridcolor": "white",
            "gridwidth": 2,
            "linecolor": "white",
            "showbackground": true,
            "ticks": "",
            "zerolinecolor": "white"
           }
          },
          "shapedefaults": {
           "line": {
            "color": "#2a3f5f"
           }
          },
          "ternary": {
           "aaxis": {
            "gridcolor": "white",
            "linecolor": "white",
            "ticks": ""
           },
           "baxis": {
            "gridcolor": "white",
            "linecolor": "white",
            "ticks": ""
           },
           "bgcolor": "#E5ECF6",
           "caxis": {
            "gridcolor": "white",
            "linecolor": "white",
            "ticks": ""
           }
          },
          "title": {
           "x": 0.05
          },
          "xaxis": {
           "automargin": true,
           "gridcolor": "white",
           "linecolor": "white",
           "ticks": "",
           "title": {
            "standoff": 15
           },
           "zerolinecolor": "white",
           "zerolinewidth": 2
          },
          "yaxis": {
           "automargin": true,
           "gridcolor": "white",
           "linecolor": "white",
           "ticks": "",
           "title": {
            "standoff": 15
           },
           "zerolinecolor": "white",
           "zerolinewidth": 2
          }
         }
        },
        "title": {
         "font": {
          "color": "#4D5663"
         }
        },
        "xaxis": {
         "gridcolor": "#E1E5ED",
         "showgrid": true,
         "tickfont": {
          "color": "#4D5663"
         },
         "title": {
          "font": {
           "color": "#4D5663"
          },
          "text": ""
         },
         "zerolinecolor": "#E1E5ED"
        },
        "yaxis": {
         "gridcolor": "#E1E5ED",
         "showgrid": true,
         "tickfont": {
          "color": "#4D5663"
         },
         "title": {
          "font": {
           "color": "#4D5663"
          },
          "text": ""
         },
         "zerolinecolor": "#E1E5ED"
        }
       }
      },
      "text/html": [
       "<div>                            <div id=\"ad4db5e7-3fd6-47d4-a766-c28a2ce91c3b\" class=\"plotly-graph-div\" style=\"height:525px; width:100%;\"></div>            <script type=\"text/javascript\">                require([\"plotly\"], function(Plotly) {                    window.PLOTLYENV=window.PLOTLYENV || {};\n",
       "                    window.PLOTLYENV.BASE_URL='https://plot.ly';                                    if (document.getElementById(\"ad4db5e7-3fd6-47d4-a766-c28a2ce91c3b\")) {                    Plotly.newPlot(                        \"ad4db5e7-3fd6-47d4-a766-c28a2ce91c3b\",                        [{\"marker\":{\"color\":[\"rgb(255, 153, 51)\",\"rgb(55, 128, 191)\",\"rgb(50, 171, 96)\",\"rgb(128, 0, 128)\",\"rgb(219, 64, 82)\",\"rgb(0, 128, 128)\",\"rgb(255, 255, 51)\",\"rgb(128, 128, 0)\",\"rgb(251, 128, 114)\",\"rgb(128, 177, 211)\"],\"line\":{\"width\":1.3},\"size\":[57,56,44,12,40,42,112,28,58,63,53,62,46,78,80,49,99,55,55,57,49,92,68,57,52,42,22,50,59,79,63,14,45,53,60,44,59,41,49,40,40,38,76,50,50,60,95,69,54,73,55,73,41,34,59,21,50,71,64,88,70,47,61,87,39,74,58,52,66,85,51,75,46,51,44,40,73,51,73,36,60,76,50,50,100,67,64,60,96,51,44,67,48,49,31,83,46,47,56,54],\"symbol\":\"circle\"},\"mode\":\"markers\",\"text\":\"\",\"x\":[0.7295363441218393,-0.30709735423890133,0.492710813594875,0.08392566125616459,-0.6889455689979118,0.5470456033814226,-0.59537959593479,0.590991782392905,0.9972471665249101,1.4378882065324756,0.11926922188426163,-1.6571759958291157,0.4487064707697026,-2.51301997833897,0.6001221119436471,-2.731948786259892,1.3607099053275447,-0.731152267488863,-1.3966859085953525,0.17378944539031352,0.6817597346735718,1.1402012726597144,0.14349266373328687,-0.9377451346394511,0.017522155117618125,0.3235679464012107,0.836983146893619,-0.8792559105632725,-1.1801754241794296,-0.3795826015311692,-1.140787877799205,-0.7723948304435839,-0.5145019292009516,0.35609369850632194,-1.511771529880759,1.3774677496649568,-0.16454591236628077,-0.20152889220951667,-0.8123283332056657,0.595491766397253,-0.7970370986126426,-0.7349886528627032,0.6385817620476262,-0.1332010168119281,-0.6122662727680039,-2.4533287444652374,-1.2247225198339713,-0.25819872800993604,-0.37154228878299783,1.1548376757268877,0.6091866542203763,0.4905265364947855,1.7151703495190282,0.5379372760497011,-0.9060239939628344,-0.4757653879199119,0.7393937868154522,-2.2189647639590326,0.37041005207702155,1.0224887183461624,-0.5119055368256046,-0.9017925229090039,0.1447604829762621,-2.422737424208872,-0.7930350683984899,-1.1868366962480066,-2.0569449530090984,1.1920114509529198,-0.46156730828628,-0.719859833789653,0.5066864394881544,1.473741498165212,-1.5954387366714262,-0.4782502836781616,-0.16444298863396906,1.1408405792421255,-0.7097825274860883,0.7513186713580287,0.1339137866817911,-1.3011927732441302,1.2811633564799318,-0.3242821085915659,0.6457367692201954,0.0031357660336803783,0.7701540363029559,1.1149898631778379,0.25928287776938813,1.6665070758153746,-1.8969684050518085,0.681158307412814,-0.45063469387663485,1.5622406665206328,-0.12734672873637162,-0.5040136701566764,1.1767269743927373,0.618194840212031,-0.6238683392746781,0.040684028835876136,0.49591506198487856,0.5402290487669394],\"y\":[0.5932107040360172,0.04753954704139975,-0.444048574584182,-0.09335676213517706,-1.7432026927789257,1.0909115353161996,0.5971969506321606,1.8949064155444952,-1.1931694954805152,-0.05676690937649937,-2.2217498558969324,-1.297293680429583,-0.021679536036858914,0.8916762942133755,-0.02348621814267172,-1.5786609005306635,0.24357246516668982,0.010917665382364302,0.5571223092510637,-1.2475758485667943,1.5868744203536709,-0.8057521945444989,0.7362339481277361,0.9477863231294862,-0.5995459180209022,0.32554867390014314,-0.24356449203624217,1.1979573743086407,0.7822599197053102,-1.0954063618013492,-1.4808650659886475,-0.03216781584335983,-1.8683123603357328,0.07009016085630791,1.0824506963115468,0.674844983492287,-0.4896990474459487,-0.25826941502304024,1.665037379640575,0.010847284024948613,-0.6880159072252328,-1.5714676059379604,0.9714241406998673,-0.24294500318685008,-0.06292344712525674,-1.3987054229303149,-0.4734533238685408,-2.321963835811431,1.3884196000510303,-0.31025234222947135,-1.481113764744444,-0.7699363254437,-1.1778899107140954,-0.8987703761011371,0.19883119197798022,-0.8858314065876076,-1.5178717776599873,0.5893703347859245,-0.6994135868450015,-0.48358717433491655,-1.0267079997349633,0.5298163054115055,0.14310713216157514,-0.35419547943352053,0.10136482998347482,0.7934625832758466,-0.5560458519842975,-0.07531028933549962,0.04992795085509383,1.1711134364945317,1.3911558612592592,0.3384467388925263,-1.0964942691720898,2.279215075793931,2.0177131899560052,-0.8702672956301913,-1.790636564450756,-1.1939131889231476,-1.0308948061031502,0.8574156496421109,0.20214773489736038,0.05214163230900531,-0.5361664714973083,-0.2671110698261588,1.67295750683312,0.47336831168584104,1.3273464336078364,-0.1455793598936071,1.0127945851899962,1.1546317432106692,-0.05084218514467188,-0.9450278958175217,0.5740271589665797,0.28224149312428837,2.659282372516733,-0.5020185634569961,0.8538731764432778,0.28591735410309577,-1.4126982855654242,-1.8891270064966479],\"type\":\"scatter\"}],                        {\"legend\":{\"bgcolor\":\"#F5F6F9\",\"font\":{\"color\":\"#4D5663\"}},\"paper_bgcolor\":\"#F5F6F9\",\"plot_bgcolor\":\"#F5F6F9\",\"template\":{\"data\":{\"barpolar\":[{\"marker\":{\"line\":{\"color\":\"#E5ECF6\",\"width\":0.5},\"pattern\":{\"fillmode\":\"overlay\",\"size\":10,\"solidity\":0.2}},\"type\":\"barpolar\"}],\"bar\":[{\"error_x\":{\"color\":\"#2a3f5f\"},\"error_y\":{\"color\":\"#2a3f5f\"},\"marker\":{\"line\":{\"color\":\"#E5ECF6\",\"width\":0.5},\"pattern\":{\"fillmode\":\"overlay\",\"size\":10,\"solidity\":0.2}},\"type\":\"bar\"}],\"carpet\":[{\"aaxis\":{\"endlinecolor\":\"#2a3f5f\",\"gridcolor\":\"white\",\"linecolor\":\"white\",\"minorgridcolor\":\"white\",\"startlinecolor\":\"#2a3f5f\"},\"baxis\":{\"endlinecolor\":\"#2a3f5f\",\"gridcolor\":\"white\",\"linecolor\":\"white\",\"minorgridcolor\":\"white\",\"startlinecolor\":\"#2a3f5f\"},\"type\":\"carpet\"}],\"choropleth\":[{\"colorbar\":{\"outlinewidth\":0,\"ticks\":\"\"},\"type\":\"choropleth\"}],\"contourcarpet\":[{\"colorbar\":{\"outlinewidth\":0,\"ticks\":\"\"},\"type\":\"contourcarpet\"}],\"contour\":[{\"colorbar\":{\"outlinewidth\":0,\"ticks\":\"\"},\"colorscale\":[[0.0,\"#0d0887\"],[0.1111111111111111,\"#46039f\"],[0.2222222222222222,\"#7201a8\"],[0.3333333333333333,\"#9c179e\"],[0.4444444444444444,\"#bd3786\"],[0.5555555555555556,\"#d8576b\"],[0.6666666666666666,\"#ed7953\"],[0.7777777777777778,\"#fb9f3a\"],[0.8888888888888888,\"#fdca26\"],[1.0,\"#f0f921\"]],\"type\":\"contour\"}],\"heatmapgl\":[{\"colorbar\":{\"outlinewidth\":0,\"ticks\":\"\"},\"colorscale\":[[0.0,\"#0d0887\"],[0.1111111111111111,\"#46039f\"],[0.2222222222222222,\"#7201a8\"],[0.3333333333333333,\"#9c179e\"],[0.4444444444444444,\"#bd3786\"],[0.5555555555555556,\"#d8576b\"],[0.6666666666666666,\"#ed7953\"],[0.7777777777777778,\"#fb9f3a\"],[0.8888888888888888,\"#fdca26\"],[1.0,\"#f0f921\"]],\"type\":\"heatmapgl\"}],\"heatmap\":[{\"colorbar\":{\"outlinewidth\":0,\"ticks\":\"\"},\"colorscale\":[[0.0,\"#0d0887\"],[0.1111111111111111,\"#46039f\"],[0.2222222222222222,\"#7201a8\"],[0.3333333333333333,\"#9c179e\"],[0.4444444444444444,\"#bd3786\"],[0.5555555555555556,\"#d8576b\"],[0.6666666666666666,\"#ed7953\"],[0.7777777777777778,\"#fb9f3a\"],[0.8888888888888888,\"#fdca26\"],[1.0,\"#f0f921\"]],\"type\":\"heatmap\"}],\"histogram2dcontour\":[{\"colorbar\":{\"outlinewidth\":0,\"ticks\":\"\"},\"colorscale\":[[0.0,\"#0d0887\"],[0.1111111111111111,\"#46039f\"],[0.2222222222222222,\"#7201a8\"],[0.3333333333333333,\"#9c179e\"],[0.4444444444444444,\"#bd3786\"],[0.5555555555555556,\"#d8576b\"],[0.6666666666666666,\"#ed7953\"],[0.7777777777777778,\"#fb9f3a\"],[0.8888888888888888,\"#fdca26\"],[1.0,\"#f0f921\"]],\"type\":\"histogram2dcontour\"}],\"histogram2d\":[{\"colorbar\":{\"outlinewidth\":0,\"ticks\":\"\"},\"colorscale\":[[0.0,\"#0d0887\"],[0.1111111111111111,\"#46039f\"],[0.2222222222222222,\"#7201a8\"],[0.3333333333333333,\"#9c179e\"],[0.4444444444444444,\"#bd3786\"],[0.5555555555555556,\"#d8576b\"],[0.6666666666666666,\"#ed7953\"],[0.7777777777777778,\"#fb9f3a\"],[0.8888888888888888,\"#fdca26\"],[1.0,\"#f0f921\"]],\"type\":\"histogram2d\"}],\"histogram\":[{\"marker\":{\"pattern\":{\"fillmode\":\"overlay\",\"size\":10,\"solidity\":0.2}},\"type\":\"histogram\"}],\"mesh3d\":[{\"colorbar\":{\"outlinewidth\":0,\"ticks\":\"\"},\"type\":\"mesh3d\"}],\"parcoords\":[{\"line\":{\"colorbar\":{\"outlinewidth\":0,\"ticks\":\"\"}},\"type\":\"parcoords\"}],\"pie\":[{\"automargin\":true,\"type\":\"pie\"}],\"scatter3d\":[{\"line\":{\"colorbar\":{\"outlinewidth\":0,\"ticks\":\"\"}},\"marker\":{\"colorbar\":{\"outlinewidth\":0,\"ticks\":\"\"}},\"type\":\"scatter3d\"}],\"scattercarpet\":[{\"marker\":{\"colorbar\":{\"outlinewidth\":0,\"ticks\":\"\"}},\"type\":\"scattercarpet\"}],\"scattergeo\":[{\"marker\":{\"colorbar\":{\"outlinewidth\":0,\"ticks\":\"\"}},\"type\":\"scattergeo\"}],\"scattergl\":[{\"marker\":{\"colorbar\":{\"outlinewidth\":0,\"ticks\":\"\"}},\"type\":\"scattergl\"}],\"scattermapbox\":[{\"marker\":{\"colorbar\":{\"outlinewidth\":0,\"ticks\":\"\"}},\"type\":\"scattermapbox\"}],\"scatterpolargl\":[{\"marker\":{\"colorbar\":{\"outlinewidth\":0,\"ticks\":\"\"}},\"type\":\"scatterpolargl\"}],\"scatterpolar\":[{\"marker\":{\"colorbar\":{\"outlinewidth\":0,\"ticks\":\"\"}},\"type\":\"scatterpolar\"}],\"scatter\":[{\"marker\":{\"colorbar\":{\"outlinewidth\":0,\"ticks\":\"\"}},\"type\":\"scatter\"}],\"scatterternary\":[{\"marker\":{\"colorbar\":{\"outlinewidth\":0,\"ticks\":\"\"}},\"type\":\"scatterternary\"}],\"surface\":[{\"colorbar\":{\"outlinewidth\":0,\"ticks\":\"\"},\"colorscale\":[[0.0,\"#0d0887\"],[0.1111111111111111,\"#46039f\"],[0.2222222222222222,\"#7201a8\"],[0.3333333333333333,\"#9c179e\"],[0.4444444444444444,\"#bd3786\"],[0.5555555555555556,\"#d8576b\"],[0.6666666666666666,\"#ed7953\"],[0.7777777777777778,\"#fb9f3a\"],[0.8888888888888888,\"#fdca26\"],[1.0,\"#f0f921\"]],\"type\":\"surface\"}],\"table\":[{\"cells\":{\"fill\":{\"color\":\"#EBF0F8\"},\"line\":{\"color\":\"white\"}},\"header\":{\"fill\":{\"color\":\"#C8D4E3\"},\"line\":{\"color\":\"white\"}},\"type\":\"table\"}]},\"layout\":{\"annotationdefaults\":{\"arrowcolor\":\"#2a3f5f\",\"arrowhead\":0,\"arrowwidth\":1},\"autotypenumbers\":\"strict\",\"coloraxis\":{\"colorbar\":{\"outlinewidth\":0,\"ticks\":\"\"}},\"colorscale\":{\"diverging\":[[0,\"#8e0152\"],[0.1,\"#c51b7d\"],[0.2,\"#de77ae\"],[0.3,\"#f1b6da\"],[0.4,\"#fde0ef\"],[0.5,\"#f7f7f7\"],[0.6,\"#e6f5d0\"],[0.7,\"#b8e186\"],[0.8,\"#7fbc41\"],[0.9,\"#4d9221\"],[1,\"#276419\"]],\"sequential\":[[0.0,\"#0d0887\"],[0.1111111111111111,\"#46039f\"],[0.2222222222222222,\"#7201a8\"],[0.3333333333333333,\"#9c179e\"],[0.4444444444444444,\"#bd3786\"],[0.5555555555555556,\"#d8576b\"],[0.6666666666666666,\"#ed7953\"],[0.7777777777777778,\"#fb9f3a\"],[0.8888888888888888,\"#fdca26\"],[1.0,\"#f0f921\"]],\"sequentialminus\":[[0.0,\"#0d0887\"],[0.1111111111111111,\"#46039f\"],[0.2222222222222222,\"#7201a8\"],[0.3333333333333333,\"#9c179e\"],[0.4444444444444444,\"#bd3786\"],[0.5555555555555556,\"#d8576b\"],[0.6666666666666666,\"#ed7953\"],[0.7777777777777778,\"#fb9f3a\"],[0.8888888888888888,\"#fdca26\"],[1.0,\"#f0f921\"]]},\"colorway\":[\"#636efa\",\"#EF553B\",\"#00cc96\",\"#ab63fa\",\"#FFA15A\",\"#19d3f3\",\"#FF6692\",\"#B6E880\",\"#FF97FF\",\"#FECB52\"],\"font\":{\"color\":\"#2a3f5f\"},\"geo\":{\"bgcolor\":\"white\",\"lakecolor\":\"white\",\"landcolor\":\"#E5ECF6\",\"showlakes\":true,\"showland\":true,\"subunitcolor\":\"white\"},\"hoverlabel\":{\"align\":\"left\"},\"hovermode\":\"closest\",\"mapbox\":{\"style\":\"light\"},\"paper_bgcolor\":\"white\",\"plot_bgcolor\":\"#E5ECF6\",\"polar\":{\"angularaxis\":{\"gridcolor\":\"white\",\"linecolor\":\"white\",\"ticks\":\"\"},\"bgcolor\":\"#E5ECF6\",\"radialaxis\":{\"gridcolor\":\"white\",\"linecolor\":\"white\",\"ticks\":\"\"}},\"scene\":{\"xaxis\":{\"backgroundcolor\":\"#E5ECF6\",\"gridcolor\":\"white\",\"gridwidth\":2,\"linecolor\":\"white\",\"showbackground\":true,\"ticks\":\"\",\"zerolinecolor\":\"white\"},\"yaxis\":{\"backgroundcolor\":\"#E5ECF6\",\"gridcolor\":\"white\",\"gridwidth\":2,\"linecolor\":\"white\",\"showbackground\":true,\"ticks\":\"\",\"zerolinecolor\":\"white\"},\"zaxis\":{\"backgroundcolor\":\"#E5ECF6\",\"gridcolor\":\"white\",\"gridwidth\":2,\"linecolor\":\"white\",\"showbackground\":true,\"ticks\":\"\",\"zerolinecolor\":\"white\"}},\"shapedefaults\":{\"line\":{\"color\":\"#2a3f5f\"}},\"ternary\":{\"aaxis\":{\"gridcolor\":\"white\",\"linecolor\":\"white\",\"ticks\":\"\"},\"baxis\":{\"gridcolor\":\"white\",\"linecolor\":\"white\",\"ticks\":\"\"},\"bgcolor\":\"#E5ECF6\",\"caxis\":{\"gridcolor\":\"white\",\"linecolor\":\"white\",\"ticks\":\"\"}},\"title\":{\"x\":0.05},\"xaxis\":{\"automargin\":true,\"gridcolor\":\"white\",\"linecolor\":\"white\",\"ticks\":\"\",\"title\":{\"standoff\":15},\"zerolinecolor\":\"white\",\"zerolinewidth\":2},\"yaxis\":{\"automargin\":true,\"gridcolor\":\"white\",\"linecolor\":\"white\",\"ticks\":\"\",\"title\":{\"standoff\":15},\"zerolinecolor\":\"white\",\"zerolinewidth\":2}}},\"title\":{\"font\":{\"color\":\"#4D5663\"}},\"xaxis\":{\"gridcolor\":\"#E1E5ED\",\"showgrid\":true,\"tickfont\":{\"color\":\"#4D5663\"},\"title\":{\"font\":{\"color\":\"#4D5663\"},\"text\":\"\"},\"zerolinecolor\":\"#E1E5ED\"},\"yaxis\":{\"gridcolor\":\"#E1E5ED\",\"showgrid\":true,\"tickfont\":{\"color\":\"#4D5663\"},\"title\":{\"font\":{\"color\":\"#4D5663\"},\"text\":\"\"},\"zerolinecolor\":\"#E1E5ED\"}},                        {\"showLink\": true, \"linkText\": \"Export to plot.ly\", \"plotlyServerURL\": \"https://plot.ly\", \"responsive\": true}                    ).then(function(){\n",
       "                            \n",
       "var gd = document.getElementById('ad4db5e7-3fd6-47d4-a766-c28a2ce91c3b');\n",
       "var x = new MutationObserver(function (mutations, observer) {{\n",
       "        var display = window.getComputedStyle(gd).display;\n",
       "        if (!display || display === 'none') {{\n",
       "            console.log([gd, 'removed!']);\n",
       "            Plotly.purge(gd);\n",
       "            observer.disconnect();\n",
       "        }}\n",
       "}});\n",
       "\n",
       "// Listen for the removal of the full notebook cells\n",
       "var notebookContainer = gd.closest('#notebook-container');\n",
       "if (notebookContainer) {{\n",
       "    x.observe(notebookContainer, {childList: true});\n",
       "}}\n",
       "\n",
       "// Listen for the clearing of the current output cell\n",
       "var outputEl = gd.closest('.output');\n",
       "if (outputEl) {{\n",
       "    x.observe(outputEl, {childList: true});\n",
       "}}\n",
       "\n",
       "                        })                };                });            </script>        </div>"
      ]
     },
     "metadata": {},
     "output_type": "display_data"
    }
   ],
   "source": [
    "df.iplot(kind='bubble',x='A',y='B',size='C')"
   ]
  },
  {
   "cell_type": "markdown",
   "metadata": {},
   "source": [
    "## scatter_matrix()\n",
    "\n",
    "Similar to sns.pairplot()"
   ]
  },
  {
   "cell_type": "code",
   "execution_count": 26,
   "metadata": {},
   "outputs": [
    {
     "data": {
      "application/vnd.plotly.v1+json": {
       "config": {
        "linkText": "Export to plot.ly",
        "plotlyServerURL": "https://plot.ly",
        "showLink": true
       },
       "data": [
        {
         "histfunc": "count",
         "histnorm": "",
         "marker": {
          "color": "rgba(255, 153, 51, 1.0)",
          "line": {
           "color": "#4D5663",
           "width": 1.3
          }
         },
         "name": "A",
         "nbinsx": 10,
         "opacity": 0.8,
         "orientation": "v",
         "type": "histogram",
         "x": [
          0.7295363441218393,
          -0.30709735423890133,
          0.492710813594875,
          0.08392566125616459,
          -0.6889455689979118,
          0.5470456033814226,
          -0.59537959593479,
          0.590991782392905,
          0.9972471665249101,
          1.4378882065324756,
          0.11926922188426163,
          -1.6571759958291157,
          0.4487064707697026,
          -2.51301997833897,
          0.6001221119436471,
          -2.731948786259892,
          1.3607099053275447,
          -0.731152267488863,
          -1.3966859085953525,
          0.17378944539031352,
          0.6817597346735718,
          1.1402012726597144,
          0.14349266373328687,
          -0.9377451346394511,
          0.017522155117618125,
          0.3235679464012107,
          0.836983146893619,
          -0.8792559105632725,
          -1.1801754241794296,
          -0.3795826015311692,
          -1.140787877799205,
          -0.7723948304435839,
          -0.5145019292009516,
          0.35609369850632194,
          -1.511771529880759,
          1.3774677496649568,
          -0.16454591236628077,
          -0.20152889220951667,
          -0.8123283332056657,
          0.595491766397253,
          -0.7970370986126426,
          -0.7349886528627032,
          0.6385817620476262,
          -0.1332010168119281,
          -0.6122662727680039,
          -2.4533287444652374,
          -1.2247225198339713,
          -0.25819872800993604,
          -0.37154228878299783,
          1.1548376757268877,
          0.6091866542203763,
          0.4905265364947855,
          1.7151703495190282,
          0.5379372760497011,
          -0.9060239939628344,
          -0.4757653879199119,
          0.7393937868154522,
          -2.2189647639590326,
          0.37041005207702155,
          1.0224887183461624,
          -0.5119055368256046,
          -0.9017925229090039,
          0.1447604829762621,
          -2.422737424208872,
          -0.7930350683984899,
          -1.1868366962480066,
          -2.0569449530090984,
          1.1920114509529198,
          -0.46156730828628,
          -0.719859833789653,
          0.5066864394881544,
          1.473741498165212,
          -1.5954387366714262,
          -0.4782502836781616,
          -0.16444298863396906,
          1.1408405792421255,
          -0.7097825274860883,
          0.7513186713580287,
          0.1339137866817911,
          -1.3011927732441302,
          1.2811633564799318,
          -0.3242821085915659,
          0.6457367692201954,
          0.0031357660336803783,
          0.7701540363029559,
          1.1149898631778379,
          0.25928287776938813,
          1.6665070758153746,
          -1.8969684050518085,
          0.681158307412814,
          -0.45063469387663485,
          1.5622406665206328,
          -0.12734672873637162,
          -0.5040136701566764,
          1.1767269743927373,
          0.618194840212031,
          -0.6238683392746781,
          0.040684028835876136,
          0.49591506198487856,
          0.5402290487669394
         ],
         "xaxis": "x",
         "yaxis": "y"
        },
        {
         "line": {
          "color": "rgba(128, 128, 128, 1.0)",
          "dash": "solid",
          "shape": "linear",
          "width": 1.3
         },
         "marker": {
          "size": 2,
          "symbol": "circle"
         },
         "mode": "markers",
         "name": "A",
         "text": "",
         "type": "scatter",
         "x": [
          0.5932107040360172,
          0.04753954704139975,
          -0.444048574584182,
          -0.09335676213517706,
          -1.7432026927789257,
          1.0909115353161996,
          0.5971969506321606,
          1.8949064155444952,
          -1.1931694954805152,
          -0.05676690937649937,
          -2.2217498558969324,
          -1.297293680429583,
          -0.021679536036858914,
          0.8916762942133755,
          -0.02348621814267172,
          -1.5786609005306635,
          0.24357246516668982,
          0.010917665382364302,
          0.5571223092510637,
          -1.2475758485667943,
          1.5868744203536709,
          -0.8057521945444989,
          0.7362339481277361,
          0.9477863231294862,
          -0.5995459180209022,
          0.32554867390014314,
          -0.24356449203624217,
          1.1979573743086407,
          0.7822599197053102,
          -1.0954063618013492,
          -1.4808650659886475,
          -0.03216781584335983,
          -1.8683123603357328,
          0.07009016085630791,
          1.0824506963115468,
          0.674844983492287,
          -0.4896990474459487,
          -0.25826941502304024,
          1.665037379640575,
          0.010847284024948613,
          -0.6880159072252328,
          -1.5714676059379604,
          0.9714241406998673,
          -0.24294500318685008,
          -0.06292344712525674,
          -1.3987054229303149,
          -0.4734533238685408,
          -2.321963835811431,
          1.3884196000510303,
          -0.31025234222947135,
          -1.481113764744444,
          -0.7699363254437,
          -1.1778899107140954,
          -0.8987703761011371,
          0.19883119197798022,
          -0.8858314065876076,
          -1.5178717776599873,
          0.5893703347859245,
          -0.6994135868450015,
          -0.48358717433491655,
          -1.0267079997349633,
          0.5298163054115055,
          0.14310713216157514,
          -0.35419547943352053,
          0.10136482998347482,
          0.7934625832758466,
          -0.5560458519842975,
          -0.07531028933549962,
          0.04992795085509383,
          1.1711134364945317,
          1.3911558612592592,
          0.3384467388925263,
          -1.0964942691720898,
          2.279215075793931,
          2.0177131899560052,
          -0.8702672956301913,
          -1.790636564450756,
          -1.1939131889231476,
          -1.0308948061031502,
          0.8574156496421109,
          0.20214773489736038,
          0.05214163230900531,
          -0.5361664714973083,
          -0.2671110698261588,
          1.67295750683312,
          0.47336831168584104,
          1.3273464336078364,
          -0.1455793598936071,
          1.0127945851899962,
          1.1546317432106692,
          -0.05084218514467188,
          -0.9450278958175217,
          0.5740271589665797,
          0.28224149312428837,
          2.659282372516733,
          -0.5020185634569961,
          0.8538731764432778,
          0.28591735410309577,
          -1.4126982855654242,
          -1.8891270064966479
         ],
         "xaxis": "x2",
         "y": [
          0.7295363441218393,
          -0.30709735423890133,
          0.492710813594875,
          0.08392566125616459,
          -0.6889455689979118,
          0.5470456033814226,
          -0.59537959593479,
          0.590991782392905,
          0.9972471665249101,
          1.4378882065324756,
          0.11926922188426163,
          -1.6571759958291157,
          0.4487064707697026,
          -2.51301997833897,
          0.6001221119436471,
          -2.731948786259892,
          1.3607099053275447,
          -0.731152267488863,
          -1.3966859085953525,
          0.17378944539031352,
          0.6817597346735718,
          1.1402012726597144,
          0.14349266373328687,
          -0.9377451346394511,
          0.017522155117618125,
          0.3235679464012107,
          0.836983146893619,
          -0.8792559105632725,
          -1.1801754241794296,
          -0.3795826015311692,
          -1.140787877799205,
          -0.7723948304435839,
          -0.5145019292009516,
          0.35609369850632194,
          -1.511771529880759,
          1.3774677496649568,
          -0.16454591236628077,
          -0.20152889220951667,
          -0.8123283332056657,
          0.595491766397253,
          -0.7970370986126426,
          -0.7349886528627032,
          0.6385817620476262,
          -0.1332010168119281,
          -0.6122662727680039,
          -2.4533287444652374,
          -1.2247225198339713,
          -0.25819872800993604,
          -0.37154228878299783,
          1.1548376757268877,
          0.6091866542203763,
          0.4905265364947855,
          1.7151703495190282,
          0.5379372760497011,
          -0.9060239939628344,
          -0.4757653879199119,
          0.7393937868154522,
          -2.2189647639590326,
          0.37041005207702155,
          1.0224887183461624,
          -0.5119055368256046,
          -0.9017925229090039,
          0.1447604829762621,
          -2.422737424208872,
          -0.7930350683984899,
          -1.1868366962480066,
          -2.0569449530090984,
          1.1920114509529198,
          -0.46156730828628,
          -0.719859833789653,
          0.5066864394881544,
          1.473741498165212,
          -1.5954387366714262,
          -0.4782502836781616,
          -0.16444298863396906,
          1.1408405792421255,
          -0.7097825274860883,
          0.7513186713580287,
          0.1339137866817911,
          -1.3011927732441302,
          1.2811633564799318,
          -0.3242821085915659,
          0.6457367692201954,
          0.0031357660336803783,
          0.7701540363029559,
          1.1149898631778379,
          0.25928287776938813,
          1.6665070758153746,
          -1.8969684050518085,
          0.681158307412814,
          -0.45063469387663485,
          1.5622406665206328,
          -0.12734672873637162,
          -0.5040136701566764,
          1.1767269743927373,
          0.618194840212031,
          -0.6238683392746781,
          0.040684028835876136,
          0.49591506198487856,
          0.5402290487669394
         ],
         "yaxis": "y2"
        },
        {
         "line": {
          "color": "rgba(128, 128, 128, 1.0)",
          "dash": "solid",
          "shape": "linear",
          "width": 1.3
         },
         "marker": {
          "size": 2,
          "symbol": "circle"
         },
         "mode": "markers",
         "name": "A",
         "text": "",
         "type": "scatter",
         "x": [
          -0.08189170402269211,
          -0.13514980536158466,
          -0.6829000235753896,
          -2.1660492799482096,
          -0.8653623890686104,
          -0.7663960822194461,
          2.4465296437039847,
          -1.3838772208511525,
          -0.004037645735757862,
          0.20089315155547913,
          -0.23552802584260324,
          0.14568176283145545,
          -0.593480272097902,
          0.8987698543400691,
          0.977031524940709,
          -0.44072645348983663,
          1.8502759348157822,
          -0.15338260645131885,
          -0.16410038826145074,
          -0.05231582239414678,
          -0.4219511031272537,
          1.5404246600751583,
          0.4243757675846343,
          -0.04953077572811402,
          -0.3044162716065661,
          -0.778204723692454,
          -1.6865722656114437,
          -0.40745716620335704,
          0.03367509661054521,
          0.9547773475131285,
          0.22850452657337106,
          -2.0642361817882375,
          -0.6346129617527918,
          -0.23930344946865964,
          0.07527300680263144,
          -0.6853094644999711,
          0.044886324684502994,
          -0.8265372740099522,
          -0.4265344020298642,
          -0.8426744456702261,
          -0.8327334993244275,
          -0.9460713492384144,
          0.7941924238056933,
          -0.38501847935811406,
          -0.38067390231606096,
          0.07909975510965736,
          1.673281041484665,
          0.4755541700831618,
          -0.1969379747924677,
          0.6673498090452241,
          -0.1640159350139676,
          0.6752267821285269,
          -0.7917598494768683,
          -1.1506554345042526,
          0.04368974015311478,
          -1.7161841549026968,
          -0.3741882983849335,
          0.5993728303413354,
          0.2630159796664342,
          1.378673232286049,
          0.5486202909650398,
          -0.5442170043234468,
          0.11303460318517229,
          1.3354209329669042,
          -0.8859864965021472,
          0.7182151443982471,
          -0.01868264586250221,
          -0.311830239284594,
          0.32711877090528935,
          1.226354368968612,
          -0.3468950765587265,
          0.7492902658028024,
          -0.5694158194872334,
          -0.33199750309183734,
          -0.6797826348201856,
          -0.8464720437553708,
          0.6522136674012591,
          -0.33418115649697344,
          0.6549004337834226,
          -1.0374164770244731,
          0.06162194529230224,
          0.812116199119469,
          -0.39327954153113714,
          -0.4051496811605491,
          1.919198907495474,
          0.3713922630182631,
          0.2740703450515758,
          0.08521352716946458,
          1.719642473831569,
          -0.32484968872443726,
          -0.6539722405765761,
          0.4096321837057813,
          -0.4662960339340785,
          -0.45367379757154047,
          -1.2707156492496936,
          1.1236201909664816,
          -0.5850173785490747,
          -0.5273945384080858,
          -0.09933067073509559,
          -0.18625596036767667
         ],
         "xaxis": "x3",
         "y": [
          0.7295363441218393,
          -0.30709735423890133,
          0.492710813594875,
          0.08392566125616459,
          -0.6889455689979118,
          0.5470456033814226,
          -0.59537959593479,
          0.590991782392905,
          0.9972471665249101,
          1.4378882065324756,
          0.11926922188426163,
          -1.6571759958291157,
          0.4487064707697026,
          -2.51301997833897,
          0.6001221119436471,
          -2.731948786259892,
          1.3607099053275447,
          -0.731152267488863,
          -1.3966859085953525,
          0.17378944539031352,
          0.6817597346735718,
          1.1402012726597144,
          0.14349266373328687,
          -0.9377451346394511,
          0.017522155117618125,
          0.3235679464012107,
          0.836983146893619,
          -0.8792559105632725,
          -1.1801754241794296,
          -0.3795826015311692,
          -1.140787877799205,
          -0.7723948304435839,
          -0.5145019292009516,
          0.35609369850632194,
          -1.511771529880759,
          1.3774677496649568,
          -0.16454591236628077,
          -0.20152889220951667,
          -0.8123283332056657,
          0.595491766397253,
          -0.7970370986126426,
          -0.7349886528627032,
          0.6385817620476262,
          -0.1332010168119281,
          -0.6122662727680039,
          -2.4533287444652374,
          -1.2247225198339713,
          -0.25819872800993604,
          -0.37154228878299783,
          1.1548376757268877,
          0.6091866542203763,
          0.4905265364947855,
          1.7151703495190282,
          0.5379372760497011,
          -0.9060239939628344,
          -0.4757653879199119,
          0.7393937868154522,
          -2.2189647639590326,
          0.37041005207702155,
          1.0224887183461624,
          -0.5119055368256046,
          -0.9017925229090039,
          0.1447604829762621,
          -2.422737424208872,
          -0.7930350683984899,
          -1.1868366962480066,
          -2.0569449530090984,
          1.1920114509529198,
          -0.46156730828628,
          -0.719859833789653,
          0.5066864394881544,
          1.473741498165212,
          -1.5954387366714262,
          -0.4782502836781616,
          -0.16444298863396906,
          1.1408405792421255,
          -0.7097825274860883,
          0.7513186713580287,
          0.1339137866817911,
          -1.3011927732441302,
          1.2811633564799318,
          -0.3242821085915659,
          0.6457367692201954,
          0.0031357660336803783,
          0.7701540363029559,
          1.1149898631778379,
          0.25928287776938813,
          1.6665070758153746,
          -1.8969684050518085,
          0.681158307412814,
          -0.45063469387663485,
          1.5622406665206328,
          -0.12734672873637162,
          -0.5040136701566764,
          1.1767269743927373,
          0.618194840212031,
          -0.6238683392746781,
          0.040684028835876136,
          0.49591506198487856,
          0.5402290487669394
         ],
         "yaxis": "y3"
        },
        {
         "line": {
          "color": "rgba(128, 128, 128, 1.0)",
          "dash": "solid",
          "shape": "linear",
          "width": 1.3
         },
         "marker": {
          "size": 2,
          "symbol": "circle"
         },
         "mode": "markers",
         "name": "A",
         "text": "",
         "type": "scatter",
         "x": [
          0.48067285941719545,
          1.4858850034783189,
          -0.5329019355156149,
          -1.4337243887047155,
          -0.1230053387660544,
          -0.13370818245895555,
          0.04266792941505512,
          -1.1644677156793313,
          1.92208382634084,
          -0.3770200305322968,
          -0.20159510671969166,
          0.9450704280298273,
          0.374227265574753,
          -0.27093093384700623,
          -0.4179762013432669,
          0.2397330542315832,
          -1.2554058847956295,
          -1.0752856205007264,
          0.6295221884285818,
          0.12328969063205228,
          -1.4857765097563915,
          -0.28851910129719155,
          1.4650513962300873,
          -1.27181816910522,
          -0.2745855075309058,
          0.4887681833437419,
          0.6773129344196536,
          1.1247912489834433,
          -0.2839323938631823,
          -0.5239629925017716,
          0.8733803707313805,
          -0.15803792873209196,
          0.5617438714387215,
          0.7984493049471078,
          -0.39416870041365354,
          0.3643798773670629,
          -0.8594271202094695,
          1.6038715681108744,
          1.0657653663115085,
          0.13323356965674674,
          -1.6953565224403615,
          -0.5893170700034942,
          -1.8925587657354077,
          1.20230398051413,
          -0.2009668716489237,
          0.9538175248703185,
          -0.1340668644922787,
          1.0049075939495156,
          2.2006617147346015,
          0.6760268123827109,
          -0.9334553839406639,
          -0.1657385488960467,
          0.08264885320150527,
          1.144706427114871,
          -0.5500932193320486,
          -0.586114776415507,
          0.35872755990902455,
          -2.197056017152882,
          0.016985751214185954,
          0.01525101503333304,
          -1.2107299727377165,
          -0.2616707219991574,
          -0.4429893890051499,
          0.23850701647042258,
          -1.0142637655754279,
          0.27180521482845343,
          -0.06375871886326547,
          -1.5696986632060739,
          -0.3336687615490785,
          -0.1393267941862971,
          0.9125856313165784,
          0.0746248874782978,
          -1.8516085859000802,
          -1.0992675535367074,
          1.0861576590318607,
          1.4777219724420372,
          -1.82538139325232,
          1.675520963955247,
          -0.13369772436363767,
          -1.0248405377185879,
          0.17395491466077476,
          -1.2521805128926344,
          1.7211274364463975,
          -0.7093401985248905,
          -2.0692093617345453,
          -0.21905048684893788,
          1.1218656967577205,
          0.8419845339214078,
          -1.2979026927555817,
          -0.03627453213683022,
          -0.18679213925807509,
          0.7395864934658763,
          0.915017611632112,
          -0.8608612730071287,
          -1.283157688911953,
          0.3092883190756984,
          1.045763471390835,
          -1.4140309271736275,
          0.05459977765250099,
          -1.5375435049981996
         ],
         "xaxis": "x4",
         "y": [
          0.7295363441218393,
          -0.30709735423890133,
          0.492710813594875,
          0.08392566125616459,
          -0.6889455689979118,
          0.5470456033814226,
          -0.59537959593479,
          0.590991782392905,
          0.9972471665249101,
          1.4378882065324756,
          0.11926922188426163,
          -1.6571759958291157,
          0.4487064707697026,
          -2.51301997833897,
          0.6001221119436471,
          -2.731948786259892,
          1.3607099053275447,
          -0.731152267488863,
          -1.3966859085953525,
          0.17378944539031352,
          0.6817597346735718,
          1.1402012726597144,
          0.14349266373328687,
          -0.9377451346394511,
          0.017522155117618125,
          0.3235679464012107,
          0.836983146893619,
          -0.8792559105632725,
          -1.1801754241794296,
          -0.3795826015311692,
          -1.140787877799205,
          -0.7723948304435839,
          -0.5145019292009516,
          0.35609369850632194,
          -1.511771529880759,
          1.3774677496649568,
          -0.16454591236628077,
          -0.20152889220951667,
          -0.8123283332056657,
          0.595491766397253,
          -0.7970370986126426,
          -0.7349886528627032,
          0.6385817620476262,
          -0.1332010168119281,
          -0.6122662727680039,
          -2.4533287444652374,
          -1.2247225198339713,
          -0.25819872800993604,
          -0.37154228878299783,
          1.1548376757268877,
          0.6091866542203763,
          0.4905265364947855,
          1.7151703495190282,
          0.5379372760497011,
          -0.9060239939628344,
          -0.4757653879199119,
          0.7393937868154522,
          -2.2189647639590326,
          0.37041005207702155,
          1.0224887183461624,
          -0.5119055368256046,
          -0.9017925229090039,
          0.1447604829762621,
          -2.422737424208872,
          -0.7930350683984899,
          -1.1868366962480066,
          -2.0569449530090984,
          1.1920114509529198,
          -0.46156730828628,
          -0.719859833789653,
          0.5066864394881544,
          1.473741498165212,
          -1.5954387366714262,
          -0.4782502836781616,
          -0.16444298863396906,
          1.1408405792421255,
          -0.7097825274860883,
          0.7513186713580287,
          0.1339137866817911,
          -1.3011927732441302,
          1.2811633564799318,
          -0.3242821085915659,
          0.6457367692201954,
          0.0031357660336803783,
          0.7701540363029559,
          1.1149898631778379,
          0.25928287776938813,
          1.6665070758153746,
          -1.8969684050518085,
          0.681158307412814,
          -0.45063469387663485,
          1.5622406665206328,
          -0.12734672873637162,
          -0.5040136701566764,
          1.1767269743927373,
          0.618194840212031,
          -0.6238683392746781,
          0.040684028835876136,
          0.49591506198487856,
          0.5402290487669394
         ],
         "yaxis": "y4"
        },
        {
         "line": {
          "color": "rgba(128, 128, 128, 1.0)",
          "dash": "solid",
          "shape": "linear",
          "width": 1.3
         },
         "marker": {
          "size": 2,
          "symbol": "circle"
         },
         "mode": "markers",
         "name": "B",
         "text": "",
         "type": "scatter",
         "x": [
          0.7295363441218393,
          -0.30709735423890133,
          0.492710813594875,
          0.08392566125616459,
          -0.6889455689979118,
          0.5470456033814226,
          -0.59537959593479,
          0.590991782392905,
          0.9972471665249101,
          1.4378882065324756,
          0.11926922188426163,
          -1.6571759958291157,
          0.4487064707697026,
          -2.51301997833897,
          0.6001221119436471,
          -2.731948786259892,
          1.3607099053275447,
          -0.731152267488863,
          -1.3966859085953525,
          0.17378944539031352,
          0.6817597346735718,
          1.1402012726597144,
          0.14349266373328687,
          -0.9377451346394511,
          0.017522155117618125,
          0.3235679464012107,
          0.836983146893619,
          -0.8792559105632725,
          -1.1801754241794296,
          -0.3795826015311692,
          -1.140787877799205,
          -0.7723948304435839,
          -0.5145019292009516,
          0.35609369850632194,
          -1.511771529880759,
          1.3774677496649568,
          -0.16454591236628077,
          -0.20152889220951667,
          -0.8123283332056657,
          0.595491766397253,
          -0.7970370986126426,
          -0.7349886528627032,
          0.6385817620476262,
          -0.1332010168119281,
          -0.6122662727680039,
          -2.4533287444652374,
          -1.2247225198339713,
          -0.25819872800993604,
          -0.37154228878299783,
          1.1548376757268877,
          0.6091866542203763,
          0.4905265364947855,
          1.7151703495190282,
          0.5379372760497011,
          -0.9060239939628344,
          -0.4757653879199119,
          0.7393937868154522,
          -2.2189647639590326,
          0.37041005207702155,
          1.0224887183461624,
          -0.5119055368256046,
          -0.9017925229090039,
          0.1447604829762621,
          -2.422737424208872,
          -0.7930350683984899,
          -1.1868366962480066,
          -2.0569449530090984,
          1.1920114509529198,
          -0.46156730828628,
          -0.719859833789653,
          0.5066864394881544,
          1.473741498165212,
          -1.5954387366714262,
          -0.4782502836781616,
          -0.16444298863396906,
          1.1408405792421255,
          -0.7097825274860883,
          0.7513186713580287,
          0.1339137866817911,
          -1.3011927732441302,
          1.2811633564799318,
          -0.3242821085915659,
          0.6457367692201954,
          0.0031357660336803783,
          0.7701540363029559,
          1.1149898631778379,
          0.25928287776938813,
          1.6665070758153746,
          -1.8969684050518085,
          0.681158307412814,
          -0.45063469387663485,
          1.5622406665206328,
          -0.12734672873637162,
          -0.5040136701566764,
          1.1767269743927373,
          0.618194840212031,
          -0.6238683392746781,
          0.040684028835876136,
          0.49591506198487856,
          0.5402290487669394
         ],
         "xaxis": "x5",
         "y": [
          0.5932107040360172,
          0.04753954704139975,
          -0.444048574584182,
          -0.09335676213517706,
          -1.7432026927789257,
          1.0909115353161996,
          0.5971969506321606,
          1.8949064155444952,
          -1.1931694954805152,
          -0.05676690937649937,
          -2.2217498558969324,
          -1.297293680429583,
          -0.021679536036858914,
          0.8916762942133755,
          -0.02348621814267172,
          -1.5786609005306635,
          0.24357246516668982,
          0.010917665382364302,
          0.5571223092510637,
          -1.2475758485667943,
          1.5868744203536709,
          -0.8057521945444989,
          0.7362339481277361,
          0.9477863231294862,
          -0.5995459180209022,
          0.32554867390014314,
          -0.24356449203624217,
          1.1979573743086407,
          0.7822599197053102,
          -1.0954063618013492,
          -1.4808650659886475,
          -0.03216781584335983,
          -1.8683123603357328,
          0.07009016085630791,
          1.0824506963115468,
          0.674844983492287,
          -0.4896990474459487,
          -0.25826941502304024,
          1.665037379640575,
          0.010847284024948613,
          -0.6880159072252328,
          -1.5714676059379604,
          0.9714241406998673,
          -0.24294500318685008,
          -0.06292344712525674,
          -1.3987054229303149,
          -0.4734533238685408,
          -2.321963835811431,
          1.3884196000510303,
          -0.31025234222947135,
          -1.481113764744444,
          -0.7699363254437,
          -1.1778899107140954,
          -0.8987703761011371,
          0.19883119197798022,
          -0.8858314065876076,
          -1.5178717776599873,
          0.5893703347859245,
          -0.6994135868450015,
          -0.48358717433491655,
          -1.0267079997349633,
          0.5298163054115055,
          0.14310713216157514,
          -0.35419547943352053,
          0.10136482998347482,
          0.7934625832758466,
          -0.5560458519842975,
          -0.07531028933549962,
          0.04992795085509383,
          1.1711134364945317,
          1.3911558612592592,
          0.3384467388925263,
          -1.0964942691720898,
          2.279215075793931,
          2.0177131899560052,
          -0.8702672956301913,
          -1.790636564450756,
          -1.1939131889231476,
          -1.0308948061031502,
          0.8574156496421109,
          0.20214773489736038,
          0.05214163230900531,
          -0.5361664714973083,
          -0.2671110698261588,
          1.67295750683312,
          0.47336831168584104,
          1.3273464336078364,
          -0.1455793598936071,
          1.0127945851899962,
          1.1546317432106692,
          -0.05084218514467188,
          -0.9450278958175217,
          0.5740271589665797,
          0.28224149312428837,
          2.659282372516733,
          -0.5020185634569961,
          0.8538731764432778,
          0.28591735410309577,
          -1.4126982855654242,
          -1.8891270064966479
         ],
         "yaxis": "y5"
        },
        {
         "histfunc": "count",
         "histnorm": "",
         "marker": {
          "color": "rgba(55, 128, 191, 1.0)",
          "line": {
           "color": "#4D5663",
           "width": 1.3
          }
         },
         "name": "B",
         "nbinsx": 10,
         "opacity": 0.8,
         "orientation": "v",
         "type": "histogram",
         "x": [
          0.5932107040360172,
          0.04753954704139975,
          -0.444048574584182,
          -0.09335676213517706,
          -1.7432026927789257,
          1.0909115353161996,
          0.5971969506321606,
          1.8949064155444952,
          -1.1931694954805152,
          -0.05676690937649937,
          -2.2217498558969324,
          -1.297293680429583,
          -0.021679536036858914,
          0.8916762942133755,
          -0.02348621814267172,
          -1.5786609005306635,
          0.24357246516668982,
          0.010917665382364302,
          0.5571223092510637,
          -1.2475758485667943,
          1.5868744203536709,
          -0.8057521945444989,
          0.7362339481277361,
          0.9477863231294862,
          -0.5995459180209022,
          0.32554867390014314,
          -0.24356449203624217,
          1.1979573743086407,
          0.7822599197053102,
          -1.0954063618013492,
          -1.4808650659886475,
          -0.03216781584335983,
          -1.8683123603357328,
          0.07009016085630791,
          1.0824506963115468,
          0.674844983492287,
          -0.4896990474459487,
          -0.25826941502304024,
          1.665037379640575,
          0.010847284024948613,
          -0.6880159072252328,
          -1.5714676059379604,
          0.9714241406998673,
          -0.24294500318685008,
          -0.06292344712525674,
          -1.3987054229303149,
          -0.4734533238685408,
          -2.321963835811431,
          1.3884196000510303,
          -0.31025234222947135,
          -1.481113764744444,
          -0.7699363254437,
          -1.1778899107140954,
          -0.8987703761011371,
          0.19883119197798022,
          -0.8858314065876076,
          -1.5178717776599873,
          0.5893703347859245,
          -0.6994135868450015,
          -0.48358717433491655,
          -1.0267079997349633,
          0.5298163054115055,
          0.14310713216157514,
          -0.35419547943352053,
          0.10136482998347482,
          0.7934625832758466,
          -0.5560458519842975,
          -0.07531028933549962,
          0.04992795085509383,
          1.1711134364945317,
          1.3911558612592592,
          0.3384467388925263,
          -1.0964942691720898,
          2.279215075793931,
          2.0177131899560052,
          -0.8702672956301913,
          -1.790636564450756,
          -1.1939131889231476,
          -1.0308948061031502,
          0.8574156496421109,
          0.20214773489736038,
          0.05214163230900531,
          -0.5361664714973083,
          -0.2671110698261588,
          1.67295750683312,
          0.47336831168584104,
          1.3273464336078364,
          -0.1455793598936071,
          1.0127945851899962,
          1.1546317432106692,
          -0.05084218514467188,
          -0.9450278958175217,
          0.5740271589665797,
          0.28224149312428837,
          2.659282372516733,
          -0.5020185634569961,
          0.8538731764432778,
          0.28591735410309577,
          -1.4126982855654242,
          -1.8891270064966479
         ],
         "xaxis": "x6",
         "yaxis": "y6"
        },
        {
         "line": {
          "color": "rgba(128, 128, 128, 1.0)",
          "dash": "solid",
          "shape": "linear",
          "width": 1.3
         },
         "marker": {
          "size": 2,
          "symbol": "circle"
         },
         "mode": "markers",
         "name": "B",
         "text": "",
         "type": "scatter",
         "x": [
          -0.08189170402269211,
          -0.13514980536158466,
          -0.6829000235753896,
          -2.1660492799482096,
          -0.8653623890686104,
          -0.7663960822194461,
          2.4465296437039847,
          -1.3838772208511525,
          -0.004037645735757862,
          0.20089315155547913,
          -0.23552802584260324,
          0.14568176283145545,
          -0.593480272097902,
          0.8987698543400691,
          0.977031524940709,
          -0.44072645348983663,
          1.8502759348157822,
          -0.15338260645131885,
          -0.16410038826145074,
          -0.05231582239414678,
          -0.4219511031272537,
          1.5404246600751583,
          0.4243757675846343,
          -0.04953077572811402,
          -0.3044162716065661,
          -0.778204723692454,
          -1.6865722656114437,
          -0.40745716620335704,
          0.03367509661054521,
          0.9547773475131285,
          0.22850452657337106,
          -2.0642361817882375,
          -0.6346129617527918,
          -0.23930344946865964,
          0.07527300680263144,
          -0.6853094644999711,
          0.044886324684502994,
          -0.8265372740099522,
          -0.4265344020298642,
          -0.8426744456702261,
          -0.8327334993244275,
          -0.9460713492384144,
          0.7941924238056933,
          -0.38501847935811406,
          -0.38067390231606096,
          0.07909975510965736,
          1.673281041484665,
          0.4755541700831618,
          -0.1969379747924677,
          0.6673498090452241,
          -0.1640159350139676,
          0.6752267821285269,
          -0.7917598494768683,
          -1.1506554345042526,
          0.04368974015311478,
          -1.7161841549026968,
          -0.3741882983849335,
          0.5993728303413354,
          0.2630159796664342,
          1.378673232286049,
          0.5486202909650398,
          -0.5442170043234468,
          0.11303460318517229,
          1.3354209329669042,
          -0.8859864965021472,
          0.7182151443982471,
          -0.01868264586250221,
          -0.311830239284594,
          0.32711877090528935,
          1.226354368968612,
          -0.3468950765587265,
          0.7492902658028024,
          -0.5694158194872334,
          -0.33199750309183734,
          -0.6797826348201856,
          -0.8464720437553708,
          0.6522136674012591,
          -0.33418115649697344,
          0.6549004337834226,
          -1.0374164770244731,
          0.06162194529230224,
          0.812116199119469,
          -0.39327954153113714,
          -0.4051496811605491,
          1.919198907495474,
          0.3713922630182631,
          0.2740703450515758,
          0.08521352716946458,
          1.719642473831569,
          -0.32484968872443726,
          -0.6539722405765761,
          0.4096321837057813,
          -0.4662960339340785,
          -0.45367379757154047,
          -1.2707156492496936,
          1.1236201909664816,
          -0.5850173785490747,
          -0.5273945384080858,
          -0.09933067073509559,
          -0.18625596036767667
         ],
         "xaxis": "x7",
         "y": [
          0.5932107040360172,
          0.04753954704139975,
          -0.444048574584182,
          -0.09335676213517706,
          -1.7432026927789257,
          1.0909115353161996,
          0.5971969506321606,
          1.8949064155444952,
          -1.1931694954805152,
          -0.05676690937649937,
          -2.2217498558969324,
          -1.297293680429583,
          -0.021679536036858914,
          0.8916762942133755,
          -0.02348621814267172,
          -1.5786609005306635,
          0.24357246516668982,
          0.010917665382364302,
          0.5571223092510637,
          -1.2475758485667943,
          1.5868744203536709,
          -0.8057521945444989,
          0.7362339481277361,
          0.9477863231294862,
          -0.5995459180209022,
          0.32554867390014314,
          -0.24356449203624217,
          1.1979573743086407,
          0.7822599197053102,
          -1.0954063618013492,
          -1.4808650659886475,
          -0.03216781584335983,
          -1.8683123603357328,
          0.07009016085630791,
          1.0824506963115468,
          0.674844983492287,
          -0.4896990474459487,
          -0.25826941502304024,
          1.665037379640575,
          0.010847284024948613,
          -0.6880159072252328,
          -1.5714676059379604,
          0.9714241406998673,
          -0.24294500318685008,
          -0.06292344712525674,
          -1.3987054229303149,
          -0.4734533238685408,
          -2.321963835811431,
          1.3884196000510303,
          -0.31025234222947135,
          -1.481113764744444,
          -0.7699363254437,
          -1.1778899107140954,
          -0.8987703761011371,
          0.19883119197798022,
          -0.8858314065876076,
          -1.5178717776599873,
          0.5893703347859245,
          -0.6994135868450015,
          -0.48358717433491655,
          -1.0267079997349633,
          0.5298163054115055,
          0.14310713216157514,
          -0.35419547943352053,
          0.10136482998347482,
          0.7934625832758466,
          -0.5560458519842975,
          -0.07531028933549962,
          0.04992795085509383,
          1.1711134364945317,
          1.3911558612592592,
          0.3384467388925263,
          -1.0964942691720898,
          2.279215075793931,
          2.0177131899560052,
          -0.8702672956301913,
          -1.790636564450756,
          -1.1939131889231476,
          -1.0308948061031502,
          0.8574156496421109,
          0.20214773489736038,
          0.05214163230900531,
          -0.5361664714973083,
          -0.2671110698261588,
          1.67295750683312,
          0.47336831168584104,
          1.3273464336078364,
          -0.1455793598936071,
          1.0127945851899962,
          1.1546317432106692,
          -0.05084218514467188,
          -0.9450278958175217,
          0.5740271589665797,
          0.28224149312428837,
          2.659282372516733,
          -0.5020185634569961,
          0.8538731764432778,
          0.28591735410309577,
          -1.4126982855654242,
          -1.8891270064966479
         ],
         "yaxis": "y7"
        },
        {
         "line": {
          "color": "rgba(128, 128, 128, 1.0)",
          "dash": "solid",
          "shape": "linear",
          "width": 1.3
         },
         "marker": {
          "size": 2,
          "symbol": "circle"
         },
         "mode": "markers",
         "name": "B",
         "text": "",
         "type": "scatter",
         "x": [
          0.48067285941719545,
          1.4858850034783189,
          -0.5329019355156149,
          -1.4337243887047155,
          -0.1230053387660544,
          -0.13370818245895555,
          0.04266792941505512,
          -1.1644677156793313,
          1.92208382634084,
          -0.3770200305322968,
          -0.20159510671969166,
          0.9450704280298273,
          0.374227265574753,
          -0.27093093384700623,
          -0.4179762013432669,
          0.2397330542315832,
          -1.2554058847956295,
          -1.0752856205007264,
          0.6295221884285818,
          0.12328969063205228,
          -1.4857765097563915,
          -0.28851910129719155,
          1.4650513962300873,
          -1.27181816910522,
          -0.2745855075309058,
          0.4887681833437419,
          0.6773129344196536,
          1.1247912489834433,
          -0.2839323938631823,
          -0.5239629925017716,
          0.8733803707313805,
          -0.15803792873209196,
          0.5617438714387215,
          0.7984493049471078,
          -0.39416870041365354,
          0.3643798773670629,
          -0.8594271202094695,
          1.6038715681108744,
          1.0657653663115085,
          0.13323356965674674,
          -1.6953565224403615,
          -0.5893170700034942,
          -1.8925587657354077,
          1.20230398051413,
          -0.2009668716489237,
          0.9538175248703185,
          -0.1340668644922787,
          1.0049075939495156,
          2.2006617147346015,
          0.6760268123827109,
          -0.9334553839406639,
          -0.1657385488960467,
          0.08264885320150527,
          1.144706427114871,
          -0.5500932193320486,
          -0.586114776415507,
          0.35872755990902455,
          -2.197056017152882,
          0.016985751214185954,
          0.01525101503333304,
          -1.2107299727377165,
          -0.2616707219991574,
          -0.4429893890051499,
          0.23850701647042258,
          -1.0142637655754279,
          0.27180521482845343,
          -0.06375871886326547,
          -1.5696986632060739,
          -0.3336687615490785,
          -0.1393267941862971,
          0.9125856313165784,
          0.0746248874782978,
          -1.8516085859000802,
          -1.0992675535367074,
          1.0861576590318607,
          1.4777219724420372,
          -1.82538139325232,
          1.675520963955247,
          -0.13369772436363767,
          -1.0248405377185879,
          0.17395491466077476,
          -1.2521805128926344,
          1.7211274364463975,
          -0.7093401985248905,
          -2.0692093617345453,
          -0.21905048684893788,
          1.1218656967577205,
          0.8419845339214078,
          -1.2979026927555817,
          -0.03627453213683022,
          -0.18679213925807509,
          0.7395864934658763,
          0.915017611632112,
          -0.8608612730071287,
          -1.283157688911953,
          0.3092883190756984,
          1.045763471390835,
          -1.4140309271736275,
          0.05459977765250099,
          -1.5375435049981996
         ],
         "xaxis": "x8",
         "y": [
          0.5932107040360172,
          0.04753954704139975,
          -0.444048574584182,
          -0.09335676213517706,
          -1.7432026927789257,
          1.0909115353161996,
          0.5971969506321606,
          1.8949064155444952,
          -1.1931694954805152,
          -0.05676690937649937,
          -2.2217498558969324,
          -1.297293680429583,
          -0.021679536036858914,
          0.8916762942133755,
          -0.02348621814267172,
          -1.5786609005306635,
          0.24357246516668982,
          0.010917665382364302,
          0.5571223092510637,
          -1.2475758485667943,
          1.5868744203536709,
          -0.8057521945444989,
          0.7362339481277361,
          0.9477863231294862,
          -0.5995459180209022,
          0.32554867390014314,
          -0.24356449203624217,
          1.1979573743086407,
          0.7822599197053102,
          -1.0954063618013492,
          -1.4808650659886475,
          -0.03216781584335983,
          -1.8683123603357328,
          0.07009016085630791,
          1.0824506963115468,
          0.674844983492287,
          -0.4896990474459487,
          -0.25826941502304024,
          1.665037379640575,
          0.010847284024948613,
          -0.6880159072252328,
          -1.5714676059379604,
          0.9714241406998673,
          -0.24294500318685008,
          -0.06292344712525674,
          -1.3987054229303149,
          -0.4734533238685408,
          -2.321963835811431,
          1.3884196000510303,
          -0.31025234222947135,
          -1.481113764744444,
          -0.7699363254437,
          -1.1778899107140954,
          -0.8987703761011371,
          0.19883119197798022,
          -0.8858314065876076,
          -1.5178717776599873,
          0.5893703347859245,
          -0.6994135868450015,
          -0.48358717433491655,
          -1.0267079997349633,
          0.5298163054115055,
          0.14310713216157514,
          -0.35419547943352053,
          0.10136482998347482,
          0.7934625832758466,
          -0.5560458519842975,
          -0.07531028933549962,
          0.04992795085509383,
          1.1711134364945317,
          1.3911558612592592,
          0.3384467388925263,
          -1.0964942691720898,
          2.279215075793931,
          2.0177131899560052,
          -0.8702672956301913,
          -1.790636564450756,
          -1.1939131889231476,
          -1.0308948061031502,
          0.8574156496421109,
          0.20214773489736038,
          0.05214163230900531,
          -0.5361664714973083,
          -0.2671110698261588,
          1.67295750683312,
          0.47336831168584104,
          1.3273464336078364,
          -0.1455793598936071,
          1.0127945851899962,
          1.1546317432106692,
          -0.05084218514467188,
          -0.9450278958175217,
          0.5740271589665797,
          0.28224149312428837,
          2.659282372516733,
          -0.5020185634569961,
          0.8538731764432778,
          0.28591735410309577,
          -1.4126982855654242,
          -1.8891270064966479
         ],
         "yaxis": "y8"
        },
        {
         "line": {
          "color": "rgba(128, 128, 128, 1.0)",
          "dash": "solid",
          "shape": "linear",
          "width": 1.3
         },
         "marker": {
          "size": 2,
          "symbol": "circle"
         },
         "mode": "markers",
         "name": "C",
         "text": "",
         "type": "scatter",
         "x": [
          0.7295363441218393,
          -0.30709735423890133,
          0.492710813594875,
          0.08392566125616459,
          -0.6889455689979118,
          0.5470456033814226,
          -0.59537959593479,
          0.590991782392905,
          0.9972471665249101,
          1.4378882065324756,
          0.11926922188426163,
          -1.6571759958291157,
          0.4487064707697026,
          -2.51301997833897,
          0.6001221119436471,
          -2.731948786259892,
          1.3607099053275447,
          -0.731152267488863,
          -1.3966859085953525,
          0.17378944539031352,
          0.6817597346735718,
          1.1402012726597144,
          0.14349266373328687,
          -0.9377451346394511,
          0.017522155117618125,
          0.3235679464012107,
          0.836983146893619,
          -0.8792559105632725,
          -1.1801754241794296,
          -0.3795826015311692,
          -1.140787877799205,
          -0.7723948304435839,
          -0.5145019292009516,
          0.35609369850632194,
          -1.511771529880759,
          1.3774677496649568,
          -0.16454591236628077,
          -0.20152889220951667,
          -0.8123283332056657,
          0.595491766397253,
          -0.7970370986126426,
          -0.7349886528627032,
          0.6385817620476262,
          -0.1332010168119281,
          -0.6122662727680039,
          -2.4533287444652374,
          -1.2247225198339713,
          -0.25819872800993604,
          -0.37154228878299783,
          1.1548376757268877,
          0.6091866542203763,
          0.4905265364947855,
          1.7151703495190282,
          0.5379372760497011,
          -0.9060239939628344,
          -0.4757653879199119,
          0.7393937868154522,
          -2.2189647639590326,
          0.37041005207702155,
          1.0224887183461624,
          -0.5119055368256046,
          -0.9017925229090039,
          0.1447604829762621,
          -2.422737424208872,
          -0.7930350683984899,
          -1.1868366962480066,
          -2.0569449530090984,
          1.1920114509529198,
          -0.46156730828628,
          -0.719859833789653,
          0.5066864394881544,
          1.473741498165212,
          -1.5954387366714262,
          -0.4782502836781616,
          -0.16444298863396906,
          1.1408405792421255,
          -0.7097825274860883,
          0.7513186713580287,
          0.1339137866817911,
          -1.3011927732441302,
          1.2811633564799318,
          -0.3242821085915659,
          0.6457367692201954,
          0.0031357660336803783,
          0.7701540363029559,
          1.1149898631778379,
          0.25928287776938813,
          1.6665070758153746,
          -1.8969684050518085,
          0.681158307412814,
          -0.45063469387663485,
          1.5622406665206328,
          -0.12734672873637162,
          -0.5040136701566764,
          1.1767269743927373,
          0.618194840212031,
          -0.6238683392746781,
          0.040684028835876136,
          0.49591506198487856,
          0.5402290487669394
         ],
         "xaxis": "x9",
         "y": [
          -0.08189170402269211,
          -0.13514980536158466,
          -0.6829000235753896,
          -2.1660492799482096,
          -0.8653623890686104,
          -0.7663960822194461,
          2.4465296437039847,
          -1.3838772208511525,
          -0.004037645735757862,
          0.20089315155547913,
          -0.23552802584260324,
          0.14568176283145545,
          -0.593480272097902,
          0.8987698543400691,
          0.977031524940709,
          -0.44072645348983663,
          1.8502759348157822,
          -0.15338260645131885,
          -0.16410038826145074,
          -0.05231582239414678,
          -0.4219511031272537,
          1.5404246600751583,
          0.4243757675846343,
          -0.04953077572811402,
          -0.3044162716065661,
          -0.778204723692454,
          -1.6865722656114437,
          -0.40745716620335704,
          0.03367509661054521,
          0.9547773475131285,
          0.22850452657337106,
          -2.0642361817882375,
          -0.6346129617527918,
          -0.23930344946865964,
          0.07527300680263144,
          -0.6853094644999711,
          0.044886324684502994,
          -0.8265372740099522,
          -0.4265344020298642,
          -0.8426744456702261,
          -0.8327334993244275,
          -0.9460713492384144,
          0.7941924238056933,
          -0.38501847935811406,
          -0.38067390231606096,
          0.07909975510965736,
          1.673281041484665,
          0.4755541700831618,
          -0.1969379747924677,
          0.6673498090452241,
          -0.1640159350139676,
          0.6752267821285269,
          -0.7917598494768683,
          -1.1506554345042526,
          0.04368974015311478,
          -1.7161841549026968,
          -0.3741882983849335,
          0.5993728303413354,
          0.2630159796664342,
          1.378673232286049,
          0.5486202909650398,
          -0.5442170043234468,
          0.11303460318517229,
          1.3354209329669042,
          -0.8859864965021472,
          0.7182151443982471,
          -0.01868264586250221,
          -0.311830239284594,
          0.32711877090528935,
          1.226354368968612,
          -0.3468950765587265,
          0.7492902658028024,
          -0.5694158194872334,
          -0.33199750309183734,
          -0.6797826348201856,
          -0.8464720437553708,
          0.6522136674012591,
          -0.33418115649697344,
          0.6549004337834226,
          -1.0374164770244731,
          0.06162194529230224,
          0.812116199119469,
          -0.39327954153113714,
          -0.4051496811605491,
          1.919198907495474,
          0.3713922630182631,
          0.2740703450515758,
          0.08521352716946458,
          1.719642473831569,
          -0.32484968872443726,
          -0.6539722405765761,
          0.4096321837057813,
          -0.4662960339340785,
          -0.45367379757154047,
          -1.2707156492496936,
          1.1236201909664816,
          -0.5850173785490747,
          -0.5273945384080858,
          -0.09933067073509559,
          -0.18625596036767667
         ],
         "yaxis": "y9"
        },
        {
         "line": {
          "color": "rgba(128, 128, 128, 1.0)",
          "dash": "solid",
          "shape": "linear",
          "width": 1.3
         },
         "marker": {
          "size": 2,
          "symbol": "circle"
         },
         "mode": "markers",
         "name": "C",
         "text": "",
         "type": "scatter",
         "x": [
          0.5932107040360172,
          0.04753954704139975,
          -0.444048574584182,
          -0.09335676213517706,
          -1.7432026927789257,
          1.0909115353161996,
          0.5971969506321606,
          1.8949064155444952,
          -1.1931694954805152,
          -0.05676690937649937,
          -2.2217498558969324,
          -1.297293680429583,
          -0.021679536036858914,
          0.8916762942133755,
          -0.02348621814267172,
          -1.5786609005306635,
          0.24357246516668982,
          0.010917665382364302,
          0.5571223092510637,
          -1.2475758485667943,
          1.5868744203536709,
          -0.8057521945444989,
          0.7362339481277361,
          0.9477863231294862,
          -0.5995459180209022,
          0.32554867390014314,
          -0.24356449203624217,
          1.1979573743086407,
          0.7822599197053102,
          -1.0954063618013492,
          -1.4808650659886475,
          -0.03216781584335983,
          -1.8683123603357328,
          0.07009016085630791,
          1.0824506963115468,
          0.674844983492287,
          -0.4896990474459487,
          -0.25826941502304024,
          1.665037379640575,
          0.010847284024948613,
          -0.6880159072252328,
          -1.5714676059379604,
          0.9714241406998673,
          -0.24294500318685008,
          -0.06292344712525674,
          -1.3987054229303149,
          -0.4734533238685408,
          -2.321963835811431,
          1.3884196000510303,
          -0.31025234222947135,
          -1.481113764744444,
          -0.7699363254437,
          -1.1778899107140954,
          -0.8987703761011371,
          0.19883119197798022,
          -0.8858314065876076,
          -1.5178717776599873,
          0.5893703347859245,
          -0.6994135868450015,
          -0.48358717433491655,
          -1.0267079997349633,
          0.5298163054115055,
          0.14310713216157514,
          -0.35419547943352053,
          0.10136482998347482,
          0.7934625832758466,
          -0.5560458519842975,
          -0.07531028933549962,
          0.04992795085509383,
          1.1711134364945317,
          1.3911558612592592,
          0.3384467388925263,
          -1.0964942691720898,
          2.279215075793931,
          2.0177131899560052,
          -0.8702672956301913,
          -1.790636564450756,
          -1.1939131889231476,
          -1.0308948061031502,
          0.8574156496421109,
          0.20214773489736038,
          0.05214163230900531,
          -0.5361664714973083,
          -0.2671110698261588,
          1.67295750683312,
          0.47336831168584104,
          1.3273464336078364,
          -0.1455793598936071,
          1.0127945851899962,
          1.1546317432106692,
          -0.05084218514467188,
          -0.9450278958175217,
          0.5740271589665797,
          0.28224149312428837,
          2.659282372516733,
          -0.5020185634569961,
          0.8538731764432778,
          0.28591735410309577,
          -1.4126982855654242,
          -1.8891270064966479
         ],
         "xaxis": "x10",
         "y": [
          -0.08189170402269211,
          -0.13514980536158466,
          -0.6829000235753896,
          -2.1660492799482096,
          -0.8653623890686104,
          -0.7663960822194461,
          2.4465296437039847,
          -1.3838772208511525,
          -0.004037645735757862,
          0.20089315155547913,
          -0.23552802584260324,
          0.14568176283145545,
          -0.593480272097902,
          0.8987698543400691,
          0.977031524940709,
          -0.44072645348983663,
          1.8502759348157822,
          -0.15338260645131885,
          -0.16410038826145074,
          -0.05231582239414678,
          -0.4219511031272537,
          1.5404246600751583,
          0.4243757675846343,
          -0.04953077572811402,
          -0.3044162716065661,
          -0.778204723692454,
          -1.6865722656114437,
          -0.40745716620335704,
          0.03367509661054521,
          0.9547773475131285,
          0.22850452657337106,
          -2.0642361817882375,
          -0.6346129617527918,
          -0.23930344946865964,
          0.07527300680263144,
          -0.6853094644999711,
          0.044886324684502994,
          -0.8265372740099522,
          -0.4265344020298642,
          -0.8426744456702261,
          -0.8327334993244275,
          -0.9460713492384144,
          0.7941924238056933,
          -0.38501847935811406,
          -0.38067390231606096,
          0.07909975510965736,
          1.673281041484665,
          0.4755541700831618,
          -0.1969379747924677,
          0.6673498090452241,
          -0.1640159350139676,
          0.6752267821285269,
          -0.7917598494768683,
          -1.1506554345042526,
          0.04368974015311478,
          -1.7161841549026968,
          -0.3741882983849335,
          0.5993728303413354,
          0.2630159796664342,
          1.378673232286049,
          0.5486202909650398,
          -0.5442170043234468,
          0.11303460318517229,
          1.3354209329669042,
          -0.8859864965021472,
          0.7182151443982471,
          -0.01868264586250221,
          -0.311830239284594,
          0.32711877090528935,
          1.226354368968612,
          -0.3468950765587265,
          0.7492902658028024,
          -0.5694158194872334,
          -0.33199750309183734,
          -0.6797826348201856,
          -0.8464720437553708,
          0.6522136674012591,
          -0.33418115649697344,
          0.6549004337834226,
          -1.0374164770244731,
          0.06162194529230224,
          0.812116199119469,
          -0.39327954153113714,
          -0.4051496811605491,
          1.919198907495474,
          0.3713922630182631,
          0.2740703450515758,
          0.08521352716946458,
          1.719642473831569,
          -0.32484968872443726,
          -0.6539722405765761,
          0.4096321837057813,
          -0.4662960339340785,
          -0.45367379757154047,
          -1.2707156492496936,
          1.1236201909664816,
          -0.5850173785490747,
          -0.5273945384080858,
          -0.09933067073509559,
          -0.18625596036767667
         ],
         "yaxis": "y10"
        },
        {
         "histfunc": "count",
         "histnorm": "",
         "marker": {
          "color": "rgba(50, 171, 96, 1.0)",
          "line": {
           "color": "#4D5663",
           "width": 1.3
          }
         },
         "name": "C",
         "nbinsx": 10,
         "opacity": 0.8,
         "orientation": "v",
         "type": "histogram",
         "x": [
          -0.08189170402269211,
          -0.13514980536158466,
          -0.6829000235753896,
          -2.1660492799482096,
          -0.8653623890686104,
          -0.7663960822194461,
          2.4465296437039847,
          -1.3838772208511525,
          -0.004037645735757862,
          0.20089315155547913,
          -0.23552802584260324,
          0.14568176283145545,
          -0.593480272097902,
          0.8987698543400691,
          0.977031524940709,
          -0.44072645348983663,
          1.8502759348157822,
          -0.15338260645131885,
          -0.16410038826145074,
          -0.05231582239414678,
          -0.4219511031272537,
          1.5404246600751583,
          0.4243757675846343,
          -0.04953077572811402,
          -0.3044162716065661,
          -0.778204723692454,
          -1.6865722656114437,
          -0.40745716620335704,
          0.03367509661054521,
          0.9547773475131285,
          0.22850452657337106,
          -2.0642361817882375,
          -0.6346129617527918,
          -0.23930344946865964,
          0.07527300680263144,
          -0.6853094644999711,
          0.044886324684502994,
          -0.8265372740099522,
          -0.4265344020298642,
          -0.8426744456702261,
          -0.8327334993244275,
          -0.9460713492384144,
          0.7941924238056933,
          -0.38501847935811406,
          -0.38067390231606096,
          0.07909975510965736,
          1.673281041484665,
          0.4755541700831618,
          -0.1969379747924677,
          0.6673498090452241,
          -0.1640159350139676,
          0.6752267821285269,
          -0.7917598494768683,
          -1.1506554345042526,
          0.04368974015311478,
          -1.7161841549026968,
          -0.3741882983849335,
          0.5993728303413354,
          0.2630159796664342,
          1.378673232286049,
          0.5486202909650398,
          -0.5442170043234468,
          0.11303460318517229,
          1.3354209329669042,
          -0.8859864965021472,
          0.7182151443982471,
          -0.01868264586250221,
          -0.311830239284594,
          0.32711877090528935,
          1.226354368968612,
          -0.3468950765587265,
          0.7492902658028024,
          -0.5694158194872334,
          -0.33199750309183734,
          -0.6797826348201856,
          -0.8464720437553708,
          0.6522136674012591,
          -0.33418115649697344,
          0.6549004337834226,
          -1.0374164770244731,
          0.06162194529230224,
          0.812116199119469,
          -0.39327954153113714,
          -0.4051496811605491,
          1.919198907495474,
          0.3713922630182631,
          0.2740703450515758,
          0.08521352716946458,
          1.719642473831569,
          -0.32484968872443726,
          -0.6539722405765761,
          0.4096321837057813,
          -0.4662960339340785,
          -0.45367379757154047,
          -1.2707156492496936,
          1.1236201909664816,
          -0.5850173785490747,
          -0.5273945384080858,
          -0.09933067073509559,
          -0.18625596036767667
         ],
         "xaxis": "x11",
         "yaxis": "y11"
        },
        {
         "line": {
          "color": "rgba(128, 128, 128, 1.0)",
          "dash": "solid",
          "shape": "linear",
          "width": 1.3
         },
         "marker": {
          "size": 2,
          "symbol": "circle"
         },
         "mode": "markers",
         "name": "C",
         "text": "",
         "type": "scatter",
         "x": [
          0.48067285941719545,
          1.4858850034783189,
          -0.5329019355156149,
          -1.4337243887047155,
          -0.1230053387660544,
          -0.13370818245895555,
          0.04266792941505512,
          -1.1644677156793313,
          1.92208382634084,
          -0.3770200305322968,
          -0.20159510671969166,
          0.9450704280298273,
          0.374227265574753,
          -0.27093093384700623,
          -0.4179762013432669,
          0.2397330542315832,
          -1.2554058847956295,
          -1.0752856205007264,
          0.6295221884285818,
          0.12328969063205228,
          -1.4857765097563915,
          -0.28851910129719155,
          1.4650513962300873,
          -1.27181816910522,
          -0.2745855075309058,
          0.4887681833437419,
          0.6773129344196536,
          1.1247912489834433,
          -0.2839323938631823,
          -0.5239629925017716,
          0.8733803707313805,
          -0.15803792873209196,
          0.5617438714387215,
          0.7984493049471078,
          -0.39416870041365354,
          0.3643798773670629,
          -0.8594271202094695,
          1.6038715681108744,
          1.0657653663115085,
          0.13323356965674674,
          -1.6953565224403615,
          -0.5893170700034942,
          -1.8925587657354077,
          1.20230398051413,
          -0.2009668716489237,
          0.9538175248703185,
          -0.1340668644922787,
          1.0049075939495156,
          2.2006617147346015,
          0.6760268123827109,
          -0.9334553839406639,
          -0.1657385488960467,
          0.08264885320150527,
          1.144706427114871,
          -0.5500932193320486,
          -0.586114776415507,
          0.35872755990902455,
          -2.197056017152882,
          0.016985751214185954,
          0.01525101503333304,
          -1.2107299727377165,
          -0.2616707219991574,
          -0.4429893890051499,
          0.23850701647042258,
          -1.0142637655754279,
          0.27180521482845343,
          -0.06375871886326547,
          -1.5696986632060739,
          -0.3336687615490785,
          -0.1393267941862971,
          0.9125856313165784,
          0.0746248874782978,
          -1.8516085859000802,
          -1.0992675535367074,
          1.0861576590318607,
          1.4777219724420372,
          -1.82538139325232,
          1.675520963955247,
          -0.13369772436363767,
          -1.0248405377185879,
          0.17395491466077476,
          -1.2521805128926344,
          1.7211274364463975,
          -0.7093401985248905,
          -2.0692093617345453,
          -0.21905048684893788,
          1.1218656967577205,
          0.8419845339214078,
          -1.2979026927555817,
          -0.03627453213683022,
          -0.18679213925807509,
          0.7395864934658763,
          0.915017611632112,
          -0.8608612730071287,
          -1.283157688911953,
          0.3092883190756984,
          1.045763471390835,
          -1.4140309271736275,
          0.05459977765250099,
          -1.5375435049981996
         ],
         "xaxis": "x12",
         "y": [
          -0.08189170402269211,
          -0.13514980536158466,
          -0.6829000235753896,
          -2.1660492799482096,
          -0.8653623890686104,
          -0.7663960822194461,
          2.4465296437039847,
          -1.3838772208511525,
          -0.004037645735757862,
          0.20089315155547913,
          -0.23552802584260324,
          0.14568176283145545,
          -0.593480272097902,
          0.8987698543400691,
          0.977031524940709,
          -0.44072645348983663,
          1.8502759348157822,
          -0.15338260645131885,
          -0.16410038826145074,
          -0.05231582239414678,
          -0.4219511031272537,
          1.5404246600751583,
          0.4243757675846343,
          -0.04953077572811402,
          -0.3044162716065661,
          -0.778204723692454,
          -1.6865722656114437,
          -0.40745716620335704,
          0.03367509661054521,
          0.9547773475131285,
          0.22850452657337106,
          -2.0642361817882375,
          -0.6346129617527918,
          -0.23930344946865964,
          0.07527300680263144,
          -0.6853094644999711,
          0.044886324684502994,
          -0.8265372740099522,
          -0.4265344020298642,
          -0.8426744456702261,
          -0.8327334993244275,
          -0.9460713492384144,
          0.7941924238056933,
          -0.38501847935811406,
          -0.38067390231606096,
          0.07909975510965736,
          1.673281041484665,
          0.4755541700831618,
          -0.1969379747924677,
          0.6673498090452241,
          -0.1640159350139676,
          0.6752267821285269,
          -0.7917598494768683,
          -1.1506554345042526,
          0.04368974015311478,
          -1.7161841549026968,
          -0.3741882983849335,
          0.5993728303413354,
          0.2630159796664342,
          1.378673232286049,
          0.5486202909650398,
          -0.5442170043234468,
          0.11303460318517229,
          1.3354209329669042,
          -0.8859864965021472,
          0.7182151443982471,
          -0.01868264586250221,
          -0.311830239284594,
          0.32711877090528935,
          1.226354368968612,
          -0.3468950765587265,
          0.7492902658028024,
          -0.5694158194872334,
          -0.33199750309183734,
          -0.6797826348201856,
          -0.8464720437553708,
          0.6522136674012591,
          -0.33418115649697344,
          0.6549004337834226,
          -1.0374164770244731,
          0.06162194529230224,
          0.812116199119469,
          -0.39327954153113714,
          -0.4051496811605491,
          1.919198907495474,
          0.3713922630182631,
          0.2740703450515758,
          0.08521352716946458,
          1.719642473831569,
          -0.32484968872443726,
          -0.6539722405765761,
          0.4096321837057813,
          -0.4662960339340785,
          -0.45367379757154047,
          -1.2707156492496936,
          1.1236201909664816,
          -0.5850173785490747,
          -0.5273945384080858,
          -0.09933067073509559,
          -0.18625596036767667
         ],
         "yaxis": "y12"
        },
        {
         "line": {
          "color": "rgba(128, 128, 128, 1.0)",
          "dash": "solid",
          "shape": "linear",
          "width": 1.3
         },
         "marker": {
          "size": 2,
          "symbol": "circle"
         },
         "mode": "markers",
         "name": "D",
         "text": "",
         "type": "scatter",
         "x": [
          0.7295363441218393,
          -0.30709735423890133,
          0.492710813594875,
          0.08392566125616459,
          -0.6889455689979118,
          0.5470456033814226,
          -0.59537959593479,
          0.590991782392905,
          0.9972471665249101,
          1.4378882065324756,
          0.11926922188426163,
          -1.6571759958291157,
          0.4487064707697026,
          -2.51301997833897,
          0.6001221119436471,
          -2.731948786259892,
          1.3607099053275447,
          -0.731152267488863,
          -1.3966859085953525,
          0.17378944539031352,
          0.6817597346735718,
          1.1402012726597144,
          0.14349266373328687,
          -0.9377451346394511,
          0.017522155117618125,
          0.3235679464012107,
          0.836983146893619,
          -0.8792559105632725,
          -1.1801754241794296,
          -0.3795826015311692,
          -1.140787877799205,
          -0.7723948304435839,
          -0.5145019292009516,
          0.35609369850632194,
          -1.511771529880759,
          1.3774677496649568,
          -0.16454591236628077,
          -0.20152889220951667,
          -0.8123283332056657,
          0.595491766397253,
          -0.7970370986126426,
          -0.7349886528627032,
          0.6385817620476262,
          -0.1332010168119281,
          -0.6122662727680039,
          -2.4533287444652374,
          -1.2247225198339713,
          -0.25819872800993604,
          -0.37154228878299783,
          1.1548376757268877,
          0.6091866542203763,
          0.4905265364947855,
          1.7151703495190282,
          0.5379372760497011,
          -0.9060239939628344,
          -0.4757653879199119,
          0.7393937868154522,
          -2.2189647639590326,
          0.37041005207702155,
          1.0224887183461624,
          -0.5119055368256046,
          -0.9017925229090039,
          0.1447604829762621,
          -2.422737424208872,
          -0.7930350683984899,
          -1.1868366962480066,
          -2.0569449530090984,
          1.1920114509529198,
          -0.46156730828628,
          -0.719859833789653,
          0.5066864394881544,
          1.473741498165212,
          -1.5954387366714262,
          -0.4782502836781616,
          -0.16444298863396906,
          1.1408405792421255,
          -0.7097825274860883,
          0.7513186713580287,
          0.1339137866817911,
          -1.3011927732441302,
          1.2811633564799318,
          -0.3242821085915659,
          0.6457367692201954,
          0.0031357660336803783,
          0.7701540363029559,
          1.1149898631778379,
          0.25928287776938813,
          1.6665070758153746,
          -1.8969684050518085,
          0.681158307412814,
          -0.45063469387663485,
          1.5622406665206328,
          -0.12734672873637162,
          -0.5040136701566764,
          1.1767269743927373,
          0.618194840212031,
          -0.6238683392746781,
          0.040684028835876136,
          0.49591506198487856,
          0.5402290487669394
         ],
         "xaxis": "x13",
         "y": [
          0.48067285941719545,
          1.4858850034783189,
          -0.5329019355156149,
          -1.4337243887047155,
          -0.1230053387660544,
          -0.13370818245895555,
          0.04266792941505512,
          -1.1644677156793313,
          1.92208382634084,
          -0.3770200305322968,
          -0.20159510671969166,
          0.9450704280298273,
          0.374227265574753,
          -0.27093093384700623,
          -0.4179762013432669,
          0.2397330542315832,
          -1.2554058847956295,
          -1.0752856205007264,
          0.6295221884285818,
          0.12328969063205228,
          -1.4857765097563915,
          -0.28851910129719155,
          1.4650513962300873,
          -1.27181816910522,
          -0.2745855075309058,
          0.4887681833437419,
          0.6773129344196536,
          1.1247912489834433,
          -0.2839323938631823,
          -0.5239629925017716,
          0.8733803707313805,
          -0.15803792873209196,
          0.5617438714387215,
          0.7984493049471078,
          -0.39416870041365354,
          0.3643798773670629,
          -0.8594271202094695,
          1.6038715681108744,
          1.0657653663115085,
          0.13323356965674674,
          -1.6953565224403615,
          -0.5893170700034942,
          -1.8925587657354077,
          1.20230398051413,
          -0.2009668716489237,
          0.9538175248703185,
          -0.1340668644922787,
          1.0049075939495156,
          2.2006617147346015,
          0.6760268123827109,
          -0.9334553839406639,
          -0.1657385488960467,
          0.08264885320150527,
          1.144706427114871,
          -0.5500932193320486,
          -0.586114776415507,
          0.35872755990902455,
          -2.197056017152882,
          0.016985751214185954,
          0.01525101503333304,
          -1.2107299727377165,
          -0.2616707219991574,
          -0.4429893890051499,
          0.23850701647042258,
          -1.0142637655754279,
          0.27180521482845343,
          -0.06375871886326547,
          -1.5696986632060739,
          -0.3336687615490785,
          -0.1393267941862971,
          0.9125856313165784,
          0.0746248874782978,
          -1.8516085859000802,
          -1.0992675535367074,
          1.0861576590318607,
          1.4777219724420372,
          -1.82538139325232,
          1.675520963955247,
          -0.13369772436363767,
          -1.0248405377185879,
          0.17395491466077476,
          -1.2521805128926344,
          1.7211274364463975,
          -0.7093401985248905,
          -2.0692093617345453,
          -0.21905048684893788,
          1.1218656967577205,
          0.8419845339214078,
          -1.2979026927555817,
          -0.03627453213683022,
          -0.18679213925807509,
          0.7395864934658763,
          0.915017611632112,
          -0.8608612730071287,
          -1.283157688911953,
          0.3092883190756984,
          1.045763471390835,
          -1.4140309271736275,
          0.05459977765250099,
          -1.5375435049981996
         ],
         "yaxis": "y13"
        },
        {
         "line": {
          "color": "rgba(128, 128, 128, 1.0)",
          "dash": "solid",
          "shape": "linear",
          "width": 1.3
         },
         "marker": {
          "size": 2,
          "symbol": "circle"
         },
         "mode": "markers",
         "name": "D",
         "text": "",
         "type": "scatter",
         "x": [
          0.5932107040360172,
          0.04753954704139975,
          -0.444048574584182,
          -0.09335676213517706,
          -1.7432026927789257,
          1.0909115353161996,
          0.5971969506321606,
          1.8949064155444952,
          -1.1931694954805152,
          -0.05676690937649937,
          -2.2217498558969324,
          -1.297293680429583,
          -0.021679536036858914,
          0.8916762942133755,
          -0.02348621814267172,
          -1.5786609005306635,
          0.24357246516668982,
          0.010917665382364302,
          0.5571223092510637,
          -1.2475758485667943,
          1.5868744203536709,
          -0.8057521945444989,
          0.7362339481277361,
          0.9477863231294862,
          -0.5995459180209022,
          0.32554867390014314,
          -0.24356449203624217,
          1.1979573743086407,
          0.7822599197053102,
          -1.0954063618013492,
          -1.4808650659886475,
          -0.03216781584335983,
          -1.8683123603357328,
          0.07009016085630791,
          1.0824506963115468,
          0.674844983492287,
          -0.4896990474459487,
          -0.25826941502304024,
          1.665037379640575,
          0.010847284024948613,
          -0.6880159072252328,
          -1.5714676059379604,
          0.9714241406998673,
          -0.24294500318685008,
          -0.06292344712525674,
          -1.3987054229303149,
          -0.4734533238685408,
          -2.321963835811431,
          1.3884196000510303,
          -0.31025234222947135,
          -1.481113764744444,
          -0.7699363254437,
          -1.1778899107140954,
          -0.8987703761011371,
          0.19883119197798022,
          -0.8858314065876076,
          -1.5178717776599873,
          0.5893703347859245,
          -0.6994135868450015,
          -0.48358717433491655,
          -1.0267079997349633,
          0.5298163054115055,
          0.14310713216157514,
          -0.35419547943352053,
          0.10136482998347482,
          0.7934625832758466,
          -0.5560458519842975,
          -0.07531028933549962,
          0.04992795085509383,
          1.1711134364945317,
          1.3911558612592592,
          0.3384467388925263,
          -1.0964942691720898,
          2.279215075793931,
          2.0177131899560052,
          -0.8702672956301913,
          -1.790636564450756,
          -1.1939131889231476,
          -1.0308948061031502,
          0.8574156496421109,
          0.20214773489736038,
          0.05214163230900531,
          -0.5361664714973083,
          -0.2671110698261588,
          1.67295750683312,
          0.47336831168584104,
          1.3273464336078364,
          -0.1455793598936071,
          1.0127945851899962,
          1.1546317432106692,
          -0.05084218514467188,
          -0.9450278958175217,
          0.5740271589665797,
          0.28224149312428837,
          2.659282372516733,
          -0.5020185634569961,
          0.8538731764432778,
          0.28591735410309577,
          -1.4126982855654242,
          -1.8891270064966479
         ],
         "xaxis": "x14",
         "y": [
          0.48067285941719545,
          1.4858850034783189,
          -0.5329019355156149,
          -1.4337243887047155,
          -0.1230053387660544,
          -0.13370818245895555,
          0.04266792941505512,
          -1.1644677156793313,
          1.92208382634084,
          -0.3770200305322968,
          -0.20159510671969166,
          0.9450704280298273,
          0.374227265574753,
          -0.27093093384700623,
          -0.4179762013432669,
          0.2397330542315832,
          -1.2554058847956295,
          -1.0752856205007264,
          0.6295221884285818,
          0.12328969063205228,
          -1.4857765097563915,
          -0.28851910129719155,
          1.4650513962300873,
          -1.27181816910522,
          -0.2745855075309058,
          0.4887681833437419,
          0.6773129344196536,
          1.1247912489834433,
          -0.2839323938631823,
          -0.5239629925017716,
          0.8733803707313805,
          -0.15803792873209196,
          0.5617438714387215,
          0.7984493049471078,
          -0.39416870041365354,
          0.3643798773670629,
          -0.8594271202094695,
          1.6038715681108744,
          1.0657653663115085,
          0.13323356965674674,
          -1.6953565224403615,
          -0.5893170700034942,
          -1.8925587657354077,
          1.20230398051413,
          -0.2009668716489237,
          0.9538175248703185,
          -0.1340668644922787,
          1.0049075939495156,
          2.2006617147346015,
          0.6760268123827109,
          -0.9334553839406639,
          -0.1657385488960467,
          0.08264885320150527,
          1.144706427114871,
          -0.5500932193320486,
          -0.586114776415507,
          0.35872755990902455,
          -2.197056017152882,
          0.016985751214185954,
          0.01525101503333304,
          -1.2107299727377165,
          -0.2616707219991574,
          -0.4429893890051499,
          0.23850701647042258,
          -1.0142637655754279,
          0.27180521482845343,
          -0.06375871886326547,
          -1.5696986632060739,
          -0.3336687615490785,
          -0.1393267941862971,
          0.9125856313165784,
          0.0746248874782978,
          -1.8516085859000802,
          -1.0992675535367074,
          1.0861576590318607,
          1.4777219724420372,
          -1.82538139325232,
          1.675520963955247,
          -0.13369772436363767,
          -1.0248405377185879,
          0.17395491466077476,
          -1.2521805128926344,
          1.7211274364463975,
          -0.7093401985248905,
          -2.0692093617345453,
          -0.21905048684893788,
          1.1218656967577205,
          0.8419845339214078,
          -1.2979026927555817,
          -0.03627453213683022,
          -0.18679213925807509,
          0.7395864934658763,
          0.915017611632112,
          -0.8608612730071287,
          -1.283157688911953,
          0.3092883190756984,
          1.045763471390835,
          -1.4140309271736275,
          0.05459977765250099,
          -1.5375435049981996
         ],
         "yaxis": "y14"
        },
        {
         "line": {
          "color": "rgba(128, 128, 128, 1.0)",
          "dash": "solid",
          "shape": "linear",
          "width": 1.3
         },
         "marker": {
          "size": 2,
          "symbol": "circle"
         },
         "mode": "markers",
         "name": "D",
         "text": "",
         "type": "scatter",
         "x": [
          -0.08189170402269211,
          -0.13514980536158466,
          -0.6829000235753896,
          -2.1660492799482096,
          -0.8653623890686104,
          -0.7663960822194461,
          2.4465296437039847,
          -1.3838772208511525,
          -0.004037645735757862,
          0.20089315155547913,
          -0.23552802584260324,
          0.14568176283145545,
          -0.593480272097902,
          0.8987698543400691,
          0.977031524940709,
          -0.44072645348983663,
          1.8502759348157822,
          -0.15338260645131885,
          -0.16410038826145074,
          -0.05231582239414678,
          -0.4219511031272537,
          1.5404246600751583,
          0.4243757675846343,
          -0.04953077572811402,
          -0.3044162716065661,
          -0.778204723692454,
          -1.6865722656114437,
          -0.40745716620335704,
          0.03367509661054521,
          0.9547773475131285,
          0.22850452657337106,
          -2.0642361817882375,
          -0.6346129617527918,
          -0.23930344946865964,
          0.07527300680263144,
          -0.6853094644999711,
          0.044886324684502994,
          -0.8265372740099522,
          -0.4265344020298642,
          -0.8426744456702261,
          -0.8327334993244275,
          -0.9460713492384144,
          0.7941924238056933,
          -0.38501847935811406,
          -0.38067390231606096,
          0.07909975510965736,
          1.673281041484665,
          0.4755541700831618,
          -0.1969379747924677,
          0.6673498090452241,
          -0.1640159350139676,
          0.6752267821285269,
          -0.7917598494768683,
          -1.1506554345042526,
          0.04368974015311478,
          -1.7161841549026968,
          -0.3741882983849335,
          0.5993728303413354,
          0.2630159796664342,
          1.378673232286049,
          0.5486202909650398,
          -0.5442170043234468,
          0.11303460318517229,
          1.3354209329669042,
          -0.8859864965021472,
          0.7182151443982471,
          -0.01868264586250221,
          -0.311830239284594,
          0.32711877090528935,
          1.226354368968612,
          -0.3468950765587265,
          0.7492902658028024,
          -0.5694158194872334,
          -0.33199750309183734,
          -0.6797826348201856,
          -0.8464720437553708,
          0.6522136674012591,
          -0.33418115649697344,
          0.6549004337834226,
          -1.0374164770244731,
          0.06162194529230224,
          0.812116199119469,
          -0.39327954153113714,
          -0.4051496811605491,
          1.919198907495474,
          0.3713922630182631,
          0.2740703450515758,
          0.08521352716946458,
          1.719642473831569,
          -0.32484968872443726,
          -0.6539722405765761,
          0.4096321837057813,
          -0.4662960339340785,
          -0.45367379757154047,
          -1.2707156492496936,
          1.1236201909664816,
          -0.5850173785490747,
          -0.5273945384080858,
          -0.09933067073509559,
          -0.18625596036767667
         ],
         "xaxis": "x15",
         "y": [
          0.48067285941719545,
          1.4858850034783189,
          -0.5329019355156149,
          -1.4337243887047155,
          -0.1230053387660544,
          -0.13370818245895555,
          0.04266792941505512,
          -1.1644677156793313,
          1.92208382634084,
          -0.3770200305322968,
          -0.20159510671969166,
          0.9450704280298273,
          0.374227265574753,
          -0.27093093384700623,
          -0.4179762013432669,
          0.2397330542315832,
          -1.2554058847956295,
          -1.0752856205007264,
          0.6295221884285818,
          0.12328969063205228,
          -1.4857765097563915,
          -0.28851910129719155,
          1.4650513962300873,
          -1.27181816910522,
          -0.2745855075309058,
          0.4887681833437419,
          0.6773129344196536,
          1.1247912489834433,
          -0.2839323938631823,
          -0.5239629925017716,
          0.8733803707313805,
          -0.15803792873209196,
          0.5617438714387215,
          0.7984493049471078,
          -0.39416870041365354,
          0.3643798773670629,
          -0.8594271202094695,
          1.6038715681108744,
          1.0657653663115085,
          0.13323356965674674,
          -1.6953565224403615,
          -0.5893170700034942,
          -1.8925587657354077,
          1.20230398051413,
          -0.2009668716489237,
          0.9538175248703185,
          -0.1340668644922787,
          1.0049075939495156,
          2.2006617147346015,
          0.6760268123827109,
          -0.9334553839406639,
          -0.1657385488960467,
          0.08264885320150527,
          1.144706427114871,
          -0.5500932193320486,
          -0.586114776415507,
          0.35872755990902455,
          -2.197056017152882,
          0.016985751214185954,
          0.01525101503333304,
          -1.2107299727377165,
          -0.2616707219991574,
          -0.4429893890051499,
          0.23850701647042258,
          -1.0142637655754279,
          0.27180521482845343,
          -0.06375871886326547,
          -1.5696986632060739,
          -0.3336687615490785,
          -0.1393267941862971,
          0.9125856313165784,
          0.0746248874782978,
          -1.8516085859000802,
          -1.0992675535367074,
          1.0861576590318607,
          1.4777219724420372,
          -1.82538139325232,
          1.675520963955247,
          -0.13369772436363767,
          -1.0248405377185879,
          0.17395491466077476,
          -1.2521805128926344,
          1.7211274364463975,
          -0.7093401985248905,
          -2.0692093617345453,
          -0.21905048684893788,
          1.1218656967577205,
          0.8419845339214078,
          -1.2979026927555817,
          -0.03627453213683022,
          -0.18679213925807509,
          0.7395864934658763,
          0.915017611632112,
          -0.8608612730071287,
          -1.283157688911953,
          0.3092883190756984,
          1.045763471390835,
          -1.4140309271736275,
          0.05459977765250099,
          -1.5375435049981996
         ],
         "yaxis": "y15"
        },
        {
         "histfunc": "count",
         "histnorm": "",
         "marker": {
          "color": "rgba(128, 0, 128, 1.0)",
          "line": {
           "color": "#4D5663",
           "width": 1.3
          }
         },
         "name": "D",
         "nbinsx": 10,
         "opacity": 0.8,
         "orientation": "v",
         "type": "histogram",
         "x": [
          0.48067285941719545,
          1.4858850034783189,
          -0.5329019355156149,
          -1.4337243887047155,
          -0.1230053387660544,
          -0.13370818245895555,
          0.04266792941505512,
          -1.1644677156793313,
          1.92208382634084,
          -0.3770200305322968,
          -0.20159510671969166,
          0.9450704280298273,
          0.374227265574753,
          -0.27093093384700623,
          -0.4179762013432669,
          0.2397330542315832,
          -1.2554058847956295,
          -1.0752856205007264,
          0.6295221884285818,
          0.12328969063205228,
          -1.4857765097563915,
          -0.28851910129719155,
          1.4650513962300873,
          -1.27181816910522,
          -0.2745855075309058,
          0.4887681833437419,
          0.6773129344196536,
          1.1247912489834433,
          -0.2839323938631823,
          -0.5239629925017716,
          0.8733803707313805,
          -0.15803792873209196,
          0.5617438714387215,
          0.7984493049471078,
          -0.39416870041365354,
          0.3643798773670629,
          -0.8594271202094695,
          1.6038715681108744,
          1.0657653663115085,
          0.13323356965674674,
          -1.6953565224403615,
          -0.5893170700034942,
          -1.8925587657354077,
          1.20230398051413,
          -0.2009668716489237,
          0.9538175248703185,
          -0.1340668644922787,
          1.0049075939495156,
          2.2006617147346015,
          0.6760268123827109,
          -0.9334553839406639,
          -0.1657385488960467,
          0.08264885320150527,
          1.144706427114871,
          -0.5500932193320486,
          -0.586114776415507,
          0.35872755990902455,
          -2.197056017152882,
          0.016985751214185954,
          0.01525101503333304,
          -1.2107299727377165,
          -0.2616707219991574,
          -0.4429893890051499,
          0.23850701647042258,
          -1.0142637655754279,
          0.27180521482845343,
          -0.06375871886326547,
          -1.5696986632060739,
          -0.3336687615490785,
          -0.1393267941862971,
          0.9125856313165784,
          0.0746248874782978,
          -1.8516085859000802,
          -1.0992675535367074,
          1.0861576590318607,
          1.4777219724420372,
          -1.82538139325232,
          1.675520963955247,
          -0.13369772436363767,
          -1.0248405377185879,
          0.17395491466077476,
          -1.2521805128926344,
          1.7211274364463975,
          -0.7093401985248905,
          -2.0692093617345453,
          -0.21905048684893788,
          1.1218656967577205,
          0.8419845339214078,
          -1.2979026927555817,
          -0.03627453213683022,
          -0.18679213925807509,
          0.7395864934658763,
          0.915017611632112,
          -0.8608612730071287,
          -1.283157688911953,
          0.3092883190756984,
          1.045763471390835,
          -1.4140309271736275,
          0.05459977765250099,
          -1.5375435049981996
         ],
         "xaxis": "x16",
         "yaxis": "y16"
        }
       ],
       "layout": {
        "bargap": 0.02,
        "legend": {
         "bgcolor": "#F5F6F9",
         "font": {
          "color": "#4D5663"
         }
        },
        "paper_bgcolor": "#F5F6F9",
        "plot_bgcolor": "#F5F6F9",
        "showlegend": false,
        "template": {
         "data": {
          "bar": [
           {
            "error_x": {
             "color": "#2a3f5f"
            },
            "error_y": {
             "color": "#2a3f5f"
            },
            "marker": {
             "line": {
              "color": "#E5ECF6",
              "width": 0.5
             },
             "pattern": {
              "fillmode": "overlay",
              "size": 10,
              "solidity": 0.2
             }
            },
            "type": "bar"
           }
          ],
          "barpolar": [
           {
            "marker": {
             "line": {
              "color": "#E5ECF6",
              "width": 0.5
             },
             "pattern": {
              "fillmode": "overlay",
              "size": 10,
              "solidity": 0.2
             }
            },
            "type": "barpolar"
           }
          ],
          "carpet": [
           {
            "aaxis": {
             "endlinecolor": "#2a3f5f",
             "gridcolor": "white",
             "linecolor": "white",
             "minorgridcolor": "white",
             "startlinecolor": "#2a3f5f"
            },
            "baxis": {
             "endlinecolor": "#2a3f5f",
             "gridcolor": "white",
             "linecolor": "white",
             "minorgridcolor": "white",
             "startlinecolor": "#2a3f5f"
            },
            "type": "carpet"
           }
          ],
          "choropleth": [
           {
            "colorbar": {
             "outlinewidth": 0,
             "ticks": ""
            },
            "type": "choropleth"
           }
          ],
          "contour": [
           {
            "colorbar": {
             "outlinewidth": 0,
             "ticks": ""
            },
            "colorscale": [
             [
              0,
              "#0d0887"
             ],
             [
              0.1111111111111111,
              "#46039f"
             ],
             [
              0.2222222222222222,
              "#7201a8"
             ],
             [
              0.3333333333333333,
              "#9c179e"
             ],
             [
              0.4444444444444444,
              "#bd3786"
             ],
             [
              0.5555555555555556,
              "#d8576b"
             ],
             [
              0.6666666666666666,
              "#ed7953"
             ],
             [
              0.7777777777777778,
              "#fb9f3a"
             ],
             [
              0.8888888888888888,
              "#fdca26"
             ],
             [
              1,
              "#f0f921"
             ]
            ],
            "type": "contour"
           }
          ],
          "contourcarpet": [
           {
            "colorbar": {
             "outlinewidth": 0,
             "ticks": ""
            },
            "type": "contourcarpet"
           }
          ],
          "heatmap": [
           {
            "colorbar": {
             "outlinewidth": 0,
             "ticks": ""
            },
            "colorscale": [
             [
              0,
              "#0d0887"
             ],
             [
              0.1111111111111111,
              "#46039f"
             ],
             [
              0.2222222222222222,
              "#7201a8"
             ],
             [
              0.3333333333333333,
              "#9c179e"
             ],
             [
              0.4444444444444444,
              "#bd3786"
             ],
             [
              0.5555555555555556,
              "#d8576b"
             ],
             [
              0.6666666666666666,
              "#ed7953"
             ],
             [
              0.7777777777777778,
              "#fb9f3a"
             ],
             [
              0.8888888888888888,
              "#fdca26"
             ],
             [
              1,
              "#f0f921"
             ]
            ],
            "type": "heatmap"
           }
          ],
          "heatmapgl": [
           {
            "colorbar": {
             "outlinewidth": 0,
             "ticks": ""
            },
            "colorscale": [
             [
              0,
              "#0d0887"
             ],
             [
              0.1111111111111111,
              "#46039f"
             ],
             [
              0.2222222222222222,
              "#7201a8"
             ],
             [
              0.3333333333333333,
              "#9c179e"
             ],
             [
              0.4444444444444444,
              "#bd3786"
             ],
             [
              0.5555555555555556,
              "#d8576b"
             ],
             [
              0.6666666666666666,
              "#ed7953"
             ],
             [
              0.7777777777777778,
              "#fb9f3a"
             ],
             [
              0.8888888888888888,
              "#fdca26"
             ],
             [
              1,
              "#f0f921"
             ]
            ],
            "type": "heatmapgl"
           }
          ],
          "histogram": [
           {
            "marker": {
             "pattern": {
              "fillmode": "overlay",
              "size": 10,
              "solidity": 0.2
             }
            },
            "type": "histogram"
           }
          ],
          "histogram2d": [
           {
            "colorbar": {
             "outlinewidth": 0,
             "ticks": ""
            },
            "colorscale": [
             [
              0,
              "#0d0887"
             ],
             [
              0.1111111111111111,
              "#46039f"
             ],
             [
              0.2222222222222222,
              "#7201a8"
             ],
             [
              0.3333333333333333,
              "#9c179e"
             ],
             [
              0.4444444444444444,
              "#bd3786"
             ],
             [
              0.5555555555555556,
              "#d8576b"
             ],
             [
              0.6666666666666666,
              "#ed7953"
             ],
             [
              0.7777777777777778,
              "#fb9f3a"
             ],
             [
              0.8888888888888888,
              "#fdca26"
             ],
             [
              1,
              "#f0f921"
             ]
            ],
            "type": "histogram2d"
           }
          ],
          "histogram2dcontour": [
           {
            "colorbar": {
             "outlinewidth": 0,
             "ticks": ""
            },
            "colorscale": [
             [
              0,
              "#0d0887"
             ],
             [
              0.1111111111111111,
              "#46039f"
             ],
             [
              0.2222222222222222,
              "#7201a8"
             ],
             [
              0.3333333333333333,
              "#9c179e"
             ],
             [
              0.4444444444444444,
              "#bd3786"
             ],
             [
              0.5555555555555556,
              "#d8576b"
             ],
             [
              0.6666666666666666,
              "#ed7953"
             ],
             [
              0.7777777777777778,
              "#fb9f3a"
             ],
             [
              0.8888888888888888,
              "#fdca26"
             ],
             [
              1,
              "#f0f921"
             ]
            ],
            "type": "histogram2dcontour"
           }
          ],
          "mesh3d": [
           {
            "colorbar": {
             "outlinewidth": 0,
             "ticks": ""
            },
            "type": "mesh3d"
           }
          ],
          "parcoords": [
           {
            "line": {
             "colorbar": {
              "outlinewidth": 0,
              "ticks": ""
             }
            },
            "type": "parcoords"
           }
          ],
          "pie": [
           {
            "automargin": true,
            "type": "pie"
           }
          ],
          "scatter": [
           {
            "marker": {
             "colorbar": {
              "outlinewidth": 0,
              "ticks": ""
             }
            },
            "type": "scatter"
           }
          ],
          "scatter3d": [
           {
            "line": {
             "colorbar": {
              "outlinewidth": 0,
              "ticks": ""
             }
            },
            "marker": {
             "colorbar": {
              "outlinewidth": 0,
              "ticks": ""
             }
            },
            "type": "scatter3d"
           }
          ],
          "scattercarpet": [
           {
            "marker": {
             "colorbar": {
              "outlinewidth": 0,
              "ticks": ""
             }
            },
            "type": "scattercarpet"
           }
          ],
          "scattergeo": [
           {
            "marker": {
             "colorbar": {
              "outlinewidth": 0,
              "ticks": ""
             }
            },
            "type": "scattergeo"
           }
          ],
          "scattergl": [
           {
            "marker": {
             "colorbar": {
              "outlinewidth": 0,
              "ticks": ""
             }
            },
            "type": "scattergl"
           }
          ],
          "scattermapbox": [
           {
            "marker": {
             "colorbar": {
              "outlinewidth": 0,
              "ticks": ""
             }
            },
            "type": "scattermapbox"
           }
          ],
          "scatterpolar": [
           {
            "marker": {
             "colorbar": {
              "outlinewidth": 0,
              "ticks": ""
             }
            },
            "type": "scatterpolar"
           }
          ],
          "scatterpolargl": [
           {
            "marker": {
             "colorbar": {
              "outlinewidth": 0,
              "ticks": ""
             }
            },
            "type": "scatterpolargl"
           }
          ],
          "scatterternary": [
           {
            "marker": {
             "colorbar": {
              "outlinewidth": 0,
              "ticks": ""
             }
            },
            "type": "scatterternary"
           }
          ],
          "surface": [
           {
            "colorbar": {
             "outlinewidth": 0,
             "ticks": ""
            },
            "colorscale": [
             [
              0,
              "#0d0887"
             ],
             [
              0.1111111111111111,
              "#46039f"
             ],
             [
              0.2222222222222222,
              "#7201a8"
             ],
             [
              0.3333333333333333,
              "#9c179e"
             ],
             [
              0.4444444444444444,
              "#bd3786"
             ],
             [
              0.5555555555555556,
              "#d8576b"
             ],
             [
              0.6666666666666666,
              "#ed7953"
             ],
             [
              0.7777777777777778,
              "#fb9f3a"
             ],
             [
              0.8888888888888888,
              "#fdca26"
             ],
             [
              1,
              "#f0f921"
             ]
            ],
            "type": "surface"
           }
          ],
          "table": [
           {
            "cells": {
             "fill": {
              "color": "#EBF0F8"
             },
             "line": {
              "color": "white"
             }
            },
            "header": {
             "fill": {
              "color": "#C8D4E3"
             },
             "line": {
              "color": "white"
             }
            },
            "type": "table"
           }
          ]
         },
         "layout": {
          "annotationdefaults": {
           "arrowcolor": "#2a3f5f",
           "arrowhead": 0,
           "arrowwidth": 1
          },
          "autotypenumbers": "strict",
          "coloraxis": {
           "colorbar": {
            "outlinewidth": 0,
            "ticks": ""
           }
          },
          "colorscale": {
           "diverging": [
            [
             0,
             "#8e0152"
            ],
            [
             0.1,
             "#c51b7d"
            ],
            [
             0.2,
             "#de77ae"
            ],
            [
             0.3,
             "#f1b6da"
            ],
            [
             0.4,
             "#fde0ef"
            ],
            [
             0.5,
             "#f7f7f7"
            ],
            [
             0.6,
             "#e6f5d0"
            ],
            [
             0.7,
             "#b8e186"
            ],
            [
             0.8,
             "#7fbc41"
            ],
            [
             0.9,
             "#4d9221"
            ],
            [
             1,
             "#276419"
            ]
           ],
           "sequential": [
            [
             0,
             "#0d0887"
            ],
            [
             0.1111111111111111,
             "#46039f"
            ],
            [
             0.2222222222222222,
             "#7201a8"
            ],
            [
             0.3333333333333333,
             "#9c179e"
            ],
            [
             0.4444444444444444,
             "#bd3786"
            ],
            [
             0.5555555555555556,
             "#d8576b"
            ],
            [
             0.6666666666666666,
             "#ed7953"
            ],
            [
             0.7777777777777778,
             "#fb9f3a"
            ],
            [
             0.8888888888888888,
             "#fdca26"
            ],
            [
             1,
             "#f0f921"
            ]
           ],
           "sequentialminus": [
            [
             0,
             "#0d0887"
            ],
            [
             0.1111111111111111,
             "#46039f"
            ],
            [
             0.2222222222222222,
             "#7201a8"
            ],
            [
             0.3333333333333333,
             "#9c179e"
            ],
            [
             0.4444444444444444,
             "#bd3786"
            ],
            [
             0.5555555555555556,
             "#d8576b"
            ],
            [
             0.6666666666666666,
             "#ed7953"
            ],
            [
             0.7777777777777778,
             "#fb9f3a"
            ],
            [
             0.8888888888888888,
             "#fdca26"
            ],
            [
             1,
             "#f0f921"
            ]
           ]
          },
          "colorway": [
           "#636efa",
           "#EF553B",
           "#00cc96",
           "#ab63fa",
           "#FFA15A",
           "#19d3f3",
           "#FF6692",
           "#B6E880",
           "#FF97FF",
           "#FECB52"
          ],
          "font": {
           "color": "#2a3f5f"
          },
          "geo": {
           "bgcolor": "white",
           "lakecolor": "white",
           "landcolor": "#E5ECF6",
           "showlakes": true,
           "showland": true,
           "subunitcolor": "white"
          },
          "hoverlabel": {
           "align": "left"
          },
          "hovermode": "closest",
          "mapbox": {
           "style": "light"
          },
          "paper_bgcolor": "white",
          "plot_bgcolor": "#E5ECF6",
          "polar": {
           "angularaxis": {
            "gridcolor": "white",
            "linecolor": "white",
            "ticks": ""
           },
           "bgcolor": "#E5ECF6",
           "radialaxis": {
            "gridcolor": "white",
            "linecolor": "white",
            "ticks": ""
           }
          },
          "scene": {
           "xaxis": {
            "backgroundcolor": "#E5ECF6",
            "gridcolor": "white",
            "gridwidth": 2,
            "linecolor": "white",
            "showbackground": true,
            "ticks": "",
            "zerolinecolor": "white"
           },
           "yaxis": {
            "backgroundcolor": "#E5ECF6",
            "gridcolor": "white",
            "gridwidth": 2,
            "linecolor": "white",
            "showbackground": true,
            "ticks": "",
            "zerolinecolor": "white"
           },
           "zaxis": {
            "backgroundcolor": "#E5ECF6",
            "gridcolor": "white",
            "gridwidth": 2,
            "linecolor": "white",
            "showbackground": true,
            "ticks": "",
            "zerolinecolor": "white"
           }
          },
          "shapedefaults": {
           "line": {
            "color": "#2a3f5f"
           }
          },
          "ternary": {
           "aaxis": {
            "gridcolor": "white",
            "linecolor": "white",
            "ticks": ""
           },
           "baxis": {
            "gridcolor": "white",
            "linecolor": "white",
            "ticks": ""
           },
           "bgcolor": "#E5ECF6",
           "caxis": {
            "gridcolor": "white",
            "linecolor": "white",
            "ticks": ""
           }
          },
          "title": {
           "x": 0.05
          },
          "xaxis": {
           "automargin": true,
           "gridcolor": "white",
           "linecolor": "white",
           "ticks": "",
           "title": {
            "standoff": 15
           },
           "zerolinecolor": "white",
           "zerolinewidth": 2
          },
          "yaxis": {
           "automargin": true,
           "gridcolor": "white",
           "linecolor": "white",
           "ticks": "",
           "title": {
            "standoff": 15
           },
           "zerolinecolor": "white",
           "zerolinewidth": 2
          }
         }
        },
        "title": {
         "font": {
          "color": "#4D5663"
         }
        },
        "xaxis": {
         "anchor": "y",
         "domain": [
          0,
          0.2125
         ],
         "gridcolor": "#E1E5ED",
         "showgrid": false,
         "tickfont": {
          "color": "#4D5663"
         },
         "title": {
          "font": {
           "color": "#4D5663"
          },
          "text": ""
         },
         "zerolinecolor": "#E1E5ED"
        },
        "xaxis10": {
         "anchor": "y10",
         "domain": [
          0.2625,
          0.475
         ],
         "gridcolor": "#E1E5ED",
         "showgrid": false,
         "tickfont": {
          "color": "#4D5663"
         },
         "title": {
          "font": {
           "color": "#4D5663"
          },
          "text": ""
         },
         "zerolinecolor": "#E1E5ED"
        },
        "xaxis11": {
         "anchor": "y11",
         "domain": [
          0.525,
          0.7375
         ],
         "gridcolor": "#E1E5ED",
         "showgrid": false,
         "tickfont": {
          "color": "#4D5663"
         },
         "title": {
          "font": {
           "color": "#4D5663"
          },
          "text": ""
         },
         "zerolinecolor": "#E1E5ED"
        },
        "xaxis12": {
         "anchor": "y12",
         "domain": [
          0.7875,
          1
         ],
         "gridcolor": "#E1E5ED",
         "showgrid": false,
         "tickfont": {
          "color": "#4D5663"
         },
         "title": {
          "font": {
           "color": "#4D5663"
          },
          "text": ""
         },
         "zerolinecolor": "#E1E5ED"
        },
        "xaxis13": {
         "anchor": "y13",
         "domain": [
          0,
          0.2125
         ],
         "gridcolor": "#E1E5ED",
         "showgrid": false,
         "tickfont": {
          "color": "#4D5663"
         },
         "title": {
          "font": {
           "color": "#4D5663"
          },
          "text": ""
         },
         "zerolinecolor": "#E1E5ED"
        },
        "xaxis14": {
         "anchor": "y14",
         "domain": [
          0.2625,
          0.475
         ],
         "gridcolor": "#E1E5ED",
         "showgrid": false,
         "tickfont": {
          "color": "#4D5663"
         },
         "title": {
          "font": {
           "color": "#4D5663"
          },
          "text": ""
         },
         "zerolinecolor": "#E1E5ED"
        },
        "xaxis15": {
         "anchor": "y15",
         "domain": [
          0.525,
          0.7375
         ],
         "gridcolor": "#E1E5ED",
         "showgrid": false,
         "tickfont": {
          "color": "#4D5663"
         },
         "title": {
          "font": {
           "color": "#4D5663"
          },
          "text": ""
         },
         "zerolinecolor": "#E1E5ED"
        },
        "xaxis16": {
         "anchor": "y16",
         "domain": [
          0.7875,
          1
         ],
         "gridcolor": "#E1E5ED",
         "showgrid": false,
         "tickfont": {
          "color": "#4D5663"
         },
         "title": {
          "font": {
           "color": "#4D5663"
          },
          "text": ""
         },
         "zerolinecolor": "#E1E5ED"
        },
        "xaxis2": {
         "anchor": "y2",
         "domain": [
          0.2625,
          0.475
         ],
         "gridcolor": "#E1E5ED",
         "showgrid": false,
         "tickfont": {
          "color": "#4D5663"
         },
         "title": {
          "font": {
           "color": "#4D5663"
          },
          "text": ""
         },
         "zerolinecolor": "#E1E5ED"
        },
        "xaxis3": {
         "anchor": "y3",
         "domain": [
          0.525,
          0.7375
         ],
         "gridcolor": "#E1E5ED",
         "showgrid": false,
         "tickfont": {
          "color": "#4D5663"
         },
         "title": {
          "font": {
           "color": "#4D5663"
          },
          "text": ""
         },
         "zerolinecolor": "#E1E5ED"
        },
        "xaxis4": {
         "anchor": "y4",
         "domain": [
          0.7875,
          1
         ],
         "gridcolor": "#E1E5ED",
         "showgrid": false,
         "tickfont": {
          "color": "#4D5663"
         },
         "title": {
          "font": {
           "color": "#4D5663"
          },
          "text": ""
         },
         "zerolinecolor": "#E1E5ED"
        },
        "xaxis5": {
         "anchor": "y5",
         "domain": [
          0,
          0.2125
         ],
         "gridcolor": "#E1E5ED",
         "showgrid": false,
         "tickfont": {
          "color": "#4D5663"
         },
         "title": {
          "font": {
           "color": "#4D5663"
          },
          "text": ""
         },
         "zerolinecolor": "#E1E5ED"
        },
        "xaxis6": {
         "anchor": "y6",
         "domain": [
          0.2625,
          0.475
         ],
         "gridcolor": "#E1E5ED",
         "showgrid": false,
         "tickfont": {
          "color": "#4D5663"
         },
         "title": {
          "font": {
           "color": "#4D5663"
          },
          "text": ""
         },
         "zerolinecolor": "#E1E5ED"
        },
        "xaxis7": {
         "anchor": "y7",
         "domain": [
          0.525,
          0.7375
         ],
         "gridcolor": "#E1E5ED",
         "showgrid": false,
         "tickfont": {
          "color": "#4D5663"
         },
         "title": {
          "font": {
           "color": "#4D5663"
          },
          "text": ""
         },
         "zerolinecolor": "#E1E5ED"
        },
        "xaxis8": {
         "anchor": "y8",
         "domain": [
          0.7875,
          1
         ],
         "gridcolor": "#E1E5ED",
         "showgrid": false,
         "tickfont": {
          "color": "#4D5663"
         },
         "title": {
          "font": {
           "color": "#4D5663"
          },
          "text": ""
         },
         "zerolinecolor": "#E1E5ED"
        },
        "xaxis9": {
         "anchor": "y9",
         "domain": [
          0,
          0.2125
         ],
         "gridcolor": "#E1E5ED",
         "showgrid": false,
         "tickfont": {
          "color": "#4D5663"
         },
         "title": {
          "font": {
           "color": "#4D5663"
          },
          "text": ""
         },
         "zerolinecolor": "#E1E5ED"
        },
        "yaxis": {
         "anchor": "x",
         "domain": [
          0.8025,
          1
         ],
         "gridcolor": "#E1E5ED",
         "showgrid": false,
         "tickfont": {
          "color": "#4D5663"
         },
         "title": {
          "font": {
           "color": "#4D5663"
          },
          "text": ""
         },
         "zerolinecolor": "#E1E5ED"
        },
        "yaxis10": {
         "anchor": "x10",
         "domain": [
          0.2675,
          0.465
         ],
         "gridcolor": "#E1E5ED",
         "showgrid": false,
         "tickfont": {
          "color": "#4D5663"
         },
         "title": {
          "font": {
           "color": "#4D5663"
          },
          "text": ""
         },
         "zerolinecolor": "#E1E5ED"
        },
        "yaxis11": {
         "anchor": "x11",
         "domain": [
          0.2675,
          0.465
         ],
         "gridcolor": "#E1E5ED",
         "showgrid": false,
         "tickfont": {
          "color": "#4D5663"
         },
         "title": {
          "font": {
           "color": "#4D5663"
          },
          "text": ""
         },
         "zerolinecolor": "#E1E5ED"
        },
        "yaxis12": {
         "anchor": "x12",
         "domain": [
          0.2675,
          0.465
         ],
         "gridcolor": "#E1E5ED",
         "showgrid": false,
         "tickfont": {
          "color": "#4D5663"
         },
         "title": {
          "font": {
           "color": "#4D5663"
          },
          "text": ""
         },
         "zerolinecolor": "#E1E5ED"
        },
        "yaxis13": {
         "anchor": "x13",
         "domain": [
          0,
          0.1975
         ],
         "gridcolor": "#E1E5ED",
         "showgrid": false,
         "tickfont": {
          "color": "#4D5663"
         },
         "title": {
          "font": {
           "color": "#4D5663"
          },
          "text": ""
         },
         "zerolinecolor": "#E1E5ED"
        },
        "yaxis14": {
         "anchor": "x14",
         "domain": [
          0,
          0.1975
         ],
         "gridcolor": "#E1E5ED",
         "showgrid": false,
         "tickfont": {
          "color": "#4D5663"
         },
         "title": {
          "font": {
           "color": "#4D5663"
          },
          "text": ""
         },
         "zerolinecolor": "#E1E5ED"
        },
        "yaxis15": {
         "anchor": "x15",
         "domain": [
          0,
          0.1975
         ],
         "gridcolor": "#E1E5ED",
         "showgrid": false,
         "tickfont": {
          "color": "#4D5663"
         },
         "title": {
          "font": {
           "color": "#4D5663"
          },
          "text": ""
         },
         "zerolinecolor": "#E1E5ED"
        },
        "yaxis16": {
         "anchor": "x16",
         "domain": [
          0,
          0.1975
         ],
         "gridcolor": "#E1E5ED",
         "showgrid": false,
         "tickfont": {
          "color": "#4D5663"
         },
         "title": {
          "font": {
           "color": "#4D5663"
          },
          "text": ""
         },
         "zerolinecolor": "#E1E5ED"
        },
        "yaxis2": {
         "anchor": "x2",
         "domain": [
          0.8025,
          1
         ],
         "gridcolor": "#E1E5ED",
         "showgrid": false,
         "tickfont": {
          "color": "#4D5663"
         },
         "title": {
          "font": {
           "color": "#4D5663"
          },
          "text": ""
         },
         "zerolinecolor": "#E1E5ED"
        },
        "yaxis3": {
         "anchor": "x3",
         "domain": [
          0.8025,
          1
         ],
         "gridcolor": "#E1E5ED",
         "showgrid": false,
         "tickfont": {
          "color": "#4D5663"
         },
         "title": {
          "font": {
           "color": "#4D5663"
          },
          "text": ""
         },
         "zerolinecolor": "#E1E5ED"
        },
        "yaxis4": {
         "anchor": "x4",
         "domain": [
          0.8025,
          1
         ],
         "gridcolor": "#E1E5ED",
         "showgrid": false,
         "tickfont": {
          "color": "#4D5663"
         },
         "title": {
          "font": {
           "color": "#4D5663"
          },
          "text": ""
         },
         "zerolinecolor": "#E1E5ED"
        },
        "yaxis5": {
         "anchor": "x5",
         "domain": [
          0.535,
          0.7325
         ],
         "gridcolor": "#E1E5ED",
         "showgrid": false,
         "tickfont": {
          "color": "#4D5663"
         },
         "title": {
          "font": {
           "color": "#4D5663"
          },
          "text": ""
         },
         "zerolinecolor": "#E1E5ED"
        },
        "yaxis6": {
         "anchor": "x6",
         "domain": [
          0.535,
          0.7325
         ],
         "gridcolor": "#E1E5ED",
         "showgrid": false,
         "tickfont": {
          "color": "#4D5663"
         },
         "title": {
          "font": {
           "color": "#4D5663"
          },
          "text": ""
         },
         "zerolinecolor": "#E1E5ED"
        },
        "yaxis7": {
         "anchor": "x7",
         "domain": [
          0.535,
          0.7325
         ],
         "gridcolor": "#E1E5ED",
         "showgrid": false,
         "tickfont": {
          "color": "#4D5663"
         },
         "title": {
          "font": {
           "color": "#4D5663"
          },
          "text": ""
         },
         "zerolinecolor": "#E1E5ED"
        },
        "yaxis8": {
         "anchor": "x8",
         "domain": [
          0.535,
          0.7325
         ],
         "gridcolor": "#E1E5ED",
         "showgrid": false,
         "tickfont": {
          "color": "#4D5663"
         },
         "title": {
          "font": {
           "color": "#4D5663"
          },
          "text": ""
         },
         "zerolinecolor": "#E1E5ED"
        },
        "yaxis9": {
         "anchor": "x9",
         "domain": [
          0.2675,
          0.465
         ],
         "gridcolor": "#E1E5ED",
         "showgrid": false,
         "tickfont": {
          "color": "#4D5663"
         },
         "title": {
          "font": {
           "color": "#4D5663"
          },
          "text": ""
         },
         "zerolinecolor": "#E1E5ED"
        }
       }
      },
      "text/html": [
       "<div>                            <div id=\"a6ddb556-030b-45c2-9972-6418a622ac3e\" class=\"plotly-graph-div\" style=\"height:525px; width:100%;\"></div>            <script type=\"text/javascript\">                require([\"plotly\"], function(Plotly) {                    window.PLOTLYENV=window.PLOTLYENV || {};\n",
       "                    window.PLOTLYENV.BASE_URL='https://plot.ly';                                    if (document.getElementById(\"a6ddb556-030b-45c2-9972-6418a622ac3e\")) {                    Plotly.newPlot(                        \"a6ddb556-030b-45c2-9972-6418a622ac3e\",                        [{\"histfunc\":\"count\",\"histnorm\":\"\",\"marker\":{\"color\":\"rgba(255, 153, 51, 1.0)\",\"line\":{\"color\":\"#4D5663\",\"width\":1.3}},\"name\":\"A\",\"nbinsx\":10,\"opacity\":0.8,\"orientation\":\"v\",\"x\":[0.7295363441218393,-0.30709735423890133,0.492710813594875,0.08392566125616459,-0.6889455689979118,0.5470456033814226,-0.59537959593479,0.590991782392905,0.9972471665249101,1.4378882065324756,0.11926922188426163,-1.6571759958291157,0.4487064707697026,-2.51301997833897,0.6001221119436471,-2.731948786259892,1.3607099053275447,-0.731152267488863,-1.3966859085953525,0.17378944539031352,0.6817597346735718,1.1402012726597144,0.14349266373328687,-0.9377451346394511,0.017522155117618125,0.3235679464012107,0.836983146893619,-0.8792559105632725,-1.1801754241794296,-0.3795826015311692,-1.140787877799205,-0.7723948304435839,-0.5145019292009516,0.35609369850632194,-1.511771529880759,1.3774677496649568,-0.16454591236628077,-0.20152889220951667,-0.8123283332056657,0.595491766397253,-0.7970370986126426,-0.7349886528627032,0.6385817620476262,-0.1332010168119281,-0.6122662727680039,-2.4533287444652374,-1.2247225198339713,-0.25819872800993604,-0.37154228878299783,1.1548376757268877,0.6091866542203763,0.4905265364947855,1.7151703495190282,0.5379372760497011,-0.9060239939628344,-0.4757653879199119,0.7393937868154522,-2.2189647639590326,0.37041005207702155,1.0224887183461624,-0.5119055368256046,-0.9017925229090039,0.1447604829762621,-2.422737424208872,-0.7930350683984899,-1.1868366962480066,-2.0569449530090984,1.1920114509529198,-0.46156730828628,-0.719859833789653,0.5066864394881544,1.473741498165212,-1.5954387366714262,-0.4782502836781616,-0.16444298863396906,1.1408405792421255,-0.7097825274860883,0.7513186713580287,0.1339137866817911,-1.3011927732441302,1.2811633564799318,-0.3242821085915659,0.6457367692201954,0.0031357660336803783,0.7701540363029559,1.1149898631778379,0.25928287776938813,1.6665070758153746,-1.8969684050518085,0.681158307412814,-0.45063469387663485,1.5622406665206328,-0.12734672873637162,-0.5040136701566764,1.1767269743927373,0.618194840212031,-0.6238683392746781,0.040684028835876136,0.49591506198487856,0.5402290487669394],\"xaxis\":\"x\",\"yaxis\":\"y\",\"type\":\"histogram\"},{\"line\":{\"color\":\"rgba(128, 128, 128, 1.0)\",\"dash\":\"solid\",\"shape\":\"linear\",\"width\":1.3},\"marker\":{\"size\":2,\"symbol\":\"circle\"},\"mode\":\"markers\",\"name\":\"A\",\"text\":\"\",\"x\":[0.5932107040360172,0.04753954704139975,-0.444048574584182,-0.09335676213517706,-1.7432026927789257,1.0909115353161996,0.5971969506321606,1.8949064155444952,-1.1931694954805152,-0.05676690937649937,-2.2217498558969324,-1.297293680429583,-0.021679536036858914,0.8916762942133755,-0.02348621814267172,-1.5786609005306635,0.24357246516668982,0.010917665382364302,0.5571223092510637,-1.2475758485667943,1.5868744203536709,-0.8057521945444989,0.7362339481277361,0.9477863231294862,-0.5995459180209022,0.32554867390014314,-0.24356449203624217,1.1979573743086407,0.7822599197053102,-1.0954063618013492,-1.4808650659886475,-0.03216781584335983,-1.8683123603357328,0.07009016085630791,1.0824506963115468,0.674844983492287,-0.4896990474459487,-0.25826941502304024,1.665037379640575,0.010847284024948613,-0.6880159072252328,-1.5714676059379604,0.9714241406998673,-0.24294500318685008,-0.06292344712525674,-1.3987054229303149,-0.4734533238685408,-2.321963835811431,1.3884196000510303,-0.31025234222947135,-1.481113764744444,-0.7699363254437,-1.1778899107140954,-0.8987703761011371,0.19883119197798022,-0.8858314065876076,-1.5178717776599873,0.5893703347859245,-0.6994135868450015,-0.48358717433491655,-1.0267079997349633,0.5298163054115055,0.14310713216157514,-0.35419547943352053,0.10136482998347482,0.7934625832758466,-0.5560458519842975,-0.07531028933549962,0.04992795085509383,1.1711134364945317,1.3911558612592592,0.3384467388925263,-1.0964942691720898,2.279215075793931,2.0177131899560052,-0.8702672956301913,-1.790636564450756,-1.1939131889231476,-1.0308948061031502,0.8574156496421109,0.20214773489736038,0.05214163230900531,-0.5361664714973083,-0.2671110698261588,1.67295750683312,0.47336831168584104,1.3273464336078364,-0.1455793598936071,1.0127945851899962,1.1546317432106692,-0.05084218514467188,-0.9450278958175217,0.5740271589665797,0.28224149312428837,2.659282372516733,-0.5020185634569961,0.8538731764432778,0.28591735410309577,-1.4126982855654242,-1.8891270064966479],\"xaxis\":\"x2\",\"y\":[0.7295363441218393,-0.30709735423890133,0.492710813594875,0.08392566125616459,-0.6889455689979118,0.5470456033814226,-0.59537959593479,0.590991782392905,0.9972471665249101,1.4378882065324756,0.11926922188426163,-1.6571759958291157,0.4487064707697026,-2.51301997833897,0.6001221119436471,-2.731948786259892,1.3607099053275447,-0.731152267488863,-1.3966859085953525,0.17378944539031352,0.6817597346735718,1.1402012726597144,0.14349266373328687,-0.9377451346394511,0.017522155117618125,0.3235679464012107,0.836983146893619,-0.8792559105632725,-1.1801754241794296,-0.3795826015311692,-1.140787877799205,-0.7723948304435839,-0.5145019292009516,0.35609369850632194,-1.511771529880759,1.3774677496649568,-0.16454591236628077,-0.20152889220951667,-0.8123283332056657,0.595491766397253,-0.7970370986126426,-0.7349886528627032,0.6385817620476262,-0.1332010168119281,-0.6122662727680039,-2.4533287444652374,-1.2247225198339713,-0.25819872800993604,-0.37154228878299783,1.1548376757268877,0.6091866542203763,0.4905265364947855,1.7151703495190282,0.5379372760497011,-0.9060239939628344,-0.4757653879199119,0.7393937868154522,-2.2189647639590326,0.37041005207702155,1.0224887183461624,-0.5119055368256046,-0.9017925229090039,0.1447604829762621,-2.422737424208872,-0.7930350683984899,-1.1868366962480066,-2.0569449530090984,1.1920114509529198,-0.46156730828628,-0.719859833789653,0.5066864394881544,1.473741498165212,-1.5954387366714262,-0.4782502836781616,-0.16444298863396906,1.1408405792421255,-0.7097825274860883,0.7513186713580287,0.1339137866817911,-1.3011927732441302,1.2811633564799318,-0.3242821085915659,0.6457367692201954,0.0031357660336803783,0.7701540363029559,1.1149898631778379,0.25928287776938813,1.6665070758153746,-1.8969684050518085,0.681158307412814,-0.45063469387663485,1.5622406665206328,-0.12734672873637162,-0.5040136701566764,1.1767269743927373,0.618194840212031,-0.6238683392746781,0.040684028835876136,0.49591506198487856,0.5402290487669394],\"yaxis\":\"y2\",\"type\":\"scatter\"},{\"line\":{\"color\":\"rgba(128, 128, 128, 1.0)\",\"dash\":\"solid\",\"shape\":\"linear\",\"width\":1.3},\"marker\":{\"size\":2,\"symbol\":\"circle\"},\"mode\":\"markers\",\"name\":\"A\",\"text\":\"\",\"x\":[-0.08189170402269211,-0.13514980536158466,-0.6829000235753896,-2.1660492799482096,-0.8653623890686104,-0.7663960822194461,2.4465296437039847,-1.3838772208511525,-0.004037645735757862,0.20089315155547913,-0.23552802584260324,0.14568176283145545,-0.593480272097902,0.8987698543400691,0.977031524940709,-0.44072645348983663,1.8502759348157822,-0.15338260645131885,-0.16410038826145074,-0.05231582239414678,-0.4219511031272537,1.5404246600751583,0.4243757675846343,-0.04953077572811402,-0.3044162716065661,-0.778204723692454,-1.6865722656114437,-0.40745716620335704,0.03367509661054521,0.9547773475131285,0.22850452657337106,-2.0642361817882375,-0.6346129617527918,-0.23930344946865964,0.07527300680263144,-0.6853094644999711,0.044886324684502994,-0.8265372740099522,-0.4265344020298642,-0.8426744456702261,-0.8327334993244275,-0.9460713492384144,0.7941924238056933,-0.38501847935811406,-0.38067390231606096,0.07909975510965736,1.673281041484665,0.4755541700831618,-0.1969379747924677,0.6673498090452241,-0.1640159350139676,0.6752267821285269,-0.7917598494768683,-1.1506554345042526,0.04368974015311478,-1.7161841549026968,-0.3741882983849335,0.5993728303413354,0.2630159796664342,1.378673232286049,0.5486202909650398,-0.5442170043234468,0.11303460318517229,1.3354209329669042,-0.8859864965021472,0.7182151443982471,-0.01868264586250221,-0.311830239284594,0.32711877090528935,1.226354368968612,-0.3468950765587265,0.7492902658028024,-0.5694158194872334,-0.33199750309183734,-0.6797826348201856,-0.8464720437553708,0.6522136674012591,-0.33418115649697344,0.6549004337834226,-1.0374164770244731,0.06162194529230224,0.812116199119469,-0.39327954153113714,-0.4051496811605491,1.919198907495474,0.3713922630182631,0.2740703450515758,0.08521352716946458,1.719642473831569,-0.32484968872443726,-0.6539722405765761,0.4096321837057813,-0.4662960339340785,-0.45367379757154047,-1.2707156492496936,1.1236201909664816,-0.5850173785490747,-0.5273945384080858,-0.09933067073509559,-0.18625596036767667],\"xaxis\":\"x3\",\"y\":[0.7295363441218393,-0.30709735423890133,0.492710813594875,0.08392566125616459,-0.6889455689979118,0.5470456033814226,-0.59537959593479,0.590991782392905,0.9972471665249101,1.4378882065324756,0.11926922188426163,-1.6571759958291157,0.4487064707697026,-2.51301997833897,0.6001221119436471,-2.731948786259892,1.3607099053275447,-0.731152267488863,-1.3966859085953525,0.17378944539031352,0.6817597346735718,1.1402012726597144,0.14349266373328687,-0.9377451346394511,0.017522155117618125,0.3235679464012107,0.836983146893619,-0.8792559105632725,-1.1801754241794296,-0.3795826015311692,-1.140787877799205,-0.7723948304435839,-0.5145019292009516,0.35609369850632194,-1.511771529880759,1.3774677496649568,-0.16454591236628077,-0.20152889220951667,-0.8123283332056657,0.595491766397253,-0.7970370986126426,-0.7349886528627032,0.6385817620476262,-0.1332010168119281,-0.6122662727680039,-2.4533287444652374,-1.2247225198339713,-0.25819872800993604,-0.37154228878299783,1.1548376757268877,0.6091866542203763,0.4905265364947855,1.7151703495190282,0.5379372760497011,-0.9060239939628344,-0.4757653879199119,0.7393937868154522,-2.2189647639590326,0.37041005207702155,1.0224887183461624,-0.5119055368256046,-0.9017925229090039,0.1447604829762621,-2.422737424208872,-0.7930350683984899,-1.1868366962480066,-2.0569449530090984,1.1920114509529198,-0.46156730828628,-0.719859833789653,0.5066864394881544,1.473741498165212,-1.5954387366714262,-0.4782502836781616,-0.16444298863396906,1.1408405792421255,-0.7097825274860883,0.7513186713580287,0.1339137866817911,-1.3011927732441302,1.2811633564799318,-0.3242821085915659,0.6457367692201954,0.0031357660336803783,0.7701540363029559,1.1149898631778379,0.25928287776938813,1.6665070758153746,-1.8969684050518085,0.681158307412814,-0.45063469387663485,1.5622406665206328,-0.12734672873637162,-0.5040136701566764,1.1767269743927373,0.618194840212031,-0.6238683392746781,0.040684028835876136,0.49591506198487856,0.5402290487669394],\"yaxis\":\"y3\",\"type\":\"scatter\"},{\"line\":{\"color\":\"rgba(128, 128, 128, 1.0)\",\"dash\":\"solid\",\"shape\":\"linear\",\"width\":1.3},\"marker\":{\"size\":2,\"symbol\":\"circle\"},\"mode\":\"markers\",\"name\":\"A\",\"text\":\"\",\"x\":[0.48067285941719545,1.4858850034783189,-0.5329019355156149,-1.4337243887047155,-0.1230053387660544,-0.13370818245895555,0.04266792941505512,-1.1644677156793313,1.92208382634084,-0.3770200305322968,-0.20159510671969166,0.9450704280298273,0.374227265574753,-0.27093093384700623,-0.4179762013432669,0.2397330542315832,-1.2554058847956295,-1.0752856205007264,0.6295221884285818,0.12328969063205228,-1.4857765097563915,-0.28851910129719155,1.4650513962300873,-1.27181816910522,-0.2745855075309058,0.4887681833437419,0.6773129344196536,1.1247912489834433,-0.2839323938631823,-0.5239629925017716,0.8733803707313805,-0.15803792873209196,0.5617438714387215,0.7984493049471078,-0.39416870041365354,0.3643798773670629,-0.8594271202094695,1.6038715681108744,1.0657653663115085,0.13323356965674674,-1.6953565224403615,-0.5893170700034942,-1.8925587657354077,1.20230398051413,-0.2009668716489237,0.9538175248703185,-0.1340668644922787,1.0049075939495156,2.2006617147346015,0.6760268123827109,-0.9334553839406639,-0.1657385488960467,0.08264885320150527,1.144706427114871,-0.5500932193320486,-0.586114776415507,0.35872755990902455,-2.197056017152882,0.016985751214185954,0.01525101503333304,-1.2107299727377165,-0.2616707219991574,-0.4429893890051499,0.23850701647042258,-1.0142637655754279,0.27180521482845343,-0.06375871886326547,-1.5696986632060739,-0.3336687615490785,-0.1393267941862971,0.9125856313165784,0.0746248874782978,-1.8516085859000802,-1.0992675535367074,1.0861576590318607,1.4777219724420372,-1.82538139325232,1.675520963955247,-0.13369772436363767,-1.0248405377185879,0.17395491466077476,-1.2521805128926344,1.7211274364463975,-0.7093401985248905,-2.0692093617345453,-0.21905048684893788,1.1218656967577205,0.8419845339214078,-1.2979026927555817,-0.03627453213683022,-0.18679213925807509,0.7395864934658763,0.915017611632112,-0.8608612730071287,-1.283157688911953,0.3092883190756984,1.045763471390835,-1.4140309271736275,0.05459977765250099,-1.5375435049981996],\"xaxis\":\"x4\",\"y\":[0.7295363441218393,-0.30709735423890133,0.492710813594875,0.08392566125616459,-0.6889455689979118,0.5470456033814226,-0.59537959593479,0.590991782392905,0.9972471665249101,1.4378882065324756,0.11926922188426163,-1.6571759958291157,0.4487064707697026,-2.51301997833897,0.6001221119436471,-2.731948786259892,1.3607099053275447,-0.731152267488863,-1.3966859085953525,0.17378944539031352,0.6817597346735718,1.1402012726597144,0.14349266373328687,-0.9377451346394511,0.017522155117618125,0.3235679464012107,0.836983146893619,-0.8792559105632725,-1.1801754241794296,-0.3795826015311692,-1.140787877799205,-0.7723948304435839,-0.5145019292009516,0.35609369850632194,-1.511771529880759,1.3774677496649568,-0.16454591236628077,-0.20152889220951667,-0.8123283332056657,0.595491766397253,-0.7970370986126426,-0.7349886528627032,0.6385817620476262,-0.1332010168119281,-0.6122662727680039,-2.4533287444652374,-1.2247225198339713,-0.25819872800993604,-0.37154228878299783,1.1548376757268877,0.6091866542203763,0.4905265364947855,1.7151703495190282,0.5379372760497011,-0.9060239939628344,-0.4757653879199119,0.7393937868154522,-2.2189647639590326,0.37041005207702155,1.0224887183461624,-0.5119055368256046,-0.9017925229090039,0.1447604829762621,-2.422737424208872,-0.7930350683984899,-1.1868366962480066,-2.0569449530090984,1.1920114509529198,-0.46156730828628,-0.719859833789653,0.5066864394881544,1.473741498165212,-1.5954387366714262,-0.4782502836781616,-0.16444298863396906,1.1408405792421255,-0.7097825274860883,0.7513186713580287,0.1339137866817911,-1.3011927732441302,1.2811633564799318,-0.3242821085915659,0.6457367692201954,0.0031357660336803783,0.7701540363029559,1.1149898631778379,0.25928287776938813,1.6665070758153746,-1.8969684050518085,0.681158307412814,-0.45063469387663485,1.5622406665206328,-0.12734672873637162,-0.5040136701566764,1.1767269743927373,0.618194840212031,-0.6238683392746781,0.040684028835876136,0.49591506198487856,0.5402290487669394],\"yaxis\":\"y4\",\"type\":\"scatter\"},{\"line\":{\"color\":\"rgba(128, 128, 128, 1.0)\",\"dash\":\"solid\",\"shape\":\"linear\",\"width\":1.3},\"marker\":{\"size\":2,\"symbol\":\"circle\"},\"mode\":\"markers\",\"name\":\"B\",\"text\":\"\",\"x\":[0.7295363441218393,-0.30709735423890133,0.492710813594875,0.08392566125616459,-0.6889455689979118,0.5470456033814226,-0.59537959593479,0.590991782392905,0.9972471665249101,1.4378882065324756,0.11926922188426163,-1.6571759958291157,0.4487064707697026,-2.51301997833897,0.6001221119436471,-2.731948786259892,1.3607099053275447,-0.731152267488863,-1.3966859085953525,0.17378944539031352,0.6817597346735718,1.1402012726597144,0.14349266373328687,-0.9377451346394511,0.017522155117618125,0.3235679464012107,0.836983146893619,-0.8792559105632725,-1.1801754241794296,-0.3795826015311692,-1.140787877799205,-0.7723948304435839,-0.5145019292009516,0.35609369850632194,-1.511771529880759,1.3774677496649568,-0.16454591236628077,-0.20152889220951667,-0.8123283332056657,0.595491766397253,-0.7970370986126426,-0.7349886528627032,0.6385817620476262,-0.1332010168119281,-0.6122662727680039,-2.4533287444652374,-1.2247225198339713,-0.25819872800993604,-0.37154228878299783,1.1548376757268877,0.6091866542203763,0.4905265364947855,1.7151703495190282,0.5379372760497011,-0.9060239939628344,-0.4757653879199119,0.7393937868154522,-2.2189647639590326,0.37041005207702155,1.0224887183461624,-0.5119055368256046,-0.9017925229090039,0.1447604829762621,-2.422737424208872,-0.7930350683984899,-1.1868366962480066,-2.0569449530090984,1.1920114509529198,-0.46156730828628,-0.719859833789653,0.5066864394881544,1.473741498165212,-1.5954387366714262,-0.4782502836781616,-0.16444298863396906,1.1408405792421255,-0.7097825274860883,0.7513186713580287,0.1339137866817911,-1.3011927732441302,1.2811633564799318,-0.3242821085915659,0.6457367692201954,0.0031357660336803783,0.7701540363029559,1.1149898631778379,0.25928287776938813,1.6665070758153746,-1.8969684050518085,0.681158307412814,-0.45063469387663485,1.5622406665206328,-0.12734672873637162,-0.5040136701566764,1.1767269743927373,0.618194840212031,-0.6238683392746781,0.040684028835876136,0.49591506198487856,0.5402290487669394],\"xaxis\":\"x5\",\"y\":[0.5932107040360172,0.04753954704139975,-0.444048574584182,-0.09335676213517706,-1.7432026927789257,1.0909115353161996,0.5971969506321606,1.8949064155444952,-1.1931694954805152,-0.05676690937649937,-2.2217498558969324,-1.297293680429583,-0.021679536036858914,0.8916762942133755,-0.02348621814267172,-1.5786609005306635,0.24357246516668982,0.010917665382364302,0.5571223092510637,-1.2475758485667943,1.5868744203536709,-0.8057521945444989,0.7362339481277361,0.9477863231294862,-0.5995459180209022,0.32554867390014314,-0.24356449203624217,1.1979573743086407,0.7822599197053102,-1.0954063618013492,-1.4808650659886475,-0.03216781584335983,-1.8683123603357328,0.07009016085630791,1.0824506963115468,0.674844983492287,-0.4896990474459487,-0.25826941502304024,1.665037379640575,0.010847284024948613,-0.6880159072252328,-1.5714676059379604,0.9714241406998673,-0.24294500318685008,-0.06292344712525674,-1.3987054229303149,-0.4734533238685408,-2.321963835811431,1.3884196000510303,-0.31025234222947135,-1.481113764744444,-0.7699363254437,-1.1778899107140954,-0.8987703761011371,0.19883119197798022,-0.8858314065876076,-1.5178717776599873,0.5893703347859245,-0.6994135868450015,-0.48358717433491655,-1.0267079997349633,0.5298163054115055,0.14310713216157514,-0.35419547943352053,0.10136482998347482,0.7934625832758466,-0.5560458519842975,-0.07531028933549962,0.04992795085509383,1.1711134364945317,1.3911558612592592,0.3384467388925263,-1.0964942691720898,2.279215075793931,2.0177131899560052,-0.8702672956301913,-1.790636564450756,-1.1939131889231476,-1.0308948061031502,0.8574156496421109,0.20214773489736038,0.05214163230900531,-0.5361664714973083,-0.2671110698261588,1.67295750683312,0.47336831168584104,1.3273464336078364,-0.1455793598936071,1.0127945851899962,1.1546317432106692,-0.05084218514467188,-0.9450278958175217,0.5740271589665797,0.28224149312428837,2.659282372516733,-0.5020185634569961,0.8538731764432778,0.28591735410309577,-1.4126982855654242,-1.8891270064966479],\"yaxis\":\"y5\",\"type\":\"scatter\"},{\"histfunc\":\"count\",\"histnorm\":\"\",\"marker\":{\"color\":\"rgba(55, 128, 191, 1.0)\",\"line\":{\"color\":\"#4D5663\",\"width\":1.3}},\"name\":\"B\",\"nbinsx\":10,\"opacity\":0.8,\"orientation\":\"v\",\"x\":[0.5932107040360172,0.04753954704139975,-0.444048574584182,-0.09335676213517706,-1.7432026927789257,1.0909115353161996,0.5971969506321606,1.8949064155444952,-1.1931694954805152,-0.05676690937649937,-2.2217498558969324,-1.297293680429583,-0.021679536036858914,0.8916762942133755,-0.02348621814267172,-1.5786609005306635,0.24357246516668982,0.010917665382364302,0.5571223092510637,-1.2475758485667943,1.5868744203536709,-0.8057521945444989,0.7362339481277361,0.9477863231294862,-0.5995459180209022,0.32554867390014314,-0.24356449203624217,1.1979573743086407,0.7822599197053102,-1.0954063618013492,-1.4808650659886475,-0.03216781584335983,-1.8683123603357328,0.07009016085630791,1.0824506963115468,0.674844983492287,-0.4896990474459487,-0.25826941502304024,1.665037379640575,0.010847284024948613,-0.6880159072252328,-1.5714676059379604,0.9714241406998673,-0.24294500318685008,-0.06292344712525674,-1.3987054229303149,-0.4734533238685408,-2.321963835811431,1.3884196000510303,-0.31025234222947135,-1.481113764744444,-0.7699363254437,-1.1778899107140954,-0.8987703761011371,0.19883119197798022,-0.8858314065876076,-1.5178717776599873,0.5893703347859245,-0.6994135868450015,-0.48358717433491655,-1.0267079997349633,0.5298163054115055,0.14310713216157514,-0.35419547943352053,0.10136482998347482,0.7934625832758466,-0.5560458519842975,-0.07531028933549962,0.04992795085509383,1.1711134364945317,1.3911558612592592,0.3384467388925263,-1.0964942691720898,2.279215075793931,2.0177131899560052,-0.8702672956301913,-1.790636564450756,-1.1939131889231476,-1.0308948061031502,0.8574156496421109,0.20214773489736038,0.05214163230900531,-0.5361664714973083,-0.2671110698261588,1.67295750683312,0.47336831168584104,1.3273464336078364,-0.1455793598936071,1.0127945851899962,1.1546317432106692,-0.05084218514467188,-0.9450278958175217,0.5740271589665797,0.28224149312428837,2.659282372516733,-0.5020185634569961,0.8538731764432778,0.28591735410309577,-1.4126982855654242,-1.8891270064966479],\"xaxis\":\"x6\",\"yaxis\":\"y6\",\"type\":\"histogram\"},{\"line\":{\"color\":\"rgba(128, 128, 128, 1.0)\",\"dash\":\"solid\",\"shape\":\"linear\",\"width\":1.3},\"marker\":{\"size\":2,\"symbol\":\"circle\"},\"mode\":\"markers\",\"name\":\"B\",\"text\":\"\",\"x\":[-0.08189170402269211,-0.13514980536158466,-0.6829000235753896,-2.1660492799482096,-0.8653623890686104,-0.7663960822194461,2.4465296437039847,-1.3838772208511525,-0.004037645735757862,0.20089315155547913,-0.23552802584260324,0.14568176283145545,-0.593480272097902,0.8987698543400691,0.977031524940709,-0.44072645348983663,1.8502759348157822,-0.15338260645131885,-0.16410038826145074,-0.05231582239414678,-0.4219511031272537,1.5404246600751583,0.4243757675846343,-0.04953077572811402,-0.3044162716065661,-0.778204723692454,-1.6865722656114437,-0.40745716620335704,0.03367509661054521,0.9547773475131285,0.22850452657337106,-2.0642361817882375,-0.6346129617527918,-0.23930344946865964,0.07527300680263144,-0.6853094644999711,0.044886324684502994,-0.8265372740099522,-0.4265344020298642,-0.8426744456702261,-0.8327334993244275,-0.9460713492384144,0.7941924238056933,-0.38501847935811406,-0.38067390231606096,0.07909975510965736,1.673281041484665,0.4755541700831618,-0.1969379747924677,0.6673498090452241,-0.1640159350139676,0.6752267821285269,-0.7917598494768683,-1.1506554345042526,0.04368974015311478,-1.7161841549026968,-0.3741882983849335,0.5993728303413354,0.2630159796664342,1.378673232286049,0.5486202909650398,-0.5442170043234468,0.11303460318517229,1.3354209329669042,-0.8859864965021472,0.7182151443982471,-0.01868264586250221,-0.311830239284594,0.32711877090528935,1.226354368968612,-0.3468950765587265,0.7492902658028024,-0.5694158194872334,-0.33199750309183734,-0.6797826348201856,-0.8464720437553708,0.6522136674012591,-0.33418115649697344,0.6549004337834226,-1.0374164770244731,0.06162194529230224,0.812116199119469,-0.39327954153113714,-0.4051496811605491,1.919198907495474,0.3713922630182631,0.2740703450515758,0.08521352716946458,1.719642473831569,-0.32484968872443726,-0.6539722405765761,0.4096321837057813,-0.4662960339340785,-0.45367379757154047,-1.2707156492496936,1.1236201909664816,-0.5850173785490747,-0.5273945384080858,-0.09933067073509559,-0.18625596036767667],\"xaxis\":\"x7\",\"y\":[0.5932107040360172,0.04753954704139975,-0.444048574584182,-0.09335676213517706,-1.7432026927789257,1.0909115353161996,0.5971969506321606,1.8949064155444952,-1.1931694954805152,-0.05676690937649937,-2.2217498558969324,-1.297293680429583,-0.021679536036858914,0.8916762942133755,-0.02348621814267172,-1.5786609005306635,0.24357246516668982,0.010917665382364302,0.5571223092510637,-1.2475758485667943,1.5868744203536709,-0.8057521945444989,0.7362339481277361,0.9477863231294862,-0.5995459180209022,0.32554867390014314,-0.24356449203624217,1.1979573743086407,0.7822599197053102,-1.0954063618013492,-1.4808650659886475,-0.03216781584335983,-1.8683123603357328,0.07009016085630791,1.0824506963115468,0.674844983492287,-0.4896990474459487,-0.25826941502304024,1.665037379640575,0.010847284024948613,-0.6880159072252328,-1.5714676059379604,0.9714241406998673,-0.24294500318685008,-0.06292344712525674,-1.3987054229303149,-0.4734533238685408,-2.321963835811431,1.3884196000510303,-0.31025234222947135,-1.481113764744444,-0.7699363254437,-1.1778899107140954,-0.8987703761011371,0.19883119197798022,-0.8858314065876076,-1.5178717776599873,0.5893703347859245,-0.6994135868450015,-0.48358717433491655,-1.0267079997349633,0.5298163054115055,0.14310713216157514,-0.35419547943352053,0.10136482998347482,0.7934625832758466,-0.5560458519842975,-0.07531028933549962,0.04992795085509383,1.1711134364945317,1.3911558612592592,0.3384467388925263,-1.0964942691720898,2.279215075793931,2.0177131899560052,-0.8702672956301913,-1.790636564450756,-1.1939131889231476,-1.0308948061031502,0.8574156496421109,0.20214773489736038,0.05214163230900531,-0.5361664714973083,-0.2671110698261588,1.67295750683312,0.47336831168584104,1.3273464336078364,-0.1455793598936071,1.0127945851899962,1.1546317432106692,-0.05084218514467188,-0.9450278958175217,0.5740271589665797,0.28224149312428837,2.659282372516733,-0.5020185634569961,0.8538731764432778,0.28591735410309577,-1.4126982855654242,-1.8891270064966479],\"yaxis\":\"y7\",\"type\":\"scatter\"},{\"line\":{\"color\":\"rgba(128, 128, 128, 1.0)\",\"dash\":\"solid\",\"shape\":\"linear\",\"width\":1.3},\"marker\":{\"size\":2,\"symbol\":\"circle\"},\"mode\":\"markers\",\"name\":\"B\",\"text\":\"\",\"x\":[0.48067285941719545,1.4858850034783189,-0.5329019355156149,-1.4337243887047155,-0.1230053387660544,-0.13370818245895555,0.04266792941505512,-1.1644677156793313,1.92208382634084,-0.3770200305322968,-0.20159510671969166,0.9450704280298273,0.374227265574753,-0.27093093384700623,-0.4179762013432669,0.2397330542315832,-1.2554058847956295,-1.0752856205007264,0.6295221884285818,0.12328969063205228,-1.4857765097563915,-0.28851910129719155,1.4650513962300873,-1.27181816910522,-0.2745855075309058,0.4887681833437419,0.6773129344196536,1.1247912489834433,-0.2839323938631823,-0.5239629925017716,0.8733803707313805,-0.15803792873209196,0.5617438714387215,0.7984493049471078,-0.39416870041365354,0.3643798773670629,-0.8594271202094695,1.6038715681108744,1.0657653663115085,0.13323356965674674,-1.6953565224403615,-0.5893170700034942,-1.8925587657354077,1.20230398051413,-0.2009668716489237,0.9538175248703185,-0.1340668644922787,1.0049075939495156,2.2006617147346015,0.6760268123827109,-0.9334553839406639,-0.1657385488960467,0.08264885320150527,1.144706427114871,-0.5500932193320486,-0.586114776415507,0.35872755990902455,-2.197056017152882,0.016985751214185954,0.01525101503333304,-1.2107299727377165,-0.2616707219991574,-0.4429893890051499,0.23850701647042258,-1.0142637655754279,0.27180521482845343,-0.06375871886326547,-1.5696986632060739,-0.3336687615490785,-0.1393267941862971,0.9125856313165784,0.0746248874782978,-1.8516085859000802,-1.0992675535367074,1.0861576590318607,1.4777219724420372,-1.82538139325232,1.675520963955247,-0.13369772436363767,-1.0248405377185879,0.17395491466077476,-1.2521805128926344,1.7211274364463975,-0.7093401985248905,-2.0692093617345453,-0.21905048684893788,1.1218656967577205,0.8419845339214078,-1.2979026927555817,-0.03627453213683022,-0.18679213925807509,0.7395864934658763,0.915017611632112,-0.8608612730071287,-1.283157688911953,0.3092883190756984,1.045763471390835,-1.4140309271736275,0.05459977765250099,-1.5375435049981996],\"xaxis\":\"x8\",\"y\":[0.5932107040360172,0.04753954704139975,-0.444048574584182,-0.09335676213517706,-1.7432026927789257,1.0909115353161996,0.5971969506321606,1.8949064155444952,-1.1931694954805152,-0.05676690937649937,-2.2217498558969324,-1.297293680429583,-0.021679536036858914,0.8916762942133755,-0.02348621814267172,-1.5786609005306635,0.24357246516668982,0.010917665382364302,0.5571223092510637,-1.2475758485667943,1.5868744203536709,-0.8057521945444989,0.7362339481277361,0.9477863231294862,-0.5995459180209022,0.32554867390014314,-0.24356449203624217,1.1979573743086407,0.7822599197053102,-1.0954063618013492,-1.4808650659886475,-0.03216781584335983,-1.8683123603357328,0.07009016085630791,1.0824506963115468,0.674844983492287,-0.4896990474459487,-0.25826941502304024,1.665037379640575,0.010847284024948613,-0.6880159072252328,-1.5714676059379604,0.9714241406998673,-0.24294500318685008,-0.06292344712525674,-1.3987054229303149,-0.4734533238685408,-2.321963835811431,1.3884196000510303,-0.31025234222947135,-1.481113764744444,-0.7699363254437,-1.1778899107140954,-0.8987703761011371,0.19883119197798022,-0.8858314065876076,-1.5178717776599873,0.5893703347859245,-0.6994135868450015,-0.48358717433491655,-1.0267079997349633,0.5298163054115055,0.14310713216157514,-0.35419547943352053,0.10136482998347482,0.7934625832758466,-0.5560458519842975,-0.07531028933549962,0.04992795085509383,1.1711134364945317,1.3911558612592592,0.3384467388925263,-1.0964942691720898,2.279215075793931,2.0177131899560052,-0.8702672956301913,-1.790636564450756,-1.1939131889231476,-1.0308948061031502,0.8574156496421109,0.20214773489736038,0.05214163230900531,-0.5361664714973083,-0.2671110698261588,1.67295750683312,0.47336831168584104,1.3273464336078364,-0.1455793598936071,1.0127945851899962,1.1546317432106692,-0.05084218514467188,-0.9450278958175217,0.5740271589665797,0.28224149312428837,2.659282372516733,-0.5020185634569961,0.8538731764432778,0.28591735410309577,-1.4126982855654242,-1.8891270064966479],\"yaxis\":\"y8\",\"type\":\"scatter\"},{\"line\":{\"color\":\"rgba(128, 128, 128, 1.0)\",\"dash\":\"solid\",\"shape\":\"linear\",\"width\":1.3},\"marker\":{\"size\":2,\"symbol\":\"circle\"},\"mode\":\"markers\",\"name\":\"C\",\"text\":\"\",\"x\":[0.7295363441218393,-0.30709735423890133,0.492710813594875,0.08392566125616459,-0.6889455689979118,0.5470456033814226,-0.59537959593479,0.590991782392905,0.9972471665249101,1.4378882065324756,0.11926922188426163,-1.6571759958291157,0.4487064707697026,-2.51301997833897,0.6001221119436471,-2.731948786259892,1.3607099053275447,-0.731152267488863,-1.3966859085953525,0.17378944539031352,0.6817597346735718,1.1402012726597144,0.14349266373328687,-0.9377451346394511,0.017522155117618125,0.3235679464012107,0.836983146893619,-0.8792559105632725,-1.1801754241794296,-0.3795826015311692,-1.140787877799205,-0.7723948304435839,-0.5145019292009516,0.35609369850632194,-1.511771529880759,1.3774677496649568,-0.16454591236628077,-0.20152889220951667,-0.8123283332056657,0.595491766397253,-0.7970370986126426,-0.7349886528627032,0.6385817620476262,-0.1332010168119281,-0.6122662727680039,-2.4533287444652374,-1.2247225198339713,-0.25819872800993604,-0.37154228878299783,1.1548376757268877,0.6091866542203763,0.4905265364947855,1.7151703495190282,0.5379372760497011,-0.9060239939628344,-0.4757653879199119,0.7393937868154522,-2.2189647639590326,0.37041005207702155,1.0224887183461624,-0.5119055368256046,-0.9017925229090039,0.1447604829762621,-2.422737424208872,-0.7930350683984899,-1.1868366962480066,-2.0569449530090984,1.1920114509529198,-0.46156730828628,-0.719859833789653,0.5066864394881544,1.473741498165212,-1.5954387366714262,-0.4782502836781616,-0.16444298863396906,1.1408405792421255,-0.7097825274860883,0.7513186713580287,0.1339137866817911,-1.3011927732441302,1.2811633564799318,-0.3242821085915659,0.6457367692201954,0.0031357660336803783,0.7701540363029559,1.1149898631778379,0.25928287776938813,1.6665070758153746,-1.8969684050518085,0.681158307412814,-0.45063469387663485,1.5622406665206328,-0.12734672873637162,-0.5040136701566764,1.1767269743927373,0.618194840212031,-0.6238683392746781,0.040684028835876136,0.49591506198487856,0.5402290487669394],\"xaxis\":\"x9\",\"y\":[-0.08189170402269211,-0.13514980536158466,-0.6829000235753896,-2.1660492799482096,-0.8653623890686104,-0.7663960822194461,2.4465296437039847,-1.3838772208511525,-0.004037645735757862,0.20089315155547913,-0.23552802584260324,0.14568176283145545,-0.593480272097902,0.8987698543400691,0.977031524940709,-0.44072645348983663,1.8502759348157822,-0.15338260645131885,-0.16410038826145074,-0.05231582239414678,-0.4219511031272537,1.5404246600751583,0.4243757675846343,-0.04953077572811402,-0.3044162716065661,-0.778204723692454,-1.6865722656114437,-0.40745716620335704,0.03367509661054521,0.9547773475131285,0.22850452657337106,-2.0642361817882375,-0.6346129617527918,-0.23930344946865964,0.07527300680263144,-0.6853094644999711,0.044886324684502994,-0.8265372740099522,-0.4265344020298642,-0.8426744456702261,-0.8327334993244275,-0.9460713492384144,0.7941924238056933,-0.38501847935811406,-0.38067390231606096,0.07909975510965736,1.673281041484665,0.4755541700831618,-0.1969379747924677,0.6673498090452241,-0.1640159350139676,0.6752267821285269,-0.7917598494768683,-1.1506554345042526,0.04368974015311478,-1.7161841549026968,-0.3741882983849335,0.5993728303413354,0.2630159796664342,1.378673232286049,0.5486202909650398,-0.5442170043234468,0.11303460318517229,1.3354209329669042,-0.8859864965021472,0.7182151443982471,-0.01868264586250221,-0.311830239284594,0.32711877090528935,1.226354368968612,-0.3468950765587265,0.7492902658028024,-0.5694158194872334,-0.33199750309183734,-0.6797826348201856,-0.8464720437553708,0.6522136674012591,-0.33418115649697344,0.6549004337834226,-1.0374164770244731,0.06162194529230224,0.812116199119469,-0.39327954153113714,-0.4051496811605491,1.919198907495474,0.3713922630182631,0.2740703450515758,0.08521352716946458,1.719642473831569,-0.32484968872443726,-0.6539722405765761,0.4096321837057813,-0.4662960339340785,-0.45367379757154047,-1.2707156492496936,1.1236201909664816,-0.5850173785490747,-0.5273945384080858,-0.09933067073509559,-0.18625596036767667],\"yaxis\":\"y9\",\"type\":\"scatter\"},{\"line\":{\"color\":\"rgba(128, 128, 128, 1.0)\",\"dash\":\"solid\",\"shape\":\"linear\",\"width\":1.3},\"marker\":{\"size\":2,\"symbol\":\"circle\"},\"mode\":\"markers\",\"name\":\"C\",\"text\":\"\",\"x\":[0.5932107040360172,0.04753954704139975,-0.444048574584182,-0.09335676213517706,-1.7432026927789257,1.0909115353161996,0.5971969506321606,1.8949064155444952,-1.1931694954805152,-0.05676690937649937,-2.2217498558969324,-1.297293680429583,-0.021679536036858914,0.8916762942133755,-0.02348621814267172,-1.5786609005306635,0.24357246516668982,0.010917665382364302,0.5571223092510637,-1.2475758485667943,1.5868744203536709,-0.8057521945444989,0.7362339481277361,0.9477863231294862,-0.5995459180209022,0.32554867390014314,-0.24356449203624217,1.1979573743086407,0.7822599197053102,-1.0954063618013492,-1.4808650659886475,-0.03216781584335983,-1.8683123603357328,0.07009016085630791,1.0824506963115468,0.674844983492287,-0.4896990474459487,-0.25826941502304024,1.665037379640575,0.010847284024948613,-0.6880159072252328,-1.5714676059379604,0.9714241406998673,-0.24294500318685008,-0.06292344712525674,-1.3987054229303149,-0.4734533238685408,-2.321963835811431,1.3884196000510303,-0.31025234222947135,-1.481113764744444,-0.7699363254437,-1.1778899107140954,-0.8987703761011371,0.19883119197798022,-0.8858314065876076,-1.5178717776599873,0.5893703347859245,-0.6994135868450015,-0.48358717433491655,-1.0267079997349633,0.5298163054115055,0.14310713216157514,-0.35419547943352053,0.10136482998347482,0.7934625832758466,-0.5560458519842975,-0.07531028933549962,0.04992795085509383,1.1711134364945317,1.3911558612592592,0.3384467388925263,-1.0964942691720898,2.279215075793931,2.0177131899560052,-0.8702672956301913,-1.790636564450756,-1.1939131889231476,-1.0308948061031502,0.8574156496421109,0.20214773489736038,0.05214163230900531,-0.5361664714973083,-0.2671110698261588,1.67295750683312,0.47336831168584104,1.3273464336078364,-0.1455793598936071,1.0127945851899962,1.1546317432106692,-0.05084218514467188,-0.9450278958175217,0.5740271589665797,0.28224149312428837,2.659282372516733,-0.5020185634569961,0.8538731764432778,0.28591735410309577,-1.4126982855654242,-1.8891270064966479],\"xaxis\":\"x10\",\"y\":[-0.08189170402269211,-0.13514980536158466,-0.6829000235753896,-2.1660492799482096,-0.8653623890686104,-0.7663960822194461,2.4465296437039847,-1.3838772208511525,-0.004037645735757862,0.20089315155547913,-0.23552802584260324,0.14568176283145545,-0.593480272097902,0.8987698543400691,0.977031524940709,-0.44072645348983663,1.8502759348157822,-0.15338260645131885,-0.16410038826145074,-0.05231582239414678,-0.4219511031272537,1.5404246600751583,0.4243757675846343,-0.04953077572811402,-0.3044162716065661,-0.778204723692454,-1.6865722656114437,-0.40745716620335704,0.03367509661054521,0.9547773475131285,0.22850452657337106,-2.0642361817882375,-0.6346129617527918,-0.23930344946865964,0.07527300680263144,-0.6853094644999711,0.044886324684502994,-0.8265372740099522,-0.4265344020298642,-0.8426744456702261,-0.8327334993244275,-0.9460713492384144,0.7941924238056933,-0.38501847935811406,-0.38067390231606096,0.07909975510965736,1.673281041484665,0.4755541700831618,-0.1969379747924677,0.6673498090452241,-0.1640159350139676,0.6752267821285269,-0.7917598494768683,-1.1506554345042526,0.04368974015311478,-1.7161841549026968,-0.3741882983849335,0.5993728303413354,0.2630159796664342,1.378673232286049,0.5486202909650398,-0.5442170043234468,0.11303460318517229,1.3354209329669042,-0.8859864965021472,0.7182151443982471,-0.01868264586250221,-0.311830239284594,0.32711877090528935,1.226354368968612,-0.3468950765587265,0.7492902658028024,-0.5694158194872334,-0.33199750309183734,-0.6797826348201856,-0.8464720437553708,0.6522136674012591,-0.33418115649697344,0.6549004337834226,-1.0374164770244731,0.06162194529230224,0.812116199119469,-0.39327954153113714,-0.4051496811605491,1.919198907495474,0.3713922630182631,0.2740703450515758,0.08521352716946458,1.719642473831569,-0.32484968872443726,-0.6539722405765761,0.4096321837057813,-0.4662960339340785,-0.45367379757154047,-1.2707156492496936,1.1236201909664816,-0.5850173785490747,-0.5273945384080858,-0.09933067073509559,-0.18625596036767667],\"yaxis\":\"y10\",\"type\":\"scatter\"},{\"histfunc\":\"count\",\"histnorm\":\"\",\"marker\":{\"color\":\"rgba(50, 171, 96, 1.0)\",\"line\":{\"color\":\"#4D5663\",\"width\":1.3}},\"name\":\"C\",\"nbinsx\":10,\"opacity\":0.8,\"orientation\":\"v\",\"x\":[-0.08189170402269211,-0.13514980536158466,-0.6829000235753896,-2.1660492799482096,-0.8653623890686104,-0.7663960822194461,2.4465296437039847,-1.3838772208511525,-0.004037645735757862,0.20089315155547913,-0.23552802584260324,0.14568176283145545,-0.593480272097902,0.8987698543400691,0.977031524940709,-0.44072645348983663,1.8502759348157822,-0.15338260645131885,-0.16410038826145074,-0.05231582239414678,-0.4219511031272537,1.5404246600751583,0.4243757675846343,-0.04953077572811402,-0.3044162716065661,-0.778204723692454,-1.6865722656114437,-0.40745716620335704,0.03367509661054521,0.9547773475131285,0.22850452657337106,-2.0642361817882375,-0.6346129617527918,-0.23930344946865964,0.07527300680263144,-0.6853094644999711,0.044886324684502994,-0.8265372740099522,-0.4265344020298642,-0.8426744456702261,-0.8327334993244275,-0.9460713492384144,0.7941924238056933,-0.38501847935811406,-0.38067390231606096,0.07909975510965736,1.673281041484665,0.4755541700831618,-0.1969379747924677,0.6673498090452241,-0.1640159350139676,0.6752267821285269,-0.7917598494768683,-1.1506554345042526,0.04368974015311478,-1.7161841549026968,-0.3741882983849335,0.5993728303413354,0.2630159796664342,1.378673232286049,0.5486202909650398,-0.5442170043234468,0.11303460318517229,1.3354209329669042,-0.8859864965021472,0.7182151443982471,-0.01868264586250221,-0.311830239284594,0.32711877090528935,1.226354368968612,-0.3468950765587265,0.7492902658028024,-0.5694158194872334,-0.33199750309183734,-0.6797826348201856,-0.8464720437553708,0.6522136674012591,-0.33418115649697344,0.6549004337834226,-1.0374164770244731,0.06162194529230224,0.812116199119469,-0.39327954153113714,-0.4051496811605491,1.919198907495474,0.3713922630182631,0.2740703450515758,0.08521352716946458,1.719642473831569,-0.32484968872443726,-0.6539722405765761,0.4096321837057813,-0.4662960339340785,-0.45367379757154047,-1.2707156492496936,1.1236201909664816,-0.5850173785490747,-0.5273945384080858,-0.09933067073509559,-0.18625596036767667],\"xaxis\":\"x11\",\"yaxis\":\"y11\",\"type\":\"histogram\"},{\"line\":{\"color\":\"rgba(128, 128, 128, 1.0)\",\"dash\":\"solid\",\"shape\":\"linear\",\"width\":1.3},\"marker\":{\"size\":2,\"symbol\":\"circle\"},\"mode\":\"markers\",\"name\":\"C\",\"text\":\"\",\"x\":[0.48067285941719545,1.4858850034783189,-0.5329019355156149,-1.4337243887047155,-0.1230053387660544,-0.13370818245895555,0.04266792941505512,-1.1644677156793313,1.92208382634084,-0.3770200305322968,-0.20159510671969166,0.9450704280298273,0.374227265574753,-0.27093093384700623,-0.4179762013432669,0.2397330542315832,-1.2554058847956295,-1.0752856205007264,0.6295221884285818,0.12328969063205228,-1.4857765097563915,-0.28851910129719155,1.4650513962300873,-1.27181816910522,-0.2745855075309058,0.4887681833437419,0.6773129344196536,1.1247912489834433,-0.2839323938631823,-0.5239629925017716,0.8733803707313805,-0.15803792873209196,0.5617438714387215,0.7984493049471078,-0.39416870041365354,0.3643798773670629,-0.8594271202094695,1.6038715681108744,1.0657653663115085,0.13323356965674674,-1.6953565224403615,-0.5893170700034942,-1.8925587657354077,1.20230398051413,-0.2009668716489237,0.9538175248703185,-0.1340668644922787,1.0049075939495156,2.2006617147346015,0.6760268123827109,-0.9334553839406639,-0.1657385488960467,0.08264885320150527,1.144706427114871,-0.5500932193320486,-0.586114776415507,0.35872755990902455,-2.197056017152882,0.016985751214185954,0.01525101503333304,-1.2107299727377165,-0.2616707219991574,-0.4429893890051499,0.23850701647042258,-1.0142637655754279,0.27180521482845343,-0.06375871886326547,-1.5696986632060739,-0.3336687615490785,-0.1393267941862971,0.9125856313165784,0.0746248874782978,-1.8516085859000802,-1.0992675535367074,1.0861576590318607,1.4777219724420372,-1.82538139325232,1.675520963955247,-0.13369772436363767,-1.0248405377185879,0.17395491466077476,-1.2521805128926344,1.7211274364463975,-0.7093401985248905,-2.0692093617345453,-0.21905048684893788,1.1218656967577205,0.8419845339214078,-1.2979026927555817,-0.03627453213683022,-0.18679213925807509,0.7395864934658763,0.915017611632112,-0.8608612730071287,-1.283157688911953,0.3092883190756984,1.045763471390835,-1.4140309271736275,0.05459977765250099,-1.5375435049981996],\"xaxis\":\"x12\",\"y\":[-0.08189170402269211,-0.13514980536158466,-0.6829000235753896,-2.1660492799482096,-0.8653623890686104,-0.7663960822194461,2.4465296437039847,-1.3838772208511525,-0.004037645735757862,0.20089315155547913,-0.23552802584260324,0.14568176283145545,-0.593480272097902,0.8987698543400691,0.977031524940709,-0.44072645348983663,1.8502759348157822,-0.15338260645131885,-0.16410038826145074,-0.05231582239414678,-0.4219511031272537,1.5404246600751583,0.4243757675846343,-0.04953077572811402,-0.3044162716065661,-0.778204723692454,-1.6865722656114437,-0.40745716620335704,0.03367509661054521,0.9547773475131285,0.22850452657337106,-2.0642361817882375,-0.6346129617527918,-0.23930344946865964,0.07527300680263144,-0.6853094644999711,0.044886324684502994,-0.8265372740099522,-0.4265344020298642,-0.8426744456702261,-0.8327334993244275,-0.9460713492384144,0.7941924238056933,-0.38501847935811406,-0.38067390231606096,0.07909975510965736,1.673281041484665,0.4755541700831618,-0.1969379747924677,0.6673498090452241,-0.1640159350139676,0.6752267821285269,-0.7917598494768683,-1.1506554345042526,0.04368974015311478,-1.7161841549026968,-0.3741882983849335,0.5993728303413354,0.2630159796664342,1.378673232286049,0.5486202909650398,-0.5442170043234468,0.11303460318517229,1.3354209329669042,-0.8859864965021472,0.7182151443982471,-0.01868264586250221,-0.311830239284594,0.32711877090528935,1.226354368968612,-0.3468950765587265,0.7492902658028024,-0.5694158194872334,-0.33199750309183734,-0.6797826348201856,-0.8464720437553708,0.6522136674012591,-0.33418115649697344,0.6549004337834226,-1.0374164770244731,0.06162194529230224,0.812116199119469,-0.39327954153113714,-0.4051496811605491,1.919198907495474,0.3713922630182631,0.2740703450515758,0.08521352716946458,1.719642473831569,-0.32484968872443726,-0.6539722405765761,0.4096321837057813,-0.4662960339340785,-0.45367379757154047,-1.2707156492496936,1.1236201909664816,-0.5850173785490747,-0.5273945384080858,-0.09933067073509559,-0.18625596036767667],\"yaxis\":\"y12\",\"type\":\"scatter\"},{\"line\":{\"color\":\"rgba(128, 128, 128, 1.0)\",\"dash\":\"solid\",\"shape\":\"linear\",\"width\":1.3},\"marker\":{\"size\":2,\"symbol\":\"circle\"},\"mode\":\"markers\",\"name\":\"D\",\"text\":\"\",\"x\":[0.7295363441218393,-0.30709735423890133,0.492710813594875,0.08392566125616459,-0.6889455689979118,0.5470456033814226,-0.59537959593479,0.590991782392905,0.9972471665249101,1.4378882065324756,0.11926922188426163,-1.6571759958291157,0.4487064707697026,-2.51301997833897,0.6001221119436471,-2.731948786259892,1.3607099053275447,-0.731152267488863,-1.3966859085953525,0.17378944539031352,0.6817597346735718,1.1402012726597144,0.14349266373328687,-0.9377451346394511,0.017522155117618125,0.3235679464012107,0.836983146893619,-0.8792559105632725,-1.1801754241794296,-0.3795826015311692,-1.140787877799205,-0.7723948304435839,-0.5145019292009516,0.35609369850632194,-1.511771529880759,1.3774677496649568,-0.16454591236628077,-0.20152889220951667,-0.8123283332056657,0.595491766397253,-0.7970370986126426,-0.7349886528627032,0.6385817620476262,-0.1332010168119281,-0.6122662727680039,-2.4533287444652374,-1.2247225198339713,-0.25819872800993604,-0.37154228878299783,1.1548376757268877,0.6091866542203763,0.4905265364947855,1.7151703495190282,0.5379372760497011,-0.9060239939628344,-0.4757653879199119,0.7393937868154522,-2.2189647639590326,0.37041005207702155,1.0224887183461624,-0.5119055368256046,-0.9017925229090039,0.1447604829762621,-2.422737424208872,-0.7930350683984899,-1.1868366962480066,-2.0569449530090984,1.1920114509529198,-0.46156730828628,-0.719859833789653,0.5066864394881544,1.473741498165212,-1.5954387366714262,-0.4782502836781616,-0.16444298863396906,1.1408405792421255,-0.7097825274860883,0.7513186713580287,0.1339137866817911,-1.3011927732441302,1.2811633564799318,-0.3242821085915659,0.6457367692201954,0.0031357660336803783,0.7701540363029559,1.1149898631778379,0.25928287776938813,1.6665070758153746,-1.8969684050518085,0.681158307412814,-0.45063469387663485,1.5622406665206328,-0.12734672873637162,-0.5040136701566764,1.1767269743927373,0.618194840212031,-0.6238683392746781,0.040684028835876136,0.49591506198487856,0.5402290487669394],\"xaxis\":\"x13\",\"y\":[0.48067285941719545,1.4858850034783189,-0.5329019355156149,-1.4337243887047155,-0.1230053387660544,-0.13370818245895555,0.04266792941505512,-1.1644677156793313,1.92208382634084,-0.3770200305322968,-0.20159510671969166,0.9450704280298273,0.374227265574753,-0.27093093384700623,-0.4179762013432669,0.2397330542315832,-1.2554058847956295,-1.0752856205007264,0.6295221884285818,0.12328969063205228,-1.4857765097563915,-0.28851910129719155,1.4650513962300873,-1.27181816910522,-0.2745855075309058,0.4887681833437419,0.6773129344196536,1.1247912489834433,-0.2839323938631823,-0.5239629925017716,0.8733803707313805,-0.15803792873209196,0.5617438714387215,0.7984493049471078,-0.39416870041365354,0.3643798773670629,-0.8594271202094695,1.6038715681108744,1.0657653663115085,0.13323356965674674,-1.6953565224403615,-0.5893170700034942,-1.8925587657354077,1.20230398051413,-0.2009668716489237,0.9538175248703185,-0.1340668644922787,1.0049075939495156,2.2006617147346015,0.6760268123827109,-0.9334553839406639,-0.1657385488960467,0.08264885320150527,1.144706427114871,-0.5500932193320486,-0.586114776415507,0.35872755990902455,-2.197056017152882,0.016985751214185954,0.01525101503333304,-1.2107299727377165,-0.2616707219991574,-0.4429893890051499,0.23850701647042258,-1.0142637655754279,0.27180521482845343,-0.06375871886326547,-1.5696986632060739,-0.3336687615490785,-0.1393267941862971,0.9125856313165784,0.0746248874782978,-1.8516085859000802,-1.0992675535367074,1.0861576590318607,1.4777219724420372,-1.82538139325232,1.675520963955247,-0.13369772436363767,-1.0248405377185879,0.17395491466077476,-1.2521805128926344,1.7211274364463975,-0.7093401985248905,-2.0692093617345453,-0.21905048684893788,1.1218656967577205,0.8419845339214078,-1.2979026927555817,-0.03627453213683022,-0.18679213925807509,0.7395864934658763,0.915017611632112,-0.8608612730071287,-1.283157688911953,0.3092883190756984,1.045763471390835,-1.4140309271736275,0.05459977765250099,-1.5375435049981996],\"yaxis\":\"y13\",\"type\":\"scatter\"},{\"line\":{\"color\":\"rgba(128, 128, 128, 1.0)\",\"dash\":\"solid\",\"shape\":\"linear\",\"width\":1.3},\"marker\":{\"size\":2,\"symbol\":\"circle\"},\"mode\":\"markers\",\"name\":\"D\",\"text\":\"\",\"x\":[0.5932107040360172,0.04753954704139975,-0.444048574584182,-0.09335676213517706,-1.7432026927789257,1.0909115353161996,0.5971969506321606,1.8949064155444952,-1.1931694954805152,-0.05676690937649937,-2.2217498558969324,-1.297293680429583,-0.021679536036858914,0.8916762942133755,-0.02348621814267172,-1.5786609005306635,0.24357246516668982,0.010917665382364302,0.5571223092510637,-1.2475758485667943,1.5868744203536709,-0.8057521945444989,0.7362339481277361,0.9477863231294862,-0.5995459180209022,0.32554867390014314,-0.24356449203624217,1.1979573743086407,0.7822599197053102,-1.0954063618013492,-1.4808650659886475,-0.03216781584335983,-1.8683123603357328,0.07009016085630791,1.0824506963115468,0.674844983492287,-0.4896990474459487,-0.25826941502304024,1.665037379640575,0.010847284024948613,-0.6880159072252328,-1.5714676059379604,0.9714241406998673,-0.24294500318685008,-0.06292344712525674,-1.3987054229303149,-0.4734533238685408,-2.321963835811431,1.3884196000510303,-0.31025234222947135,-1.481113764744444,-0.7699363254437,-1.1778899107140954,-0.8987703761011371,0.19883119197798022,-0.8858314065876076,-1.5178717776599873,0.5893703347859245,-0.6994135868450015,-0.48358717433491655,-1.0267079997349633,0.5298163054115055,0.14310713216157514,-0.35419547943352053,0.10136482998347482,0.7934625832758466,-0.5560458519842975,-0.07531028933549962,0.04992795085509383,1.1711134364945317,1.3911558612592592,0.3384467388925263,-1.0964942691720898,2.279215075793931,2.0177131899560052,-0.8702672956301913,-1.790636564450756,-1.1939131889231476,-1.0308948061031502,0.8574156496421109,0.20214773489736038,0.05214163230900531,-0.5361664714973083,-0.2671110698261588,1.67295750683312,0.47336831168584104,1.3273464336078364,-0.1455793598936071,1.0127945851899962,1.1546317432106692,-0.05084218514467188,-0.9450278958175217,0.5740271589665797,0.28224149312428837,2.659282372516733,-0.5020185634569961,0.8538731764432778,0.28591735410309577,-1.4126982855654242,-1.8891270064966479],\"xaxis\":\"x14\",\"y\":[0.48067285941719545,1.4858850034783189,-0.5329019355156149,-1.4337243887047155,-0.1230053387660544,-0.13370818245895555,0.04266792941505512,-1.1644677156793313,1.92208382634084,-0.3770200305322968,-0.20159510671969166,0.9450704280298273,0.374227265574753,-0.27093093384700623,-0.4179762013432669,0.2397330542315832,-1.2554058847956295,-1.0752856205007264,0.6295221884285818,0.12328969063205228,-1.4857765097563915,-0.28851910129719155,1.4650513962300873,-1.27181816910522,-0.2745855075309058,0.4887681833437419,0.6773129344196536,1.1247912489834433,-0.2839323938631823,-0.5239629925017716,0.8733803707313805,-0.15803792873209196,0.5617438714387215,0.7984493049471078,-0.39416870041365354,0.3643798773670629,-0.8594271202094695,1.6038715681108744,1.0657653663115085,0.13323356965674674,-1.6953565224403615,-0.5893170700034942,-1.8925587657354077,1.20230398051413,-0.2009668716489237,0.9538175248703185,-0.1340668644922787,1.0049075939495156,2.2006617147346015,0.6760268123827109,-0.9334553839406639,-0.1657385488960467,0.08264885320150527,1.144706427114871,-0.5500932193320486,-0.586114776415507,0.35872755990902455,-2.197056017152882,0.016985751214185954,0.01525101503333304,-1.2107299727377165,-0.2616707219991574,-0.4429893890051499,0.23850701647042258,-1.0142637655754279,0.27180521482845343,-0.06375871886326547,-1.5696986632060739,-0.3336687615490785,-0.1393267941862971,0.9125856313165784,0.0746248874782978,-1.8516085859000802,-1.0992675535367074,1.0861576590318607,1.4777219724420372,-1.82538139325232,1.675520963955247,-0.13369772436363767,-1.0248405377185879,0.17395491466077476,-1.2521805128926344,1.7211274364463975,-0.7093401985248905,-2.0692093617345453,-0.21905048684893788,1.1218656967577205,0.8419845339214078,-1.2979026927555817,-0.03627453213683022,-0.18679213925807509,0.7395864934658763,0.915017611632112,-0.8608612730071287,-1.283157688911953,0.3092883190756984,1.045763471390835,-1.4140309271736275,0.05459977765250099,-1.5375435049981996],\"yaxis\":\"y14\",\"type\":\"scatter\"},{\"line\":{\"color\":\"rgba(128, 128, 128, 1.0)\",\"dash\":\"solid\",\"shape\":\"linear\",\"width\":1.3},\"marker\":{\"size\":2,\"symbol\":\"circle\"},\"mode\":\"markers\",\"name\":\"D\",\"text\":\"\",\"x\":[-0.08189170402269211,-0.13514980536158466,-0.6829000235753896,-2.1660492799482096,-0.8653623890686104,-0.7663960822194461,2.4465296437039847,-1.3838772208511525,-0.004037645735757862,0.20089315155547913,-0.23552802584260324,0.14568176283145545,-0.593480272097902,0.8987698543400691,0.977031524940709,-0.44072645348983663,1.8502759348157822,-0.15338260645131885,-0.16410038826145074,-0.05231582239414678,-0.4219511031272537,1.5404246600751583,0.4243757675846343,-0.04953077572811402,-0.3044162716065661,-0.778204723692454,-1.6865722656114437,-0.40745716620335704,0.03367509661054521,0.9547773475131285,0.22850452657337106,-2.0642361817882375,-0.6346129617527918,-0.23930344946865964,0.07527300680263144,-0.6853094644999711,0.044886324684502994,-0.8265372740099522,-0.4265344020298642,-0.8426744456702261,-0.8327334993244275,-0.9460713492384144,0.7941924238056933,-0.38501847935811406,-0.38067390231606096,0.07909975510965736,1.673281041484665,0.4755541700831618,-0.1969379747924677,0.6673498090452241,-0.1640159350139676,0.6752267821285269,-0.7917598494768683,-1.1506554345042526,0.04368974015311478,-1.7161841549026968,-0.3741882983849335,0.5993728303413354,0.2630159796664342,1.378673232286049,0.5486202909650398,-0.5442170043234468,0.11303460318517229,1.3354209329669042,-0.8859864965021472,0.7182151443982471,-0.01868264586250221,-0.311830239284594,0.32711877090528935,1.226354368968612,-0.3468950765587265,0.7492902658028024,-0.5694158194872334,-0.33199750309183734,-0.6797826348201856,-0.8464720437553708,0.6522136674012591,-0.33418115649697344,0.6549004337834226,-1.0374164770244731,0.06162194529230224,0.812116199119469,-0.39327954153113714,-0.4051496811605491,1.919198907495474,0.3713922630182631,0.2740703450515758,0.08521352716946458,1.719642473831569,-0.32484968872443726,-0.6539722405765761,0.4096321837057813,-0.4662960339340785,-0.45367379757154047,-1.2707156492496936,1.1236201909664816,-0.5850173785490747,-0.5273945384080858,-0.09933067073509559,-0.18625596036767667],\"xaxis\":\"x15\",\"y\":[0.48067285941719545,1.4858850034783189,-0.5329019355156149,-1.4337243887047155,-0.1230053387660544,-0.13370818245895555,0.04266792941505512,-1.1644677156793313,1.92208382634084,-0.3770200305322968,-0.20159510671969166,0.9450704280298273,0.374227265574753,-0.27093093384700623,-0.4179762013432669,0.2397330542315832,-1.2554058847956295,-1.0752856205007264,0.6295221884285818,0.12328969063205228,-1.4857765097563915,-0.28851910129719155,1.4650513962300873,-1.27181816910522,-0.2745855075309058,0.4887681833437419,0.6773129344196536,1.1247912489834433,-0.2839323938631823,-0.5239629925017716,0.8733803707313805,-0.15803792873209196,0.5617438714387215,0.7984493049471078,-0.39416870041365354,0.3643798773670629,-0.8594271202094695,1.6038715681108744,1.0657653663115085,0.13323356965674674,-1.6953565224403615,-0.5893170700034942,-1.8925587657354077,1.20230398051413,-0.2009668716489237,0.9538175248703185,-0.1340668644922787,1.0049075939495156,2.2006617147346015,0.6760268123827109,-0.9334553839406639,-0.1657385488960467,0.08264885320150527,1.144706427114871,-0.5500932193320486,-0.586114776415507,0.35872755990902455,-2.197056017152882,0.016985751214185954,0.01525101503333304,-1.2107299727377165,-0.2616707219991574,-0.4429893890051499,0.23850701647042258,-1.0142637655754279,0.27180521482845343,-0.06375871886326547,-1.5696986632060739,-0.3336687615490785,-0.1393267941862971,0.9125856313165784,0.0746248874782978,-1.8516085859000802,-1.0992675535367074,1.0861576590318607,1.4777219724420372,-1.82538139325232,1.675520963955247,-0.13369772436363767,-1.0248405377185879,0.17395491466077476,-1.2521805128926344,1.7211274364463975,-0.7093401985248905,-2.0692093617345453,-0.21905048684893788,1.1218656967577205,0.8419845339214078,-1.2979026927555817,-0.03627453213683022,-0.18679213925807509,0.7395864934658763,0.915017611632112,-0.8608612730071287,-1.283157688911953,0.3092883190756984,1.045763471390835,-1.4140309271736275,0.05459977765250099,-1.5375435049981996],\"yaxis\":\"y15\",\"type\":\"scatter\"},{\"histfunc\":\"count\",\"histnorm\":\"\",\"marker\":{\"color\":\"rgba(128, 0, 128, 1.0)\",\"line\":{\"color\":\"#4D5663\",\"width\":1.3}},\"name\":\"D\",\"nbinsx\":10,\"opacity\":0.8,\"orientation\":\"v\",\"x\":[0.48067285941719545,1.4858850034783189,-0.5329019355156149,-1.4337243887047155,-0.1230053387660544,-0.13370818245895555,0.04266792941505512,-1.1644677156793313,1.92208382634084,-0.3770200305322968,-0.20159510671969166,0.9450704280298273,0.374227265574753,-0.27093093384700623,-0.4179762013432669,0.2397330542315832,-1.2554058847956295,-1.0752856205007264,0.6295221884285818,0.12328969063205228,-1.4857765097563915,-0.28851910129719155,1.4650513962300873,-1.27181816910522,-0.2745855075309058,0.4887681833437419,0.6773129344196536,1.1247912489834433,-0.2839323938631823,-0.5239629925017716,0.8733803707313805,-0.15803792873209196,0.5617438714387215,0.7984493049471078,-0.39416870041365354,0.3643798773670629,-0.8594271202094695,1.6038715681108744,1.0657653663115085,0.13323356965674674,-1.6953565224403615,-0.5893170700034942,-1.8925587657354077,1.20230398051413,-0.2009668716489237,0.9538175248703185,-0.1340668644922787,1.0049075939495156,2.2006617147346015,0.6760268123827109,-0.9334553839406639,-0.1657385488960467,0.08264885320150527,1.144706427114871,-0.5500932193320486,-0.586114776415507,0.35872755990902455,-2.197056017152882,0.016985751214185954,0.01525101503333304,-1.2107299727377165,-0.2616707219991574,-0.4429893890051499,0.23850701647042258,-1.0142637655754279,0.27180521482845343,-0.06375871886326547,-1.5696986632060739,-0.3336687615490785,-0.1393267941862971,0.9125856313165784,0.0746248874782978,-1.8516085859000802,-1.0992675535367074,1.0861576590318607,1.4777219724420372,-1.82538139325232,1.675520963955247,-0.13369772436363767,-1.0248405377185879,0.17395491466077476,-1.2521805128926344,1.7211274364463975,-0.7093401985248905,-2.0692093617345453,-0.21905048684893788,1.1218656967577205,0.8419845339214078,-1.2979026927555817,-0.03627453213683022,-0.18679213925807509,0.7395864934658763,0.915017611632112,-0.8608612730071287,-1.283157688911953,0.3092883190756984,1.045763471390835,-1.4140309271736275,0.05459977765250099,-1.5375435049981996],\"xaxis\":\"x16\",\"yaxis\":\"y16\",\"type\":\"histogram\"}],                        {\"bargap\":0.02,\"legend\":{\"bgcolor\":\"#F5F6F9\",\"font\":{\"color\":\"#4D5663\"}},\"paper_bgcolor\":\"#F5F6F9\",\"plot_bgcolor\":\"#F5F6F9\",\"showlegend\":false,\"template\":{\"data\":{\"barpolar\":[{\"marker\":{\"line\":{\"color\":\"#E5ECF6\",\"width\":0.5},\"pattern\":{\"fillmode\":\"overlay\",\"size\":10,\"solidity\":0.2}},\"type\":\"barpolar\"}],\"bar\":[{\"error_x\":{\"color\":\"#2a3f5f\"},\"error_y\":{\"color\":\"#2a3f5f\"},\"marker\":{\"line\":{\"color\":\"#E5ECF6\",\"width\":0.5},\"pattern\":{\"fillmode\":\"overlay\",\"size\":10,\"solidity\":0.2}},\"type\":\"bar\"}],\"carpet\":[{\"aaxis\":{\"endlinecolor\":\"#2a3f5f\",\"gridcolor\":\"white\",\"linecolor\":\"white\",\"minorgridcolor\":\"white\",\"startlinecolor\":\"#2a3f5f\"},\"baxis\":{\"endlinecolor\":\"#2a3f5f\",\"gridcolor\":\"white\",\"linecolor\":\"white\",\"minorgridcolor\":\"white\",\"startlinecolor\":\"#2a3f5f\"},\"type\":\"carpet\"}],\"choropleth\":[{\"colorbar\":{\"outlinewidth\":0,\"ticks\":\"\"},\"type\":\"choropleth\"}],\"contourcarpet\":[{\"colorbar\":{\"outlinewidth\":0,\"ticks\":\"\"},\"type\":\"contourcarpet\"}],\"contour\":[{\"colorbar\":{\"outlinewidth\":0,\"ticks\":\"\"},\"colorscale\":[[0.0,\"#0d0887\"],[0.1111111111111111,\"#46039f\"],[0.2222222222222222,\"#7201a8\"],[0.3333333333333333,\"#9c179e\"],[0.4444444444444444,\"#bd3786\"],[0.5555555555555556,\"#d8576b\"],[0.6666666666666666,\"#ed7953\"],[0.7777777777777778,\"#fb9f3a\"],[0.8888888888888888,\"#fdca26\"],[1.0,\"#f0f921\"]],\"type\":\"contour\"}],\"heatmapgl\":[{\"colorbar\":{\"outlinewidth\":0,\"ticks\":\"\"},\"colorscale\":[[0.0,\"#0d0887\"],[0.1111111111111111,\"#46039f\"],[0.2222222222222222,\"#7201a8\"],[0.3333333333333333,\"#9c179e\"],[0.4444444444444444,\"#bd3786\"],[0.5555555555555556,\"#d8576b\"],[0.6666666666666666,\"#ed7953\"],[0.7777777777777778,\"#fb9f3a\"],[0.8888888888888888,\"#fdca26\"],[1.0,\"#f0f921\"]],\"type\":\"heatmapgl\"}],\"heatmap\":[{\"colorbar\":{\"outlinewidth\":0,\"ticks\":\"\"},\"colorscale\":[[0.0,\"#0d0887\"],[0.1111111111111111,\"#46039f\"],[0.2222222222222222,\"#7201a8\"],[0.3333333333333333,\"#9c179e\"],[0.4444444444444444,\"#bd3786\"],[0.5555555555555556,\"#d8576b\"],[0.6666666666666666,\"#ed7953\"],[0.7777777777777778,\"#fb9f3a\"],[0.8888888888888888,\"#fdca26\"],[1.0,\"#f0f921\"]],\"type\":\"heatmap\"}],\"histogram2dcontour\":[{\"colorbar\":{\"outlinewidth\":0,\"ticks\":\"\"},\"colorscale\":[[0.0,\"#0d0887\"],[0.1111111111111111,\"#46039f\"],[0.2222222222222222,\"#7201a8\"],[0.3333333333333333,\"#9c179e\"],[0.4444444444444444,\"#bd3786\"],[0.5555555555555556,\"#d8576b\"],[0.6666666666666666,\"#ed7953\"],[0.7777777777777778,\"#fb9f3a\"],[0.8888888888888888,\"#fdca26\"],[1.0,\"#f0f921\"]],\"type\":\"histogram2dcontour\"}],\"histogram2d\":[{\"colorbar\":{\"outlinewidth\":0,\"ticks\":\"\"},\"colorscale\":[[0.0,\"#0d0887\"],[0.1111111111111111,\"#46039f\"],[0.2222222222222222,\"#7201a8\"],[0.3333333333333333,\"#9c179e\"],[0.4444444444444444,\"#bd3786\"],[0.5555555555555556,\"#d8576b\"],[0.6666666666666666,\"#ed7953\"],[0.7777777777777778,\"#fb9f3a\"],[0.8888888888888888,\"#fdca26\"],[1.0,\"#f0f921\"]],\"type\":\"histogram2d\"}],\"histogram\":[{\"marker\":{\"pattern\":{\"fillmode\":\"overlay\",\"size\":10,\"solidity\":0.2}},\"type\":\"histogram\"}],\"mesh3d\":[{\"colorbar\":{\"outlinewidth\":0,\"ticks\":\"\"},\"type\":\"mesh3d\"}],\"parcoords\":[{\"line\":{\"colorbar\":{\"outlinewidth\":0,\"ticks\":\"\"}},\"type\":\"parcoords\"}],\"pie\":[{\"automargin\":true,\"type\":\"pie\"}],\"scatter3d\":[{\"line\":{\"colorbar\":{\"outlinewidth\":0,\"ticks\":\"\"}},\"marker\":{\"colorbar\":{\"outlinewidth\":0,\"ticks\":\"\"}},\"type\":\"scatter3d\"}],\"scattercarpet\":[{\"marker\":{\"colorbar\":{\"outlinewidth\":0,\"ticks\":\"\"}},\"type\":\"scattercarpet\"}],\"scattergeo\":[{\"marker\":{\"colorbar\":{\"outlinewidth\":0,\"ticks\":\"\"}},\"type\":\"scattergeo\"}],\"scattergl\":[{\"marker\":{\"colorbar\":{\"outlinewidth\":0,\"ticks\":\"\"}},\"type\":\"scattergl\"}],\"scattermapbox\":[{\"marker\":{\"colorbar\":{\"outlinewidth\":0,\"ticks\":\"\"}},\"type\":\"scattermapbox\"}],\"scatterpolargl\":[{\"marker\":{\"colorbar\":{\"outlinewidth\":0,\"ticks\":\"\"}},\"type\":\"scatterpolargl\"}],\"scatterpolar\":[{\"marker\":{\"colorbar\":{\"outlinewidth\":0,\"ticks\":\"\"}},\"type\":\"scatterpolar\"}],\"scatter\":[{\"marker\":{\"colorbar\":{\"outlinewidth\":0,\"ticks\":\"\"}},\"type\":\"scatter\"}],\"scatterternary\":[{\"marker\":{\"colorbar\":{\"outlinewidth\":0,\"ticks\":\"\"}},\"type\":\"scatterternary\"}],\"surface\":[{\"colorbar\":{\"outlinewidth\":0,\"ticks\":\"\"},\"colorscale\":[[0.0,\"#0d0887\"],[0.1111111111111111,\"#46039f\"],[0.2222222222222222,\"#7201a8\"],[0.3333333333333333,\"#9c179e\"],[0.4444444444444444,\"#bd3786\"],[0.5555555555555556,\"#d8576b\"],[0.6666666666666666,\"#ed7953\"],[0.7777777777777778,\"#fb9f3a\"],[0.8888888888888888,\"#fdca26\"],[1.0,\"#f0f921\"]],\"type\":\"surface\"}],\"table\":[{\"cells\":{\"fill\":{\"color\":\"#EBF0F8\"},\"line\":{\"color\":\"white\"}},\"header\":{\"fill\":{\"color\":\"#C8D4E3\"},\"line\":{\"color\":\"white\"}},\"type\":\"table\"}]},\"layout\":{\"annotationdefaults\":{\"arrowcolor\":\"#2a3f5f\",\"arrowhead\":0,\"arrowwidth\":1},\"autotypenumbers\":\"strict\",\"coloraxis\":{\"colorbar\":{\"outlinewidth\":0,\"ticks\":\"\"}},\"colorscale\":{\"diverging\":[[0,\"#8e0152\"],[0.1,\"#c51b7d\"],[0.2,\"#de77ae\"],[0.3,\"#f1b6da\"],[0.4,\"#fde0ef\"],[0.5,\"#f7f7f7\"],[0.6,\"#e6f5d0\"],[0.7,\"#b8e186\"],[0.8,\"#7fbc41\"],[0.9,\"#4d9221\"],[1,\"#276419\"]],\"sequential\":[[0.0,\"#0d0887\"],[0.1111111111111111,\"#46039f\"],[0.2222222222222222,\"#7201a8\"],[0.3333333333333333,\"#9c179e\"],[0.4444444444444444,\"#bd3786\"],[0.5555555555555556,\"#d8576b\"],[0.6666666666666666,\"#ed7953\"],[0.7777777777777778,\"#fb9f3a\"],[0.8888888888888888,\"#fdca26\"],[1.0,\"#f0f921\"]],\"sequentialminus\":[[0.0,\"#0d0887\"],[0.1111111111111111,\"#46039f\"],[0.2222222222222222,\"#7201a8\"],[0.3333333333333333,\"#9c179e\"],[0.4444444444444444,\"#bd3786\"],[0.5555555555555556,\"#d8576b\"],[0.6666666666666666,\"#ed7953\"],[0.7777777777777778,\"#fb9f3a\"],[0.8888888888888888,\"#fdca26\"],[1.0,\"#f0f921\"]]},\"colorway\":[\"#636efa\",\"#EF553B\",\"#00cc96\",\"#ab63fa\",\"#FFA15A\",\"#19d3f3\",\"#FF6692\",\"#B6E880\",\"#FF97FF\",\"#FECB52\"],\"font\":{\"color\":\"#2a3f5f\"},\"geo\":{\"bgcolor\":\"white\",\"lakecolor\":\"white\",\"landcolor\":\"#E5ECF6\",\"showlakes\":true,\"showland\":true,\"subunitcolor\":\"white\"},\"hoverlabel\":{\"align\":\"left\"},\"hovermode\":\"closest\",\"mapbox\":{\"style\":\"light\"},\"paper_bgcolor\":\"white\",\"plot_bgcolor\":\"#E5ECF6\",\"polar\":{\"angularaxis\":{\"gridcolor\":\"white\",\"linecolor\":\"white\",\"ticks\":\"\"},\"bgcolor\":\"#E5ECF6\",\"radialaxis\":{\"gridcolor\":\"white\",\"linecolor\":\"white\",\"ticks\":\"\"}},\"scene\":{\"xaxis\":{\"backgroundcolor\":\"#E5ECF6\",\"gridcolor\":\"white\",\"gridwidth\":2,\"linecolor\":\"white\",\"showbackground\":true,\"ticks\":\"\",\"zerolinecolor\":\"white\"},\"yaxis\":{\"backgroundcolor\":\"#E5ECF6\",\"gridcolor\":\"white\",\"gridwidth\":2,\"linecolor\":\"white\",\"showbackground\":true,\"ticks\":\"\",\"zerolinecolor\":\"white\"},\"zaxis\":{\"backgroundcolor\":\"#E5ECF6\",\"gridcolor\":\"white\",\"gridwidth\":2,\"linecolor\":\"white\",\"showbackground\":true,\"ticks\":\"\",\"zerolinecolor\":\"white\"}},\"shapedefaults\":{\"line\":{\"color\":\"#2a3f5f\"}},\"ternary\":{\"aaxis\":{\"gridcolor\":\"white\",\"linecolor\":\"white\",\"ticks\":\"\"},\"baxis\":{\"gridcolor\":\"white\",\"linecolor\":\"white\",\"ticks\":\"\"},\"bgcolor\":\"#E5ECF6\",\"caxis\":{\"gridcolor\":\"white\",\"linecolor\":\"white\",\"ticks\":\"\"}},\"title\":{\"x\":0.05},\"xaxis\":{\"automargin\":true,\"gridcolor\":\"white\",\"linecolor\":\"white\",\"ticks\":\"\",\"title\":{\"standoff\":15},\"zerolinecolor\":\"white\",\"zerolinewidth\":2},\"yaxis\":{\"automargin\":true,\"gridcolor\":\"white\",\"linecolor\":\"white\",\"ticks\":\"\",\"title\":{\"standoff\":15},\"zerolinecolor\":\"white\",\"zerolinewidth\":2}}},\"title\":{\"font\":{\"color\":\"#4D5663\"}},\"xaxis\":{\"anchor\":\"y\",\"domain\":[0.0,0.2125],\"gridcolor\":\"#E1E5ED\",\"showgrid\":false,\"tickfont\":{\"color\":\"#4D5663\"},\"title\":{\"font\":{\"color\":\"#4D5663\"},\"text\":\"\"},\"zerolinecolor\":\"#E1E5ED\"},\"yaxis\":{\"anchor\":\"x\",\"domain\":[0.8025,1.0],\"gridcolor\":\"#E1E5ED\",\"showgrid\":false,\"tickfont\":{\"color\":\"#4D5663\"},\"title\":{\"font\":{\"color\":\"#4D5663\"},\"text\":\"\"},\"zerolinecolor\":\"#E1E5ED\"},\"xaxis2\":{\"anchor\":\"y2\",\"domain\":[0.2625,0.475],\"gridcolor\":\"#E1E5ED\",\"showgrid\":false,\"tickfont\":{\"color\":\"#4D5663\"},\"title\":{\"font\":{\"color\":\"#4D5663\"},\"text\":\"\"},\"zerolinecolor\":\"#E1E5ED\"},\"yaxis2\":{\"anchor\":\"x2\",\"domain\":[0.8025,1.0],\"gridcolor\":\"#E1E5ED\",\"showgrid\":false,\"tickfont\":{\"color\":\"#4D5663\"},\"title\":{\"font\":{\"color\":\"#4D5663\"},\"text\":\"\"},\"zerolinecolor\":\"#E1E5ED\"},\"xaxis3\":{\"anchor\":\"y3\",\"domain\":[0.525,0.7375],\"gridcolor\":\"#E1E5ED\",\"showgrid\":false,\"tickfont\":{\"color\":\"#4D5663\"},\"title\":{\"font\":{\"color\":\"#4D5663\"},\"text\":\"\"},\"zerolinecolor\":\"#E1E5ED\"},\"yaxis3\":{\"anchor\":\"x3\",\"domain\":[0.8025,1.0],\"gridcolor\":\"#E1E5ED\",\"showgrid\":false,\"tickfont\":{\"color\":\"#4D5663\"},\"title\":{\"font\":{\"color\":\"#4D5663\"},\"text\":\"\"},\"zerolinecolor\":\"#E1E5ED\"},\"xaxis4\":{\"anchor\":\"y4\",\"domain\":[0.7875,1.0],\"gridcolor\":\"#E1E5ED\",\"showgrid\":false,\"tickfont\":{\"color\":\"#4D5663\"},\"title\":{\"font\":{\"color\":\"#4D5663\"},\"text\":\"\"},\"zerolinecolor\":\"#E1E5ED\"},\"yaxis4\":{\"anchor\":\"x4\",\"domain\":[0.8025,1.0],\"gridcolor\":\"#E1E5ED\",\"showgrid\":false,\"tickfont\":{\"color\":\"#4D5663\"},\"title\":{\"font\":{\"color\":\"#4D5663\"},\"text\":\"\"},\"zerolinecolor\":\"#E1E5ED\"},\"xaxis5\":{\"anchor\":\"y5\",\"domain\":[0.0,0.2125],\"gridcolor\":\"#E1E5ED\",\"showgrid\":false,\"tickfont\":{\"color\":\"#4D5663\"},\"title\":{\"font\":{\"color\":\"#4D5663\"},\"text\":\"\"},\"zerolinecolor\":\"#E1E5ED\"},\"yaxis5\":{\"anchor\":\"x5\",\"domain\":[0.535,0.7325],\"gridcolor\":\"#E1E5ED\",\"showgrid\":false,\"tickfont\":{\"color\":\"#4D5663\"},\"title\":{\"font\":{\"color\":\"#4D5663\"},\"text\":\"\"},\"zerolinecolor\":\"#E1E5ED\"},\"xaxis6\":{\"anchor\":\"y6\",\"domain\":[0.2625,0.475],\"gridcolor\":\"#E1E5ED\",\"showgrid\":false,\"tickfont\":{\"color\":\"#4D5663\"},\"title\":{\"font\":{\"color\":\"#4D5663\"},\"text\":\"\"},\"zerolinecolor\":\"#E1E5ED\"},\"yaxis6\":{\"anchor\":\"x6\",\"domain\":[0.535,0.7325],\"gridcolor\":\"#E1E5ED\",\"showgrid\":false,\"tickfont\":{\"color\":\"#4D5663\"},\"title\":{\"font\":{\"color\":\"#4D5663\"},\"text\":\"\"},\"zerolinecolor\":\"#E1E5ED\"},\"xaxis7\":{\"anchor\":\"y7\",\"domain\":[0.525,0.7375],\"gridcolor\":\"#E1E5ED\",\"showgrid\":false,\"tickfont\":{\"color\":\"#4D5663\"},\"title\":{\"font\":{\"color\":\"#4D5663\"},\"text\":\"\"},\"zerolinecolor\":\"#E1E5ED\"},\"yaxis7\":{\"anchor\":\"x7\",\"domain\":[0.535,0.7325],\"gridcolor\":\"#E1E5ED\",\"showgrid\":false,\"tickfont\":{\"color\":\"#4D5663\"},\"title\":{\"font\":{\"color\":\"#4D5663\"},\"text\":\"\"},\"zerolinecolor\":\"#E1E5ED\"},\"xaxis8\":{\"anchor\":\"y8\",\"domain\":[0.7875,1.0],\"gridcolor\":\"#E1E5ED\",\"showgrid\":false,\"tickfont\":{\"color\":\"#4D5663\"},\"title\":{\"font\":{\"color\":\"#4D5663\"},\"text\":\"\"},\"zerolinecolor\":\"#E1E5ED\"},\"yaxis8\":{\"anchor\":\"x8\",\"domain\":[0.535,0.7325],\"gridcolor\":\"#E1E5ED\",\"showgrid\":false,\"tickfont\":{\"color\":\"#4D5663\"},\"title\":{\"font\":{\"color\":\"#4D5663\"},\"text\":\"\"},\"zerolinecolor\":\"#E1E5ED\"},\"xaxis9\":{\"anchor\":\"y9\",\"domain\":[0.0,0.2125],\"gridcolor\":\"#E1E5ED\",\"showgrid\":false,\"tickfont\":{\"color\":\"#4D5663\"},\"title\":{\"font\":{\"color\":\"#4D5663\"},\"text\":\"\"},\"zerolinecolor\":\"#E1E5ED\"},\"yaxis9\":{\"anchor\":\"x9\",\"domain\":[0.2675,0.465],\"gridcolor\":\"#E1E5ED\",\"showgrid\":false,\"tickfont\":{\"color\":\"#4D5663\"},\"title\":{\"font\":{\"color\":\"#4D5663\"},\"text\":\"\"},\"zerolinecolor\":\"#E1E5ED\"},\"xaxis10\":{\"anchor\":\"y10\",\"domain\":[0.2625,0.475],\"gridcolor\":\"#E1E5ED\",\"showgrid\":false,\"tickfont\":{\"color\":\"#4D5663\"},\"title\":{\"font\":{\"color\":\"#4D5663\"},\"text\":\"\"},\"zerolinecolor\":\"#E1E5ED\"},\"yaxis10\":{\"anchor\":\"x10\",\"domain\":[0.2675,0.465],\"gridcolor\":\"#E1E5ED\",\"showgrid\":false,\"tickfont\":{\"color\":\"#4D5663\"},\"title\":{\"font\":{\"color\":\"#4D5663\"},\"text\":\"\"},\"zerolinecolor\":\"#E1E5ED\"},\"xaxis11\":{\"anchor\":\"y11\",\"domain\":[0.525,0.7375],\"gridcolor\":\"#E1E5ED\",\"showgrid\":false,\"tickfont\":{\"color\":\"#4D5663\"},\"title\":{\"font\":{\"color\":\"#4D5663\"},\"text\":\"\"},\"zerolinecolor\":\"#E1E5ED\"},\"yaxis11\":{\"anchor\":\"x11\",\"domain\":[0.2675,0.465],\"gridcolor\":\"#E1E5ED\",\"showgrid\":false,\"tickfont\":{\"color\":\"#4D5663\"},\"title\":{\"font\":{\"color\":\"#4D5663\"},\"text\":\"\"},\"zerolinecolor\":\"#E1E5ED\"},\"xaxis12\":{\"anchor\":\"y12\",\"domain\":[0.7875,1.0],\"gridcolor\":\"#E1E5ED\",\"showgrid\":false,\"tickfont\":{\"color\":\"#4D5663\"},\"title\":{\"font\":{\"color\":\"#4D5663\"},\"text\":\"\"},\"zerolinecolor\":\"#E1E5ED\"},\"yaxis12\":{\"anchor\":\"x12\",\"domain\":[0.2675,0.465],\"gridcolor\":\"#E1E5ED\",\"showgrid\":false,\"tickfont\":{\"color\":\"#4D5663\"},\"title\":{\"font\":{\"color\":\"#4D5663\"},\"text\":\"\"},\"zerolinecolor\":\"#E1E5ED\"},\"xaxis13\":{\"anchor\":\"y13\",\"domain\":[0.0,0.2125],\"gridcolor\":\"#E1E5ED\",\"showgrid\":false,\"tickfont\":{\"color\":\"#4D5663\"},\"title\":{\"font\":{\"color\":\"#4D5663\"},\"text\":\"\"},\"zerolinecolor\":\"#E1E5ED\"},\"yaxis13\":{\"anchor\":\"x13\",\"domain\":[0.0,0.1975],\"gridcolor\":\"#E1E5ED\",\"showgrid\":false,\"tickfont\":{\"color\":\"#4D5663\"},\"title\":{\"font\":{\"color\":\"#4D5663\"},\"text\":\"\"},\"zerolinecolor\":\"#E1E5ED\"},\"xaxis14\":{\"anchor\":\"y14\",\"domain\":[0.2625,0.475],\"gridcolor\":\"#E1E5ED\",\"showgrid\":false,\"tickfont\":{\"color\":\"#4D5663\"},\"title\":{\"font\":{\"color\":\"#4D5663\"},\"text\":\"\"},\"zerolinecolor\":\"#E1E5ED\"},\"yaxis14\":{\"anchor\":\"x14\",\"domain\":[0.0,0.1975],\"gridcolor\":\"#E1E5ED\",\"showgrid\":false,\"tickfont\":{\"color\":\"#4D5663\"},\"title\":{\"font\":{\"color\":\"#4D5663\"},\"text\":\"\"},\"zerolinecolor\":\"#E1E5ED\"},\"xaxis15\":{\"anchor\":\"y15\",\"domain\":[0.525,0.7375],\"gridcolor\":\"#E1E5ED\",\"showgrid\":false,\"tickfont\":{\"color\":\"#4D5663\"},\"title\":{\"font\":{\"color\":\"#4D5663\"},\"text\":\"\"},\"zerolinecolor\":\"#E1E5ED\"},\"yaxis15\":{\"anchor\":\"x15\",\"domain\":[0.0,0.1975],\"gridcolor\":\"#E1E5ED\",\"showgrid\":false,\"tickfont\":{\"color\":\"#4D5663\"},\"title\":{\"font\":{\"color\":\"#4D5663\"},\"text\":\"\"},\"zerolinecolor\":\"#E1E5ED\"},\"xaxis16\":{\"anchor\":\"y16\",\"domain\":[0.7875,1.0],\"gridcolor\":\"#E1E5ED\",\"showgrid\":false,\"tickfont\":{\"color\":\"#4D5663\"},\"title\":{\"font\":{\"color\":\"#4D5663\"},\"text\":\"\"},\"zerolinecolor\":\"#E1E5ED\"},\"yaxis16\":{\"anchor\":\"x16\",\"domain\":[0.0,0.1975],\"gridcolor\":\"#E1E5ED\",\"showgrid\":false,\"tickfont\":{\"color\":\"#4D5663\"},\"title\":{\"font\":{\"color\":\"#4D5663\"},\"text\":\"\"},\"zerolinecolor\":\"#E1E5ED\"}},                        {\"showLink\": true, \"linkText\": \"Export to plot.ly\", \"plotlyServerURL\": \"https://plot.ly\", \"responsive\": true}                    ).then(function(){\n",
       "                            \n",
       "var gd = document.getElementById('a6ddb556-030b-45c2-9972-6418a622ac3e');\n",
       "var x = new MutationObserver(function (mutations, observer) {{\n",
       "        var display = window.getComputedStyle(gd).display;\n",
       "        if (!display || display === 'none') {{\n",
       "            console.log([gd, 'removed!']);\n",
       "            Plotly.purge(gd);\n",
       "            observer.disconnect();\n",
       "        }}\n",
       "}});\n",
       "\n",
       "// Listen for the removal of the full notebook cells\n",
       "var notebookContainer = gd.closest('#notebook-container');\n",
       "if (notebookContainer) {{\n",
       "    x.observe(notebookContainer, {childList: true});\n",
       "}}\n",
       "\n",
       "// Listen for the clearing of the current output cell\n",
       "var outputEl = gd.closest('.output');\n",
       "if (outputEl) {{\n",
       "    x.observe(outputEl, {childList: true});\n",
       "}}\n",
       "\n",
       "                        })                };                });            </script>        </div>"
      ]
     },
     "metadata": {},
     "output_type": "display_data"
    }
   ],
   "source": [
    "df.scatter_matrix()"
   ]
  },
  {
   "cell_type": "markdown",
   "metadata": {
    "collapsed": true
   },
   "source": [
    "# Great Job!"
   ]
  }
 ],
 "metadata": {
  "kernelspec": {
   "display_name": "Python 3 (ipykernel)",
   "language": "python",
   "name": "python3"
  },
  "language_info": {
   "codemirror_mode": {
    "name": "ipython",
    "version": 3
   },
   "file_extension": ".py",
   "mimetype": "text/x-python",
   "name": "python",
   "nbconvert_exporter": "python",
   "pygments_lexer": "ipython3",
   "version": "3.9.7"
  }
 },
 "nbformat": 4,
 "nbformat_minor": 1
}
